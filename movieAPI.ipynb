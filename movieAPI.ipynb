{
 "cells": [
  {
   "cell_type": "code",
   "execution_count": null,
   "id": "04b19a47-4ef6-4c37-9e0c-25292d250e94",
   "metadata": {},
   "outputs": [],
   "source": [
    "0e45aa85134e13cecdb8e88e608cc4ff"
   ]
  },
  {
   "cell_type": "code",
   "execution_count": 1,
   "id": "be23e35f-cb58-4143-bf35-a647c7b635e6",
   "metadata": {},
   "outputs": [
    {
     "name": "stdin",
     "output_type": "stream",
     "text": [
      "보고 싶은 날짜를 입력하세요 (예: 20231225):  20231225\n"
     ]
    },
    {
     "name": "stdout",
     "output_type": "stream",
     "text": [
      "1위: 노량: 죽음의 바다\n",
      "2위: 서울의 봄\n",
      "3위: 신차원! 짱구는 못말려 더 무비 초능력 대결전 ~날아라 수제김밥~\n",
      "4위: 아쿠아맨과 로스트 킹덤\n",
      "5위: 트롤: 밴드 투게더\n"
     ]
    }
   ],
   "source": [
    "import requests #http 요청 보내는 모듈\n",
    "import json\n",
    "\n",
    "#주간/주말 박스오피스 API 서비스\n",
    "#\"0\": 주간 (월~일), \"1\": 주말(금~일) (default), \"2\": 주중 (월~목)\n",
    "\n",
    "target_date = input(\"보고 싶은 날짜를 입력하세요 (예: 20231225): \")\n",
    "\n",
    "url = f'http://kobis.or.kr/kobisopenapi/webservice/rest/boxoffice/searchDailyBoxOfficeList.json?key=0e45aa85134e13cecdb8e88e608cc4ff&targetDt={target_date}&itemPerPage=5'\n",
    "\n",
    "res = requests.get(url)\n",
    "text = res.text\n",
    "result = json.loads(text)\n",
    "\n",
    "movie_list = result['boxOfficeResult']['dailyBoxOfficeList']\n",
    "\n",
    "for movie in movie_list:\n",
    "    print(f\"{movie['rank']}위: {movie['movieNm']}\")\n"
   ]
  }
 ],
 "metadata": {
  "kernelspec": {
   "display_name": "Python 3 (ipykernel)",
   "language": "python",
   "name": "python3"
  },
  "language_info": {
   "codemirror_mode": {
    "name": "ipython",
    "version": 3
   },
   "file_extension": ".py",
   "mimetype": "text/x-python",
   "name": "python",
   "nbconvert_exporter": "python",
   "pygments_lexer": "ipython3",
   "version": "3.13.1"
  }
 },
 "nbformat": 4,
 "nbformat_minor": 5
}
