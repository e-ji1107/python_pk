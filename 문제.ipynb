{
 "cells": [
  {
   "cell_type": "markdown",
   "id": "c3a1b827-e9bf-4232-8cad-bec62c88c9f5",
   "metadata": {},
   "source": [
    "# 로또"
   ]
  },
  {
   "cell_type": "code",
   "execution_count": 37,
   "id": "aff7432c-af3c-417a-9bea-672e54b517c5",
   "metadata": {},
   "outputs": [],
   "source": [
    "# 6가지 숫자가 선택되어야 함\n",
    "# 중복되면 안됨\n",
    "# 오름차순으로 정리\n",
    "# 10만회 돌리기\n",
    "# 번호 카운팅\n",
    "# 각 번호 퍼센트 (소수점 2자리)\n",
    "# 제일 높게 나온 확률 순서대로 번호 3개 추천"
   ]
  },
  {
   "cell_type": "code",
   "execution_count": null,
   "id": "0b4a02d8-132d-4da5-ab11-18aeec0681d5",
   "metadata": {},
   "outputs": [],
   "source": [
    "# ej\n",
    "import random as r\n",
    "box = []\n",
    "result = []\n",
    "target = 10\n",
    "num = []\n",
    "n = 0\n",
    "countNum = []\n",
    "for i in range(target):\n",
    "    \n",
    "    list = []\n",
    "    while len(list) < 6:\n",
    "        ran = r.randint(1,45)\n",
    "        if ran not in list:\n",
    "            list.append(ran)\n",
    "            list.sort()\n",
    "            box.append(list)\n",
    "    print(list)\n",
    "\n",
    "    #num[i] += list.count(i)\n",
    "    #print(num1)\n",
    "    for j in range(1,46):\n",
    "        if list.count(j) == 0:\n",
    "            continue\n",
    "        print(f'{j}:{list.count(j)}번')\n",
    "\n",
    "        countNum.append(list.count(j))\n",
    "        \n",
    "#        print(countNum,type(countNum))\n",
    "        \n",
    "    #countNum[]-> append            1개수 countNum[1]에 저장, 2개수를 [2]에 저장?\n",
    "    "
   ]
  },
  {
   "cell_type": "code",
   "execution_count": 202,
   "id": "3f64e7e4-2611-4d6e-b01a-28a26484c936",
   "metadata": {},
   "outputs": [
    {
     "name": "stdout",
     "output_type": "stream",
     "text": [
      "[20, 30, 31, 33, 38, 39, 42]\n"
     ]
    }
   ],
   "source": [
    "# 풀이\n",
    "import random\n",
    "box = []\n",
    "for n in range(6):\n",
    "    box.append(random.randint(1,46))\n",
    "    if not ran in box:\n",
    "        box.append(ran)\n",
    "box.sort()\n",
    "print(box)"
   ]
  },
  {
   "cell_type": "code",
   "execution_count": 38,
   "id": "abf9ddde-c9a1-4d5a-8f6d-56db7668aa25",
   "metadata": {},
   "outputs": [
    {
     "name": "stdout",
     "output_type": "stream",
     "text": [
      "1: 8개, 1.33\n",
      "2: 12개, 2.00\n",
      "3: 20개, 3.33\n",
      "4: 8개, 1.33\n",
      "5: 16개, 2.67\n",
      "6: 7개, 1.17\n",
      "7: 14개, 2.33\n",
      "8: 9개, 1.50\n",
      "9: 19개, 3.17\n",
      "10: 11개, 1.83\n",
      "11: 11개, 1.83\n",
      "12: 13개, 2.17\n",
      "13: 10개, 1.67\n",
      "14: 19개, 3.17\n",
      "15: 14개, 2.33\n",
      "16: 15개, 2.50\n",
      "17: 14개, 2.33\n",
      "18: 8개, 1.33\n",
      "19: 12개, 2.00\n",
      "20: 13개, 2.17\n",
      "21: 15개, 2.50\n",
      "22: 9개, 1.50\n",
      "23: 12개, 2.00\n",
      "24: 14개, 2.33\n",
      "25: 9개, 1.50\n",
      "26: 13개, 2.17\n",
      "27: 13개, 2.17\n",
      "28: 14개, 2.33\n",
      "29: 14개, 2.33\n",
      "30: 17개, 2.83\n",
      "31: 13개, 2.17\n",
      "32: 15개, 2.50\n",
      "33: 14개, 2.33\n",
      "34: 13개, 2.17\n",
      "35: 10개, 1.67\n",
      "36: 17개, 2.83\n",
      "37: 18개, 3.00\n",
      "38: 16개, 2.67\n",
      "39: 16개, 2.67\n",
      "40: 6개, 1.00\n",
      "41: 19개, 3.17\n",
      "42: 14개, 2.33\n",
      "43: 13개, 2.17\n",
      "44: 19개, 3.17\n",
      "45: 14개, 2.33\n",
      "None\n"
     ]
    }
   ],
   "source": [
    "# 참고용\n",
    "import random as r\n",
    "ls = []\n",
    "la = []\n",
    "how = 100\n",
    "for h in range(how):\n",
    "    ran = sorted(r.sample(range(1,46),6))\n",
    "    la.append(ran)\n",
    "    ls = ls + ran\n",
    "#print(la, type(la))\n",
    "\n",
    "ss = []\n",
    "\n",
    "for i in range(1,46):\n",
    "    ss.append(ls.count(i))\n",
    "    print(f'{i}: {ls.count(i)}개, {ls.count(i)/600*100:.2f}')"
   ]
  },
  {
   "cell_type": "code",
   "execution_count": 46,
   "id": "63a092d5-f3d9-4d90-aa78-8bcbe16f87cf",
   "metadata": {},
   "outputs": [
    {
     "name": "stdout",
     "output_type": "stream",
     "text": [
      "[6, 11, 22, 23, 27, 43]\n"
     ]
    }
   ],
   "source": [
    "# 함수 참고\n",
    "# 매개변수 -> 전달자\n",
    "import random\n",
    "def 로또(파라미터=6, 매개변수=46):\n",
    "    box = []\n",
    "    while len(box) < 파라미터:\n",
    "        ran = random.randint(1,매개변수)\n",
    "        if not ran in box:\n",
    "            box.append(ran)\n",
    "    box.sort()\n",
    "    print(box)\n",
    "로또()"
   ]
  },
  {
   "cell_type": "code",
   "execution_count": 242,
   "id": "be300ef9-e63e-4f43-92bc-cc943e920ddf",
   "metadata": {},
   "outputs": [
    {
     "name": "stdout",
     "output_type": "stream",
     "text": [
      "{'num1': 21, 'num2': 11, 'num3': 12, 'num4': 12, 'num5': 20, 'num6': 15, 'num7': 13, 'num8': 9, 'num9': 10, 'num10': 13, 'num11': 14, 'num12': 19, 'num13': 15, 'num14': 10, 'num15': 14, 'num16': 10, 'num17': 13, 'num18': 20, 'num19': 14, 'num20': 16, 'num21': 13, 'num22': 10, 'num23': 11, 'num24': 11, 'num25': 13, 'num26': 14, 'num27': 20, 'num28': 15, 'num29': 9, 'num30': 11, 'num31': 13, 'num32': 18, 'num33': 11, 'num34': 6, 'num35': 9, 'num36': 12, 'num37': 10, 'num38': 14, 'num39': 7, 'num40': 14, 'num41': 14, 'num42': 19, 'num43': 12, 'num44': 18, 'num45': 15}\n",
      "600\n"
     ]
    }
   ],
   "source": [
    "# 참고용 2\n",
    "ls = []\n",
    "la = []\n",
    "how = 100\n",
    "for h in range(how):\n",
    "    ran = sorted(random.sample(range(1,46),6))\n",
    "    la.append(ran)\n",
    "    ls = ls + ran\n",
    "#print(la, type(la))\n",
    "\n",
    "dic = {}\n",
    "for n in range(1,46):\n",
    "    dic[f'num{n}'] = ls.count(n)\n",
    "print(dic)\n",
    "print(sum(dic.values()))\n",
    "print(sum(dic.values()))"
   ]
  },
  {
   "cell_type": "markdown",
   "id": "5ebb8b44-762b-40f9-97b3-7e82e2859d76",
   "metadata": {},
   "source": [
    "# 배열 요소 바꾸기"
   ]
  },
  {
   "cell_type": "code",
   "execution_count": 27,
   "id": "e57795a5-b033-4f94-ae6c-c21b1e02520f",
   "metadata": {},
   "outputs": [],
   "source": [
    "#배열의 요소가 3개일 때\n",
    "# max, min\n",
    "# 배열 요소를 오름차순으로 나열하라\n",
    "# [22,33,11]\n",
    "# [33,22,44,11]\n",
    "a = [22,33,11]"
   ]
  },
  {
   "cell_type": "code",
   "execution_count": 31,
   "id": "f8537883-bcb4-4f5b-b6d0-84f5f9c22263",
   "metadata": {},
   "outputs": [
    {
     "name": "stdout",
     "output_type": "stream",
     "text": [
      "[11, 22, 33]\n"
     ]
    }
   ],
   "source": [
    "if a[0] > a[1]:\n",
    "    a[0],a[1] = a[1],a[0]\n",
    "if a[0] > a[2]:\n",
    "    a[0],a[2] = a[2],a[0]\n",
    "if a[1] > a[2]:\n",
    "    a[1],a[2] = a[2],a[1]\n",
    "print(a)\n",
    "        "
   ]
  },
  {
   "cell_type": "code",
   "execution_count": 37,
   "id": "5de2b799-031b-4647-867a-d677111669b6",
   "metadata": {},
   "outputs": [],
   "source": [
    "# 배열 4개일 때\n",
    "a = [33,11,22,44]"
   ]
  },
  {
   "cell_type": "code",
   "execution_count": 38,
   "id": "e231fb5c-6188-4c6c-b3f5-4261e9027a3f",
   "metadata": {},
   "outputs": [
    {
     "name": "stdout",
     "output_type": "stream",
     "text": [
      "[33, 11, 22, 44]\n",
      "[11, 22, 33, 44]\n"
     ]
    }
   ],
   "source": [
    "print(a)\n",
    "if a[0] > a[1]:\n",
    "    a[0],a[1] = a[1],a[0]\n",
    "if a[0] > a[2]:\n",
    "    a[0],a[2] = a[2],a[0]\n",
    "if a[0] > a[3]:\n",
    "    a[0],a[3] = a[3],a[0]\n",
    "if a[1] > a[2]:\n",
    "    a[1],a[2] = a[2],a[1]\n",
    "if a[1] > a[3]:\n",
    "    a[1],a[3] = a[3],a[1]\n",
    "if a[2] > a[3]:\n",
    "    a[3],a[2] = a[2],a[3]\n",
    "print(a)"
   ]
  },
  {
   "cell_type": "markdown",
   "id": "e449364d-3b18-4cc8-8388-af07ae8a5f23",
   "metadata": {},
   "source": [
    "# 자판기 "
   ]
  },
  {
   "cell_type": "code",
   "execution_count": 9,
   "id": "87beaa8a-acf0-4b30-8059-a4e3d4624751",
   "metadata": {},
   "outputs": [
    {
     "name": "stdin",
     "output_type": "stream",
     "text": [
      "투입 금액:  4580\n"
     ]
    },
    {
     "name": "stdout",
     "output_type": "stream",
     "text": [
      "4580\n"
     ]
    },
    {
     "name": "stdin",
     "output_type": "stream",
     "text": [
      "구매 할 상품 금액: 2040\n"
     ]
    },
    {
     "name": "stdout",
     "output_type": "stream",
     "text": [
      "2040\n",
      "거스름돈: 2540원\n",
      "1000원 :2개\n",
      "500원 :1개\n",
      "100원 :0개\n",
      "50원 :0개\n",
      "10원 :4개\n"
     ]
    }
   ],
   "source": [
    "#자판기\n",
    "money = input(\"투입 금액: \")\n",
    "print(money)\n",
    "product = input(\"구매 할 상품 금액:\")\n",
    "print(product)\n",
    "ch = int(money) - int(product)\n",
    "print(f'거스름돈: {ch}원')\n",
    "ch1000 = int(ch/1000)\n",
    "print(f'1000원 :{ch1000}개')\n",
    "ch500 = int(ch%1000/500)\n",
    "print(f'500원 :{ch500}개')\n",
    "ch100 = int(ch%1000%500/100)\n",
    "print(f'100원 :{ch100}개')\n",
    "ch50 = int(ch%1000%500%100/50)\n",
    "print(f'50원 :{ch50}개')\n",
    "ch10 = int(ch%1000%500%100%50/10)\n",
    "print(f'10원 :{ch10}개')"
   ]
  },
  {
   "cell_type": "markdown",
   "id": "7a02e180-8f58-4cf9-80a2-b8ac9faef1ac",
   "metadata": {},
   "source": [
    "# 가위 바위 보"
   ]
  },
  {
   "cell_type": "code",
   "execution_count": 8,
   "id": "f8cda49c-9057-4435-81bb-83c66654245c",
   "metadata": {},
   "outputs": [
    {
     "name": "stdin",
     "output_type": "stream",
     "text": [
      "가위, 바위, 보 중 하나를 입력하세요:  보\n"
     ]
    },
    {
     "name": "stdout",
     "output_type": "stream",
     "text": [
      "컴퓨터: 가위\n",
      "당신: 보\n",
      "당신이 졌습니다\n"
     ]
    }
   ],
   "source": [
    "# 가위 바위 보 프로그램\n",
    "# 사람이 가위바위보 중 하나를 내면\n",
    "# 상대인 컴퓨터는 랜덤으로 선택해서 냄\n",
    "# 승률 기록하기\n",
    "# 컴퓨터: 가위\n",
    "# 당신: 보\n",
    "# 당신이 졌습니다\n",
    "# 컴퓨터 승률: 33\n",
    "# 당신 승률: 66\n",
    "\n",
    "import random as ran\n",
    "from random import choice\n",
    "\n",
    "a = [\"가위\",\"바위\",\"보\"]\n",
    "\n",
    "com = ran.choice(a)\n",
    "me = input(\"가위, 바위, 보 중 하나를 입력하세요: \")\n",
    "print(f'컴퓨터: {com}')\n",
    "print(f'당신: {me}')\n",
    "    \n",
    "if com == me:\n",
    "        print(\"비겼습니다\")\n",
    "elif com == \"가위\" and me == \"바위\":\n",
    "        print(\"당신이 이겼습니다\")\n",
    "elif com == \"가위\" and me == \"보\":\n",
    "        print(\"당신이 졌습니다\")\n",
    "elif com == \"바위\" and me == \"가위\":\n",
    "    print(\"당신이 졌습니다\")\n",
    "elif com == \"바위\" and me == \"보\":\n",
    "    print(\"당신이 이겼습니다\")\n",
    "elif com == \"보\" and me == \"가위\":\n",
    "    print(\"당신이 이겼습니다\")\n",
    "elif com == \"보\" and me == \"바위\":\n",
    "    print(\"당신이 졌습니다\")\n",
    "\n",
    "\n",
    "\n"
   ]
  },
  {
   "cell_type": "code",
   "execution_count": 32,
   "id": "e207a802-d90e-4836-87aa-7042a28ca752",
   "metadata": {},
   "outputs": [
    {
     "name": "stdin",
     "output_type": "stream",
     "text": [
      "단어를 입력하세요:  d\n"
     ]
    },
    {
     "name": "stdout",
     "output_type": "stream",
     "text": [
      "똑같다\n"
     ]
    }
   ],
   "source": [
    "# 입력을 하면 그 단어가 거꾸로 해도 같은 단어 판별확인 프로그램 ex) 파이썬 인도인 우영우\n",
    "word = input(\"단어를 입력하세요: \")\n",
    "\n",
    "if word==word[::-1]:\n",
    "    print(\"똑같다\")\n",
    "else: \n",
    "    print(\"다르다\")"
   ]
  },
  {
   "cell_type": "code",
   "execution_count": 21,
   "id": "adcb6f7a-0349-401c-ada4-7b54fafd9ab1",
   "metadata": {},
   "outputs": [
    {
     "name": "stdin",
     "output_type": "stream",
     "text": [
      " 1 2 3 4 5 6 7\n"
     ]
    },
    {
     "name": "stdout",
     "output_type": "stream",
     "text": [
      "짝수: [2, 4, 6]\n",
      "홀수: [1, 3, 5, 7]\n"
     ]
    }
   ],
   "source": [
    "# 리스트값 입력 -> 짝수, 홀수 구분하기\n",
    "#num = [1,3,2,5,57,67,86,75,33,4,6,7,67,57,4,7,56,46]\n",
    "num = list(map(int,input().split()))\n",
    "\n",
    "result1 = []\n",
    "result2 = []\n",
    "for i in num:\n",
    "    if i % 2 == 0:\n",
    "        result1.append(i)\n",
    "    else:\n",
    "        result2.append(i)\n",
    "print(f'짝수: {result1}')\n",
    "print(f'홀수: {result2}')"
   ]
  },
  {
   "cell_type": "code",
   "execution_count": 76,
   "id": "b42a4a66-4def-417d-ba0f-a9b0817e9732",
   "metadata": {},
   "outputs": [
    {
     "name": "stdin",
     "output_type": "stream",
     "text": [
      " 안녕하세요 안녕하이요 안녕 안녕요\n"
     ]
    },
    {
     "name": "stdout",
     "output_type": "stream",
     "text": [
      "['안녕하세요', '안녕하이요']\n"
     ]
    }
   ],
   "source": [
    "# 문장 입력 -> 긴단어 출력\n",
    "\n",
    "long_result = []\n",
    "\n",
    "words = input().split()\n",
    "max_len = len(max(words, key=len))\n",
    "\n",
    "for word in words:\n",
    "    if len(word) == max_len:\n",
    "        long_result.append(word) \n",
    "\n",
    "print(long_result)    "
   ]
  }
 ],
 "metadata": {
  "kernelspec": {
   "display_name": "Python 3 (ipykernel)",
   "language": "python",
   "name": "python3"
  },
  "language_info": {
   "codemirror_mode": {
    "name": "ipython",
    "version": 3
   },
   "file_extension": ".py",
   "mimetype": "text/x-python",
   "name": "python",
   "nbconvert_exporter": "python",
   "pygments_lexer": "ipython3",
   "version": "3.13.1"
  }
 },
 "nbformat": 4,
 "nbformat_minor": 5
}
