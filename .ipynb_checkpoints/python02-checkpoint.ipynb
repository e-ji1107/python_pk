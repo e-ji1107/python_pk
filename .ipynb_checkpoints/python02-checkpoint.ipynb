{
 "cells": [
  {
   "cell_type": "markdown",
   "id": "dc2a5c9e-40a8-4774-b97a-9e740cc5a8ba",
   "metadata": {},
   "source": [
    "# 자료형"
   ]
  },
  {
   "cell_type": "markdown",
   "id": "0540bf2e-3fa1-4d8f-9e46-e8443aedb58d",
   "metadata": {},
   "source": [
    "## 리스트 자료형 "
   ]
  },
  {
   "cell_type": "markdown",
   "id": "1c1d6691-34f1-44cf-921e-402227a9f8c2",
   "metadata": {},
   "source": [
    "### 리스트의 인덱싱과 슬라이싱"
   ]
  },
  {
   "cell_type": "code",
   "execution_count": 5,
   "id": "32724084-2082-479b-844b-f5247e90334c",
   "metadata": {},
   "outputs": [
    {
     "name": "stdout",
     "output_type": "stream",
     "text": [
      "is\n",
      "Life\n"
     ]
    }
   ],
   "source": [
    "odd = [1,3,5,7,9]\n",
    "a = []\n",
    "b = [1,2,3] #1,2,3을 요소라고 함, element\n",
    "c = ['Life','is','too','short']\n",
    "d = [1,2,'Life', 'is']\n",
    "e = [1,2,['Life','is']]\n",
    "print(e[2][1])\n",
    "print(e[2][0])\n"
   ]
  },
  {
   "cell_type": "code",
   "execution_count": 10,
   "id": "c7be1066-feb6-4d86-a281-331dead594d8",
   "metadata": {},
   "outputs": [
    {
     "name": "stdout",
     "output_type": "stream",
     "text": [
      "5\n",
      "Lifeshort\n",
      "LifeLifeLife\n"
     ]
    }
   ],
   "source": [
    "print(b[1]+b[2])\n",
    "print(c[0]+c[3])\n",
    "print(c[0]*b[2])"
   ]
  },
  {
   "cell_type": "code",
   "execution_count": 14,
   "id": "d109713d-1bd9-47a8-9dfa-75db481965a9",
   "metadata": {},
   "outputs": [
    {
     "name": "stdout",
     "output_type": "stream",
     "text": [
      "[11, 22, 33, 44, 55]\n",
      "[33, 44, 55]\n",
      "[11, 22]\n",
      "[44, 55]\n",
      "[55, 44, 33, 22, 11]\n"
     ]
    }
   ],
   "source": [
    "# 리스트의 슬라이싱\n",
    "a = [11,22,33,44,55]\n",
    "print(a[:])\n",
    "print(a[2:])\n",
    "print(a[:-3])\n",
    "print(a[-2:])\n",
    "print(a[::-1])"
   ]
  },
  {
   "cell_type": "code",
   "execution_count": 16,
   "id": "fd1614e3-2b7a-403c-906f-b44c186a525e",
   "metadata": {},
   "outputs": [
    {
     "name": "stdout",
     "output_type": "stream",
     "text": [
      "[2, 3]\n"
     ]
    }
   ],
   "source": [
    "a = [1,2,3,4,5]\n",
    "print(a[1:3])"
   ]
  },
  {
   "cell_type": "markdown",
   "id": "dd821759-dd6b-461d-a209-bef87f50a133",
   "metadata": {},
   "source": [
    "### 리스트 연산하기"
   ]
  },
  {
   "cell_type": "code",
   "execution_count": 19,
   "id": "897935a1-a17c-46e2-9ad7-35e000bf210e",
   "metadata": {},
   "outputs": [
    {
     "name": "stdout",
     "output_type": "stream",
     "text": [
      "[11, 22, 33, 44, 55, 66]\n",
      "[11, 22, 33, 11, 22, 33, 11, 22, 33]\n"
     ]
    },
    {
     "data": {
      "text/plain": [
       "9"
      ]
     },
     "execution_count": 19,
     "metadata": {},
     "output_type": "execute_result"
    }
   ],
   "source": [
    "a = [11,22,33]\n",
    "b = [44,55,66]\n",
    "# 리스트 더하기\n",
    "print(a+b)\n",
    "# 리스트 반복하기\n",
    "c = a*3\n",
    "print(c)\n",
    "len(c)\n"
   ]
  },
  {
   "cell_type": "code",
   "execution_count": 30,
   "id": "60915290-3428-4ad2-bc7d-12eecb53a29d",
   "metadata": {},
   "outputs": [
    {
     "name": "stdout",
     "output_type": "stream",
     "text": [
      "[11, 22, 44]\n",
      "[11, 44]\n"
     ]
    }
   ],
   "source": [
    "# 리스트 값 수정하기\n",
    "a = [11,22,33]\n",
    "a[2] = 44\n",
    "print(a)\n",
    "#a[3] = 55 없는 요소를 수정하는 것은 에러\n",
    "#print(a)\n",
    "#a[1] = '' # 빈칸으로 수정 삽입\n",
    "#a[1] = '0' # 0으로 수정 삽입\n",
    "# 리스트 값 삭제하기\n",
    "del a[1]\n",
    "print(a)"
   ]
  },
  {
   "cell_type": "code",
   "execution_count": 31,
   "id": "599c3d80-bc1a-41f6-823d-4aa7ca6b1d9d",
   "metadata": {},
   "outputs": [
    {
     "name": "stdout",
     "output_type": "stream",
     "text": [
      "[]\n",
      "[]\n"
     ]
    }
   ],
   "source": [
    "# 리스트값 슬라이싱으로 삭젤\n",
    "print(c)\n",
    "del c[:4]\n",
    "print(c)"
   ]
  },
  {
   "cell_type": "markdown",
   "id": "423cb1d9-b551-461b-9206-590b83f4da57",
   "metadata": {},
   "source": [
    "### 리스트 관련 함수"
   ]
  },
  {
   "cell_type": "code",
   "execution_count": 33,
   "id": "0734e102-485e-4dca-aa49-0663c6e0a034",
   "metadata": {},
   "outputs": [
    {
     "data": {
      "text/plain": [
       "['__add__',\n",
       " '__class__',\n",
       " '__class_getitem__',\n",
       " '__contains__',\n",
       " '__delattr__',\n",
       " '__delitem__',\n",
       " '__dir__',\n",
       " '__doc__',\n",
       " '__eq__',\n",
       " '__format__',\n",
       " '__ge__',\n",
       " '__getattribute__',\n",
       " '__getitem__',\n",
       " '__getstate__',\n",
       " '__gt__',\n",
       " '__hash__',\n",
       " '__iadd__',\n",
       " '__imul__',\n",
       " '__init__',\n",
       " '__init_subclass__',\n",
       " '__iter__',\n",
       " '__le__',\n",
       " '__len__',\n",
       " '__lt__',\n",
       " '__mul__',\n",
       " '__ne__',\n",
       " '__new__',\n",
       " '__reduce__',\n",
       " '__reduce_ex__',\n",
       " '__repr__',\n",
       " '__reversed__',\n",
       " '__rmul__',\n",
       " '__setattr__',\n",
       " '__setitem__',\n",
       " '__sizeof__',\n",
       " '__str__',\n",
       " '__subclasshook__',\n",
       " 'append',\n",
       " 'clear',\n",
       " 'copy',\n",
       " 'count',\n",
       " 'extend',\n",
       " 'index',\n",
       " 'insert',\n",
       " 'pop',\n",
       " 'remove',\n",
       " 'reverse',\n",
       " 'sort']"
      ]
     },
     "execution_count": 33,
     "metadata": {},
     "output_type": "execute_result"
    }
   ],
   "source": [
    "dir(list)"
   ]
  },
  {
   "cell_type": "code",
   "execution_count": 35,
   "id": "4cf16c13-458c-42aa-bcfb-c6a24f01f5f0",
   "metadata": {},
   "outputs": [
    {
     "name": "stdout",
     "output_type": "stream",
     "text": [
      "[]\n"
     ]
    }
   ],
   "source": [
    "# 리스트 요소 비우기\n",
    "c.clear()\n",
    "print(c)"
   ]
  },
  {
   "cell_type": "code",
   "execution_count": 39,
   "id": "03802d30-0cf0-4d1b-aa66-ccec04a9b63f",
   "metadata": {},
   "outputs": [
    {
     "name": "stdout",
     "output_type": "stream",
     "text": [
      "[11, 44, 4, 4, [11, 22], 4, [11, 22], 4]\n",
      "[11, 44, 4, 4, [11, 22], 4, [11, 22], 4, [11, 22]]\n"
     ]
    }
   ],
   "source": [
    "#리스트에 요소 추가하기 : append\n",
    "a.append(4)\n",
    "print(a)\n",
    "a.append([11,22])\n",
    "print(a)"
   ]
  },
  {
   "cell_type": "code",
   "execution_count": 43,
   "id": "463b61f9-6298-46f7-a40d-824014f84029",
   "metadata": {},
   "outputs": [],
   "source": [
    "b =[]\n",
    "num = 0"
   ]
  },
  {
   "cell_type": "code",
   "execution_count": 50,
   "id": "f81b9b5d-174d-4b84-99e3-f501a3082591",
   "metadata": {},
   "outputs": [
    {
     "name": "stdout",
     "output_type": "stream",
     "text": [
      "[1, 2, 3, 4, 5, 6, 7]\n"
     ]
    }
   ],
   "source": [
    "num += 1\n",
    "b.append(num)\n",
    "print(b)"
   ]
  },
  {
   "cell_type": "code",
   "execution_count": 53,
   "id": "d0618c87-8dfb-47c8-8389-dd15296d9c9d",
   "metadata": {},
   "outputs": [
    {
     "name": "stdout",
     "output_type": "stream",
     "text": [
      "[11, 44, 33, 22, 55]\n",
      "[11, 22, 33, 44, 55]\n",
      "[11, 22, 33, 44, 55]\n"
     ]
    }
   ],
   "source": [
    "# 리스트 정렬(오름차순) - sort\n",
    "a = [11,44,33,22,55]\n",
    "print(a)\n",
    "a.sort()\n",
    "print(a)"
   ]
  },
  {
   "cell_type": "code",
   "execution_count": 55,
   "id": "9d20fef1-b98d-406e-9997-3ac13869ea0f",
   "metadata": {},
   "outputs": [
    {
     "name": "stdout",
     "output_type": "stream",
     "text": [
      "[11, 44, 33, 22, 55]\n",
      "[55, 44, 33, 22, 11]\n"
     ]
    }
   ],
   "source": [
    "# 리스트 정렬(내림차순) - sort\n",
    "a = [11,44,33,22,55]\n",
    "print(a)\n",
    "a.sort(reverse=True)\n",
    "print(a)"
   ]
  },
  {
   "cell_type": "code",
   "execution_count": 58,
   "id": "8d496525-3691-4973-a951-c76b9babf382",
   "metadata": {},
   "outputs": [
    {
     "name": "stdout",
     "output_type": "stream",
     "text": [
      "[66, 77, 88, 99, 0]\n",
      "[0, 66, 77, 88, 99]\n",
      "[99, 88, 77, 66, 0]\n"
     ]
    }
   ],
   "source": [
    "# 리스트 정렬 원본 유지하기\n",
    "aa = [66,77,88,99,0]\n",
    "bb = sorted(aa)\n",
    "cc = sorted(aa, reverse=True)\n",
    "print(aa)\n",
    "print(bb)\n",
    "print(cc)"
   ]
  },
  {
   "cell_type": "code",
   "execution_count": 63,
   "id": "24b16b2a-94dd-481e-8923-6de83c26b729",
   "metadata": {},
   "outputs": [
    {
     "name": "stdout",
     "output_type": "stream",
     "text": [
      "['banana', 'kiwi', 'orange', 'melon', 'pear', 'apple', 'strawberry', 'blueberry']\n",
      "['kiwi', 'pear', 'melon', 'apple', 'banana', 'orange', 'blueberry', 'strawberry']\n",
      "['strawberry', 'blueberry', 'banana', 'orange', 'melon', 'apple', 'kiwi', 'pear']\n"
     ]
    }
   ],
   "source": [
    "# sorted 응용\n",
    "fruit = ['banana', 'kiwi', 'orange','melon','pear','apple','strawberry','blueberry']\n",
    "result = sorted(fruit, key=len)\n",
    "result2 = sorted(fruit, key=len, reverse=True)\n",
    "print(fruit)\n",
    "print(result)\n",
    "print(result2)"
   ]
  },
  {
   "cell_type": "code",
   "execution_count": 54,
   "id": "cc9f04cc-399e-482c-ab0f-3e372255ad58",
   "metadata": {},
   "outputs": [
    {
     "name": "stdout",
     "output_type": "stream",
     "text": [
      "[55, 22, 33, 44, 11]\n"
     ]
    }
   ],
   "source": [
    "# 리스트 뒤집기 - reverse\n",
    "a = [11,44,33,22,55]\n",
    "a.reverse()\n",
    "print(a)"
   ]
  },
  {
   "cell_type": "code",
   "execution_count": 73,
   "id": "7af913cb-f2ca-447b-a465-b89a84e49fec",
   "metadata": {},
   "outputs": [
    {
     "name": "stdout",
     "output_type": "stream",
     "text": [
      "과일을 먹어볼까?\n",
      "kiwi 냠냠 맛있다.\n",
      "pear 냠냠 맛있다.\n",
      "melon 냠냠 맛있다.\n",
      "apple 냠냠 맛있다.\n",
      "banana못먹겠어\n",
      "orange 냠냠 맛있다.\n",
      "blueberry 냠냠 맛있다.\n",
      "strawberry 냠냠 맛있다.\n",
      "와 다 먹었다\n"
     ]
    }
   ],
   "source": [
    "print('과일을 먹어볼까?')\n",
    "for r in result:\n",
    "    if r == 'banana':\n",
    "        print(r + '못먹겠어')\n",
    "    if r !='banana':\n",
    "        print(r+' 냠냠 맛있다.')\n",
    "print('와 다 먹었다')"
   ]
  },
  {
   "cell_type": "code",
   "execution_count": 79,
   "id": "b4b21dbb-a284-43be-9250-3a5c2eef8bc6",
   "metadata": {},
   "outputs": [
    {
     "data": {
      "text/plain": [
       "3"
      ]
     },
     "execution_count": 79,
     "metadata": {},
     "output_type": "execute_result"
    }
   ],
   "source": [
    "# 인덱스 반환 # 리스트에서는 find를 사용할 수 없고 index만 사용 가능\n",
    "fruit = ['banana', 'kiwi', 'orange','melon','pear','apple','strawberry','blueberry']\n",
    "fruit.index('melon')"
   ]
  },
  {
   "cell_type": "code",
   "execution_count": 88,
   "id": "92b1d4d2-feeb-4f70-bc2c-9ff43dc70f01",
   "metadata": {},
   "outputs": [
    {
     "name": "stdin",
     "output_type": "stream",
     "text": [
      "먹고 싶은 과일을 입력하세요 banana\n"
     ]
    },
    {
     "name": "stdout",
     "output_type": "stream",
     "text": [
      "banana + 를 좋아하시는 군요 그것은 진열대 1번 째에 있습니다\n"
     ]
    }
   ],
   "source": [
    "# index 응용\n",
    "fruit = ['banana', 'kiwi', 'orange','melon','pear','apple','strawberry','blueberry']\n",
    "want = input('먹고 싶은 과일을 입력하세요')\n",
    "where = fruit.index(want)\n",
    "print(f'{want} + 를 좋아하시는 군요 그것은 진열대 {where + 1}번 째에 있습니다')"
   ]
  },
  {
   "cell_type": "code",
   "execution_count": 91,
   "id": "af865c4a-edb4-4127-8948-5c2601aeee66",
   "metadata": {},
   "outputs": [
    {
     "name": "stdout",
     "output_type": "stream",
     "text": [
      "[11, 22, 33, 55, 66, 77, 88]\n",
      "[11, 22, 33, 44, 55, 66, 77, 88]\n"
     ]
    }
   ],
   "source": [
    "# 리스트에 요소 삽입 - insert\n",
    "num = [11,22,33,55,66,77,88]\n",
    "print(num)\n",
    "num.insert(3,44) # 3은 인덱스 위치, 44는 원하는 값\n",
    "print(num)"
   ]
  },
  {
   "cell_type": "code",
   "execution_count": 102,
   "id": "9a7e9d68-24aa-443d-8b0f-d49ece3bf8d8",
   "metadata": {},
   "outputs": [],
   "source": [
    "ex = []"
   ]
  },
  {
   "cell_type": "code",
   "execution_count": 103,
   "id": "191e215f-c7f7-42c1-995e-c591d57f640e",
   "metadata": {},
   "outputs": [
    {
     "name": "stdout",
     "output_type": "stream",
     "text": [
      "['맨앞']\n",
      "['-1 인덱스', '맨앞']\n",
      "['-1 인덱스', '맨앞', '제일 끝']\n"
     ]
    }
   ],
   "source": [
    "ex.insert(0, '맨앞')\n",
    "print(ex)\n",
    "ex.insert(-1, '-1 인덱스')\n",
    "print(ex)\n",
    "ex.insert(len(ex), '제일 끝')\n",
    "print(ex)"
   ]
  },
  {
   "cell_type": "code",
   "execution_count": 3,
   "id": "7187898a-fd83-46d3-ba0b-5a5008e8e7cc",
   "metadata": {},
   "outputs": [
    {
     "name": "stdout",
     "output_type": "stream",
     "text": [
      "[1, 2, 1, 2, 3]\n"
     ]
    }
   ],
   "source": [
    "# 리스트 요소 제거하기 - remove\n",
    "a = [1,2,3,1,2,3]\n",
    "a.remove(3)\n",
    "print(a)  #return 나에게 직접 값을 주는 것, print는 요청한 값만 보여주는 것"
   ]
  },
  {
   "cell_type": "code",
   "execution_count": 12,
   "id": "494c07cd-0794-4e98-9965-a38fabaf8322",
   "metadata": {},
   "outputs": [],
   "source": [
    "# 리스트 요소 끄집어 내기 - pop\n",
    "a = [1,2,3]"
   ]
  },
  {
   "cell_type": "code",
   "execution_count": 14,
   "id": "48e5a047-40b4-42a4-aa1b-7e2dc2cf8f18",
   "metadata": {},
   "outputs": [
    {
     "name": "stdout",
     "output_type": "stream",
     "text": [
      "[1]\n",
      "받은거 2\n"
     ]
    }
   ],
   "source": [
    "hand = a.pop()\n",
    "print(a)\n",
    "print(\"받은거\", hand)"
   ]
  },
  {
   "cell_type": "code",
   "execution_count": 17,
   "id": "87edfe79-3a7e-498a-92ee-2f9e4c6f12c0",
   "metadata": {},
   "outputs": [
    {
     "name": "stdout",
     "output_type": "stream",
     "text": [
      "2\n",
      "5\n"
     ]
    }
   ],
   "source": [
    "# 리스트에 포함된 요소 x의 개수 세기 - count\n",
    "st = \"안녕하세요 반가워요\"\n",
    "print(st.count(\"요\"))\n",
    "a = [1,1,2,3,4,4,3,3,2,1,1,1,2]\n",
    "print(a.count(1))"
   ]
  },
  {
   "cell_type": "code",
   "execution_count": 26,
   "id": "178f71cd-6d97-4e15-a38b-376af5f1766a",
   "metadata": {},
   "outputs": [
    {
     "name": "stdout",
     "output_type": "stream",
     "text": [
      "[1, 2, 3, 4, 5]\n",
      "[11, 22, 33, 44, 55, 66]\n"
     ]
    }
   ],
   "source": [
    "# 리스트 확장\n",
    "a = [1,2,3]\n",
    "a.extend([4,5])\n",
    "print(a)\n",
    "b = [11,22,33]\n",
    "c = [44,55,66]\n",
    "print(b+c)"
   ]
  },
  {
   "cell_type": "code",
   "execution_count": 29,
   "id": "ed087ca7-fad3-48d5-9ef6-a072dc2aeef5",
   "metadata": {},
   "outputs": [],
   "source": [
    "# 장바구니\n",
    "bag = []"
   ]
  },
  {
   "cell_type": "code",
   "execution_count": 39,
   "id": "747d24f9-6fec-47ac-9882-a4a7011cfb5d",
   "metadata": {},
   "outputs": [
    {
     "name": "stdin",
     "output_type": "stream",
     "text": [
      "필요한 항목을 넣어주세요 맥주\n"
     ]
    },
    {
     "name": "stdout",
     "output_type": "stream",
     "text": [
      "장바구니에는 ['호박', '감자', '술', '맥주']들이 있습니다\n"
     ]
    }
   ],
   "source": [
    "# create - 생성, 입력\n",
    "inp = input('필요한 항목을 넣어주세요')\n",
    "bag.append(inp)\n",
    "print(f'장바구니에는 {bag}들이 있습니다')"
   ]
  },
  {
   "cell_type": "code",
   "execution_count": 35,
   "id": "36e68b9f-33f8-4180-8fce-64971b949453",
   "metadata": {},
   "outputs": [
    {
     "name": "stdout",
     "output_type": "stream",
     "text": [
      "감자을(를) 꺼내서 장바구니에 []이(가) 남았습니다\n"
     ]
    }
   ],
   "source": [
    "# FIFO 출력(큐 출력)\n",
    "hand = bag.pop(0)\n",
    "print(f'{hand}을(를) 꺼내서 장바구니에 {bag}이(가) 남았습니다')"
   ]
  },
  {
   "cell_type": "code",
   "execution_count": 50,
   "id": "75bb899d-bee2-483e-87f1-60ebe51f6d86",
   "metadata": {},
   "outputs": [
    {
     "name": "stdout",
     "output_type": "stream",
     "text": [
      "바구니에 ['호박', '감자', '소주', '맥주', '피자'] 물품이 있습니다.\n"
     ]
    },
    {
     "name": "stdin",
     "output_type": "stream",
     "text": [
      "꺼내고 싶은 물품을 입력하세요 소주\n"
     ]
    },
    {
     "name": "stdout",
     "output_type": "stream",
     "text": [
      "['호박', '감자', '맥주', '피자']\n",
      "바구니에서 소주 꺼내어 ['호박', '감자', '맥주', '피자']이 남았습니다.\n"
     ]
    }
   ],
   "source": [
    "# 선택 출력\n",
    "bag=['호박', '감자', '소주', '맥주', '피자']\n",
    "print(f'바구니에 {bag} 물품이 있습니다.')\n",
    "bring = input('꺼내고 싶은 물품을 입력하세요')\n",
    "hand2 = bag.pop(bag.index(bring))\n",
    "print(bag)\n",
    "print(f\"바구니에서 {hand2} 꺼내어 {bag}이 남았습니다.\")"
   ]
  },
  {
   "cell_type": "code",
   "execution_count": 45,
   "id": "9a1c139b-54b6-4c9c-b62a-d45306d8af45",
   "metadata": {},
   "outputs": [
    {
     "name": "stdout",
     "output_type": "stream",
     "text": [
      "44을 제거하였습니다.\n"
     ]
    }
   ],
   "source": [
    "# 테스트 - pop은 return이 되어 활용 가능하지만 remove는 제거만 하기 때문에 활용 불가 (return x)\n",
    "choice = 44\n",
    "a = [11,22,33,44,55,66]\n",
    "hands = a.remove(choice)\n",
    "print(f'{choice}을(를) 제거하였습니다.')"
   ]
  },
  {
   "cell_type": "code",
   "execution_count": 59,
   "id": "bd3b8b06-c1d9-4650-a37f-18e60b46bd3d",
   "metadata": {},
   "outputs": [
    {
     "name": "stdin",
     "output_type": "stream",
     "text": [
      "추가할 물건 이름을 적어주세요 치킨\n",
      "어느 물품의 뒤에 넣어둘까요? 감자\n"
     ]
    },
    {
     "name": "stdout",
     "output_type": "stream",
     "text": [
      "1\n",
      "['호박', '감자', '치킨', '소주', '맥주', '피자']\n"
     ]
    }
   ],
   "source": [
    "# 실습\n",
    "bag = ['호박', '감자', '소주', '맥주', '피자']\n",
    "# 물품 하나를 추가하기. 단, 지정한 물품 바로 뒤에 추가하기\n",
    "test1 = input('추가할 물건 이름을 적어주세요')\n",
    "test2 = input('어느 물품의 뒤에 넣어둘까요?')\n",
    "add = bag.index(test2)\n",
    "print(add)\n",
    "bag.insert(add+1,test1)\n",
    "print(bag)"
   ]
  },
  {
   "cell_type": "code",
   "execution_count": 69,
   "id": "7582d55f-8d61-4e4d-a92f-f57b75ff10fa",
   "metadata": {},
   "outputs": [
    {
     "name": "stdin",
     "output_type": "stream",
     "text": [
      "추가할 물건 이름을 적어주세요 치킨\n",
      "어느 물품의 앞에 넣어둘까요? 호박\n"
     ]
    },
    {
     "name": "stdout",
     "output_type": "stream",
     "text": [
      "0\n",
      "['치킨', '호박', '감자', '소주', '맥주', '피자']\n"
     ]
    }
   ],
   "source": [
    "# 실습\n",
    "bag = ['호박', '감자', '소주', '맥주', '피자']\n",
    "# 물품 하나를 추가하기. 단, 지정한 물품 바로 뒤에 추가하기\n",
    "test1 = input('추가할 물건 이름을 적어주세요')\n",
    "test2 = input('어느 물품의 앞에 넣어둘까요?')\n",
    "add = bag.index(test2)\n",
    "print(add)\n",
    "bag.insert(add,test1)\n",
    "print(bag)"
   ]
  },
  {
   "cell_type": "code",
   "execution_count": 71,
   "id": "01f3004c-acd6-43e8-80b4-46a405772218",
   "metadata": {},
   "outputs": [
    {
     "name": "stdin",
     "output_type": "stream",
     "text": [
      "내가 누구게 숫자를 입력하세요 2434\n"
     ]
    },
    {
     "name": "stdout",
     "output_type": "stream",
     "text": [
      "2438 <class 'int'>\n"
     ]
    }
   ],
   "source": [
    "# 테스트\n",
    "num = int(input('내가 누구게 숫자를 입력하세요'))\n",
    "print(num + 4 , type(num))\n"
   ]
  },
  {
   "cell_type": "code",
   "execution_count": 117,
   "id": "96effc01-038d-40e0-bc43-7e0a1086d9fd",
   "metadata": {},
   "outputs": [
    {
     "name": "stdout",
     "output_type": "stream",
     "text": [
      "<class 'list'>\n",
      "1,460.8 <class 'str'>\n",
      "14608 <class 'str'>\n",
      "1460.8 <class 'float'>\n"
     ]
    }
   ],
   "source": [
    "import requests\n",
    "import json\n",
    "url =''\n",
    "res = requests.get(url).text\n",
    "data = json.loads(res)\n",
    "print(type(data))\n",
    "\n",
    "result = data[-1]['deal_bas_r']\n",
    "print(result,type(result))\n",
    "result2 = result.replace(',',\"\").replace(\".\",\"\")\n",
    "print(result2, type(result2))\n",
    "exc = int(result2)/10\n",
    "print(exc, type(exc))\n",
    "#스트링을 숫자로 바꾸어라. 단 쉼표는 전처리하여 사용 가능하게 하라."
   ]
  },
  {
   "cell_type": "code",
   "execution_count": 115,
   "id": "7bff51d2-0eac-46e7-838b-5c0b89162f77",
   "metadata": {},
   "outputs": [
    {
     "name": "stdin",
     "output_type": "stream",
     "text": [
      "계산하고자 하는 달러를 입력하세요: 100\n"
     ]
    },
    {
     "name": "stdout",
     "output_type": "stream",
     "text": [
      "1달러는 1,460.8원 이므로, 요청하신 100 달러의 변환값은 146,080원 입니다\n"
     ]
    }
   ],
   "source": [
    "# 환율 계산기 만들기\n",
    "dol = int(input('계산하고자 하는 달러를 입력하세요:'))\n",
    "kor = int(dol * exc)\n",
    "print(f'1달러는 {exc:,}원 이므로, 요청하신 {dol} 달러의 변환값은 {kor:,}원 입니다') #금액표시하는 3자리만 가능"
   ]
  },
  {
   "cell_type": "code",
   "execution_count": null,
   "id": "9c8f657b-b134-4da3-8a94-3e587cfa4e3b",
   "metadata": {},
   "outputs": [],
   "source": [
    "# 형변환"
   ]
  },
  {
   "cell_type": "code",
   "execution_count": 40,
   "id": "6be17216-0813-4ab1-9281-267a920a3f53",
   "metadata": {},
   "outputs": [
    {
     "name": "stdin",
     "output_type": "stream",
     "text": [
      "질문 3 sdf\n"
     ]
    },
    {
     "name": "stdout",
     "output_type": "stream",
     "text": [
      "sdf\n",
      "sdf\n",
      "sdf\n"
     ]
    }
   ],
   "source": [
    "# test\n",
    "from  IPython.display import clear_output\n",
    "\n",
    "inp1 = input('질문 1')\n",
    "clear_output(wait=True)\n",
    "inp2 = input('질문 2')\n",
    "clear_output(wait=True)\n",
    "inp3 = input('질문 3')\n",
    "\n",
    "print(inp1)\n",
    "print(inp2)\n",
    "print(inp3)"
   ]
  },
  {
   "cell_type": "code",
   "execution_count": 48,
   "id": "31a0f97e-79cf-4cc5-98dc-3c3be054b082",
   "metadata": {},
   "outputs": [
    {
     "data": {
      "text/plain": [
       "0.30000000000000004"
      ]
     },
     "execution_count": 48,
     "metadata": {},
     "output_type": "execute_result"
    }
   ],
   "source": [
    "0.1 + 0.2"
   ]
  },
  {
   "cell_type": "code",
   "execution_count": 51,
   "id": "813d4d91-9cf3-43a3-9727-8b48d105e0c3",
   "metadata": {},
   "outputs": [
    {
     "name": "stdout",
     "output_type": "stream",
     "text": [
      "2898.8\n"
     ]
    }
   ],
   "source": [
    "#test2\n",
    "#from decimal import Decimal\n",
    "#result = Decimal(0.1+0.2)\n",
    "rr = 1449.4 *2\n",
    "print(round(rr,1))"
   ]
  },
  {
   "cell_type": "markdown",
   "id": "fd12be77-5949-4294-8d33-db7a03fb5be0",
   "metadata": {},
   "source": [
    "## 튜플 자료형"
   ]
  },
  {
   "cell_type": "code",
   "execution_count": 53,
   "id": "c783293d-8d0a-46f4-bc0c-e96a09419d94",
   "metadata": {},
   "outputs": [],
   "source": [
    "t1 = ()\n",
    "t2 = (1,)\n",
    "t3 = (1,2,3)\n",
    "t4 = 1,2,3\n",
    "t5 = ('a','b', ('ab','cd'))"
   ]
  },
  {
   "cell_type": "code",
   "execution_count": 55,
   "id": "62465090-c962-4e16-b4ff-f0ea7dbe81fe",
   "metadata": {},
   "outputs": [
    {
     "ename": "TypeError",
     "evalue": "'tuple' object doesn't support item deletion",
     "output_type": "error",
     "traceback": [
      "\u001b[1;31m---------------------------------------------------------------------------\u001b[0m",
      "\u001b[1;31mTypeError\u001b[0m                                 Traceback (most recent call last)",
      "Cell \u001b[1;32mIn[55], line 3\u001b[0m\n\u001b[0;32m      1\u001b[0m \u001b[38;5;66;03m# 튜플 요솟값을 삭제하려 할 때\u001b[39;00m\n\u001b[0;32m      2\u001b[0m t1 \u001b[38;5;241m=\u001b[39m (\u001b[38;5;241m1\u001b[39m,\u001b[38;5;241m2\u001b[39m,\u001b[38;5;124m'\u001b[39m\u001b[38;5;124ma\u001b[39m\u001b[38;5;124m'\u001b[39m,\u001b[38;5;124m'\u001b[39m\u001b[38;5;124mb\u001b[39m\u001b[38;5;124m'\u001b[39m)\n\u001b[1;32m----> 3\u001b[0m \u001b[38;5;28;01mdel\u001b[39;00m \u001b[43mt1\u001b[49m\u001b[43m[\u001b[49m\u001b[38;5;241;43m0\u001b[39;49m\u001b[43m]\u001b[49m\n",
      "\u001b[1;31mTypeError\u001b[0m: 'tuple' object doesn't support item deletion"
     ]
    }
   ],
   "source": [
    "# 튜플 요솟값을 삭제하려 할 때\n",
    "t1 = (1,2,'a','b')\n",
    "del t1[0]"
   ]
  },
  {
   "cell_type": "code",
   "execution_count": 56,
   "id": "3e17cf2c-5a60-455b-8fe9-8eea61728a6b",
   "metadata": {},
   "outputs": [
    {
     "ename": "TypeError",
     "evalue": "'tuple' object does not support item assignment",
     "output_type": "error",
     "traceback": [
      "\u001b[1;31m---------------------------------------------------------------------------\u001b[0m",
      "\u001b[1;31mTypeError\u001b[0m                                 Traceback (most recent call last)",
      "Cell \u001b[1;32mIn[56], line 3\u001b[0m\n\u001b[0;32m      1\u001b[0m \u001b[38;5;66;03m# 튜플 요솟값을 변경하려 할 때\u001b[39;00m\n\u001b[0;32m      2\u001b[0m t1 \u001b[38;5;241m=\u001b[39m (\u001b[38;5;241m1\u001b[39m,\u001b[38;5;241m2\u001b[39m,\u001b[38;5;124m'\u001b[39m\u001b[38;5;124ma\u001b[39m\u001b[38;5;124m'\u001b[39m,\u001b[38;5;124m'\u001b[39m\u001b[38;5;124mb\u001b[39m\u001b[38;5;124m'\u001b[39m)\n\u001b[1;32m----> 3\u001b[0m \u001b[43mt1\u001b[49m\u001b[43m[\u001b[49m\u001b[38;5;241;43m0\u001b[39;49m\u001b[43m]\u001b[49m \u001b[38;5;241m=\u001b[39m \u001b[38;5;124m'\u001b[39m\u001b[38;5;124mc\u001b[39m\u001b[38;5;124m'\u001b[39m\n",
      "\u001b[1;31mTypeError\u001b[0m: 'tuple' object does not support item assignment"
     ]
    }
   ],
   "source": [
    "# 튜플 요솟값을 변경하려 할 때\n",
    "t1 = (1,2,'a','b')\n",
    "t1[0] = 'c'"
   ]
  },
  {
   "cell_type": "code",
   "execution_count": 57,
   "id": "d76df045-4d0e-40e8-b676-16e805712062",
   "metadata": {},
   "outputs": [
    {
     "data": {
      "text/plain": [
       "['__add__',\n",
       " '__class__',\n",
       " '__class_getitem__',\n",
       " '__contains__',\n",
       " '__delattr__',\n",
       " '__dir__',\n",
       " '__doc__',\n",
       " '__eq__',\n",
       " '__format__',\n",
       " '__ge__',\n",
       " '__getattribute__',\n",
       " '__getitem__',\n",
       " '__getnewargs__',\n",
       " '__getstate__',\n",
       " '__gt__',\n",
       " '__hash__',\n",
       " '__init__',\n",
       " '__init_subclass__',\n",
       " '__iter__',\n",
       " '__le__',\n",
       " '__len__',\n",
       " '__lt__',\n",
       " '__mul__',\n",
       " '__ne__',\n",
       " '__new__',\n",
       " '__reduce__',\n",
       " '__reduce_ex__',\n",
       " '__repr__',\n",
       " '__rmul__',\n",
       " '__setattr__',\n",
       " '__sizeof__',\n",
       " '__str__',\n",
       " '__subclasshook__',\n",
       " 'count',\n",
       " 'index']"
      ]
     },
     "execution_count": 57,
     "metadata": {},
     "output_type": "execute_result"
    }
   ],
   "source": [
    "dir(tuple)"
   ]
  },
  {
   "cell_type": "code",
   "execution_count": 59,
   "id": "b918f649-04f5-46d1-aceb-0a9c92375223",
   "metadata": {},
   "outputs": [
    {
     "name": "stdout",
     "output_type": "stream",
     "text": [
      "1 b\n"
     ]
    }
   ],
   "source": [
    "# 인덱싱하기\n",
    "t1 = (1,2,'a','b')\n",
    "print(t1[0],t1[3])\n"
   ]
  },
  {
   "cell_type": "code",
   "execution_count": 60,
   "id": "b91f1e4a-1007-497c-bc4f-1acfb62336a3",
   "metadata": {},
   "outputs": [
    {
     "name": "stdout",
     "output_type": "stream",
     "text": [
      "(2, 'a', 'b')\n"
     ]
    }
   ],
   "source": [
    "# 슬라이싱\n",
    "t1 = t1 = (1,2,'a','b')\n",
    "print(t1[1:])"
   ]
  },
  {
   "cell_type": "code",
   "execution_count": 62,
   "id": "5b854571-c968-409c-adec-b760320b6758",
   "metadata": {},
   "outputs": [
    {
     "name": "stdout",
     "output_type": "stream",
     "text": [
      "(1, 2, 'a', 'b', 3, 4)\n"
     ]
    }
   ],
   "source": [
    "# 튜플 더하기\n",
    "t1 = (1,2,'a','b')\n",
    "t2 = (3,4)\n",
    "t3 = t1 + t2\n",
    "print(t3)"
   ]
  },
  {
   "cell_type": "code",
   "execution_count": 64,
   "id": "eed143b5-b468-485d-8483-642c27f210a8",
   "metadata": {},
   "outputs": [
    {
     "name": "stdout",
     "output_type": "stream",
     "text": [
      "(3, 4, 3, 4, 3, 4)\n"
     ]
    }
   ],
   "source": [
    "# 튜플 곱하기\n",
    "t2 = 3,4\n",
    "t3 = t2 * 3\n",
    "print(t3)"
   ]
  },
  {
   "cell_type": "code",
   "execution_count": 65,
   "id": "b3dc0f48-51c7-47f4-a2b2-3fbbcdb5f841",
   "metadata": {},
   "outputs": [
    {
     "data": {
      "text/plain": [
       "6"
      ]
     },
     "execution_count": 65,
     "metadata": {},
     "output_type": "execute_result"
    }
   ],
   "source": [
    "len(t3)"
   ]
  },
  {
   "cell_type": "code",
   "execution_count": 73,
   "id": "37ef8b6c-9854-48f9-a0cd-c58cb1209b81",
   "metadata": {},
   "outputs": [
    {
     "name": "stdout",
     "output_type": "stream",
     "text": [
      "(1, 2, 3, 4, 1)\n"
     ]
    }
   ],
   "source": [
    "t1 = (1,2,3)\n",
    "t2 = (4,1)\n",
    "t3 = t1 + t2\n",
    "print(t3)"
   ]
  },
  {
   "cell_type": "markdown",
   "id": "91bd8fed-0423-428e-8c62-2bfffdbe0848",
   "metadata": {},
   "source": [
    "## 딕셔너리 자료형"
   ]
  },
  {
   "cell_type": "code",
   "execution_count": 76,
   "id": "b4ba9b02-e655-47c9-8f16-1d6e3b1ce1bb",
   "metadata": {},
   "outputs": [],
   "source": [
    "dic = {'name':'pey', 'phone':'010-9999-1234', 'birth':'1118'}"
   ]
  },
  {
   "cell_type": "code",
   "execution_count": 80,
   "id": "cf496353-002f-4d42-b4e5-c91edf4235bc",
   "metadata": {},
   "outputs": [
    {
     "name": "stdout",
     "output_type": "stream",
     "text": [
      "pey\n",
      "010-9999-1234\n",
      "1118\n"
     ]
    }
   ],
   "source": [
    "print(dic['name'])\n",
    "print(dic['phone'])\n",
    "print(dic['birth'])"
   ]
  },
  {
   "cell_type": "code",
   "execution_count": 83,
   "id": "2f621ef7-6b21-4de5-8b7f-3bf9259f66a7",
   "metadata": {},
   "outputs": [
    {
     "name": "stdout",
     "output_type": "stream",
     "text": [
      "11\n",
      "11\n",
      "11\n"
     ]
    }
   ],
   "source": [
    "al = [11,22,33,44,55]\n",
    "at = 11,22,33,44,55\n",
    "ad = {0:11,1:22,2:33,3:44,4:55} # 순서가 없다\n",
    "print(al[0])\n",
    "print(ad[0])\n",
    "print(at[0])"
   ]
  },
  {
   "cell_type": "code",
   "execution_count": 86,
   "id": "cbe6889e-6b44-44c6-828f-6fb1de24e4e0",
   "metadata": {},
   "outputs": [
    {
     "name": "stdout",
     "output_type": "stream",
     "text": [
      "11\n",
      "22\n",
      "33\n",
      "44\n",
      "55\n",
      "==========\n",
      "11\n",
      "22\n",
      "33\n",
      "44\n",
      "55\n"
     ]
    }
   ],
   "source": [
    "#test\n",
    "for l in al:\n",
    "    print(l)\n",
    "print('='*10)\n",
    "for t in at:\n",
    "    print(t)"
   ]
  },
  {
   "cell_type": "code",
   "execution_count": 89,
   "id": "0315eb4b-f944-4f08-b80d-0faa37f1d6a3",
   "metadata": {},
   "outputs": [
    {
     "name": "stdout",
     "output_type": "stream",
     "text": [
      "[1, 2, 3, 4, 5]\n"
     ]
    }
   ],
   "source": [
    "a = {'aa':[1,2,3,4,5]}\n",
    "print(a['aa'])"
   ]
  },
  {
   "cell_type": "code",
   "execution_count": 92,
   "id": "82b41023-6162-4f8c-a5eb-bc6264a05a31",
   "metadata": {},
   "outputs": [
    {
     "data": {
      "text/plain": [
       "'010-9999-1234'"
      ]
     },
     "execution_count": 92,
     "metadata": {},
     "output_type": "execute_result"
    }
   ],
   "source": [
    "dic2 = {'aa':{'name':'pey','phone':'010-9999-1234', 'birth':'1118'}}\n",
    "dic2['aa']['phone']"
   ]
  },
  {
   "cell_type": "markdown",
   "id": "1b2b3094-281c-41c3-85db-c76ff683f7b2",
   "metadata": {},
   "source": [
    " ### 딕셔너리 쌍 추가, 삭제하기"
   ]
  },
  {
   "cell_type": "code",
   "execution_count": 93,
   "id": "f0e71b8e-41e9-4e1d-a656-24ae3f198c50",
   "metadata": {},
   "outputs": [
    {
     "name": "stdout",
     "output_type": "stream",
     "text": [
      "{'aa': {'name': 'pey', 'phone': '010-9999-1234', 'birth': '1118'}, 'address': 'busan'}\n"
     ]
    }
   ],
   "source": [
    "dic = {'aa':{'name':'pey','phone':'010-9999-1234', 'birth':'1118'}}\n",
    "dic['address'] = 'busan'\n",
    "print(dic)"
   ]
  },
  {
   "cell_type": "code",
   "execution_count": 94,
   "id": "2bdc1fae-db8d-4c91-aa4f-6bf6fc44d242",
   "metadata": {},
   "outputs": [
    {
     "name": "stdout",
     "output_type": "stream",
     "text": [
      "{'aa': {'name': 'pey', 'phone': '010-9999-1234', 'birth': '1118'}, 'address': 'busan', 'array': [1, 2, 3, 4, 5]}\n"
     ]
    }
   ],
   "source": [
    "dic['array']=[1,2,3,4,5]\n",
    "print(dic)"
   ]
  },
  {
   "cell_type": "code",
   "execution_count": 106,
   "id": "2478991d-5d43-4bc3-9413-8590541ced02",
   "metadata": {},
   "outputs": [
    {
     "name": "stdout",
     "output_type": "stream",
     "text": [
      "{'aa': {'name': 'pey', 'phone': '010-9999-1234', 'birth': '1118'}, 'address': 'busan', 'array': [1, 2, 3, 4, 5]}\n",
      "{'aa': {'name': 'pey', 'phone': '010-9999-1234', 'birth': '1118'}, 'address': 'busan', 'array': [1, 2, 3, 4, 5]}\n"
     ]
    }
   ],
   "source": [
    "print(dic)\n",
    "\n",
    "print(dic)"
   ]
  },
  {
   "cell_type": "code",
   "execution_count": 100,
   "id": "689d30ce-6ad3-406c-b6a7-99a8f42802ad",
   "metadata": {},
   "outputs": [
    {
     "name": "stdout",
     "output_type": "stream",
     "text": [
      "{1: 'b'}\n"
     ]
    }
   ],
   "source": [
    "# 딕셔너리 만들 때 주의할 사항\n",
    "a = {1:'a', 1:'b'}\n",
    "print(a)"
   ]
  },
  {
   "cell_type": "markdown",
   "id": "16e53299-93dd-4036-a347-a62245a59858",
   "metadata": {},
   "source": [
    "### 딕셔너리 관련 함수"
   ]
  },
  {
   "cell_type": "code",
   "execution_count": 129,
   "id": "d574539a-01f6-416b-ac52-5e7780851d3d",
   "metadata": {},
   "outputs": [
    {
     "name": "stdout",
     "output_type": "stream",
     "text": [
      "dict_keys(['name', 'phone', 'birth', 'address', 'array'])\n",
      "dict_values(['pey', '010-9999-1234', '1118', 'busan', [1, 2, 3, 4, 5]])\n",
      "dict_items([('name', 'pey'), ('phone', '010-9999-1234'), ('birth', '1118'), ('address', 'busan'), ('array', [1, 2, 3, 4, 5])])\n",
      "{'name': 'pey', 'phone': '010-9999-1234', 'birth': '1118', 'address': 'busan', 'array': [1, 2, 3, 4, 5]}\n",
      "{}\n"
     ]
    }
   ],
   "source": [
    "a = {'name': 'pey', 'phone':'010-9999-1234', 'birth': '1118', 'address': 'busan', 'array': [1, 2, 3, 4, 5]}\n",
    "# key 리스트 만들기 - keys\n",
    "print(a.keys())\n",
    "# value 리스트 만들기 - values\n",
    "print(a.values())\n",
    "# key, value 쌍 얻기 - items\n",
    "print(a.items())\n",
    "print(a)\n",
    "# key:value 쌍 모두 지우기 - clear\n",
    "a.clear()\n",
    "print(a)"
   ]
  },
  {
   "cell_type": "code",
   "execution_count": 126,
   "id": "378bc183-3845-41f9-906c-e5f3e25c6ec3",
   "metadata": {},
   "outputs": [
    {
     "name": "stdout",
     "output_type": "stream",
     "text": [
      "name\n",
      "phone\n",
      "birth\n",
      "address\n",
      "array\n"
     ]
    }
   ],
   "source": [
    "for k in a.keys():\n",
    "    print(k)"
   ]
  },
  {
   "cell_type": "code",
   "execution_count": 133,
   "id": "b8f16140-f89d-4f07-a91e-141bbb216534",
   "metadata": {},
   "outputs": [
    {
     "name": "stdout",
     "output_type": "stream",
     "text": [
      "pey\n",
      "None\n"
     ]
    },
    {
     "ename": "KeyError",
     "evalue": "'money'",
     "output_type": "error",
     "traceback": [
      "\u001b[1;31m---------------------------------------------------------------------------\u001b[0m",
      "\u001b[1;31mKeyError\u001b[0m                                  Traceback (most recent call last)",
      "Cell \u001b[1;32mIn[133], line 4\u001b[0m\n\u001b[0;32m      2\u001b[0m \u001b[38;5;28mprint\u001b[39m(a\u001b[38;5;241m.\u001b[39mget(\u001b[38;5;124m'\u001b[39m\u001b[38;5;124mname\u001b[39m\u001b[38;5;124m'\u001b[39m))\n\u001b[0;32m      3\u001b[0m \u001b[38;5;28mprint\u001b[39m(a\u001b[38;5;241m.\u001b[39mget(\u001b[38;5;124m'\u001b[39m\u001b[38;5;124msuper\u001b[39m\u001b[38;5;124m'\u001b[39m))\n\u001b[1;32m----> 4\u001b[0m \u001b[38;5;28mprint\u001b[39m(\u001b[43ma\u001b[49m\u001b[43m[\u001b[49m\u001b[38;5;124;43m'\u001b[39;49m\u001b[38;5;124;43mmoney\u001b[39;49m\u001b[38;5;124;43m'\u001b[39;49m\u001b[43m]\u001b[49m)\n",
      "\u001b[1;31mKeyError\u001b[0m: 'money'"
     ]
    }
   ],
   "source": [
    "a = {'name': 'pey', 'phone':'010-9999-1234', 'birth': '1118', 'address': 'busan', 'array': [1, 2, 3, 4, 5]}\n",
    "print(a.get('name'))\n",
    "print(a.get('super'))\n",
    "print(a['money'])"
   ]
  },
  {
   "cell_type": "code",
   "execution_count": 134,
   "id": "3d199582-c727-4c0a-9362-fe2f6544fed7",
   "metadata": {},
   "outputs": [
    {
     "name": "stdout",
     "output_type": "stream",
     "text": [
      "True\n"
     ]
    }
   ],
   "source": [
    "a = {'name': 'pey', 'phone':'010-9999-1234', 'birth': '1118', 'address': 'busan', 'array': [1, 2, 3, 4, 5]}\n",
    "print('name' in a)"
   ]
  },
  {
   "cell_type": "code",
   "execution_count": 136,
   "id": "c3b828c6-758c-4cfb-b891-2a09d01808d5",
   "metadata": {},
   "outputs": [
    {
     "name": "stdout",
     "output_type": "stream",
     "text": [
      "True\n",
      "False\n",
      "True\n"
     ]
    }
   ],
   "source": [
    "al = [11,22,33,44,55]\n",
    "at = 11,22,33,44,55\n",
    "ad = {0:11,1:22,2:33,3:44,4:55} \n",
    "print(22 in al) # 리스트\n",
    "print(99 in at) # 튜플\n",
    "print(1 in ad) # 딕셔너리 키"
   ]
  },
  {
   "cell_type": "code",
   "execution_count": 72,
   "id": "fb1290f0-12db-4cdf-8497-b91ede121f63",
   "metadata": {},
   "outputs": [
    {
     "name": "stdout",
     "output_type": "stream",
     "text": [
      "0과 1사이의 랜덤 소수 0.6364104382390227\n",
      "1과 100사이의 랜덤 수 74\n",
      "오늘 선택된 메뉴는 과자를 추천드립니다\n",
      "[3, 4, 9, 1, 6, 8, 10, 2, 7, 5]\n"
     ]
    }
   ],
   "source": [
    "# 실습 random 모듈\n",
    "import random\n",
    "menu = [\"구내식당\", \"후문 편의점\", \"자가도시락\",\"굶기\",\"과자\"]\n",
    "\n",
    "num1 = random.random()\n",
    "print(f'0과 1사이의 랜덤 소수 {num1}')\n",
    "\n",
    "num2 = random.randint(1,100)\n",
    "print((f'1과 100사이의 랜덤 수 {num2}'))\n",
    "\n",
    "lunch = random.choice(menu)\n",
    "print(f'오늘 선택된 메뉴는 {lunch}를 추천드립니다')\n",
    "\n",
    "deck = [1,2,3,4,5,6,7,8,9,10]\n",
    "random.shuffle(deck) #원본이 손상됨\n",
    "print(deck)"
   ]
  },
  {
   "cell_type": "markdown",
   "id": "944ee063-80d2-4389-81ad-372fd38b118a",
   "metadata": {},
   "source": [
    "## 집합 자료형 "
   ]
  },
  {
   "cell_type": "code",
   "execution_count": 3,
   "id": "daab2e1a-5419-47cc-8c4b-424cc63dbd99",
   "metadata": {},
   "outputs": [
    {
     "name": "stdout",
     "output_type": "stream",
     "text": [
      "{1, 2, 3} <class 'set'>\n",
      "{'h', 'l', 'e', 'o'} <class 'set'>\n"
     ]
    }
   ],
   "source": [
    "# 중복을 허용하지 않는다.\n",
    "# 순서가 없다.\n",
    "s1 = set([1,2,3])\n",
    "print(s1,type(s1))\n",
    "s2 = set(\"hello\")\n",
    "print(s2, type(s2))"
   ]
  },
  {
   "cell_type": "code",
   "execution_count": 7,
   "id": "2b030cf4-ec8b-486a-befe-491444f4c2f6",
   "metadata": {},
   "outputs": [
    {
     "name": "stdout",
     "output_type": "stream",
     "text": [
      "[33, 11, 22] <class 'list'>\n",
      "(33, 11, 22) <class 'tuple'>\n"
     ]
    }
   ],
   "source": [
    "# 집합자료형의 특징 \n",
    "s1 = set([11,11,22,22,33])\n",
    "l1 = list(s1)\n",
    "print(l1, type(l1))\n",
    "\n",
    "t1 = tuple(s1)\n",
    "print(t1, type(t1))"
   ]
  },
  {
   "cell_type": "markdown",
   "id": "25e8868a-46aa-4b6e-a2da-8a0951d34e7c",
   "metadata": {},
   "source": [
    "### 교집합, 합집합, 차집합 구하기"
   ]
  },
  {
   "cell_type": "code",
   "execution_count": 9,
   "id": "1d3e38d3-a68c-4471-a320-f2b413397fae",
   "metadata": {},
   "outputs": [
    {
     "name": "stdout",
     "output_type": "stream",
     "text": [
      "{4, 5, 6}\n",
      "{4, 5, 6}\n"
     ]
    }
   ],
   "source": [
    "# 교집합 and\n",
    "s1 = set([1,2,3,4,5,6])\n",
    "s2 = set([4,5,6,7,8,9])\n",
    "\n",
    "print(s1 & s2)\n",
    "print(s1.intersection(s2))"
   ]
  },
  {
   "cell_type": "code",
   "execution_count": 14,
   "id": "5fd3918f-b473-40e3-be5c-997ab133a990",
   "metadata": {},
   "outputs": [
    {
     "name": "stdout",
     "output_type": "stream",
     "text": [
      "{1, 2, 3, 4, 5, 6, 7, 8, 9}\n",
      "{1, 2, 3, 4, 5, 6, 7, 8, 9}\n"
     ]
    }
   ],
   "source": [
    "# 합집합 or\n",
    "print(s1|s2)\n",
    "print(s1.union(s2))"
   ]
  },
  {
   "cell_type": "code",
   "execution_count": 15,
   "id": "d497c1c4-db57-4834-80b9-27d7fd64bd43",
   "metadata": {},
   "outputs": [
    {
     "name": "stdout",
     "output_type": "stream",
     "text": [
      "{1, 2, 3}\n",
      "{8, 9, 7}\n"
     ]
    }
   ],
   "source": [
    "# 차집합\n",
    "print(s1 - s2)\n",
    "print(s2 - s1)"
   ]
  },
  {
   "cell_type": "markdown",
   "id": "27b9629d-e38f-4e4e-97d2-b163acd6af32",
   "metadata": {},
   "source": [
    "### 집합 자료형 관련 함수"
   ]
  },
  {
   "cell_type": "code",
   "execution_count": 16,
   "id": "05480892-fa62-4146-91b0-ae008c4f2a10",
   "metadata": {},
   "outputs": [
    {
     "name": "stdout",
     "output_type": "stream",
     "text": [
      "{1, 2, 3, 4}\n"
     ]
    }
   ],
   "source": [
    "# 값 1개 추가하기 -add\n",
    "s1 = set([1,2,3])\n",
    "s1.add(4)\n",
    "print(s1)"
   ]
  },
  {
   "cell_type": "code",
   "execution_count": 17,
   "id": "1791f5bf-03a8-4de0-b408-a90524840127",
   "metadata": {},
   "outputs": [
    {
     "name": "stdout",
     "output_type": "stream",
     "text": [
      "{1, 2, 3, 4, 5, 6}\n"
     ]
    }
   ],
   "source": [
    "# 값 여러개 추가하기 - update\n",
    "s1 = set([1,2,3])\n",
    "s1.update([4,5,6])\n",
    "print(s1)"
   ]
  },
  {
   "cell_type": "code",
   "execution_count": 18,
   "id": "75e4dcf0-5ed1-4fc9-ab08-2c2339691af4",
   "metadata": {},
   "outputs": [
    {
     "name": "stdout",
     "output_type": "stream",
     "text": [
      "{1, 3}\n"
     ]
    }
   ],
   "source": [
    "# 특정 값 제거하기 - remove\n",
    "s1 = set([1,2,3])\n",
    "s1.remove(2)\n",
    "print(s1)"
   ]
  },
  {
   "cell_type": "markdown",
   "id": "77bb4d1a-3534-4b96-b5ad-12287e5aded6",
   "metadata": {},
   "source": [
    "## 불 자료형"
   ]
  },
  {
   "cell_type": "code",
   "execution_count": null,
   "id": "7ecbf16f-ac32-49bc-82ef-040d3a129c39",
   "metadata": {},
   "outputs": [],
   "source": [
    "# True: 참을 뜻한다. (1), False: 거짓을 뜻한다. (0)"
   ]
  },
  {
   "cell_type": "code",
   "execution_count": 25,
   "id": "577744aa-8599-4687-b1eb-15bd8acf1924",
   "metadata": {},
   "outputs": [
    {
     "name": "stdout",
     "output_type": "stream",
     "text": [
      "<class 'bool'>\n",
      "<class 'bool'>\n"
     ]
    }
   ],
   "source": [
    "print(type(True))\n",
    "print(type(False))"
   ]
  },
  {
   "cell_type": "code",
   "execution_count": 26,
   "id": "43ef18a3-34c6-4a37-bb8e-5acb2060921e",
   "metadata": {},
   "outputs": [
    {
     "data": {
      "text/plain": [
       "True"
      ]
     },
     "execution_count": 26,
     "metadata": {},
     "output_type": "execute_result"
    }
   ],
   "source": [
    "3 ==3 "
   ]
  },
  {
   "cell_type": "code",
   "execution_count": 32,
   "id": "a543b399-ede6-41ab-a173-ae09c427007a",
   "metadata": {},
   "outputs": [
    {
     "name": "stdout",
     "output_type": "stream",
     "text": [
      "True\n",
      "False\n",
      "True\n",
      "False\n",
      "False\n",
      "True\n",
      "True\n",
      "False\n",
      "True\n",
      "False\n",
      "False\n"
     ]
    }
   ],
   "source": [
    "print(bool(\"python\"))\n",
    "print(bool(\"\"))\n",
    "print(bool([1,2,3]))\n",
    "print(bool([]))\n",
    "print(bool(()))\n",
    "print(bool((1,2,3)))\n",
    "print(bool({'a':1}))\n",
    "print(bool({}))\n",
    "print(bool(1))\n",
    "print(bool(0))\n",
    "print(bool(None))"
   ]
  },
  {
   "cell_type": "code",
   "execution_count": 35,
   "id": "a3db7c86-f304-4b33-bd63-700fefdcd50b",
   "metadata": {},
   "outputs": [
    {
     "name": "stdout",
     "output_type": "stream",
     "text": [
      "어느날, 서투른 마법사는 어두운 숲에서 모험을 떠나, 무시무시한 용과 싸웠다. 그리고 호기심 많은 로봇는 바닷속 도시에서왕국을 위험에서 구하였다.\n"
     ]
    }
   ],
   "source": [
    "# random 으로 스토리 생성기 만들기\n",
    "import random\n",
    "# 등장인물\n",
    "characters = [\"용감한 기사\", \"모험심 넘치는 고양이\", \"호기심 많은 로봇\", \"서투른 마법사\",\"명석한 탐정\", \"신나는 돌맹이\"]\n",
    "places = [\"어두운 숲에서\",\"먼 우주 행성에서\",\"바닷속 도시에서\", \"귀신이 나오는 흉가에서\",\"재밌는 교실에서\",\"마법의 성에서\"]\n",
    "events = [\"숨겨진 보물을 발견했다.\", \"무시무시한 용과 싸웠다.\", \"비밀 통로를 발견했다.\", \"고대의 미스터리를 풀었다.\", \"왕국을 위험에서 구하였다.\", \"꾸안꾸로 다녔다.\"]\n",
    "\n",
    "ch = random.choice(characters)\n",
    "pl = random.choice(places)\n",
    "ev = random.choice(events)\n",
    "ch1 = random.choice(characters)\n",
    "pl1 = random.choice(places)\n",
    "ev1 = random.choice(events)\n",
    "\n",
    "print(f\"어느날, {ch}는 {pl} 모험을 떠나, {ev} 그리고 {ch1}는 {pl1}{ev1}\")\n",
    "\n"
   ]
  },
  {
   "cell_type": "code",
   "execution_count": null,
   "id": "532462d8-e505-4f7d-a641-f8ebef81cfc1",
   "metadata": {},
   "outputs": [],
   "source": []
  },
  {
   "cell_type": "markdown",
   "id": "8141d7d9-f0ff-4f9b-8e93-88caee0c34cb",
   "metadata": {},
   "source": [
    "# 자료형의 값을 저장하는 공간, 변수"
   ]
  },
  {
   "cell_type": "markdown",
   "id": "a17648bd-cf37-408f-9d73-21bae9ee7870",
   "metadata": {},
   "source": [
    "## 리스트의 옅은 복사, 깊은 복사"
   ]
  },
  {
   "cell_type": "code",
   "execution_count": 3,
   "id": "1b44c1a8-5754-4175-a73a-1d187ad1e467",
   "metadata": {},
   "outputs": [
    {
     "name": "stdout",
     "output_type": "stream",
     "text": [
      "[1, 2, 3] 1697088684224\n",
      "[1, 2, 3] 1697088684224\n"
     ]
    }
   ],
   "source": [
    "a = [1,2,3]\n",
    "b = a\n",
    "print(a,id(a))\n",
    "print(b,id(b))"
   ]
  },
  {
   "cell_type": "code",
   "execution_count": 6,
   "id": "0fa6f5c1-b654-41d0-a63e-bf1c29bd89bf",
   "metadata": {},
   "outputs": [
    {
     "data": {
      "text/plain": [
       "True"
      ]
     },
     "execution_count": 6,
     "metadata": {},
     "output_type": "execute_result"
    }
   ],
   "source": [
    "a is b"
   ]
  },
  {
   "cell_type": "code",
   "execution_count": 14,
   "id": "153a18df-532d-4e01-a828-9e3877d0b0ec",
   "metadata": {},
   "outputs": [
    {
     "name": "stdout",
     "output_type": "stream",
     "text": [
      "[11, 22, 33] 1697094563712\n",
      "[11, 22, 33] 1697094491136\n",
      "[11, 22, 33] 1697094563712\n",
      "[11, 77, 33] 1697094491136\n"
     ]
    }
   ],
   "source": [
    "from copy import copy\n",
    "\n",
    "c = [11,22,33]\n",
    "#d = copy(c) #방식1\n",
    "d = c[:] # 방식2\n",
    "print(c,id(c))\n",
    "print(d,id(d))\n",
    "d[1] = 77\n",
    "print(c,id(c))\n",
    "print(d,id(d))"
   ]
  },
  {
   "cell_type": "code",
   "execution_count": 15,
   "id": "a18dd445-7918-4845-b551-01585caff225",
   "metadata": {},
   "outputs": [
    {
     "data": {
      "text/plain": [
       "False"
      ]
     },
     "execution_count": 15,
     "metadata": {},
     "output_type": "execute_result"
    }
   ],
   "source": [
    "c is d"
   ]
  },
  {
   "cell_type": "markdown",
   "id": "7e437e77-855d-4279-9f81-0b7c99bcac2e",
   "metadata": {},
   "source": [
    "## 변수를 만드는 여러가지 방법"
   ]
  },
  {
   "cell_type": "code",
   "execution_count": 17,
   "id": "4b8de057-1480-4cd2-8586-5400eae7c948",
   "metadata": {},
   "outputs": [
    {
     "name": "stdout",
     "output_type": "stream",
     "text": [
      "파이썬 짱장\n",
      "배고파 밥줘\n",
      "10 10 10\n"
     ]
    }
   ],
   "source": [
    "a,b = ('파이썬', '짱장')\n",
    "[c,d] = ['배고파','밥줘']\n",
    "num1 = num2 = num3 = 10\n",
    "print(a,b)\n",
    "print(c,d)\n",
    "print(num1,num2,num3)"
   ]
  },
  {
   "cell_type": "code",
   "execution_count": 19,
   "id": "8e03be0c-e29a-4040-9d97-655dc135b705",
   "metadata": {},
   "outputs": [
    {
     "name": "stdout",
     "output_type": "stream",
     "text": [
      "3 7\n",
      "7 3\n"
     ]
    }
   ],
   "source": [
    "a = 3\n",
    "b = 7\n",
    "print(a,b)\n",
    "a,b = b,a\n",
    "print(a,b)"
   ]
  }
 ],
 "metadata": {
  "kernelspec": {
   "display_name": "Python 3 (ipykernel)",
   "language": "python",
   "name": "python3"
  },
  "language_info": {
   "codemirror_mode": {
    "name": "ipython",
    "version": 3
   },
   "file_extension": ".py",
   "mimetype": "text/x-python",
   "name": "python",
   "nbconvert_exporter": "python",
   "pygments_lexer": "ipython3",
   "version": "3.13.1"
  }
 },
 "nbformat": 4,
 "nbformat_minor": 5
}
