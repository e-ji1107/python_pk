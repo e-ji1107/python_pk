{
 "cells": [
  {
   "cell_type": "markdown",
   "id": "dc2a5c9e-40a8-4774-b97a-9e740cc5a8ba",
   "metadata": {},
   "source": [
    "# 자료형"
   ]
  },
  {
   "cell_type": "markdown",
   "id": "0540bf2e-3fa1-4d8f-9e46-e8443aedb58d",
   "metadata": {},
   "source": [
    "## 리스트 자료형 "
   ]
  },
  {
   "cell_type": "markdown",
   "id": "1c1d6691-34f1-44cf-921e-402227a9f8c2",
   "metadata": {},
   "source": [
    "### 리스트의 인덱싱과 슬라이싱"
   ]
  },
  {
   "cell_type": "code",
   "execution_count": 5,
   "id": "32724084-2082-479b-844b-f5247e90334c",
   "metadata": {},
   "outputs": [
    {
     "name": "stdout",
     "output_type": "stream",
     "text": [
      "is\n",
      "Life\n"
     ]
    }
   ],
   "source": [
    "odd = [1,3,5,7,9]\n",
    "a = []\n",
    "b = [1,2,3] #1,2,3을 요소라고 함, element\n",
    "c = ['Life','is','too','short']\n",
    "d = [1,2,'Life', 'is']\n",
    "e = [1,2,['Life','is']]\n",
    "print(e[2][1])\n",
    "print(e[2][0])\n"
   ]
  },
  {
   "cell_type": "code",
   "execution_count": 10,
   "id": "c7be1066-feb6-4d86-a281-331dead594d8",
   "metadata": {},
   "outputs": [
    {
     "name": "stdout",
     "output_type": "stream",
     "text": [
      "5\n",
      "Lifeshort\n",
      "LifeLifeLife\n"
     ]
    }
   ],
   "source": [
    "print(b[1]+b[2])\n",
    "print(c[0]+c[3])\n",
    "print(c[0]*b[2])"
   ]
  },
  {
   "cell_type": "code",
   "execution_count": 14,
   "id": "d109713d-1bd9-47a8-9dfa-75db481965a9",
   "metadata": {},
   "outputs": [
    {
     "name": "stdout",
     "output_type": "stream",
     "text": [
      "[11, 22, 33, 44, 55]\n",
      "[33, 44, 55]\n",
      "[11, 22]\n",
      "[44, 55]\n",
      "[55, 44, 33, 22, 11]\n"
     ]
    }
   ],
   "source": [
    "# 리스트의 슬라이싱\n",
    "a = [11,22,33,44,55]\n",
    "print(a[:])\n",
    "print(a[2:])\n",
    "print(a[:-3])\n",
    "print(a[-2:])\n",
    "print(a[::-1])"
   ]
  },
  {
   "cell_type": "code",
   "execution_count": 16,
   "id": "fd1614e3-2b7a-403c-906f-b44c186a525e",
   "metadata": {},
   "outputs": [
    {
     "name": "stdout",
     "output_type": "stream",
     "text": [
      "[2, 3]\n"
     ]
    }
   ],
   "source": [
    "a = [1,2,3,4,5]\n",
    "print(a[1:3])"
   ]
  },
  {
   "cell_type": "markdown",
   "id": "dd821759-dd6b-461d-a209-bef87f50a133",
   "metadata": {},
   "source": [
    "### 리스트 연산하기"
   ]
  },
  {
   "cell_type": "code",
   "execution_count": 19,
   "id": "897935a1-a17c-46e2-9ad7-35e000bf210e",
   "metadata": {},
   "outputs": [
    {
     "name": "stdout",
     "output_type": "stream",
     "text": [
      "[11, 22, 33, 44, 55, 66]\n",
      "[11, 22, 33, 11, 22, 33, 11, 22, 33]\n"
     ]
    },
    {
     "data": {
      "text/plain": [
       "9"
      ]
     },
     "execution_count": 19,
     "metadata": {},
     "output_type": "execute_result"
    }
   ],
   "source": [
    "a = [11,22,33]\n",
    "b = [44,55,66]\n",
    "# 리스트 더하기\n",
    "print(a+b)\n",
    "# 리스트 반복하기\n",
    "c = a*3\n",
    "print(c)\n",
    "len(c)\n"
   ]
  },
  {
   "cell_type": "code",
   "execution_count": 30,
   "id": "60915290-3428-4ad2-bc7d-12eecb53a29d",
   "metadata": {},
   "outputs": [
    {
     "name": "stdout",
     "output_type": "stream",
     "text": [
      "[11, 22, 44]\n",
      "[11, 44]\n"
     ]
    }
   ],
   "source": [
    "# 리스트 값 수정하기\n",
    "a = [11,22,33]\n",
    "a[2] = 44\n",
    "print(a)\n",
    "#a[3] = 55 없는 요소를 수정하는 것은 에러\n",
    "#print(a)\n",
    "#a[1] = '' # 빈칸으로 수정 삽입\n",
    "#a[1] = '0' # 0으로 수정 삽입\n",
    "# 리스트 값 삭제하기\n",
    "del a[1]\n",
    "print(a)"
   ]
  },
  {
   "cell_type": "code",
   "execution_count": 31,
   "id": "599c3d80-bc1a-41f6-823d-4aa7ca6b1d9d",
   "metadata": {},
   "outputs": [
    {
     "name": "stdout",
     "output_type": "stream",
     "text": [
      "[]\n",
      "[]\n"
     ]
    }
   ],
   "source": [
    "# 리스트값 슬라이싱으로 삭젤\n",
    "print(c)\n",
    "del c[:4]\n",
    "print(c)"
   ]
  },
  {
   "cell_type": "markdown",
   "id": "423cb1d9-b551-461b-9206-590b83f4da57",
   "metadata": {},
   "source": [
    "### 리스트 관련 함수"
   ]
  },
  {
   "cell_type": "code",
   "execution_count": 33,
   "id": "0734e102-485e-4dca-aa49-0663c6e0a034",
   "metadata": {},
   "outputs": [
    {
     "data": {
      "text/plain": [
       "['__add__',\n",
       " '__class__',\n",
       " '__class_getitem__',\n",
       " '__contains__',\n",
       " '__delattr__',\n",
       " '__delitem__',\n",
       " '__dir__',\n",
       " '__doc__',\n",
       " '__eq__',\n",
       " '__format__',\n",
       " '__ge__',\n",
       " '__getattribute__',\n",
       " '__getitem__',\n",
       " '__getstate__',\n",
       " '__gt__',\n",
       " '__hash__',\n",
       " '__iadd__',\n",
       " '__imul__',\n",
       " '__init__',\n",
       " '__init_subclass__',\n",
       " '__iter__',\n",
       " '__le__',\n",
       " '__len__',\n",
       " '__lt__',\n",
       " '__mul__',\n",
       " '__ne__',\n",
       " '__new__',\n",
       " '__reduce__',\n",
       " '__reduce_ex__',\n",
       " '__repr__',\n",
       " '__reversed__',\n",
       " '__rmul__',\n",
       " '__setattr__',\n",
       " '__setitem__',\n",
       " '__sizeof__',\n",
       " '__str__',\n",
       " '__subclasshook__',\n",
       " 'append',\n",
       " 'clear',\n",
       " 'copy',\n",
       " 'count',\n",
       " 'extend',\n",
       " 'index',\n",
       " 'insert',\n",
       " 'pop',\n",
       " 'remove',\n",
       " 'reverse',\n",
       " 'sort']"
      ]
     },
     "execution_count": 33,
     "metadata": {},
     "output_type": "execute_result"
    }
   ],
   "source": [
    "dir(list)"
   ]
  },
  {
   "cell_type": "code",
   "execution_count": 35,
   "id": "4cf16c13-458c-42aa-bcfb-c6a24f01f5f0",
   "metadata": {},
   "outputs": [
    {
     "name": "stdout",
     "output_type": "stream",
     "text": [
      "[]\n"
     ]
    }
   ],
   "source": [
    "# 리스트 요소 비우기\n",
    "c.clear()\n",
    "print(c)"
   ]
  },
  {
   "cell_type": "code",
   "execution_count": 39,
   "id": "03802d30-0cf0-4d1b-aa66-ccec04a9b63f",
   "metadata": {},
   "outputs": [
    {
     "name": "stdout",
     "output_type": "stream",
     "text": [
      "[11, 44, 4, 4, [11, 22], 4, [11, 22], 4]\n",
      "[11, 44, 4, 4, [11, 22], 4, [11, 22], 4, [11, 22]]\n"
     ]
    }
   ],
   "source": [
    "#리스트에 요소 추가하기 : append\n",
    "a.append(4)\n",
    "print(a)\n",
    "a.append([11,22])\n",
    "print(a)"
   ]
  },
  {
   "cell_type": "code",
   "execution_count": 43,
   "id": "463b61f9-6298-46f7-a40d-824014f84029",
   "metadata": {},
   "outputs": [],
   "source": [
    "b =[]\n",
    "num = 0"
   ]
  },
  {
   "cell_type": "code",
   "execution_count": 50,
   "id": "f81b9b5d-174d-4b84-99e3-f501a3082591",
   "metadata": {},
   "outputs": [
    {
     "name": "stdout",
     "output_type": "stream",
     "text": [
      "[1, 2, 3, 4, 5, 6, 7]\n"
     ]
    }
   ],
   "source": [
    "num += 1\n",
    "b.append(num)\n",
    "print(b)"
   ]
  },
  {
   "cell_type": "code",
   "execution_count": 53,
   "id": "d0618c87-8dfb-47c8-8389-dd15296d9c9d",
   "metadata": {},
   "outputs": [
    {
     "name": "stdout",
     "output_type": "stream",
     "text": [
      "[11, 44, 33, 22, 55]\n",
      "[11, 22, 33, 44, 55]\n",
      "[11, 22, 33, 44, 55]\n"
     ]
    }
   ],
   "source": [
    "# 리스트 정렬(오름차순) - sort\n",
    "a = [11,44,33,22,55]\n",
    "print(a)\n",
    "a.sort()\n",
    "print(a)"
   ]
  },
  {
   "cell_type": "code",
   "execution_count": 55,
   "id": "9d20fef1-b98d-406e-9997-3ac13869ea0f",
   "metadata": {},
   "outputs": [
    {
     "name": "stdout",
     "output_type": "stream",
     "text": [
      "[11, 44, 33, 22, 55]\n",
      "[55, 44, 33, 22, 11]\n"
     ]
    }
   ],
   "source": [
    "# 리스트 정렬(내림차순) - sort\n",
    "a = [11,44,33,22,55]\n",
    "print(a)\n",
    "a.sort(reverse=True)\n",
    "print(a)"
   ]
  },
  {
   "cell_type": "code",
   "execution_count": 58,
   "id": "8d496525-3691-4973-a951-c76b9babf382",
   "metadata": {},
   "outputs": [
    {
     "name": "stdout",
     "output_type": "stream",
     "text": [
      "[66, 77, 88, 99, 0]\n",
      "[0, 66, 77, 88, 99]\n",
      "[99, 88, 77, 66, 0]\n"
     ]
    }
   ],
   "source": [
    "# 리스트 정렬 원본 유지하기\n",
    "aa = [66,77,88,99,0]\n",
    "bb = sorted(aa)\n",
    "cc = sorted(aa, reverse=True)\n",
    "print(aa)\n",
    "print(bb)\n",
    "print(cc)"
   ]
  },
  {
   "cell_type": "code",
   "execution_count": 63,
   "id": "24b16b2a-94dd-481e-8923-6de83c26b729",
   "metadata": {},
   "outputs": [
    {
     "name": "stdout",
     "output_type": "stream",
     "text": [
      "['banana', 'kiwi', 'orange', 'melon', 'pear', 'apple', 'strawberry', 'blueberry']\n",
      "['kiwi', 'pear', 'melon', 'apple', 'banana', 'orange', 'blueberry', 'strawberry']\n",
      "['strawberry', 'blueberry', 'banana', 'orange', 'melon', 'apple', 'kiwi', 'pear']\n"
     ]
    }
   ],
   "source": [
    "# sorted 응용\n",
    "fruit = ['banana', 'kiwi', 'orange','melon','pear','apple','strawberry','blueberry']\n",
    "result = sorted(fruit, key=len)\n",
    "result2 = sorted(fruit, key=len, reverse=True)\n",
    "print(fruit)\n",
    "print(result)\n",
    "print(result2)"
   ]
  },
  {
   "cell_type": "code",
   "execution_count": 54,
   "id": "cc9f04cc-399e-482c-ab0f-3e372255ad58",
   "metadata": {},
   "outputs": [
    {
     "name": "stdout",
     "output_type": "stream",
     "text": [
      "[55, 22, 33, 44, 11]\n"
     ]
    }
   ],
   "source": [
    "# 리스트 뒤집기 - reverse\n",
    "a = [11,44,33,22,55]\n",
    "a.reverse()\n",
    "print(a)"
   ]
  },
  {
   "cell_type": "code",
   "execution_count": 73,
   "id": "7af913cb-f2ca-447b-a465-b89a84e49fec",
   "metadata": {},
   "outputs": [
    {
     "name": "stdout",
     "output_type": "stream",
     "text": [
      "과일을 먹어볼까?\n",
      "kiwi 냠냠 맛있다.\n",
      "pear 냠냠 맛있다.\n",
      "melon 냠냠 맛있다.\n",
      "apple 냠냠 맛있다.\n",
      "banana못먹겠어\n",
      "orange 냠냠 맛있다.\n",
      "blueberry 냠냠 맛있다.\n",
      "strawberry 냠냠 맛있다.\n",
      "와 다 먹었다\n"
     ]
    }
   ],
   "source": [
    "print('과일을 먹어볼까?')\n",
    "for r in result:\n",
    "    if r == 'banana':\n",
    "        print(r + '못먹겠어')\n",
    "    if r !='banana':\n",
    "        print(r+' 냠냠 맛있다.')\n",
    "print('와 다 먹었다')"
   ]
  },
  {
   "cell_type": "code",
   "execution_count": 79,
   "id": "b4b21dbb-a284-43be-9250-3a5c2eef8bc6",
   "metadata": {},
   "outputs": [
    {
     "data": {
      "text/plain": [
       "3"
      ]
     },
     "execution_count": 79,
     "metadata": {},
     "output_type": "execute_result"
    }
   ],
   "source": [
    "# 인덱스 반환 # 리스트에서는 find를 사용할 수 없고 index만 사용 가능\n",
    "fruit = ['banana', 'kiwi', 'orange','melon','pear','apple','strawberry','blueberry']\n",
    "fruit.index('melon')"
   ]
  },
  {
   "cell_type": "code",
   "execution_count": 88,
   "id": "92b1d4d2-feeb-4f70-bc2c-9ff43dc70f01",
   "metadata": {},
   "outputs": [
    {
     "name": "stdin",
     "output_type": "stream",
     "text": [
      "먹고 싶은 과일을 입력하세요 banana\n"
     ]
    },
    {
     "name": "stdout",
     "output_type": "stream",
     "text": [
      "banana + 를 좋아하시는 군요 그것은 진열대 1번 째에 있습니다\n"
     ]
    }
   ],
   "source": [
    "# index 응용\n",
    "fruit = ['banana', 'kiwi', 'orange','melon','pear','apple','strawberry','blueberry']\n",
    "want = input('먹고 싶은 과일을 입력하세요')\n",
    "where = fruit.index(want)\n",
    "print(f'{want} + 를 좋아하시는 군요 그것은 진열대 {where + 1}번 째에 있습니다')"
   ]
  },
  {
   "cell_type": "code",
   "execution_count": 91,
   "id": "af865c4a-edb4-4127-8948-5c2601aeee66",
   "metadata": {},
   "outputs": [
    {
     "name": "stdout",
     "output_type": "stream",
     "text": [
      "[11, 22, 33, 55, 66, 77, 88]\n",
      "[11, 22, 33, 44, 55, 66, 77, 88]\n"
     ]
    }
   ],
   "source": [
    "# 리스트에 요소 삽입 - insert\n",
    "num = [11,22,33,55,66,77,88]\n",
    "print(num)\n",
    "num.insert(3,44) # 3은 인덱스 위치, 44는 원하는 값\n",
    "print(num)"
   ]
  },
  {
   "cell_type": "code",
   "execution_count": 102,
   "id": "9a7e9d68-24aa-443d-8b0f-d49ece3bf8d8",
   "metadata": {},
   "outputs": [],
   "source": [
    "ex = []"
   ]
  },
  {
   "cell_type": "code",
   "execution_count": 103,
   "id": "191e215f-c7f7-42c1-995e-c591d57f640e",
   "metadata": {},
   "outputs": [
    {
     "name": "stdout",
     "output_type": "stream",
     "text": [
      "['맨앞']\n",
      "['-1 인덱스', '맨앞']\n",
      "['-1 인덱스', '맨앞', '제일 끝']\n"
     ]
    }
   ],
   "source": [
    "ex.insert(0, '맨앞')\n",
    "print(ex)\n",
    "ex.insert(-1, '-1 인덱스')\n",
    "print(ex)\n",
    "ex.insert(len(ex), '제일 끝')\n",
    "print(ex)"
   ]
  },
  {
   "cell_type": "code",
   "execution_count": 3,
   "id": "7187898a-fd83-46d3-ba0b-5a5008e8e7cc",
   "metadata": {},
   "outputs": [
    {
     "name": "stdout",
     "output_type": "stream",
     "text": [
      "[1, 2, 1, 2, 3]\n"
     ]
    }
   ],
   "source": [
    "# 리스트 요소 제거하기 - remove\n",
    "a = [1,2,3,1,2,3]\n",
    "a.remove(3)\n",
    "print(a)  #return 나에게 직접 값을 주는 것, print는 요청한 값만 보여주는 것"
   ]
  },
  {
   "cell_type": "code",
   "execution_count": 12,
   "id": "494c07cd-0794-4e98-9965-a38fabaf8322",
   "metadata": {},
   "outputs": [],
   "source": [
    "# 리스트 요소 끄집어 내기 - pop\n",
    "a = [1,2,3]"
   ]
  },
  {
   "cell_type": "code",
   "execution_count": 14,
   "id": "48e5a047-40b4-42a4-aa1b-7e2dc2cf8f18",
   "metadata": {},
   "outputs": [
    {
     "name": "stdout",
     "output_type": "stream",
     "text": [
      "[1]\n",
      "받은거 2\n"
     ]
    }
   ],
   "source": [
    "hand = a.pop()\n",
    "print(a)\n",
    "print(\"받은거\", hand)"
   ]
  },
  {
   "cell_type": "code",
   "execution_count": null,
   "id": "87edfe79-3a7e-498a-92ee-2f9e4c6f12c0",
   "metadata": {},
   "outputs": [],
   "source": []
  }
 ],
 "metadata": {
  "kernelspec": {
   "display_name": "Python 3 (ipykernel)",
   "language": "python",
   "name": "python3"
  },
  "language_info": {
   "codemirror_mode": {
    "name": "ipython",
    "version": 3
   },
   "file_extension": ".py",
   "mimetype": "text/x-python",
   "name": "python",
   "nbconvert_exporter": "python",
   "pygments_lexer": "ipython3",
   "version": "3.13.1"
  }
 },
 "nbformat": 4,
 "nbformat_minor": 5
}
