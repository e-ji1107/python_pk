{
 "cells": [
  {
   "cell_type": "code",
   "execution_count": null,
   "id": "a1eebfe5-6040-467f-b4e4-60de0c5db6c8",
   "metadata": {},
   "outputs": [],
   "source": [
    "def yang(l):\n",
    "    result = [] # 양수 저장할 공간\n",
    "    for i in l:\n",
    "        if i > 0:\n",
    "            result.append(i)\n",
    "    return result\n",
    "print(filter(lambda x: x>0 [1,2,-3,-4,-5,6,7,8]))\n",
    "\n"
   ]
  },
  {
   "cell_type": "code",
   "execution_count": 2,
   "id": "0d4ff0ac-6ef1-49a8-a25c-cfb9544687b4",
   "metadata": {},
   "outputs": [
    {
     "name": "stdout",
     "output_type": "stream",
     "text": [
      "7\n"
     ]
    }
   ],
   "source": [
    "add = lambda a,b: a + b\n",
    "print(add(3,4))"
   ]
  },
  {
   "cell_type": "code",
   "execution_count": 28,
   "id": "eb131db7-9551-4af5-b519-80e55760407e",
   "metadata": {},
   "outputs": [
    {
     "data": {
      "text/plain": [
       "'7단: [7, 14, 21, 28, 35, 42, 49, 56, 63]'"
      ]
     },
     "execution_count": 28,
     "metadata": {},
     "output_type": "execute_result"
    }
   ],
   "source": [
    "# 06-1 구구단\n",
    "def gugudan(n):\n",
    "    result = []\n",
    "    for i in range(1,10):\n",
    "        num = n * i\n",
    "        result.append(num)\n",
    "    return f\"{n}단: {result}\"\n",
    "    \n",
    "#gugudan(7)   "
   ]
  },
  {
   "cell_type": "code",
   "execution_count": null,
   "id": "3b2bf82d-7895-412a-9efa-ceba86ab7f9f",
   "metadata": {},
   "outputs": [],
   "source": []
  }
 ],
 "metadata": {
  "kernelspec": {
   "display_name": "Python 3 (ipykernel)",
   "language": "python",
   "name": "python3"
  },
  "language_info": {
   "codemirror_mode": {
    "name": "ipython",
    "version": 3
   },
   "file_extension": ".py",
   "mimetype": "text/x-python",
   "name": "python",
   "nbconvert_exporter": "python",
   "pygments_lexer": "ipython3",
   "version": "3.13.1"
  }
 },
 "nbformat": 4,
 "nbformat_minor": 5
}
