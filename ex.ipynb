{
 "cells": [
  {
   "cell_type": "code",
   "execution_count": null,
   "id": "a1eebfe5-6040-467f-b4e4-60de0c5db6c8",
   "metadata": {},
   "outputs": [],
   "source": [
    "def yang(l):\n",
    "    result = [] # 양수 저장할 공간\n",
    "    for i in l:\n",
    "        if i > 0:\n",
    "            result.append(i)\n",
    "    return result\n",
    "print(filter(lambda x: x>0 [1,2,-3,-4,-5,6,7,8]))\n",
    "\n"
   ]
  },
  {
   "cell_type": "code",
   "execution_count": 2,
   "id": "0d4ff0ac-6ef1-49a8-a25c-cfb9544687b4",
   "metadata": {},
   "outputs": [
    {
     "name": "stdout",
     "output_type": "stream",
     "text": [
      "7\n"
     ]
    }
   ],
   "source": [
    "add = lambda a,b: a + b\n",
    "print(add(3,4))"
   ]
  },
  {
   "cell_type": "code",
   "execution_count": 28,
   "id": "eb131db7-9551-4af5-b519-80e55760407e",
   "metadata": {},
   "outputs": [
    {
     "data": {
      "text/plain": [
       "'7단: [7, 14, 21, 28, 35, 42, 49, 56, 63]'"
      ]
     },
     "execution_count": 28,
     "metadata": {},
     "output_type": "execute_result"
    }
   ],
   "source": [
    "# 06-1 구구단\n",
    "def gugudan(n):\n",
    "    result = []\n",
    "    for i in range(1,10):\n",
    "        num = n * i\n",
    "        result.append(num)\n",
    "    return f\"{n}단: {result}\"\n",
    "    \n",
    "#gugudan(7)   "
   ]
  },
  {
   "cell_type": "code",
   "execution_count": 11,
   "id": "3b2bf82d-7895-412a-9efa-ceba86ab7f9f",
   "metadata": {},
   "outputs": [
    {
     "name": "stdout",
     "output_type": "stream",
     "text": [
      "234\n"
     ]
    }
   ],
   "source": [
    "# 16진수 10진수로 바꾸기\n",
    "num = hex(234)\n",
    "print(int('0xea',16))"
   ]
  },
  {
   "cell_type": "code",
   "execution_count": 16,
   "id": "b1a92326-6d8e-4661-843d-c4682eaab39a",
   "metadata": {},
   "outputs": [],
   "source": [
    "# 리스트 항목마다 3곱하여 리턴하기 - map\n",
    "def mul(x):\n",
    "  return x * 3"
   ]
  },
  {
   "cell_type": "code",
   "execution_count": 18,
   "id": "c7f75e9c-0dcf-4874-8207-80bc12ce1fca",
   "metadata": {},
   "outputs": [
    {
     "data": {
      "text/plain": [
       "[3, 6, 9, 12]"
      ]
     },
     "execution_count": 18,
     "metadata": {},
     "output_type": "execute_result"
    }
   ],
   "source": [
    "list(map(mul,([1,2,3,4])))"
   ]
  },
  {
   "cell_type": "code",
   "execution_count": 21,
   "id": "62968a09-72aa-46d6-bcc2-8945d766d099",
   "metadata": {},
   "outputs": [
    {
     "data": {
      "text/plain": [
       "[2, 4, 6, 8]"
      ]
     },
     "execution_count": 21,
     "metadata": {},
     "output_type": "execute_result"
    }
   ],
   "source": [
    "# 리스트 항목마다 3곱하여 리턴하기 - lambda\n",
    "list(map(lambda x:x*2,[1,2,3,4]))"
   ]
  },
  {
   "cell_type": "code",
   "execution_count": 23,
   "id": "65c3834e-333a-44c0-8662-dc9646cdcfd3",
   "metadata": {},
   "outputs": [
    {
     "data": {
      "text/plain": [
       "-8"
      ]
     },
     "execution_count": 23,
     "metadata": {},
     "output_type": "execute_result"
    }
   ],
   "source": [
    "# 최댓값과 최솟값의 합\n",
    "a = [-8,2,7,5,-3,5,0,1]\n",
    "max(a)\n",
    "min(a)"
   ]
  },
  {
   "cell_type": "code",
   "execution_count": null,
   "id": "b5fdcb22-52e8-4933-b2df-219f71fa30bc",
   "metadata": {},
   "outputs": [],
   "source": [
    "# 소수점 반올림하기"
   ]
  }
 ],
 "metadata": {
  "kernelspec": {
   "display_name": "Python 3 (ipykernel)",
   "language": "python",
   "name": "python3"
  },
  "language_info": {
   "codemirror_mode": {
    "name": "ipython",
    "version": 3
   },
   "file_extension": ".py",
   "mimetype": "text/x-python",
   "name": "python",
   "nbconvert_exporter": "python",
   "pygments_lexer": "ipython3",
   "version": "3.13.1"
  }
 },
 "nbformat": 4,
 "nbformat_minor": 5
}
