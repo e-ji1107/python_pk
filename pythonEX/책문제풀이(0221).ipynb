{
 "cells": [
  {
   "cell_type": "markdown",
   "id": "329e232f-72a6-4b17-82ea-3cf30863c6ee",
   "metadata": {},
   "source": [
    "# 조건문의 참과 거짓"
   ]
  },
  {
   "cell_type": "code",
   "execution_count": 1,
   "id": "ecb069fd-7b38-46c5-99aa-8b88a8343519",
   "metadata": {},
   "outputs": [
    {
     "name": "stdout",
     "output_type": "stream",
     "text": [
      "shirt\n"
     ]
    }
   ],
   "source": [
    "a = \"Life is too short, you need python\"\n",
    "\n",
    "if \"wife\" in a:\n",
    "    print(\"wife\")\n",
    "elif \"python\" in a and \"you\" not in a:\n",
    "    print(\"python\")\n",
    "elif \"shirt\" not in a:\n",
    "    print(\"shirt\")\n",
    "elif \"need\" in a:\n",
    "    print(\"need\")\n",
    "else:\n",
    "    print(\"none\")"
   ]
  },
  {
   "cell_type": "markdown",
   "id": "70475b70-8309-4f79-bc49-d70c0c440f53",
   "metadata": {},
   "source": [
    "# 3의 배수의 합 구하기 "
   ]
  },
  {
   "cell_type": "code",
   "execution_count": 2,
   "id": "d2741247-8d6b-463c-84de-6106df433f2f",
   "metadata": {},
   "outputs": [
    {
     "name": "stdout",
     "output_type": "stream",
     "text": [
      "166833\n"
     ]
    }
   ],
   "source": [
    "result = 0\n",
    "i = 1\n",
    "while i <= 1000:\n",
    "    if i % 3 == 0:\n",
    "        result += i\n",
    "    i += 1\n",
    "\n",
    "print(result)\n"
   ]
  },
  {
   "cell_type": "markdown",
   "id": "b1ba8d6b-c86b-4c0e-bfb3-f3badaee86e9",
   "metadata": {},
   "source": [
    "# 별 표시하기"
   ]
  },
  {
   "cell_type": "code",
   "execution_count": 5,
   "id": "2aa0fca0-39d3-4831-9df1-dc01bb01e6f3",
   "metadata": {},
   "outputs": [
    {
     "name": "stdout",
     "output_type": "stream",
     "text": [
      "*\n",
      "**\n",
      "***\n",
      "****\n",
      "*****\n"
     ]
    }
   ],
   "source": [
    "i = 0\n",
    "while True:\n",
    "    i += 1\n",
    "    if i > 5:\n",
    "        break\n",
    "    print(\"*\" * i)"
   ]
  },
  {
   "cell_type": "markdown",
   "id": "d0ab6114-2bd6-44ab-8e21-c4d8e1f8ca08",
   "metadata": {},
   "source": [
    "# 1부터 100까지 출력하기"
   ]
  },
  {
   "cell_type": "code",
   "execution_count": null,
   "id": "f5f0b894-a184-4aac-9677-f17d688e155f",
   "metadata": {},
   "outputs": [],
   "source": [
    "for i in range(1,101):\n",
    "    print(i)"
   ]
  },
  {
   "cell_type": "markdown",
   "id": "2c067ae7-b704-44a0-a5fb-f171168235b4",
   "metadata": {},
   "source": [
    "# 평균 점수 구하기"
   ]
  },
  {
   "cell_type": "code",
   "execution_count": 15,
   "id": "9f9f3e52-2270-475d-9eb8-73a9635a0bd3",
   "metadata": {},
   "outputs": [
    {
     "name": "stdout",
     "output_type": "stream",
     "text": [
      "평균: 79.0\n"
     ]
    }
   ],
   "source": [
    "A = [70, 60, 55, 75, 95, 90, 80, 80, 85, 100]\n",
    "total = 0\n",
    "for score in A:\n",
    "    total += score\n",
    "average = total / len(A)\n",
    "print(f'평균: {average}')"
   ]
  },
  {
   "cell_type": "markdown",
   "id": "318e63e9-b3a7-45bc-8a6e-85faa6bb51e0",
   "metadata": {},
   "source": [
    "# 리스트 컴프리헨션 사용하기"
   ]
  },
  {
   "cell_type": "code",
   "execution_count": 20,
   "id": "56812bb6-0ca8-4f4d-ad1d-7313a459346a",
   "metadata": {},
   "outputs": [
    {
     "name": "stdout",
     "output_type": "stream",
     "text": [
      "[2, 6, 10]\n"
     ]
    }
   ],
   "source": [
    "numbers = [1,2,3,4,5]\n",
    "result = []\n",
    "for n in numbers:\n",
    "    if n % 2 == 1:\n",
    "        result.append(n * 2)\n",
    "print(result)"
   ]
  },
  {
   "cell_type": "code",
   "execution_count": 18,
   "id": "dc49626c-55c9-496e-bcfc-928f75c55efc",
   "metadata": {},
   "outputs": [
    {
     "name": "stdout",
     "output_type": "stream",
     "text": [
      "[2, 6, 10]\n"
     ]
    }
   ],
   "source": [
    "numbers = [1,2,3,4,5]\n",
    "result = [n * 2 for n in numbers if n % 2 ==1]\n",
    "print(result)"
   ]
  },
  {
   "cell_type": "markdown",
   "id": "062e96af-4c68-4e1a-9be5-bb4f145f0f2e",
   "metadata": {},
   "source": [
    "# 로또 생성기"
   ]
  },
  {
   "cell_type": "code",
   "execution_count": 37,
   "id": "05889f76-89ce-4506-a104-78a16890ad72",
   "metadata": {},
   "outputs": [],
   "source": [
    "# 6가지 숫자가 선택되어야 함\n",
    "# 중복되면 안됨\n",
    "# 오름차순으로 정리\n",
    "# 10만회 돌리기\n",
    "# 번호 카운팅\n",
    "# 각 번호 퍼센트 (소수점 2자리)\n",
    "# 제일 높게 나온 확률 순서대로 번호 3개 추천"
   ]
  },
  {
   "cell_type": "code",
   "execution_count": 19,
   "id": "b4858b5f-ee9a-48f9-bf5d-9016a971aaf6",
   "metadata": {},
   "outputs": [
    {
     "name": "stdout",
     "output_type": "stream",
     "text": [
      "[18, 21, 35, 37, 38, 44]\n",
      "[2, 4, 23, 25, 26, 44]\n",
      "[7, 11, 18, 25, 30, 45]\n",
      "[7, 12, 19, 24, 25, 35]\n",
      "[7, 14, 19, 22, 32, 34]\n",
      "[10, 18, 28, 34, 38, 44]\n",
      "[1, 8, 25, 30, 33, 36]\n",
      "[1, 6, 21, 27, 31, 41]\n",
      "[3, 4, 6, 15, 31, 38]\n",
      "[4, 5, 13, 30, 33, 39]\n"
     ]
    }
   ],
   "source": [
    "import random as r\n",
    "box = []\n",
    "result = []\n",
    "target = 10\n",
    "n = 0\n",
    "\n",
    "for i in range(target):\n",
    "    list = []\n",
    "    while len(list) < 6:\n",
    "        ran = r.randint(1,45)\n",
    "        if ran not in list:\n",
    "            list.append(ran)\n",
    "            list.sort(reverse=False)\n",
    "            box.append(list)\n",
    "    print(list)\n",
    "    \n",
    "    \n",
    "    \n",
    "    #for j in range(1,46):\n",
    "    #    print(f'{j}:{list.count(j)}번')\n",
    "    \n",
    "    "
   ]
  },
  {
   "cell_type": "code",
   "execution_count": 1,
   "id": "61e442a8-bc71-42de-9441-9136ab83ae8c",
   "metadata": {},
   "outputs": [
    {
     "name": "stdout",
     "output_type": "stream",
     "text": [
      "평균 점수는 70.0점 입니다.\n"
     ]
    }
   ],
   "source": [
    "#  평균 점수\n",
    "kor = 80\n",
    "eng = 75\n",
    "math = 55\n",
    "avg = (kor + eng + math)/3\n",
    "print(f'평균 점수는 {avg}점 입니다.')"
   ]
  },
  {
   "cell_type": "code",
   "execution_count": 2,
   "id": "4fc726e8-50e3-4609-88a6-7c6b81ce7ce2",
   "metadata": {},
   "outputs": [
    {
     "name": "stdout",
     "output_type": "stream",
     "text": [
      "13은 홀수입니다.\n"
     ]
    }
   ],
   "source": [
    "# 홀수 짝수 판별\n",
    "num = 13\n",
    "if num % 2 == 0:\n",
    "    print(f\"{num}은 짝수입니다.\")\n",
    "else:\n",
    "    print(f\"{num}은 홀수입니다.\")\n",
    "# even 짝수\n",
    "# odd 홀수"
   ]
  },
  {
   "cell_type": "code",
   "execution_count": 8,
   "id": "ebe1c0ac-808b-4959-bcf6-74e7226e75d7",
   "metadata": {},
   "outputs": [
    {
     "name": "stdout",
     "output_type": "stream",
     "text": [
      "생년월일 881120\n",
      "뒷자리 1068234\n"
     ]
    }
   ],
   "source": [
    "# 주민등록번호 나누기\n",
    "num = \"881120-1068234\"\n",
    "result = num.split(\"-\")\n",
    "first = result[0]\n",
    "second = result[1]\n",
    "\n",
    "print(f\"생년월일 {first}\")\n",
    "print(f\"뒷자리 {second}\")\n"
   ]
  },
  {
   "cell_type": "code",
   "execution_count": 15,
   "id": "220c7477-a08a-4cea-8f0c-e12e23e8fa6c",
   "metadata": {},
   "outputs": [
    {
     "name": "stdout",
     "output_type": "stream",
     "text": [
      "첫자리가 1이므로 남자입니다\n"
     ]
    }
   ],
   "source": [
    "# 주민등록번호 인덱싱\n",
    "pin = \"881120-1068234\"\n",
    "result = pin.split(\"-\")\n",
    "gender = int(result[1][0])\n",
    "if gender % 2 == 0:\n",
    "    print(f\"첫자리가 {gender}이므로 여자입니다\")\n",
    "else:\n",
    "    print(f\"첫자리가 {gender}이므로 남자입니다\")"
   ]
  },
  {
   "cell_type": "code",
   "execution_count": 16,
   "id": "2ca79385-7b01-4ac0-963f-74994e5e6a9a",
   "metadata": {},
   "outputs": [
    {
     "name": "stdout",
     "output_type": "stream",
     "text": [
      "a#b#c#d\n"
     ]
    }
   ],
   "source": [
    "# 문자열 바꾸기\n",
    "a = \"a:b:c:d\"\n",
    "b = a.replace(\":\",\"#\")\n",
    "print(b)"
   ]
  },
  {
   "cell_type": "code",
   "execution_count": 29,
   "id": "d23c867a-405f-4023-8c0c-d65041cdd898",
   "metadata": {},
   "outputs": [
    {
     "name": "stdout",
     "output_type": "stream",
     "text": [
      "[1, 2, 3, 4, 5]\n",
      "[5, 4, 3, 2, 1]\n"
     ]
    }
   ],
   "source": [
    "# 리스트 역순 정렬하기\n",
    "a = [1,3,5,4,2]\n",
    "a.sort()\n",
    "print(a)\n",
    "a.sort(reverse=True)\n",
    "print(a)"
   ]
  },
  {
   "cell_type": "code",
   "execution_count": 33,
   "id": "fc67b21b-c0bf-48fb-9672-208f9f10f5a0",
   "metadata": {},
   "outputs": [
    {
     "name": "stdout",
     "output_type": "stream",
     "text": [
      "Life is too short\n"
     ]
    }
   ],
   "source": [
    "# 리스트를 문자열로 만들기\n",
    "a = ['Life','is','too','short']\n",
    "result = \",\".join(a).replace(\",\",\" \")\n",
    "print(result)"
   ]
  },
  {
   "cell_type": "code",
   "execution_count": 36,
   "id": "44984985-42a4-45be-80c8-9709b48586af",
   "metadata": {},
   "outputs": [
    {
     "name": "stdout",
     "output_type": "stream",
     "text": [
      "(1, 2, 3, 4)\n"
     ]
    }
   ],
   "source": [
    "# 튜플 더하기\n",
    "a = (1,2,3)\n",
    "a1= (4,)\n",
    "result = a + a1\n",
    "print(result)"
   ]
  },
  {
   "cell_type": "code",
   "execution_count": 38,
   "id": "8bdb7979-0a25-405f-ab5b-58d7fdcdc2da",
   "metadata": {},
   "outputs": [
    {
     "name": "stdout",
     "output_type": "stream",
     "text": [
      "{'A': 90, 'C': 70}\n",
      "80\n"
     ]
    }
   ],
   "source": [
    "# 딕셔너리 값 추출하기\n",
    "a = {'A':90,'B':80,'C':70}\n",
    "result = a.pop('B')\n",
    "print(a)\n",
    "print(result)"
   ]
  },
  {
   "cell_type": "code",
   "execution_count": 39,
   "id": "f9189b0b-9d2d-42ed-9a10-65379177ccb4",
   "metadata": {},
   "outputs": [
    {
     "name": "stdout",
     "output_type": "stream",
     "text": [
      "[1, 2, 3, 4, 5]\n"
     ]
    }
   ],
   "source": [
    "# 리스트에서 중복 제거하기\n",
    "a = [1,1,1,2,2,3,3,3,4,4,5]\n",
    "aSet = set(a)\n",
    "b = list(aSet)\n",
    "print(b)"
   ]
  },
  {
   "cell_type": "code",
   "execution_count": 40,
   "id": "f7535fc2-3599-437e-abc6-454fd74a13af",
   "metadata": {},
   "outputs": [
    {
     "name": "stdout",
     "output_type": "stream",
     "text": [
      "[1, 4, 3]\n"
     ]
    }
   ],
   "source": [
    "# 파이썬 변수\n",
    "a = b = [1,2,3]\n",
    "a[1] = 4\n",
    "print(b) #모두 동일한 [1,2,3]이라는 객체를 가리키고 있기 때문에 결과가 바뀌었다."
   ]
  },
  {
   "cell_type": "code",
   "execution_count": 41,
   "id": "92e8c4a3-43ec-4bf9-8667-2162713d4afe",
   "metadata": {},
   "outputs": [
    {
     "name": "stdout",
     "output_type": "stream",
     "text": [
      "shirt\n"
     ]
    }
   ],
   "source": [
    "# 조건문의 참과 거짓\n",
    "a = \"LIfe is too short, you need python\"\n",
    "if \"wife\" in a:\n",
    "    print(\"wife\")\n",
    "elif \"python\" in a and \"you\" not in a:\n",
    "    print(\"python\")\n",
    "elif \"shirt\" not in a:\n",
    "    print(\"shirt\") # 가장 먼저 참이되는 조건\n",
    "elif \"need\" in a:\n",
    "    print(need)\n",
    "else:\n",
    "    print(\"none\")"
   ]
  },
  {
   "cell_type": "code",
   "execution_count": 43,
   "id": "ec871909-fade-4a7c-9f6f-9853da0110cd",
   "metadata": {},
   "outputs": [
    {
     "name": "stdout",
     "output_type": "stream",
     "text": [
      "166833\n"
     ]
    }
   ],
   "source": [
    "# 3의 배수의 합 구하기\n",
    "result = 0\n",
    "i = 1\n",
    "while i <= 1000:\n",
    "    if i % 3 == 0:\n",
    "        result += i\n",
    "    i+=1\n",
    "print(result)"
   ]
  },
  {
   "cell_type": "code",
   "execution_count": 47,
   "id": "b69c6ba3-e4bc-47ea-a289-6aa52002e3fb",
   "metadata": {},
   "outputs": [
    {
     "name": "stdout",
     "output_type": "stream",
     "text": [
      "*\n",
      "**\n",
      "***\n",
      "****\n",
      "*****\n"
     ]
    }
   ],
   "source": [
    "# 별 표시하기\n",
    "i = 0\n",
    "while True:\n",
    "    i += 1\n",
    "    if i > 5:\n",
    "        break\n",
    "    print(\"*\"*i)"
   ]
  },
  {
   "cell_type": "code",
   "execution_count": null,
   "id": "a15ac7bd-aa5d-4beb-b7a7-616f0d5ff1a5",
   "metadata": {},
   "outputs": [],
   "source": [
    "# 1부터 100까지 출력하기\n",
    "for i in range(1,101):\n",
    "    print(i)"
   ]
  },
  {
   "cell_type": "code",
   "execution_count": 49,
   "id": "503b72d6-dc8c-4415-8d56-1649702430ed",
   "metadata": {},
   "outputs": [
    {
     "name": "stdout",
     "output_type": "stream",
     "text": [
      "79.0\n"
     ]
    }
   ],
   "source": [
    "# 평균 점수 구하기\n",
    "A = [70,60,55,75,95,90,80,80,85,100]\n",
    "total = 0\n",
    "for score in A:\n",
    "    total += score\n",
    "average = total / len(A)\n",
    "print(average)"
   ]
  },
  {
   "cell_type": "code",
   "execution_count": 54,
   "id": "84dd629a-e630-452e-8193-57799cfba41f",
   "metadata": {},
   "outputs": [
    {
     "name": "stdout",
     "output_type": "stream",
     "text": [
      "[2, 6, 10]\n"
     ]
    }
   ],
   "source": [
    "# 리스트 컴프리헨션 사용하기\n",
    "numbers = [1,2,3,4,5]\n",
    "result = []\n",
    "for n in numbers:\n",
    "    if n % 2 == 1:\n",
    "        result.append(n*2)\n",
    "print(result)"
   ]
  },
  {
   "cell_type": "code",
   "execution_count": 53,
   "id": "efdb4a72-8666-412d-9419-151fb0f4c0eb",
   "metadata": {},
   "outputs": [
    {
     "name": "stdout",
     "output_type": "stream",
     "text": [
      "[2, 6, 10]\n"
     ]
    }
   ],
   "source": [
    "(result.append(n*2) for n in numbers if n % 2 == 1)\n",
    "print(result)"
   ]
  },
  {
   "cell_type": "code",
   "execution_count": 57,
   "id": "519706f4-957e-4abd-9414-67b8c963af5a",
   "metadata": {},
   "outputs": [
    {
     "name": "stdout",
     "output_type": "stream",
     "text": [
      "True\n"
     ]
    }
   ],
   "source": [
    "# 홀수 짝수 판별하기\n",
    "def is_odd(number):\n",
    "    if number % 2 == 0:\n",
    "        return True\n",
    "    else:\n",
    "        return False\n",
    "print(is_odd(14))"
   ]
  },
  {
   "cell_type": "code",
   "execution_count": 61,
   "id": "6311b3c5-9f0b-48e6-9a29-e1b3b785a674",
   "metadata": {},
   "outputs": [
    {
     "name": "stdout",
     "output_type": "stream",
     "text": [
      "1.5\n",
      "3.0\n"
     ]
    }
   ],
   "source": [
    "# 모든 입력의 평균값 구하기\n",
    "def avg_numbers(*args):\n",
    "    result = 0\n",
    "    for i in args:\n",
    "        result += i\n",
    "    return result / len(args)\n",
    "print(avg_numbers(1,2))\n",
    "print(avg_numbers(1,2,3,4,5))"
   ]
  },
  {
   "cell_type": "code",
   "execution_count": 64,
   "id": "33fa06e8-3399-46a4-9094-d7cdd72c06ab",
   "metadata": {},
   "outputs": [
    {
     "name": "stdin",
     "output_type": "stream",
     "text": [
      "첫번째 숫자를 입력하세요:  13\n",
      "두번째 숫자를 입력하세요:  12\n"
     ]
    },
    {
     "name": "stdout",
     "output_type": "stream",
     "text": [
      "두 수의 합은 25 입니다\n"
     ]
    }
   ],
   "source": [
    "# 프로그램 오류 수정하기 1\n",
    "input1 = int(input(\"첫번째 숫자를 입력하세요: \"))\n",
    "input2 = int(input(\"두번째 숫자를 입력하세요: \"))\n",
    "\n",
    "total = input1 + input2\n",
    "print(\"두 수의 합은 %s 입니다\" % total)"
   ]
  },
  {
   "cell_type": "code",
   "execution_count": 78,
   "id": "18d3f749-294f-481e-8ea5-7a1c230b1849",
   "metadata": {},
   "outputs": [
    {
     "name": "stdout",
     "output_type": "stream",
     "text": [
      "Life is too short\n"
     ]
    }
   ],
   "source": [
    "# 프로그램 오류 수정하기 2\n",
    "f1 = open(\"test.txt\",\"w\")\n",
    "f1.write(\"Life is too short\")\n",
    "f1.close()\n",
    "\n",
    "f2 = open(\"test.txt\",\"r\")\n",
    "print(f2.read())\n",
    "f2.close()"
   ]
  },
  {
   "cell_type": "code",
   "execution_count": 93,
   "id": "8f2b2888-be69-49c4-b377-46adc851c340",
   "metadata": {},
   "outputs": [
    {
     "name": "stdin",
     "output_type": "stream",
     "text": [
      "저장할 내용을 입력하세요:  you need java\n"
     ]
    }
   ],
   "source": [
    "# 사용자 입력 지정하기\n",
    "user_input = input(\"저장할 내용을 입력하세요: \")\n",
    "f = open('test.txt','a')\n",
    "f.write(user_input)\n",
    "f.write(\"\\n\")\n",
    "f.close()"
   ]
  },
  {
   "cell_type": "code",
   "execution_count": 94,
   "id": "3f2cf6fd-89b4-41bd-a283-b81828f007bf",
   "metadata": {},
   "outputs": [],
   "source": [
    "# 파일의 문자열 바꾸기\n",
    "f = open('test.txt','r')\n",
    "body = f.read()\n",
    "f.close()\n",
    "\n",
    "body = body.replace(\"java\",\"python\")\n",
    "\n",
    "f = open('test.txt','w')\n",
    "f.write(body)\n",
    "f.close()"
   ]
  },
  {
   "cell_type": "code",
   "execution_count": null,
   "id": "ba38492f-5f02-45e7-ae38-acf537a93514",
   "metadata": {},
   "outputs": [],
   "source": [
    "# 입력값을 모두 더해 출력하기\n",
    "# test.py 파일을 실행해야한다. python test.py 1 2 3 4 5\n",
    "import sys\n",
    "args = sys.argv[1:]\n",
    "num = 0\n",
    "for i in args:\n",
    "    num += int(i)\n",
    "print(num)"
   ]
  },
  {
   "cell_type": "code",
   "execution_count": 103,
   "id": "09876e45-eb34-4ace-9e1c-cbd83e564b40",
   "metadata": {},
   "outputs": [
    {
     "name": "stdout",
     "output_type": "stream",
     "text": [
      "3\n"
     ]
    }
   ],
   "source": [
    "# 클래스 상속받고 메서드 추가하기1\n",
    "class Calculator:\n",
    "    def __init__(self):\n",
    "        self.value = 0\n",
    "\n",
    "    def add(self,val):\n",
    "        self.value += val\n",
    "\n",
    "class UpgradeCalculator(Calculator):\n",
    "    def sub(self,val):\n",
    "        self.value -= val\n",
    "cal = UpgradeCalculator()\n",
    "cal.add(10)\n",
    "cal.sub(7)\n",
    "\n",
    "print(cal.value)\n"
   ]
  },
  {
   "cell_type": "code",
   "execution_count": 106,
   "id": "d109df76-45b7-4ca6-b21e-00773bbe5595",
   "metadata": {},
   "outputs": [
    {
     "name": "stdout",
     "output_type": "stream",
     "text": [
      "100\n"
     ]
    }
   ],
   "source": [
    "# 클래스 상속받고 메서드 추가하기 2\n",
    "\n",
    "class MaxLimitCalculator(Calculator):\n",
    "    def add(self,val):\n",
    "        self.value += val\n",
    "        if self.value > 100:\n",
    "            self.value =  100\n",
    "\n",
    "\n",
    "cal = MaxLimitCalculator()\n",
    "cal.add(50)\n",
    "cal.add(60)\n",
    "\n",
    "print(cal.value)"
   ]
  },
  {
   "cell_type": "code",
   "execution_count": 107,
   "id": "26cab63d-ffc4-444f-9280-9c9abedaed60",
   "metadata": {},
   "outputs": [
    {
     "data": {
      "text/plain": [
       "False"
      ]
     },
     "execution_count": 107,
     "metadata": {},
     "output_type": "execute_result"
    }
   ],
   "source": [
    "# 참과 거짓 예측하기\n",
    "all([1,2,abs(-3)-3])"
   ]
  },
  {
   "cell_type": "code",
   "execution_count": 109,
   "id": "200a3bbb-682d-4b78-b5a9-ec6b1c66aa72",
   "metadata": {},
   "outputs": [
    {
     "data": {
      "text/plain": [
       "True"
      ]
     },
     "execution_count": 109,
     "metadata": {},
     "output_type": "execute_result"
    }
   ],
   "source": [
    "chr(ord('a')) == 'a'"
   ]
  },
  {
   "cell_type": "code",
   "execution_count": 13,
   "id": "4792b4e6-fd43-4a28-9e9b-2c4150471598",
   "metadata": {},
   "outputs": [
    {
     "name": "stdout",
     "output_type": "stream",
     "text": [
      "C:\\Users\n",
      "C:\\Users\n"
     ]
    }
   ],
   "source": [
    "# 디렉터리 이동하고 파일 목록 출력하기\n",
    "import os\n",
    "os.environ\n",
    "os.environ['PATH']\n",
    "print(os.getcwd())\n",
    "os.chdir(\"C:/Users\")\n",
    "print(os.getcwd())\n"
   ]
  },
  {
   "cell_type": "code",
   "execution_count": 14,
   "id": "c4674c6a-2f5d-4480-98fd-2d1fb26c550d",
   "metadata": {},
   "outputs": [
    {
     "data": {
      "text/plain": [
       "[]"
      ]
     },
     "execution_count": 14,
     "metadata": {},
     "output_type": "execute_result"
    }
   ],
   "source": [
    "# 파일 확장자가 .py인 파일만 찾기\n",
    "import glob\n",
    "glob.glob(\"C:doit/*.py\")"
   ]
  },
  {
   "cell_type": "code",
   "execution_count": 28,
   "id": "160db2b1-ed8a-42ad-95fb-c8b59e3f4aa6",
   "metadata": {},
   "outputs": [
    {
     "name": "stdout",
     "output_type": "stream",
     "text": [
      "20\n",
      "02\n",
      "25\n",
      "2025/02/20 23:18:07\n",
      "2025/02/20 23:18:07\n"
     ]
    }
   ],
   "source": [
    "# 날짜 표시하기\n",
    "# 2018/04/03 17:20:32 출력하기\n",
    "import time\n",
    "date = time.strftime('%x', time.localtime(time.time()))\n",
    "nowTime = time.strftime(\"%X\",time.localtime(time.time()))\n",
    "result = date.split('/')\n",
    "month = result[0]\n",
    "day = result[1]\n",
    "year = result[2]\n",
    "print(day)\n",
    "print(month)\n",
    "print(year)\n",
    "print(f'20{year}/{month}/{day} {nowTime}')\n",
    "\n",
    "\n",
    "print(time.strftime(\"%Y/%m/%d %X\", time.localtime(time.time())))"
   ]
  },
  {
   "cell_type": "code",
   "execution_count": 49,
   "id": "e608c74e-9e2d-4e49-89ea-536f116a5977",
   "metadata": {},
   "outputs": [
    {
     "name": "stdout",
     "output_type": "stream",
     "text": [
      "[24, 30, 25, 20, 16, 6]\n"
     ]
    }
   ],
   "source": [
    "import random as r\n",
    "result = []\n",
    "while len(result) < 6:\n",
    "    num = r.randint(1,45)\n",
    "    if num not in result:\n",
    "        result.append(num)\n",
    "\n",
    "print(result)"
   ]
  },
  {
   "cell_type": "code",
   "execution_count": 51,
   "id": "b5057e0f-03c2-403b-9314-bb1ae5eba56a",
   "metadata": {},
   "outputs": [
    {
     "name": "stdout",
     "output_type": "stream",
     "text": [
      "1141\n"
     ]
    }
   ],
   "source": [
    "# 누나는 영철이보다 며칠 더 먼저 태어났을까?\n",
    "# 영철 : 1998년 10월 6일\n",
    "# 누나 : 1995년 11월 20일\n",
    "import datetime as d\n",
    "day1 = d.date(1998,11,20)\n",
    "day2 = d.date(1995,10,6)\n",
    "\n",
    "result = day1 - day2\n",
    "print(result.days)"
   ]
  },
  {
   "cell_type": "code",
   "execution_count": 55,
   "id": "de2dc0e8-108b-4bdf-9336-845090b151f4",
   "metadata": {},
   "outputs": [
    {
     "name": "stdout",
     "output_type": "stream",
     "text": [
      "('전정웅', 13.29)\n",
      "('김예지', 13.31)\n",
      "('윤서현', 15.25)\n",
      "('박예원', 15.34)\n",
      "('김시우', 15.48)\n",
      "('송순자', 15.57)\n",
      "('김혜진', 16.63)\n",
      "('최보람', 17.14)\n",
      "('배숙자', 17.9)\n"
     ]
    }
   ],
   "source": [
    "import operator\n",
    "\n",
    "data = [('윤서현',15.25),\n",
    "        ('김예지',13.31),\n",
    "        ('박예원',15.34),\n",
    "        ('송순자',15.57),\n",
    "        ('김시우',15.48),\n",
    "        ('배숙자',17.9),\n",
    "        ('전정웅',13.29),\n",
    "        ('김혜진',16.63),\n",
    "        ('최보람',17.14)]\n",
    "\n",
    "result = sorted(data, key= operator.itemgetter(1))\n",
    "for r in result:\n",
    "    print(r)\n",
    "       \n",
    "       \n",
    "       \n",
    "       \n",
    "       "
   ]
  },
  {
   "cell_type": "code",
   "execution_count": 57,
   "id": "131ae080-ca77-4eed-a8fd-70547500d282",
   "metadata": {},
   "outputs": [
    {
     "data": {
      "text/plain": [
       "[('지혜', '성민'),\n",
       " ('지혜', '지현'),\n",
       " ('지혜', '정숙'),\n",
       " ('성민', '지혜'),\n",
       " ('성민', '지현'),\n",
       " ('성민', '정숙'),\n",
       " ('지현', '지혜'),\n",
       " ('지현', '성민'),\n",
       " ('지현', '정숙'),\n",
       " ('정숙', '지혜'),\n",
       " ('정숙', '성민'),\n",
       " ('정숙', '지현')]"
      ]
     },
     "execution_count": 57,
     "metadata": {},
     "output_type": "execute_result"
    }
   ],
   "source": [
    "import itertools\n",
    "name = ['지혜','성민','지현','정숙']\n",
    "list(itertools.permutations((name),2))"
   ]
  },
  {
   "cell_type": "code",
   "execution_count": 60,
   "id": "2e3966d6-22c7-4e37-9ae2-0fbc015211c4",
   "metadata": {},
   "outputs": [
    {
     "name": "stdout",
     "output_type": "stream",
     "text": [
      "abcd\n",
      "abdc\n",
      "acbd\n",
      "acdb\n",
      "adbc\n",
      "adcb\n",
      "bacd\n",
      "badc\n",
      "bcad\n",
      "bcda\n",
      "bdac\n",
      "bdca\n",
      "cabd\n",
      "cadb\n",
      "cbad\n",
      "cbda\n",
      "cdab\n",
      "cdba\n",
      "dabc\n",
      "dacb\n",
      "dbac\n",
      "dbca\n",
      "dcab\n",
      "dcba\n"
     ]
    }
   ],
   "source": [
    "import itertools\n",
    "a = 'abcd'\n",
    "result = itertools.permutations(a,4)\n",
    "for r in result:\n",
    "    print(''.join(r))\n",
    "    \n"
   ]
  },
  {
   "cell_type": "code",
   "execution_count": 67,
   "id": "a20eaf06-bc9e-4219-b3e6-b4235db382b1",
   "metadata": {},
   "outputs": [
    {
     "name": "stdout",
     "output_type": "stream",
     "text": [
      "[('승현', '청소'), ('진호', '빨래'), ('춘자', '설거지'), ('예준', '휴식'), ('현주', '휴식')]\n"
     ]
    }
   ],
   "source": [
    "import itertools\n",
    "name = ['승현','진호','춘자','예준','현주']\n",
    "task = ['청소','빨래','설거지']\n",
    "\n",
    "result = itertools.zip_longest(name,task,fillvalue='휴식')\n",
    "print(list(result))"
   ]
  },
  {
   "cell_type": "code",
   "execution_count": 69,
   "id": "ae943c68-e4d8-4eeb-82ee-05de1dbdcdaf",
   "metadata": {},
   "outputs": [
    {
     "data": {
      "text/plain": [
       "40"
      ]
     },
     "execution_count": 69,
     "metadata": {},
     "output_type": "execute_result"
    }
   ],
   "source": [
    "import math\n",
    "math.lcm(200,80)"
   ]
  },
  {
   "cell_type": "code",
   "execution_count": 70,
   "id": "c6292411-0a37-432d-8ae0-c3782f565744",
   "metadata": {},
   "outputs": [],
   "source": [
    "##20제"
   ]
  },
  {
   "cell_type": "code",
   "execution_count": 78,
   "id": "725e4e9f-4f88-4238-af25-6f8060d53184",
   "metadata": {},
   "outputs": [
    {
     "name": "stdout",
     "output_type": "stream",
     "text": [
      "a#b#c#d\n"
     ]
    }
   ],
   "source": [
    "# 문자열 바꾸기\n",
    "a = \"a:b:c:d\"\n",
    "b = a.split(\":\")\n",
    "print(\"#\".join(b))"
   ]
  },
  {
   "cell_type": "code",
   "execution_count": 79,
   "id": "a76ee19e-8e85-45f7-a7ea-078f2b7766be",
   "metadata": {},
   "outputs": [
    {
     "data": {
      "text/plain": [
       "70"
      ]
     },
     "execution_count": 79,
     "metadata": {},
     "output_type": "execute_result"
    }
   ],
   "source": [
    "## 딕셔너리값 추출\n",
    "a = {'A':90, 'B':80}\n",
    "a.get('C',70)\n"
   ]
  },
  {
   "cell_type": "code",
   "execution_count": 105,
   "id": "227841b9-fade-4a52-8aa4-fdffac82e35b",
   "metadata": {},
   "outputs": [
    {
     "name": "stdout",
     "output_type": "stream",
     "text": [
      "2622978011264\n",
      "2622978302144\n",
      "[1, 2, 3, 4, 5, 4, 5]\n"
     ]
    },
    {
     "data": {
      "text/plain": [
       "2622978302144"
      ]
     },
     "execution_count": 105,
     "metadata": {},
     "output_type": "execute_result"
    }
   ],
   "source": [
    "## 리스트의 더하기, extend 함수\n",
    "a = [1,2,3]\n",
    "print(id(a))\n",
    "\n",
    "a = a + [4,5]\n",
    "print(id(a))\n",
    "\n",
    "a.extend([4,5])\n",
    "print(a)\n",
    "id(a)\n",
    "# extend는 + 기호와 달리 주소가 달라지지 않는다."
   ]
  },
  {
   "cell_type": "code",
   "execution_count": 120,
   "id": "7a2afe03-0d2c-44a2-b37b-b24730d4cdba",
   "metadata": {},
   "outputs": [
    {
     "name": "stdout",
     "output_type": "stream",
     "text": [
      "481\n"
     ]
    }
   ],
   "source": [
    "## 리스트 총합 구하기\n",
    "A = [20,55,67,82,45,33,90,87,100,25]\n",
    "result = 0\n",
    "for i in A:\n",
    "    if i >= 50:\n",
    "        result += i\n",
    "print(result)\n",
    "    \n",
    "    "
   ]
  },
  {
   "cell_type": "code",
   "execution_count": null,
   "id": "092338ba-dd9c-4ea2-acef-99b872e56597",
   "metadata": {},
   "outputs": [],
   "source": [
    "## 피보나치 함수\n",
    "# 첫째항 0, 두번째 1일 때 이후 이어지는 항은 이전 두 항을 더한 값\n",
    "def fibonacci(n):\n",
    "    if n <= 1:\n",
    "        return n  # 0 또는 1이면 그대로 반환\n",
    "    return fibonacci(n-1) + fibonacci(n-2)  # 앞 두 개 더하기\n",
    "\n",
    "print(fibonacci(6))  # 8 출력\n"
   ]
  }
 ],
 "metadata": {
  "kernelspec": {
   "display_name": "Python 3 (ipykernel)",
   "language": "python",
   "name": "python3"
  },
  "language_info": {
   "codemirror_mode": {
    "name": "ipython",
    "version": 3
   },
   "file_extension": ".py",
   "mimetype": "text/x-python",
   "name": "python",
   "nbconvert_exporter": "python",
   "pygments_lexer": "ipython3",
   "version": "3.13.1"
  }
 },
 "nbformat": 4,
 "nbformat_minor": 5
}
