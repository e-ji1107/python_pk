{
 "cells": [
  {
   "cell_type": "code",
   "execution_count": 1,
   "id": "a83eca9d-7f9d-41e3-851e-367fc622a0e2",
   "metadata": {},
   "outputs": [
    {
     "name": "stdout",
     "output_type": "stream",
     "text": [
      "Requirement already satisfied: xlrd in c:\\users\\admin\\appdata\\local\\programs\\python\\python313\\lib\\site-packages (2.0.1)\n"
     ]
    }
   ],
   "source": [
    "# !pip install xlrd\n",
    "# pip install openpyxl # 최신 xlsx 용"
   ]
  },
  {
   "cell_type": "code",
   "execution_count": 4,
   "id": "771a15e1-3d0e-4603-b044-6fb3b86f9948",
   "metadata": {},
   "outputs": [],
   "source": [
    "from hdfs import InsecureClient\n",
    "from io import BytesIO\n",
    "import pandas as pd"
   ]
  },
  {
   "cell_type": "code",
   "execution_count": 15,
   "id": "498f90e1-9374-47a4-975b-6c19ba152c22",
   "metadata": {},
   "outputs": [
    {
     "data": {
      "text/html": [
       "<div>\n",
       "<style scoped>\n",
       "    .dataframe tbody tr th:only-of-type {\n",
       "        vertical-align: middle;\n",
       "    }\n",
       "\n",
       "    .dataframe tbody tr th {\n",
       "        vertical-align: top;\n",
       "    }\n",
       "\n",
       "    .dataframe thead th {\n",
       "        text-align: right;\n",
       "    }\n",
       "</style>\n",
       "<table border=\"1\" class=\"dataframe\">\n",
       "  <thead>\n",
       "    <tr style=\"text-align: right;\">\n",
       "      <th></th>\n",
       "      <th>지역</th>\n",
       "      <th>상호</th>\n",
       "      <th>주소</th>\n",
       "      <th>상표</th>\n",
       "      <th>전화번호</th>\n",
       "      <th>셀프여부</th>\n",
       "      <th>고급휘발유</th>\n",
       "      <th>휘발유</th>\n",
       "      <th>경유</th>\n",
       "      <th>실내등유</th>\n",
       "    </tr>\n",
       "  </thead>\n",
       "  <tbody>\n",
       "    <tr>\n",
       "      <th>0</th>\n",
       "      <td>부산광역시</td>\n",
       "      <td>한길주유소 금사점 한솔유화㈜</td>\n",
       "      <td>부산 금정구 반송로 420 (금사동)</td>\n",
       "      <td>HD현대오일뱅크</td>\n",
       "      <td>051-524-6642</td>\n",
       "      <td>Y</td>\n",
       "      <td>1897</td>\n",
       "      <td>1549</td>\n",
       "      <td>1409</td>\n",
       "      <td>-</td>\n",
       "    </tr>\n",
       "    <tr>\n",
       "      <th>1</th>\n",
       "      <td>부산광역시</td>\n",
       "      <td>훼미리알뜰주유소</td>\n",
       "      <td>부산 금정구 두실로 2</td>\n",
       "      <td>알뜰주유소</td>\n",
       "      <td>051-582-5882</td>\n",
       "      <td>Y</td>\n",
       "      <td>-</td>\n",
       "      <td>1575</td>\n",
       "      <td>1437</td>\n",
       "      <td>-</td>\n",
       "    </tr>\n",
       "    <tr>\n",
       "      <th>2</th>\n",
       "      <td>부산광역시</td>\n",
       "      <td>은마석유 노포주유소</td>\n",
       "      <td>부산 금정구 중앙대로 2191 (노포동)</td>\n",
       "      <td>GS칼텍스</td>\n",
       "      <td>051-508-1645</td>\n",
       "      <td>Y</td>\n",
       "      <td>1849</td>\n",
       "      <td>1575</td>\n",
       "      <td>1437</td>\n",
       "      <td>1350</td>\n",
       "    </tr>\n",
       "    <tr>\n",
       "      <th>3</th>\n",
       "      <td>부산광역시</td>\n",
       "      <td>청룡명품주유소</td>\n",
       "      <td>부산 금정구 중앙대로 2130</td>\n",
       "      <td>HD현대오일뱅크</td>\n",
       "      <td>051-508-5150</td>\n",
       "      <td>Y</td>\n",
       "      <td>-</td>\n",
       "      <td>1575</td>\n",
       "      <td>1437</td>\n",
       "      <td>-</td>\n",
       "    </tr>\n",
       "    <tr>\n",
       "      <th>4</th>\n",
       "      <td>부산광역시</td>\n",
       "      <td>금두꺼비주유소</td>\n",
       "      <td>부산광역시 금정구  부곡로 67 (부곡동)</td>\n",
       "      <td>알뜰주유소</td>\n",
       "      <td>051-583-6433</td>\n",
       "      <td>Y</td>\n",
       "      <td>-</td>\n",
       "      <td>1587</td>\n",
       "      <td>1457</td>\n",
       "      <td>-</td>\n",
       "    </tr>\n",
       "    <tr>\n",
       "      <th>...</th>\n",
       "      <td>...</td>\n",
       "      <td>...</td>\n",
       "      <td>...</td>\n",
       "      <td>...</td>\n",
       "      <td>...</td>\n",
       "      <td>...</td>\n",
       "      <td>...</td>\n",
       "      <td>...</td>\n",
       "      <td>...</td>\n",
       "      <td>...</td>\n",
       "    </tr>\n",
       "    <tr>\n",
       "      <th>46</th>\n",
       "      <td>부산광역시</td>\n",
       "      <td>(주)서호주유소</td>\n",
       "      <td>부산 강서구 명지국제2로28번길 36</td>\n",
       "      <td>S-OIL</td>\n",
       "      <td>051-206-6661</td>\n",
       "      <td>Y</td>\n",
       "      <td>1988</td>\n",
       "      <td>1678</td>\n",
       "      <td>1518</td>\n",
       "      <td>-</td>\n",
       "    </tr>\n",
       "    <tr>\n",
       "      <th>47</th>\n",
       "      <td>부산광역시</td>\n",
       "      <td>만선주유소</td>\n",
       "      <td>부산 강서구 가락대로210번길 102</td>\n",
       "      <td>HD현대오일뱅크</td>\n",
       "      <td>051-831-9171</td>\n",
       "      <td>N</td>\n",
       "      <td>-</td>\n",
       "      <td>1698</td>\n",
       "      <td>1558</td>\n",
       "      <td>-</td>\n",
       "    </tr>\n",
       "    <tr>\n",
       "      <th>48</th>\n",
       "      <td>부산광역시</td>\n",
       "      <td>비케이원(주) 미래드림주유소</td>\n",
       "      <td>부산 강서구 가락대로 649</td>\n",
       "      <td>HD현대오일뱅크</td>\n",
       "      <td>051-974-0808</td>\n",
       "      <td>Y</td>\n",
       "      <td>-</td>\n",
       "      <td>1709</td>\n",
       "      <td>1559</td>\n",
       "      <td>-</td>\n",
       "    </tr>\n",
       "    <tr>\n",
       "      <th>49</th>\n",
       "      <td>부산광역시</td>\n",
       "      <td>대양산업(주)대양가덕주유소</td>\n",
       "      <td>부산 강서구 거가대로 2571</td>\n",
       "      <td>GS칼텍스</td>\n",
       "      <td>051-715-2201</td>\n",
       "      <td>Y</td>\n",
       "      <td>-</td>\n",
       "      <td>1788</td>\n",
       "      <td>1638</td>\n",
       "      <td>1400</td>\n",
       "    </tr>\n",
       "    <tr>\n",
       "      <th>50</th>\n",
       "      <td>부산광역시</td>\n",
       "      <td>광신석유(주)직영 명지주유소</td>\n",
       "      <td>부산 강서구 르노삼성대로 372</td>\n",
       "      <td>SK에너지</td>\n",
       "      <td>051-271-4405</td>\n",
       "      <td>Y</td>\n",
       "      <td>1959</td>\n",
       "      <td>1899</td>\n",
       "      <td>1897</td>\n",
       "      <td>1799</td>\n",
       "    </tr>\n",
       "  </tbody>\n",
       "</table>\n",
       "<p>347 rows × 10 columns</p>\n",
       "</div>"
      ],
      "text/plain": [
       "       지역               상호                       주소        상표          전화번호  \\\n",
       "0   부산광역시  한길주유소 금사점 한솔유화㈜     부산 금정구 반송로 420 (금사동)  HD현대오일뱅크  051-524-6642   \n",
       "1   부산광역시         훼미리알뜰주유소             부산 금정구 두실로 2     알뜰주유소  051-582-5882   \n",
       "2   부산광역시       은마석유 노포주유소   부산 금정구 중앙대로 2191 (노포동)     GS칼텍스  051-508-1645   \n",
       "3   부산광역시          청룡명품주유소         부산 금정구 중앙대로 2130  HD현대오일뱅크  051-508-5150   \n",
       "4   부산광역시          금두꺼비주유소  부산광역시 금정구  부곡로 67 (부곡동)     알뜰주유소  051-583-6433   \n",
       "..    ...              ...                      ...       ...           ...   \n",
       "46  부산광역시         (주)서호주유소     부산 강서구 명지국제2로28번길 36     S-OIL  051-206-6661   \n",
       "47  부산광역시            만선주유소     부산 강서구 가락대로210번길 102  HD현대오일뱅크  051-831-9171   \n",
       "48  부산광역시  비케이원(주) 미래드림주유소          부산 강서구 가락대로 649  HD현대오일뱅크  051-974-0808   \n",
       "49  부산광역시   대양산업(주)대양가덕주유소         부산 강서구 거가대로 2571     GS칼텍스  051-715-2201   \n",
       "50  부산광역시  광신석유(주)직영 명지주유소        부산 강서구 르노삼성대로 372     SK에너지  051-271-4405   \n",
       "\n",
       "   셀프여부 고급휘발유   휘발유    경유  실내등유  \n",
       "0     Y  1897  1549  1409     -  \n",
       "1     Y     -  1575  1437     -  \n",
       "2     Y  1849  1575  1437  1350  \n",
       "3     Y     -  1575  1437     -  \n",
       "4     Y     -  1587  1457     -  \n",
       "..  ...   ...   ...   ...   ...  \n",
       "46    Y  1988  1678  1518     -  \n",
       "47    N     -  1698  1558     -  \n",
       "48    Y     -  1709  1559     -  \n",
       "49    Y     -  1788  1638  1400  \n",
       "50    Y  1959  1899  1897  1799  \n",
       "\n",
       "[347 rows x 10 columns]"
      ]
     },
     "execution_count": 15,
     "metadata": {},
     "output_type": "execute_result"
    }
   ],
   "source": [
    "hdfs = InsecureClient('http://namenode:9870',user=\"hadoop\")\n",
    "hdfs_path ='/user/hadoop/upload_oil/'\n",
    "\n",
    "file_list = hdfs.list(hdfs_path)\n",
    "datas = []\n",
    "for n in file_list:\n",
    "    # print(hdfs_path + n) \n",
    "    with hdfs.read(hdfs_path + n) as reader:\n",
    "        raw_data = reader.read() # 전체 내용을 바이트로 읽음\n",
    "        buffer = BytesIO(raw_data)\n",
    "        df = pd.read_excel(buffer, skiprows=2, engine=\"xlrd\")\n",
    "        datas.append(df)\n",
    "total = pd.concat(datas)\n",
    "total"
   ]
  },
  {
   "cell_type": "code",
   "execution_count": 16,
   "id": "22f5550c-e474-4f45-be00-8d8ad04b8e06",
   "metadata": {},
   "outputs": [
    {
     "name": "stdout",
     "output_type": "stream",
     "text": [
      "<class 'pandas.core.frame.DataFrame'>\n",
      "Index: 347 entries, 0 to 50\n",
      "Data columns (total 10 columns):\n",
      " #   Column  Non-Null Count  Dtype \n",
      "---  ------  --------------  ----- \n",
      " 0   지역      347 non-null    object\n",
      " 1   상호      347 non-null    object\n",
      " 2   주소      347 non-null    object\n",
      " 3   상표      347 non-null    object\n",
      " 4   전화번호    347 non-null    object\n",
      " 5   셀프여부    347 non-null    object\n",
      " 6   고급휘발유   347 non-null    object\n",
      " 7   휘발유     347 non-null    object\n",
      " 8   경유      347 non-null    object\n",
      " 9   실내등유    347 non-null    object\n",
      "dtypes: object(10)\n",
      "memory usage: 29.8+ KB\n"
     ]
    }
   ],
   "source": [
    "total.info()"
   ]
  },
  {
   "cell_type": "code",
   "execution_count": 17,
   "id": "e226a00f-5c60-4281-b105-ad7c2894e946",
   "metadata": {},
   "outputs": [
    {
     "data": {
      "text/html": [
       "<div>\n",
       "<style scoped>\n",
       "    .dataframe tbody tr th:only-of-type {\n",
       "        vertical-align: middle;\n",
       "    }\n",
       "\n",
       "    .dataframe tbody tr th {\n",
       "        vertical-align: top;\n",
       "    }\n",
       "\n",
       "    .dataframe thead th {\n",
       "        text-align: right;\n",
       "    }\n",
       "</style>\n",
       "<table border=\"1\" class=\"dataframe\">\n",
       "  <thead>\n",
       "    <tr style=\"text-align: right;\">\n",
       "      <th></th>\n",
       "      <th>상표</th>\n",
       "      <th>상호</th>\n",
       "      <th>주소</th>\n",
       "      <th>휘발유</th>\n",
       "      <th>셀프여부</th>\n",
       "    </tr>\n",
       "  </thead>\n",
       "  <tbody>\n",
       "    <tr>\n",
       "      <th>0</th>\n",
       "      <td>HD현대오일뱅크</td>\n",
       "      <td>한길주유소 금사점 한솔유화㈜</td>\n",
       "      <td>부산 금정구 반송로 420 (금사동)</td>\n",
       "      <td>1549</td>\n",
       "      <td>Y</td>\n",
       "    </tr>\n",
       "    <tr>\n",
       "      <th>1</th>\n",
       "      <td>알뜰주유소</td>\n",
       "      <td>훼미리알뜰주유소</td>\n",
       "      <td>부산 금정구 두실로 2</td>\n",
       "      <td>1575</td>\n",
       "      <td>Y</td>\n",
       "    </tr>\n",
       "    <tr>\n",
       "      <th>2</th>\n",
       "      <td>GS칼텍스</td>\n",
       "      <td>은마석유 노포주유소</td>\n",
       "      <td>부산 금정구 중앙대로 2191 (노포동)</td>\n",
       "      <td>1575</td>\n",
       "      <td>Y</td>\n",
       "    </tr>\n",
       "    <tr>\n",
       "      <th>3</th>\n",
       "      <td>HD현대오일뱅크</td>\n",
       "      <td>청룡명품주유소</td>\n",
       "      <td>부산 금정구 중앙대로 2130</td>\n",
       "      <td>1575</td>\n",
       "      <td>Y</td>\n",
       "    </tr>\n",
       "    <tr>\n",
       "      <th>4</th>\n",
       "      <td>알뜰주유소</td>\n",
       "      <td>금두꺼비주유소</td>\n",
       "      <td>부산광역시 금정구  부곡로 67 (부곡동)</td>\n",
       "      <td>1587</td>\n",
       "      <td>Y</td>\n",
       "    </tr>\n",
       "    <tr>\n",
       "      <th>...</th>\n",
       "      <td>...</td>\n",
       "      <td>...</td>\n",
       "      <td>...</td>\n",
       "      <td>...</td>\n",
       "      <td>...</td>\n",
       "    </tr>\n",
       "    <tr>\n",
       "      <th>46</th>\n",
       "      <td>S-OIL</td>\n",
       "      <td>(주)서호주유소</td>\n",
       "      <td>부산 강서구 명지국제2로28번길 36</td>\n",
       "      <td>1678</td>\n",
       "      <td>Y</td>\n",
       "    </tr>\n",
       "    <tr>\n",
       "      <th>47</th>\n",
       "      <td>HD현대오일뱅크</td>\n",
       "      <td>만선주유소</td>\n",
       "      <td>부산 강서구 가락대로210번길 102</td>\n",
       "      <td>1698</td>\n",
       "      <td>N</td>\n",
       "    </tr>\n",
       "    <tr>\n",
       "      <th>48</th>\n",
       "      <td>HD현대오일뱅크</td>\n",
       "      <td>비케이원(주) 미래드림주유소</td>\n",
       "      <td>부산 강서구 가락대로 649</td>\n",
       "      <td>1709</td>\n",
       "      <td>Y</td>\n",
       "    </tr>\n",
       "    <tr>\n",
       "      <th>49</th>\n",
       "      <td>GS칼텍스</td>\n",
       "      <td>대양산업(주)대양가덕주유소</td>\n",
       "      <td>부산 강서구 거가대로 2571</td>\n",
       "      <td>1788</td>\n",
       "      <td>Y</td>\n",
       "    </tr>\n",
       "    <tr>\n",
       "      <th>50</th>\n",
       "      <td>SK에너지</td>\n",
       "      <td>광신석유(주)직영 명지주유소</td>\n",
       "      <td>부산 강서구 르노삼성대로 372</td>\n",
       "      <td>1899</td>\n",
       "      <td>Y</td>\n",
       "    </tr>\n",
       "  </tbody>\n",
       "</table>\n",
       "<p>347 rows × 5 columns</p>\n",
       "</div>"
      ],
      "text/plain": [
       "          상표               상호                       주소   휘발유 셀프여부\n",
       "0   HD현대오일뱅크  한길주유소 금사점 한솔유화㈜     부산 금정구 반송로 420 (금사동)  1549    Y\n",
       "1      알뜰주유소         훼미리알뜰주유소             부산 금정구 두실로 2  1575    Y\n",
       "2      GS칼텍스       은마석유 노포주유소   부산 금정구 중앙대로 2191 (노포동)  1575    Y\n",
       "3   HD현대오일뱅크          청룡명품주유소         부산 금정구 중앙대로 2130  1575    Y\n",
       "4      알뜰주유소          금두꺼비주유소  부산광역시 금정구  부곡로 67 (부곡동)  1587    Y\n",
       "..       ...              ...                      ...   ...  ...\n",
       "46     S-OIL         (주)서호주유소     부산 강서구 명지국제2로28번길 36  1678    Y\n",
       "47  HD현대오일뱅크            만선주유소     부산 강서구 가락대로210번길 102  1698    N\n",
       "48  HD현대오일뱅크  비케이원(주) 미래드림주유소          부산 강서구 가락대로 649  1709    Y\n",
       "49     GS칼텍스   대양산업(주)대양가덕주유소         부산 강서구 거가대로 2571  1788    Y\n",
       "50     SK에너지  광신석유(주)직영 명지주유소        부산 강서구 르노삼성대로 372  1899    Y\n",
       "\n",
       "[347 rows x 5 columns]"
      ]
     },
     "execution_count": 17,
     "metadata": {},
     "output_type": "execute_result"
    }
   ],
   "source": [
    "total = total[['상표','상호','주소','휘발유','셀프여부']]\n",
    "total"
   ]
  },
  {
   "cell_type": "code",
   "execution_count": 19,
   "id": "e843fbc4-97b8-465c-8346-0fa41900033c",
   "metadata": {},
   "outputs": [
    {
     "data": {
      "text/html": [
       "<div>\n",
       "<style scoped>\n",
       "    .dataframe tbody tr th:only-of-type {\n",
       "        vertical-align: middle;\n",
       "    }\n",
       "\n",
       "    .dataframe tbody tr th {\n",
       "        vertical-align: top;\n",
       "    }\n",
       "\n",
       "    .dataframe thead th {\n",
       "        text-align: right;\n",
       "    }\n",
       "</style>\n",
       "<table border=\"1\" class=\"dataframe\">\n",
       "  <thead>\n",
       "    <tr style=\"text-align: right;\">\n",
       "      <th></th>\n",
       "      <th>상표</th>\n",
       "      <th>상호</th>\n",
       "      <th>주소</th>\n",
       "      <th>휘발유</th>\n",
       "      <th>셀프여부</th>\n",
       "      <th>구</th>\n",
       "    </tr>\n",
       "  </thead>\n",
       "  <tbody>\n",
       "    <tr>\n",
       "      <th>11</th>\n",
       "      <td>알뜰주유소</td>\n",
       "      <td>선암주유소</td>\n",
       "      <td>부산 기장군 장안읍 기장대로 1453</td>\n",
       "      <td>1565</td>\n",
       "      <td>Y</td>\n",
       "      <td>기장군</td>\n",
       "    </tr>\n",
       "    <tr>\n",
       "      <th>0</th>\n",
       "      <td>HD현대오일뱅크</td>\n",
       "      <td>한길주유소 금사점 한솔유화㈜</td>\n",
       "      <td>부산 금정구 반송로 420 (금사동)</td>\n",
       "      <td>1549</td>\n",
       "      <td>Y</td>\n",
       "      <td>금정구</td>\n",
       "    </tr>\n",
       "    <tr>\n",
       "      <th>31</th>\n",
       "      <td>SK에너지</td>\n",
       "      <td>성경주유소</td>\n",
       "      <td>부산 사상구 모덕로 69 (모라동)</td>\n",
       "      <td>1638</td>\n",
       "      <td>N</td>\n",
       "      <td>사상구</td>\n",
       "    </tr>\n",
       "    <tr>\n",
       "      <th>20</th>\n",
       "      <td>HD현대오일뱅크</td>\n",
       "      <td>은마석유(주)신호주유소</td>\n",
       "      <td>부산 강서구  낙동남로 514</td>\n",
       "      <td>1569</td>\n",
       "      <td>Y</td>\n",
       "      <td>강서구</td>\n",
       "    </tr>\n",
       "    <tr>\n",
       "      <th>21</th>\n",
       "      <td>알뜰주유소</td>\n",
       "      <td>삼화주유소</td>\n",
       "      <td>부산 남구 우암로 92 (감만동)</td>\n",
       "      <td>1615</td>\n",
       "      <td>N</td>\n",
       "      <td>남구</td>\n",
       "    </tr>\n",
       "    <tr>\n",
       "      <th>36</th>\n",
       "      <td>SK에너지</td>\n",
       "      <td>KH에너지㈜직영 장안주유소(부산방향)</td>\n",
       "      <td>부산 기장군 장안읍 동해고속도로 25</td>\n",
       "      <td>1628</td>\n",
       "      <td>Y</td>\n",
       "      <td>기장군</td>\n",
       "    </tr>\n",
       "    <tr>\n",
       "      <th>3</th>\n",
       "      <td>알뜰주유소</td>\n",
       "      <td>우리주유소 (주)시블링스</td>\n",
       "      <td>부산 사상구 백양대로 701 (덕포동)</td>\n",
       "      <td>1559</td>\n",
       "      <td>Y</td>\n",
       "      <td>사상구</td>\n",
       "    </tr>\n",
       "  </tbody>\n",
       "</table>\n",
       "</div>"
      ],
      "text/plain": [
       "          상표                    상호                     주소   휘발유 셀프여부    구\n",
       "11     알뜰주유소                 선암주유소   부산 기장군 장안읍 기장대로 1453  1565    Y  기장군\n",
       "0   HD현대오일뱅크       한길주유소 금사점 한솔유화㈜   부산 금정구 반송로 420 (금사동)  1549    Y  금정구\n",
       "31     SK에너지                 성경주유소    부산 사상구 모덕로 69 (모라동)  1638    N  사상구\n",
       "20  HD현대오일뱅크          은마석유(주)신호주유소       부산 강서구  낙동남로 514  1569    Y  강서구\n",
       "21     알뜰주유소                 삼화주유소     부산 남구 우암로 92 (감만동)  1615    N   남구\n",
       "36     SK에너지  KH에너지㈜직영 장안주유소(부산방향)   부산 기장군 장안읍 동해고속도로 25  1628    Y  기장군\n",
       "3      알뜰주유소         우리주유소 (주)시블링스  부산 사상구 백양대로 701 (덕포동)  1559    Y  사상구"
      ]
     },
     "execution_count": 19,
     "metadata": {},
     "output_type": "execute_result"
    }
   ],
   "source": [
    "total2 = total.copy()\n",
    "total2['구'] = [addr.split()[1] for addr in total2['주소']]\n",
    "total2.sample(7)"
   ]
  },
  {
   "cell_type": "code",
   "execution_count": 30,
   "id": "e4e39db4-e7d4-4be4-b826-b9e371de6314",
   "metadata": {},
   "outputs": [
    {
     "name": "stdout",
     "output_type": "stream",
     "text": [
      "['금정구' '서구' '수영구' '연제구' '영도구' '중구' '해운대구' '기장군' '남구' '동구' '동래구' '부산진구'\n",
      " '북구' '사상구' '사하구' '강서구'] 16\n"
     ]
    }
   ],
   "source": [
    "validation =  total2['구'].unique()\n",
    "print(validation,len(validation))"
   ]
  },
  {
   "cell_type": "code",
   "execution_count": 38,
   "id": "a6718f7e-f82b-43e3-a598-90f9dc964c49",
   "metadata": {},
   "outputs": [],
   "source": [
    "# 결측값 제거\n",
    "# total2[total2['휘발유'].isna()]\n",
    "total2 = total2[total2['휘발유'] != '-']\n",
    "total3 = total2.copy()\n",
    "# total2[total2['휘발유'] == '-']"
   ]
  },
  {
   "cell_type": "code",
   "execution_count": 40,
   "id": "5c81d2b9-2ca8-4edc-b582-755e5c9452df",
   "metadata": {},
   "outputs": [
    {
     "name": "stdout",
     "output_type": "stream",
     "text": [
      "<class 'pandas.core.frame.DataFrame'>\n",
      "Index: 343 entries, 0 to 50\n",
      "Data columns (total 6 columns):\n",
      " #   Column  Non-Null Count  Dtype \n",
      "---  ------  --------------  ----- \n",
      " 0   상표      343 non-null    object\n",
      " 1   상호      343 non-null    object\n",
      " 2   주소      343 non-null    object\n",
      " 3   휘발유     343 non-null    object\n",
      " 4   셀프여부    343 non-null    object\n",
      " 5   구       343 non-null    object\n",
      "dtypes: object(6)\n",
      "memory usage: 18.8+ KB\n",
      "<class 'pandas.core.frame.DataFrame'>\n",
      "Index: 343 entries, 0 to 50\n",
      "Data columns (total 6 columns):\n",
      " #   Column  Non-Null Count  Dtype \n",
      "---  ------  --------------  ----- \n",
      " 0   상표      343 non-null    object\n",
      " 1   상호      343 non-null    object\n",
      " 2   주소      343 non-null    object\n",
      " 3   휘발유     343 non-null    int64 \n",
      " 4   셀프여부    343 non-null    object\n",
      " 5   구       343 non-null    object\n",
      "dtypes: int64(1), object(5)\n",
      "memory usage: 18.8+ KB\n"
     ]
    }
   ],
   "source": [
    "total2.info()\n",
    "total3['휘발유'] = pd.to_numeric(total3['휘발유'], errors='coerce')\n",
    "total3.info()"
   ]
  },
  {
   "cell_type": "code",
   "execution_count": 42,
   "id": "2da82949-c966-4c5b-842b-1cad1585111f",
   "metadata": {},
   "outputs": [],
   "source": [
    "import matplotlib.pyplot as plt\n",
    "from matplotlib import rc\n",
    "import seaborn as sns"
   ]
  },
  {
   "cell_type": "code",
   "execution_count": 47,
   "id": "3f1356dd-f266-427a-93ff-f53a862c7f45",
   "metadata": {},
   "outputs": [
    {
     "data": {
      "text/plain": [
       "Text(0.2, 0.4, '한글')"
      ]
     },
     "execution_count": 47,
     "metadata": {},
     "output_type": "execute_result"
    },
    {
     "data": {
      "image/png": "[encoded data removed]",
      "text/plain": [
       "<Figure size 640x480 with 1 Axes>"
      ]
     },
     "metadata": {},
     "output_type": "display_data"
    }
   ],
   "source": [
    "# 윈도우에서 폰트조회\n",
    "# import matplotlib.font_manager as fm\n",
    "# fontlist = fm.findSystemFonts(fontpaths=None, fontext='ttf')\n",
    "# fontlist\n",
    "path = \"C:\\\\Windows\\\\Fonts\\\\NanumGothic.ttf\"\n",
    "font_name = fm.FontProperties(fname=path).get_name()\n",
    "rc('font',family=font_name)\n",
    "plt.text(0.2,0.4,'한글',size=100)"
   ]
  },
  {
   "cell_type": "code",
   "execution_count": 51,
   "id": "c6ec25ea-baa2-41f0-af20-098fdd578b6f",
   "metadata": {},
   "outputs": [
    {
     "data": {
      "image/png": "[encoded data removed]",
      "text/plain": [
       "<Figure size 1200x800 with 1 Axes>"
      ]
     },
     "metadata": {},
     "output_type": "display_data"
    }
   ],
   "source": [
    "total3.boxplot(column=\"휘발유\", by=\"셀프여부\", figsize=(12,8))\n",
    "plt.title(\"셀프주요소의 가격비교\")\n",
    "plt.show()"
   ]
  },
  {
   "cell_type": "code",
   "execution_count": 57,
   "id": "d57866a6-a2e5-43d4-851c-bcd1b0762b72",
   "metadata": {},
   "outputs": [
    {
     "data": {
      "image/png": "[encoded data removed]",
      "text/plain": [
       "<Figure size 1200x800 with 1 Axes>"
      ]
     },
     "metadata": {},
     "output_type": "display_data"
    }
   ],
   "source": [
    "plt.figure(figsize=(12,8))\n",
    "sns.boxplot(x=\"상표\", y=\"휘발유\", hue=\"셀프여부\", data= total3, palette=\"Set3\")\n",
    "plt.show()"
   ]
  },
  {
   "cell_type": "code",
   "execution_count": 59,
   "id": "e3a3b5c7-e96a-4ffd-9b9d-6966afca0188",
   "metadata": {},
   "outputs": [
    {
     "data": {
      "image/png": "[encoded data removed]",
      "text/plain": [
       "<Figure size 1200x800 with 1 Axes>"
      ]
     },
     "metadata": {},
     "output_type": "display_data"
    }
   ],
   "source": [
    "plt.figure(figsize=(12,8))\n",
    "sns.boxplot(x=\"상표\", y=\"휘발유\", hue=\"셀프여부\", data= total3, palette=\"Set3\")\n",
    "sns.swarmplot(x=\"상표\", y=\"휘발유\", data= total3, color=\".6\")\n",
    "plt.title(\"상표별 휘발유 가격 분포\")\n",
    "plt.tight_layout()\n",
    "plt.show()"
   ]
  },
  {
   "cell_type": "code",
   "execution_count": null,
   "id": "a8ffff08-0a65-424f-a3f4-c48600d889b0",
   "metadata": {},
   "outputs": [],
   "source": []
  }
 ],
 "metadata": {
  "kernelspec": {
   "display_name": "Python 3 (ipykernel)",
   "language": "python",
   "name": "python3"
  },
  "language_info": {
   "codemirror_mode": {
    "name": "ipython",
    "version": 3
   },
   "file_extension": ".py",
   "mimetype": "text/x-python",
   "name": "python",
   "nbconvert_exporter": "python",
   "pygments_lexer": "ipython3",
   "version": "3.10.12"
  }
 },
 "nbformat": 4,
 "nbformat_minor": 5
}
