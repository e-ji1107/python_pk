{
 "cells": [
  {
   "cell_type": "code",
   "execution_count": 3,
   "id": "747159c9-43e7-4eb0-8e64-81a6384bb1bd",
   "metadata": {},
   "outputs": [
    {
     "ename": "DatabaseError",
     "evalue": "ORA-00942: table or view does not exist",
     "output_type": "error",
     "traceback": [
      "\u001b[1;31m---------------------------------------------------------------------------\u001b[0m",
      "\u001b[1;31mDatabaseError\u001b[0m                             Traceback (most recent call last)",
      "Cell \u001b[1;32mIn[3], line 18\u001b[0m\n\u001b[0;32m     16\u001b[0m \u001b[38;5;66;03m# 읽어오기\u001b[39;00m\n\u001b[0;32m     17\u001b[0m query \u001b[38;5;241m=\u001b[39m \u001b[38;5;124m'\u001b[39m\u001b[38;5;124mSELECT * FROM MENU\u001b[39m\u001b[38;5;124m'\u001b[39m \n\u001b[1;32m---> 18\u001b[0m \u001b[43mcursor\u001b[49m\u001b[38;5;241;43m.\u001b[39;49m\u001b[43mexecute\u001b[49m\u001b[43m(\u001b[49m\u001b[43mquery\u001b[49m\u001b[43m)\u001b[49m\n\u001b[0;32m     20\u001b[0m \u001b[38;5;66;03m# 불러온 데이터 처리\u001b[39;00m\n\u001b[0;32m     21\u001b[0m \u001b[38;5;28;01mfor\u001b[39;00m i, (menu_id,menu_name, exp, menu_price, category, image) \u001b[38;5;129;01min\u001b[39;00m \u001b[38;5;28menumerate\u001b[39m(cursor, start\u001b[38;5;241m=\u001b[39m\u001b[38;5;241m1\u001b[39m):\n",
      "\u001b[1;31mDatabaseError\u001b[0m: ORA-00942: table or view does not exist"
     ]
    }
   ],
   "source": [
    "# pip install cx_Oracle (모듈 설치함)\n",
    "import cx_Oracle as oci\n",
    "\n",
    "# DB연결 설정변수 선언\n",
    "sid = 'XE'\n",
    "host = '210.119.14.7' \n",
    "\n",
    "port = 1521\n",
    "username = 'kiosk' \n",
    "password = '12345'\n",
    "\n",
    "# DB 연결 시작\n",
    "conn = oci.connect(f'{username}/{password}@{host}:{port}/{sid}')\n",
    "cursor = conn.cursor() \n",
    "\n",
    "# 읽어오기\n",
    "query = 'SELECT * FROM MENU' \n",
    "cursor.execute(query)\n",
    "\n",
    "# 불러온 데이터 처리\n",
    "for i, (menu_id,menu_name, exp, menu_price, category, image) in enumerate(cursor, start=1):\n",
    "    print(menu_id,menu_name, exp, menu_price, category, image)\n",
    "   \n",
    "cursor.close()\n",
    "conn.close()\n"
   ]
  }
 ],
 "metadata": {
  "kernelspec": {
   "display_name": "Python 3 (ipykernel)",
   "language": "python",
   "name": "python3"
  },
  "language_info": {
   "codemirror_mode": {
    "name": "ipython",
    "version": 3
   },
   "file_extension": ".py",
   "mimetype": "text/x-python",
   "name": "python",
   "nbconvert_exporter": "python",
   "pygments_lexer": "ipython3",
   "version": "3.13.1"
  }
 },
 "nbformat": 4,
 "nbformat_minor": 5
}
