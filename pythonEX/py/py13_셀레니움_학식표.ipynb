{
 "cells": [
  {
   "cell_type": "code",
   "execution_count": 1,
   "id": "336ba3b3-ca3d-45c3-9479-6506eb4ccc44",
   "metadata": {},
   "outputs": [],
   "source": [
    "from selenium import webdriver # 버튼 클릭 관련 기능 셀레니움이 크롬 드라이버를 운전해서 크롬을 움직일것임\n",
    "from selenium.webdriver.common.action_chains import ActionChains\n",
    "from selenium.webdriver.chrome.service import Service\n",
    "from selenium.webdriver.chrome.options import Options\n",
    "from selenium.webdriver.common.keys import Keys\n",
    "from selenium.webdriver.common.by import By\n",
    "from bs4 import BeautifulSoup as bs\n",
    "from datetime import datetime\n",
    "import pandas as pd\n",
    "import time"
   ]
  },
  {
   "cell_type": "code",
   "execution_count": 5,
   "id": "f93aa56d-b853-47c1-90cd-6f358678908a",
   "metadata": {},
   "outputs": [
    {
     "name": "stdout",
     "output_type": "stream",
     "text": [
      "국립 부경대학교 Pukyong National University : 112\n"
     ]
    }
   ],
   "source": [
    "# Chrome 옵션 설정\n",
    "options = Options()\n",
    "options.binary_location = \"..\\\\..\\\\chrome-win64\\\\chrome.exe\"  # chrome 경로 설정\n",
    "options.add_argument(\"--no--sandbox\") # sandbox 설정\n",
    "options.add_argument(\"--disable-dev-shm-usage\")  # 공유메모리 설정\n",
    "options.add_argument(\"--window-size=1920,1080\") # (화면크기)해상도 설정, 반응형 웹 대비\n",
    "# options.add_argument(\"--disable-gpu\") # GPU 비활성화 \n",
    "\n",
    "# ChromeDriver 설정\n",
    "service = Service(\"..\\\\..\\\\chromedriver.exe\")\n",
    "driver = webdriver.Chrome(service=service, options=options)\n",
    "driver.get(\"https://www.pknu.ac.kr/main\") # 한미락\n",
    "print(driver.title)\n",
    "\n",
    "# 요소찾기\n",
    "# 메뉴표에 마우스 올리기\n",
    "hover_element = driver.find_element(By.CSS_SELECTOR, \"#gnbLft > ul > li:nth-child(4) > h4 > a\")\n",
    "# 최신글에 마우스 올리기\n",
    "menu_option = driver.find_element(By.CSS_SELECTOR, \"#gnbLft > ul > li:nth-child(4) > ul > li:nth-child(5) > ul > li:nth-child(8) > a\")\n",
    "\n",
    "# 마우스 호버 액션 (마우스 올렸을 때)\n",
    "actions = ActionChains(driver)\n",
    "actions.move_to_element(hover_element).perform()\n",
    "\n",
    "# 약간의 시간을 기다린 후 클릭\n",
    "hover_element.click()\n",
    "time.sleep(1)\n",
    "menu_option.click()\n",
    "time.sleep(3)\n",
    "\n",
    "html = driver.page_source\n",
    "# print(html)\n",
    "driver.quit() # 브라우저 종료"
   ]
  },
  {
   "cell_type": "code",
   "execution_count": null,
   "id": "3ce8b942-7703-4f99-8b51-759c03b4edab",
   "metadata": {},
   "outputs": [],
   "source": [
    "# 현재 페이지 정보 가져오기\n",
    "star_list=[]\n",
    "soup = bs(html, 'html.parser')\n",
    "# 본문내용 가져오기\n",
    "contents = soup.select(\"#subCont > div > div.bdvTxt_wrap > div > div > div:nth-child(18) > table\")\n",
    "\n",
    "\n",
    "test = contents[0]\n",
    "print(test.select_one('p.result_details').text, test.select_one('i.pin_generalDT').text)\n",
    "print(test['data-name'],'/' ,test['data-lat'], '/' ,test['data-long'])\n",
    "\n",
    "\n",
    "\n",
    "for c in contents:\n",
    "    result = [c['data-name'], c['data-lat'],c['data-long'], c.select_one('p.result_details').text, c.select_one('i')['class'][0]]\n",
    "    star_list.append(result)\n",
    "print(star_list)\n",
    "\n"
   ]
  }
 ],
 "metadata": {
  "kernelspec": {
   "display_name": "Python 3 (ipykernel)",
   "language": "python",
   "name": "python3"
  },
  "language_info": {
   "codemirror_mode": {
    "name": "ipython",
    "version": 3
   },
   "file_extension": ".py",
   "mimetype": "text/x-python",
   "name": "python",
   "nbconvert_exporter": "python",
   "pygments_lexer": "ipython3",
   "version": "3.13.1"
  }
 },
 "nbformat": 4,
 "nbformat_minor": 5
}
