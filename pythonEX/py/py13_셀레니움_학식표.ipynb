{
 "cells": [
  {
   "cell_type": "code",
   "execution_count": 1,
   "id": "336ba3b3-ca3d-45c3-9479-6506eb4ccc44",
   "metadata": {},
   "outputs": [],
   "source": [
    "from selenium import webdriver # 버튼 클릭 관련 기능 셀레니움이 크롬 드라이버를 운전해서 크롬을 움직일것임\n",
    "from selenium.webdriver.common.action_chains import ActionChains\n",
    "from selenium.webdriver.chrome.service import Service\n",
    "from selenium.webdriver.chrome.options import Options\n",
    "from selenium.webdriver.common.keys import Keys\n",
    "from selenium.webdriver.common.by import By\n",
    "from bs4 import BeautifulSoup as bs\n",
    "from datetime import datetime\n",
    "import pandas as pd\n",
    "import time"
   ]
  },
  {
   "cell_type": "code",
   "execution_count": 10,
   "id": "f93aa56d-b853-47c1-90cd-6f358678908a",
   "metadata": {},
   "outputs": [
    {
     "name": "stdout",
     "output_type": "stream",
     "text": [
      "국립 부경대학교 Pukyong National University : 112\n"
     ]
    },
    {
     "ename": "NoSuchElementException",
     "evalue": "Message: no such element: Unable to locate element: {\"method\":\"css selector\",\"selector\":\"#subCont > table > tbody > tr:nth-child(1) > td.bdlTitle > a\"}\n  (Session info: chrome=137.0.7106.2); For documentation on this error, please visit: https://www.selenium.dev/documentation/webdriver/troubleshooting/errors#no-such-element-exception\nStacktrace:\n\tGetHandleVerifier [0x00007FF76AE1C6E5+2798453]\n\tGetHandleVerifier [0x00007FF76AB83ED0+76640]\n\t(No symbol) [0x00007FF76A948F7A]\n\t(No symbol) [0x00007FF76A99F426]\n\t(No symbol) [0x00007FF76A99F6DC]\n\t(No symbol) [0x00007FF76A9F2507]\n\t(No symbol) [0x00007FF76A9C760F]\n\t(No symbol) [0x00007FF76A9EF304]\n\t(No symbol) [0x00007FF76A9C73A3]\n\t(No symbol) [0x00007FF76A9903E1]\n\t(No symbol) [0x00007FF76A991173]\n\tGetHandleVerifier [0x00007FF76AE46A1D+2971309]\n\tGetHandleVerifier [0x00007FF76AE40FF2+2948226]\n\tGetHandleVerifier [0x00007FF76AE5ED23+3070387]\n\tGetHandleVerifier [0x00007FF76AB9E92A+185786]\n\tGetHandleVerifier [0x00007FF76ABA5E8F+215839]\n\tGetHandleVerifier [0x00007FF76AB8BEF4+109444]\n\tGetHandleVerifier [0x00007FF76AB8C0A2+109874]\n\tGetHandleVerifier [0x00007FF76AB728C9+5465]\n\tBaseThreadInitThunk [0x00007FF8B51EE8D7+23]\n\tRtlUserThreadStart [0x00007FF8B667BF6C+44]\n",
     "output_type": "error",
     "traceback": [
      "\u001b[1;31m---------------------------------------------------------------------------\u001b[0m",
      "\u001b[1;31mNoSuchElementException\u001b[0m                    Traceback (most recent call last)",
      "Cell \u001b[1;32mIn[10], line 21\u001b[0m\n\u001b[0;32m     19\u001b[0m hover_element2 \u001b[38;5;241m=\u001b[39m driver\u001b[38;5;241m.\u001b[39mfind_element(By\u001b[38;5;241m.\u001b[39mCSS_SELECTOR, \u001b[38;5;124m\"\u001b[39m\u001b[38;5;124m#gnbLft > ul > li:nth-child(4) > ul > li:nth-child(5) > ul > li:nth-child(8) > a\u001b[39m\u001b[38;5;124m\"\u001b[39m)\n\u001b[0;32m     20\u001b[0m \u001b[38;5;66;03m# <최신글>에 마우스 올리기\u001b[39;00m\n\u001b[1;32m---> 21\u001b[0m hover_element3 \u001b[38;5;241m=\u001b[39m \u001b[43mdriver\u001b[49m\u001b[38;5;241;43m.\u001b[39;49m\u001b[43mfind_element\u001b[49m\u001b[43m(\u001b[49m\u001b[43mBy\u001b[49m\u001b[38;5;241;43m.\u001b[39;49m\u001b[43mCSS_SELECTOR\u001b[49m\u001b[43m,\u001b[49m\u001b[43m \u001b[49m\u001b[38;5;124;43m\"\u001b[39;49m\u001b[38;5;124;43m#subCont > table > tbody > tr:nth-child(1) > td.bdlTitle > a\u001b[39;49m\u001b[38;5;124;43m\"\u001b[39;49m\u001b[43m)\u001b[49m\n\u001b[0;32m     23\u001b[0m \u001b[38;5;66;03m# 마우스 호버 액션 (마우스 올렸을 때)\u001b[39;00m\n\u001b[0;32m     24\u001b[0m actions \u001b[38;5;241m=\u001b[39m ActionChains(driver)\n",
      "File \u001b[1;32m~\\AppData\\Local\\Programs\\Python\\Python313\\Lib\\site-packages\\selenium\\webdriver\\remote\\webdriver.py:898\u001b[0m, in \u001b[0;36mWebDriver.find_element\u001b[1;34m(self, by, value)\u001b[0m\n\u001b[0;32m    895\u001b[0m         \u001b[38;5;28;01mraise\u001b[39;00m NoSuchElementException(\u001b[38;5;124mf\u001b[39m\u001b[38;5;124m\"\u001b[39m\u001b[38;5;124mCannot locate relative element with: \u001b[39m\u001b[38;5;132;01m{\u001b[39;00mby\u001b[38;5;241m.\u001b[39mroot\u001b[38;5;132;01m}\u001b[39;00m\u001b[38;5;124m\"\u001b[39m)\n\u001b[0;32m    896\u001b[0m     \u001b[38;5;28;01mreturn\u001b[39;00m elements[\u001b[38;5;241m0\u001b[39m]\n\u001b[1;32m--> 898\u001b[0m \u001b[38;5;28;01mreturn\u001b[39;00m \u001b[38;5;28;43mself\u001b[39;49m\u001b[38;5;241;43m.\u001b[39;49m\u001b[43mexecute\u001b[49m\u001b[43m(\u001b[49m\u001b[43mCommand\u001b[49m\u001b[38;5;241;43m.\u001b[39;49m\u001b[43mFIND_ELEMENT\u001b[49m\u001b[43m,\u001b[49m\u001b[43m \u001b[49m\u001b[43m{\u001b[49m\u001b[38;5;124;43m\"\u001b[39;49m\u001b[38;5;124;43musing\u001b[39;49m\u001b[38;5;124;43m\"\u001b[39;49m\u001b[43m:\u001b[49m\u001b[43m \u001b[49m\u001b[43mby\u001b[49m\u001b[43m,\u001b[49m\u001b[43m \u001b[49m\u001b[38;5;124;43m\"\u001b[39;49m\u001b[38;5;124;43mvalue\u001b[39;49m\u001b[38;5;124;43m\"\u001b[39;49m\u001b[43m:\u001b[49m\u001b[43m \u001b[49m\u001b[43mvalue\u001b[49m\u001b[43m}\u001b[49m\u001b[43m)\u001b[49m[\u001b[38;5;124m\"\u001b[39m\u001b[38;5;124mvalue\u001b[39m\u001b[38;5;124m\"\u001b[39m]\n",
      "File \u001b[1;32m~\\AppData\\Local\\Programs\\Python\\Python313\\Lib\\site-packages\\selenium\\webdriver\\remote\\webdriver.py:429\u001b[0m, in \u001b[0;36mWebDriver.execute\u001b[1;34m(self, driver_command, params)\u001b[0m\n\u001b[0;32m    427\u001b[0m response \u001b[38;5;241m=\u001b[39m \u001b[38;5;28mself\u001b[39m\u001b[38;5;241m.\u001b[39mcommand_executor\u001b[38;5;241m.\u001b[39mexecute(driver_command, params)\n\u001b[0;32m    428\u001b[0m \u001b[38;5;28;01mif\u001b[39;00m response:\n\u001b[1;32m--> 429\u001b[0m     \u001b[38;5;28;43mself\u001b[39;49m\u001b[38;5;241;43m.\u001b[39;49m\u001b[43merror_handler\u001b[49m\u001b[38;5;241;43m.\u001b[39;49m\u001b[43mcheck_response\u001b[49m\u001b[43m(\u001b[49m\u001b[43mresponse\u001b[49m\u001b[43m)\u001b[49m\n\u001b[0;32m    430\u001b[0m     response[\u001b[38;5;124m\"\u001b[39m\u001b[38;5;124mvalue\u001b[39m\u001b[38;5;124m\"\u001b[39m] \u001b[38;5;241m=\u001b[39m \u001b[38;5;28mself\u001b[39m\u001b[38;5;241m.\u001b[39m_unwrap_value(response\u001b[38;5;241m.\u001b[39mget(\u001b[38;5;124m\"\u001b[39m\u001b[38;5;124mvalue\u001b[39m\u001b[38;5;124m\"\u001b[39m, \u001b[38;5;28;01mNone\u001b[39;00m))\n\u001b[0;32m    431\u001b[0m     \u001b[38;5;28;01mreturn\u001b[39;00m response\n",
      "File \u001b[1;32m~\\AppData\\Local\\Programs\\Python\\Python313\\Lib\\site-packages\\selenium\\webdriver\\remote\\errorhandler.py:232\u001b[0m, in \u001b[0;36mErrorHandler.check_response\u001b[1;34m(self, response)\u001b[0m\n\u001b[0;32m    230\u001b[0m         alert_text \u001b[38;5;241m=\u001b[39m value[\u001b[38;5;124m\"\u001b[39m\u001b[38;5;124malert\u001b[39m\u001b[38;5;124m\"\u001b[39m]\u001b[38;5;241m.\u001b[39mget(\u001b[38;5;124m\"\u001b[39m\u001b[38;5;124mtext\u001b[39m\u001b[38;5;124m\"\u001b[39m)\n\u001b[0;32m    231\u001b[0m     \u001b[38;5;28;01mraise\u001b[39;00m exception_class(message, screen, stacktrace, alert_text)  \u001b[38;5;66;03m# type: ignore[call-arg]  # mypy is not smart enough here\u001b[39;00m\n\u001b[1;32m--> 232\u001b[0m \u001b[38;5;28;01mraise\u001b[39;00m exception_class(message, screen, stacktrace)\n",
      "\u001b[1;31mNoSuchElementException\u001b[0m: Message: no such element: Unable to locate element: {\"method\":\"css selector\",\"selector\":\"#subCont > table > tbody > tr:nth-child(1) > td.bdlTitle > a\"}\n  (Session info: chrome=137.0.7106.2); For documentation on this error, please visit: https://www.selenium.dev/documentation/webdriver/troubleshooting/errors#no-such-element-exception\nStacktrace:\n\tGetHandleVerifier [0x00007FF76AE1C6E5+2798453]\n\tGetHandleVerifier [0x00007FF76AB83ED0+76640]\n\t(No symbol) [0x00007FF76A948F7A]\n\t(No symbol) [0x00007FF76A99F426]\n\t(No symbol) [0x00007FF76A99F6DC]\n\t(No symbol) [0x00007FF76A9F2507]\n\t(No symbol) [0x00007FF76A9C760F]\n\t(No symbol) [0x00007FF76A9EF304]\n\t(No symbol) [0x00007FF76A9C73A3]\n\t(No symbol) [0x00007FF76A9903E1]\n\t(No symbol) [0x00007FF76A991173]\n\tGetHandleVerifier [0x00007FF76AE46A1D+2971309]\n\tGetHandleVerifier [0x00007FF76AE40FF2+2948226]\n\tGetHandleVerifier [0x00007FF76AE5ED23+3070387]\n\tGetHandleVerifier [0x00007FF76AB9E92A+185786]\n\tGetHandleVerifier [0x00007FF76ABA5E8F+215839]\n\tGetHandleVerifier [0x00007FF76AB8BEF4+109444]\n\tGetHandleVerifier [0x00007FF76AB8C0A2+109874]\n\tGetHandleVerifier [0x00007FF76AB728C9+5465]\n\tBaseThreadInitThunk [0x00007FF8B51EE8D7+23]\n\tRtlUserThreadStart [0x00007FF8B667BF6C+44]\n"
     ]
    }
   ],
   "source": [
    "# Chrome 옵션 설정\n",
    "options = Options()\n",
    "options.binary_location = \"..\\\\..\\\\chrome-win64\\\\chrome.exe\"  # chrome 경로 설정\n",
    "options.add_argument(\"--no--sandbox\") # sandbox 설정\n",
    "options.add_argument(\"--disable-dev-shm-usage\")  # 공유메모리 설정\n",
    "options.add_argument(\"--window-size=1920,1080\") # (화면크기)해상도 설정, 반응형 웹 대비\n",
    "# options.add_argument(\"--disable-gpu\") # GPU 비활성화 \n",
    "\n",
    "# ChromeDriver 설정\n",
    "service = Service(\"..\\\\..\\\\chromedriver.exe\")\n",
    "driver = webdriver.Chrome(service=service, options=options)\n",
    "driver.get(\"https://www.pknu.ac.kr/main\") # 한미락\n",
    "print(driver.title)\n",
    "\n",
    "# 요소찾기\n",
    "# <대학생활>에 마우스 올리기\n",
    "hover_element1 = driver.find_element(By.CSS_SELECTOR, \"#gnbLft > ul > li:nth-child(4) > h4 > a\")\n",
    "# <교내식당주간식단표>에 마우스 올리기\n",
    "hover_element2 = driver.find_element(By.CSS_SELECTOR, \"#gnbLft > ul > li:nth-child(4) > ul > li:nth-child(5) > ul > li:nth-child(8) > a\")\n",
    "# <최신글>에 마우스 올리기\n",
    "hover_element3 = driver.find_element(By.CSS_SELECTOR, \"#subCont > table > tbody > tr:nth-child(1) > td.bdlTitle > a\")\n",
    "\n",
    "# 마우스 호버 액션 (마우스 올렸을 때)\n",
    "actions = ActionChains(driver)\n",
    "actions.move_to_element(hover_element).perform()\n",
    "\n",
    "# 클릭\n",
    "hover_element2.click()\n",
    "time.sleep(3)\n",
    "hover_element3.click()\n",
    "\n",
    "html = driver.page_source\n",
    "# print(html)\n",
    "driver.quit() # 브라우저 종료"
   ]
  },
  {
   "cell_type": "code",
   "execution_count": null,
   "id": "3ce8b942-7703-4f99-8b51-759c03b4edab",
   "metadata": {},
   "outputs": [],
   "source": [
    "# 현재 페이지 정보 가져오기\n",
    "star_list=[]\n",
    "soup = bs(html, 'html.parser')\n",
    "# 본문내용 가져오기\n",
    "contents = soup.select(\"#subCont > div > div.bdvTxt_wrap > div > div > div:nth-child(18) > table\")\n",
    "\n",
    "\n",
    "test = contents[0]\n",
    "print(test.select_one('p.result_details').text, test.select_one('i.pin_generalDT').text)\n",
    "print(test['data-name'],'/' ,test['data-lat'], '/' ,test['data-long'])\n",
    "\n",
    "\n",
    "\n",
    "for c in contents:\n",
    "    result = [c['data-name'], c['data-lat'],c['data-long'], c.select_one('p.result_details').text, c.select_one('i')['class'][0]]\n",
    "    star_list.append(result)\n",
    "print(star_list)\n",
    "\n"
   ]
  }
 ],
 "metadata": {
  "kernelspec": {
   "display_name": "Python 3 (ipykernel)",
   "language": "python",
   "name": "python3"
  },
  "language_info": {
   "codemirror_mode": {
    "name": "ipython",
    "version": 3
   },
   "file_extension": ".py",
   "mimetype": "text/x-python",
   "name": "python",
   "nbconvert_exporter": "python",
   "pygments_lexer": "ipython3",
   "version": "3.13.1"
  }
 },
 "nbformat": 4,
 "nbformat_minor": 5
}
