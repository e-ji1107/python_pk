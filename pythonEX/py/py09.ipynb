{
 "cells": [
  {
   "cell_type": "code",
   "execution_count": 20,
   "id": "2d55005f-5035-4aba-ad03-15f19c3e5a44",
   "metadata": {},
   "outputs": [
    {
     "name": "stdout",
     "output_type": "stream",
     "text": [
      "✨ NumPy 필수 함수 3가지, 간단하게 알아볼까요? 🚀\n",
      "\n",
      "1.  **`np.array()`**: 리스트나 튜플을 NumPy 배열로 변환해줘요! 🧮 (예: `arr = np.array([1, 2, 3])`)\n",
      "2.  **`np.arange()`**:  일정 범위의 숫자들을 규칙적으로 생성해준답니다. 마치 등차수열처럼! 🔢 (예: `arr = np.arange(0, 10, 2)`)\n",
      "3.  **`np.reshape()`**: 배열의 형태를 바꿔줘요! 데이터는 그대로, 모습만 변신! 🎭 (예: `arr = np.arange(12).reshape(3, 4)`)\n",
      "\n",
      "이 세 가지 함수만 알아도 NumPy의 기초는 튼튼! 💪\n"
     ]
    },
    {
     "data": {
      "text/plain": [
       "'✨ NumPy 필수 함수 3가지, 간단하게 알아볼까요? 🚀\\n\\n1.  **`np.array()`**: 리스트나 튜플을 NumPy 배열로 변환해줘요! 🧮 (예: `arr = np.array([1, 2, 3])`)\\n2.  **`np.arange()`**:  일정 범위의 숫자들을 규칙적으로 생성해준답니다. 마치 등차수열처럼! 🔢 (예: `arr = np.arange(0, 10, 2)`)\\n3.  **`np.reshape()`**: 배열의 형태를 바꿔줘요! 데이터는 그대로, 모습만 변신! 🎭 (예: `arr = np.arange(12).reshape(3, 4)`)\\n\\n이 세 가지 함수만 알아도 NumPy의 기초는 튼튼! 💪'"
      ]
     },
     "execution_count": 20,
     "metadata": {},
     "output_type": "execute_result"
    }
   ],
   "source": [
    "# 구글 제미나이 AI\n",
    "from google import genai\n",
    "def aiai(text):\n",
    "    \n",
    "    client = genai.Client(api_key=\"21452145AIzaSyB_eerncLSXPC1eSYf2sEoKNlF03s35szA\")\n",
    "    response = client.models.generate_content( model=\"gemini-2.0-flash\", contents=text + \"10줄 이내로 알려줘 친절하게 이모티콘으로 꾸며서 반짝반짝하게~~\")\n",
    "    answer = response.text\n",
    "    print(answer)\n",
    "    return answer\n",
    "\n",
    "aiai(\"numpy 필수 함수 3개 간단하게 알려줘\")"
   ]
  },
  {
   "cell_type": "code",
   "execution_count": 7,
   "id": "4d7e48a4-0064-46e1-a7b9-0b9adf9210db",
   "metadata": {},
   "outputs": [],
   "source": [
    "!pip install -q -U google-genai"
   ]
  }
 ],
 "metadata": {
  "kernelspec": {
   "display_name": "Python 3 (ipykernel)",
   "language": "python",
   "name": "python3"
  },
  "language_info": {
   "codemirror_mode": {
    "name": "ipython",
    "version": 3
   },
   "file_extension": ".py",
   "mimetype": "text/x-python",
   "name": "python",
   "nbconvert_exporter": "python",
   "pygments_lexer": "ipython3",
   "version": "3.13.1"
  }
 },
 "nbformat": 4,
 "nbformat_minor": 5
}
