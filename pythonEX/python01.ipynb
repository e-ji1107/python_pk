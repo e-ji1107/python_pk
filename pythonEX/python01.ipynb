{
 "cells": [
  {
   "cell_type": "markdown",
   "id": "f0956b6d-fd01-4dda-b6c2-e95ea027e26f",
   "metadata": {},
   "source": [
    "# 주피터랩 단축키 \n",
    "- a : 위에 셀 추가\n",
    "- b : 아래 셀 추가\n",
    "- Ctrl + shift + 위 : 셀 위로 이동\n",
    "- Ctrl + shift + 아래 : 셀 아래로 이동\n",
    "- Shift + Enter : 셀 실행\n",
    "- dd : 셀 삭제\n",
    "- x : 셀 잘라내기\n",
    "- v : 셀 붙여넣기\n",
    "- c : 셀 복사\n",
    "- z : undo\n",
    "- Shift + z : redo\n",
    "- alt + shift + 방향키: 복사\n",
    "- alt + 방향키 : 이동\n",
    "- m : 마크다운으로 변경\n",
    "- y : 코드로 변경\n",
    "- alt + shift + 커서 = 커서 중복 선택\n",
    "- ctrl + shifr + D = 원하는 값 선택 후 동일 값 선택 가능\n",
    "- m 누르고 이미지 복붙하면 주소값 나옴"
   ]
  },
  {
   "cell_type": "markdown",
   "id": "1057b166-cf8d-4ce5-abda-62085d1d279b",
   "metadata": {},
   "source": [
    "# print 기초 "
   ]
  },
  {
   "cell_type": "code",
   "execution_count": 14,
   "id": "e3a24650-2c6d-41ee-8617-60a354797f25",
   "metadata": {},
   "outputs": [
    {
     "name": "stdout",
     "output_type": "stream",
     "text": [
      "배고프다\n",
      "시간이 많이 남았다말입니다."
     ]
    }
   ],
   "source": [
    "import time as t\n",
    "\n",
    "print('배고프다',end='\\n') # 끝에 말입니다가 붙음, end는 빈 것, 줄 바꿈을 생략하겠단 뜻\n",
    "t.sleep(1)\n",
    "print('그런데',end='\\r')\n",
    "t.sleep(1)\n",
    "print('시간이 많이 남았다',end='말입니다.') #\\n 줄바꿈"
   ]
  },
  {
   "cell_type": "code",
   "execution_count": 15,
   "id": "12cd1dd6-6d54-4413-b489-42d75f8dbb1f",
   "metadata": {},
   "outputs": [
    {
     "name": "stdout",
     "output_type": "stream",
     "text": [
      "1*2*3*4*5\n"
     ]
    }
   ],
   "source": [
    "print(1,2,3,4,5, sep='*') #separate "
   ]
  },
  {
   "cell_type": "markdown",
   "id": "17f37569-602f-45ce-a6a9-1de2fc8c4a50",
   "metadata": {},
   "source": [
    "# 자료형\n",
    "\n",
    "## 숫자형## 문자열 자료형\n",
    "a = 123\n",
    "b = -178\n",
    "c = 0\n",
    "print(a,b,c)\n",
    "\n",
    " 사칙연산 예\n",
    "sachik = 777\n",
    "sem = 200\n",
    "\n",
    "print('덧셈',sachik+sem, end='\\n===========================================\\n') #,는 빈칸 하나로 계속해서 보여줄 수 있음\n",
    "print('뺄셈',sachik-sem, end='\\n===========================================\\n')\n",
    "print('곱셈',sachik*sem, end='\\n===========================================\\n')\n",
    "print('나눗셈',sachik/sem, end='\\n===========================================\\n')\n",
    "print('몫',sachik//sem, end='\\n===========================================\\n')\n",
    "print('나머지',sachik%sem, end='\\n===========================================\\n')\n",
    "print('승',sachik**2, end='\\n===========================================\\n')"
   ]
  },
  {
   "cell_type": "code",
   "execution_count": 35,
   "id": "6d6a19bb-4977-488a-8cb1-157d19e5a3bc",
   "metadata": {},
   "outputs": [
    {
     "name": "stdout",
     "output_type": "stream",
     "text": [
      "1.2 -3.14 42400000000.0\n"
     ]
    }
   ],
   "source": [
    "# 실수형\n",
    "aa = 1.2\n",
    "bb = -3.14\n",
    "cc = 4.24e10\n",
    "print(aa,bb,cc)"
   ]
  },
  {
   "cell_type": "code",
   "execution_count": 37,
   "id": "cba11677-995a-4380-b1c6-53ebaec94286",
   "metadata": {},
   "outputs": [
    {
     "name": "stdout",
     "output_type": "stream",
     "text": [
      "2303 2748\n"
     ]
    }
   ],
   "source": [
    "# 2진수(bin)\n",
    "aaa = 0b1111\n",
    "# 8진수(oct)와 16진수(hex)\n",
    "a = 0x8ff\n",
    "b = 0xABC\n",
    "print(a,b)\n",
    "\n"
   ]
  },
  {
   "cell_type": "code",
   "execution_count": 44,
   "id": "b8d04675-90e3-4ea9-97e4-d322e79f44c7",
   "metadata": {},
   "outputs": [
    {
     "name": "stdout",
     "output_type": "stream",
     "text": [
      "2\n",
      "3\n",
      "4\n"
     ]
    }
   ],
   "source": [
    "# 복합연산자\n",
    "a=1\n",
    "a = a+1\n",
    "print(a)\n",
    "a = a+1\n",
    "print(a)\n",
    "a = a+1\n",
    "print(a)"
   ]
  },
  {
   "cell_type": "code",
   "execution_count": 47,
   "id": "504991af-5ecb-4ec5-bc70-9d9558ca9534",
   "metadata": {},
   "outputs": [
    {
     "name": "stdout",
     "output_type": "stream",
     "text": [
      "7\n"
     ]
    }
   ],
   "source": [
    "a += 1\n",
    "print(a)"
   ]
  },
  {
   "cell_type": "code",
   "execution_count": 48,
   "id": "f18e834b-6859-4e03-8646-2ac98260f313",
   "metadata": {},
   "outputs": [],
   "source": [
    "a = 10"
   ]
  },
  {
   "cell_type": "code",
   "execution_count": 66,
   "id": "50a6a04e-687b-449d-8191-230e8e6f66de",
   "metadata": {},
   "outputs": [
    {
     "name": "stdout",
     "output_type": "stream",
     "text": [
      "-8\n"
     ]
    }
   ],
   "source": [
    "a-=1\n",
    "print(a)"
   ]
  },
  {
   "cell_type": "code",
   "execution_count": null,
   "id": "8b12cfb5-c52d-45a7-a22c-716f49056d0e",
   "metadata": {},
   "outputs": [],
   "source": [
    "#복합연산자 +=, -=, *=, /=, //=, %=, **=\n"
   ]
  },
  {
   "cell_type": "markdown",
   "id": "77e09b34-fc3d-4bc3-9666-d7c5def98fa8",
   "metadata": {},
   "source": [
    "## 문자열 자료형"
   ]
  },
  {
   "cell_type": "code",
   "execution_count": 70,
   "id": "5f0af2c2-3a5e-4ad6-af2f-dc477d103099",
   "metadata": {},
   "outputs": [
    {
     "name": "stdout",
     "output_type": "stream",
     "text": [
      "문자형입니다.\n",
      "이것은 여러줄 주석처리\n",
      "\n",
      "\n",
      "이것도 여러 줄 주석\n",
      "\n"
     ]
    }
   ],
   "source": [
    "#주석처리입니다\n",
    "str1 = '문자형입니다.'\n",
    "print(str1)\n",
    "str2 = '''이것은 여러줄 주석처리\n",
    "'''\n",
    "print(str2)\n",
    "str3 = \"\"\"\n",
    "이것도 여러 줄 주석\n",
    "\"\"\"\n",
    "print(str3)"
   ]
  },
  {
   "cell_type": "code",
   "execution_count": 72,
   "id": "1ac2cf0e-61b7-4074-b1a7-a275c131d0f9",
   "metadata": {},
   "outputs": [
    {
     "name": "stdout",
     "output_type": "stream",
     "text": [
      "python's favorite food is perl\n"
     ]
    }
   ],
   "source": [
    "#food = \"python's favorite food is perl\"\n",
    "food='python\\'s favorite food is perl'\n",
    "print(food)\n"
   ]
  },
  {
   "cell_type": "code",
   "execution_count": 73,
   "id": "bfffe5b9-d05e-4097-b174-599d662acfb2",
   "metadata": {},
   "outputs": [
    {
     "name": "stdout",
     "output_type": "stream",
     "text": [
      "Life is too short\n",
      "You need python\n"
     ]
    }
   ],
   "source": [
    "multiline = \"Life is too short\\nYou need python\"\n",
    "print(multiline)"
   ]
  },
  {
   "cell_type": "code",
   "execution_count": 75,
   "id": "06ae94bb-0f0f-4cc6-81f3-69aca0a685dd",
   "metadata": {},
   "outputs": [
    {
     "name": "stdout",
     "output_type": "stream",
     "text": [
      "python is fun!\n"
     ]
    }
   ],
   "source": [
    "head = \"python\"\n",
    "tail = \" is fun!\"\n",
    "print(head + tail)"
   ]
  },
  {
   "cell_type": "code",
   "execution_count": 76,
   "id": "67fcedd5-9d47-41a7-910e-0ddbcd706c3f",
   "metadata": {
    "scrolled": true
   },
   "outputs": [
    {
     "name": "stdout",
     "output_type": "stream",
     "text": [
      "python\n",
      "python\n",
      "python\n",
      "python\n",
      "python\n",
      "\n"
     ]
    }
   ],
   "source": [
    "a = 'python' + \"\\n\"\n",
    "print(a*5)"
   ]
  },
  {
   "cell_type": "markdown",
   "id": "db415ff4-b71b-4ba3-81ce-f2ecb22ac708",
   "metadata": {},
   "source": [
    "### 문자열 연산하기"
   ]
  },
  {
   "cell_type": "code",
   "execution_count": null,
   "id": "15aae3a5-232e-4318-a045-f58fa36c11b4",
   "metadata": {},
   "outputs": [],
   "source": [
    "### 숫자 계산, 문자열 계산, 출력 조합\n",
    "m1 = \"아메리카노:\"+ str(p1) + \"원\\n\"\n",
    "m2 = \"라떼:\" + str(p2) + \"원\\n\"\n",
    "m3 = \"허브티:\" + str(p3) +\"원\" \n",
    "p1 = 5500 * 3\n",
    "p2 = 7200 *1\n",
    "p3 = 6000*2\n",
    "print(\"=\"*15 +\"\\n\"+\"     영수증\"+ \"\\n\" +  \"=\"*15 + \"\\n\"+ m1+m2+m3 +\"\\n\"+\"=\"*15  )\n",
    "\n",
    "print(len(m1))"
   ]
  },
  {
   "cell_type": "markdown",
   "id": "f53c95d0-851f-4d16-b226-0c8058b27eb2",
   "metadata": {},
   "source": [
    "### 문자열 인덱싱과 슬라이싱 \n",
    "a = \"Life is too short\"\n",
    "print(len(a))"
   ]
  },
  {
   "cell_type": "code",
   "execution_count": 116,
   "id": "79d2f789-50d1-407e-a13e-c134422a762d",
   "metadata": {},
   "outputs": [
    {
     "name": "stdout",
     "output_type": "stream",
     "text": [
      "t o o\n"
     ]
    }
   ],
   "source": [
    "print(a[8],a[9],a[10])"
   ]
  },
  {
   "cell_type": "code",
   "execution_count": 117,
   "id": "d9d74a9f-805d-42bc-9a9e-687d5f2d0ffc",
   "metadata": {},
   "outputs": [
    {
     "name": "stdout",
     "output_type": "stream",
     "text": [
      "t r\n"
     ]
    }
   ],
   "source": [
    "print(a[-1],a[-2])"
   ]
  },
  {
   "cell_type": "code",
   "execution_count": 123,
   "id": "fe19b55d-0150-409d-923d-10b28ca08d9d",
   "metadata": {},
   "outputs": [
    {
     "name": "stdout",
     "output_type": "stream",
     "text": [
      "t o o\n",
      "too\n",
      "need\n"
     ]
    }
   ],
   "source": [
    "a = \"Life is too short, You need python\"\n",
    "#too 출력하기\n",
    "print(a[8],a[9],a[10])\n",
    "print(a[8:11])\n",
    "print(a[23:27])"
   ]
  },
  {
   "cell_type": "code",
   "execution_count": 125,
   "id": "c629e45a-7624-479b-b0a7-b33fe22b2971",
   "metadata": {},
   "outputs": [
    {
     "name": "stdout",
     "output_type": "stream",
     "text": [
      "nohtyp deen uoY ,trohs oot si efiL\n"
     ]
    }
   ],
   "source": [
    "print(a[::-1])"
   ]
  },
  {
   "cell_type": "code",
   "execution_count": 126,
   "id": "bd9ed66b-9e60-48cd-9f63-b16c868ca0ff",
   "metadata": {},
   "outputs": [],
   "source": [
    "today = \"20250203오늘은 화창하다\""
   ]
  },
  {
   "cell_type": "code",
   "execution_count": 137,
   "id": "e0a0d01f-14c9-4e40-ac7c-d42782ea92bc",
   "metadata": {},
   "outputs": [
    {
     "name": "stdout",
     "output_type": "stream",
     "text": [
      "2025 2 3\n"
     ]
    }
   ],
   "source": [
    "year=(today[:4])\n",
    "month = today[5]\n",
    "day=today[7]\n",
    "\n",
    "print(year, month, day)"
   ]
  },
  {
   "cell_type": "code",
   "execution_count": 143,
   "id": "192768a9-3ef2-42c6-934b-f4db761301be",
   "metadata": {},
   "outputs": [
    {
     "name": "stdout",
     "output_type": "stream",
     "text": [
      "2025년 2월 3일 오늘은 화창하다!\n"
     ]
    }
   ],
   "source": [
    "weather = today[8:]\n",
    "\n",
    "\n",
    "print(date + \"년 \" + month + \"월 \" + day + \"일 \" + weather + \"!\")"
   ]
  },
  {
   "cell_type": "code",
   "execution_count": 4,
   "id": "3cbf66b6-c992-4592-a5f5-328f63d95a9b",
   "metadata": {},
   "outputs": [
    {
     "name": "stdout",
     "output_type": "stream",
     "text": [
      "한국서 돈벌고 '나 몰라라' 코스트코… 연회비 인상률은 미국의  3 배\n"
     ]
    }
   ],
   "source": [
    "import requests\n",
    "url ='https://v.daum.net/v/20250203151815463'\n",
    "res = requests.get(url).text\n",
    "num = \"3\"\n",
    "print(res[374:409],num,res[410])"
   ]
  },
  {
   "cell_type": "code",
   "execution_count": 173,
   "id": "bcb06b1a-63c7-4267-92ea-d9285e831e9c",
   "metadata": {},
   "outputs": [
    {
     "name": "stdout",
     "output_type": "stream",
     "text": [
      "은지의 톡쏘는 일상 : 네이버 블로그\n"
     ]
    }
   ],
   "source": [
    "import requests\n",
    "url ='https://blog.naver.com/droad777' \n",
    "res = requests.get(url).text\n",
    "str1 = res[897:915]\n",
    "str2 = \"은지\" + str1\n",
    "print(str2)"
   ]
  },
  {
   "cell_type": "markdown",
   "id": "4e45e611-825c-4c38-a428-74dce85efb31",
   "metadata": {},
   "source": [
    "### 문자열 포매팅"
   ]
  },
  {
   "cell_type": "code",
   "execution_count": 11,
   "id": "06eb2eef-6863-4239-97ca-261df48d5afb",
   "metadata": {},
   "outputs": [
    {
     "name": "stdout",
     "output_type": "stream",
     "text": [
      "I eat 3 apples.\n",
      "I eat 17 apples.\n",
      "I eat five apples.\n"
     ]
    }
   ],
   "source": [
    "print(\"I eat 3 apples.\")\n",
    "print(\"I eat %d apples.\" %17)\n",
    "print(\"I eat %s apples.\" %\"five\")"
   ]
  },
  {
   "cell_type": "code",
   "execution_count": 20,
   "id": "4a819ef5-458d-4469-afaa-fbfbab15637b",
   "metadata": {},
   "outputs": [
    {
     "name": "stdout",
     "output_type": "stream",
     "text": [
      "사람 몸의 수분은 60% 이다.\n"
     ]
    }
   ],
   "source": [
    "print(\"사람 몸의 수분은 %d%% 이다.\" %60)"
   ]
  },
  {
   "cell_type": "code",
   "execution_count": 28,
   "id": "a7ff999c-87e5-4736-b727-c3c7cf1ec2bb",
   "metadata": {},
   "outputs": [
    {
     "name": "stdout",
     "output_type": "stream",
     "text": [
      "십진수로 123은 16진수로 7b이다\n",
      "십진수로 123은 8진수로 173이다\n"
     ]
    }
   ],
   "source": [
    "print(\"십진수로 %d은 16진수로 %x이다\" %(123,123))\n",
    "print(\"십진수로 %d은 8진수로 %o이다\" %(123,123))"
   ]
  },
  {
   "cell_type": "code",
   "execution_count": 29,
   "id": "52f03378-6b36-49c6-adc1-48f2a0ffb497",
   "metadata": {},
   "outputs": [
    {
     "name": "stdout",
     "output_type": "stream",
     "text": [
      "십진수로 123은 16진수로 7b이고, 8진수로 173이다.\n"
     ]
    }
   ],
   "source": [
    "print(\"십진수로 %d은 16진수로 %x이고, 8진수로 %o이다.\" %(123,123,123))"
   ]
  },
  {
   "cell_type": "code",
   "execution_count": 34,
   "id": "3a77615e-8032-4ecf-8818-c2b4bd1a807c",
   "metadata": {},
   "outputs": [
    {
     "name": "stdout",
     "output_type": "stream",
     "text": [
      "        hi\n"
     ]
    }
   ],
   "source": [
    "# 정렬과 공백 (오른쪽 정렬)\n",
    "print(\"%10s\" % \"hi\")"
   ]
  },
  {
   "attachments": {
    "8378ed8b-5637-42b6-8e04-84ccaad981eb.png": {
     "image/png": "[encoded data removed]"
    }
   },
   "cell_type": "markdown",
   "id": "53592838-dd0c-46c2-b1a9-372c8842e69f",
   "metadata": {},
   "source": [
    "<img src = \"attachment:8378ed8b-5637-42b6-8e04-84ccaad981eb.png\" width = 400>"
   ]
  },
  {
   "cell_type": "code",
   "execution_count": 36,
   "id": "71ad10fd-b606-4442-9b11-7f32a800e70e",
   "metadata": {},
   "outputs": [
    {
     "name": "stdout",
     "output_type": "stream",
     "text": [
      "hi        jane\n"
     ]
    }
   ],
   "source": [
    "#정렬과 공백 (음수일 때 왼쪽 정렬)\n",
    "print(\"%-10sjane\" % \"hi\")"
   ]
  },
  {
   "cell_type": "code",
   "execution_count": 44,
   "id": "864b305a-9b66-4e70-9e28-8d7727ef3ae8",
   "metadata": {},
   "outputs": [
    {
     "name": "stdout",
     "output_type": "stream",
     "text": [
      "3.1416\n",
      "    3.1416\n"
     ]
    }
   ],
   "source": [
    "#소수점 표현하기\n",
    "print(\"%0.4f\" %3.141592)\n",
    "print(\"%10.4f\" %3.141592)"
   ]
  },
  {
   "attachments": {
    "9e557f8b-22aa-4492-9d4c-92c810396387.png": {
     "image/png": "[encoded data removed]"
    }
   },
   "cell_type": "markdown",
   "id": "ac676771-f296-425b-bca2-d55d229c58fa",
   "metadata": {},
   "source": [
    "<img src = \"attachment:9e557f8b-22aa-4492-9d4c-92c810396387.png\" width = 400>"
   ]
  },
  {
   "cell_type": "markdown",
   "id": "2a24bde4-dd5b-44cc-ac13-4aa29678170a",
   "metadata": {},
   "source": [
    "###  format 함수를 사용한 포맷팅"
   ]
  },
  {
   "cell_type": "code",
   "execution_count": 49,
   "id": "03af47cc-d1bb-480e-803e-18aa89556000",
   "metadata": {},
   "outputs": [
    {
     "name": "stdout",
     "output_type": "stream",
     "text": [
      "I eat 3 of 10 apples\n"
     ]
    }
   ],
   "source": [
    "print(\"I eat {0} of {1} apples\".format(3,10))"
   ]
  },
  {
   "cell_type": "code",
   "execution_count": 53,
   "id": "26a04734-8da8-4357-a42f-f3366c9649db",
   "metadata": {},
   "outputs": [
    {
     "name": "stdout",
     "output_type": "stream",
     "text": [
      "I eat three of 10 apples\n"
     ]
    }
   ],
   "source": [
    "total = 10\n",
    "ea = \"three\"\n",
    "print(\"I eat {0} of {1} apples\".format(ea,total))"
   ]
  },
  {
   "cell_type": "code",
   "execution_count": 55,
   "id": "f580bcda-7632-443f-aa27-d91fd5333070",
   "metadata": {},
   "outputs": [
    {
     "name": "stdout",
     "output_type": "stream",
     "text": [
      "I eat three of 10 apples\n"
     ]
    }
   ],
   "source": [
    "print(\"I eat {ea} of {total} apples\".format(ea=\"three\",total=10))"
   ]
  },
  {
   "cell_type": "code",
   "execution_count": 56,
   "id": "e3c84bfe-ff09-48e8-833a-562d01172fed",
   "metadata": {},
   "outputs": [
    {
     "name": "stdout",
     "output_type": "stream",
     "text": [
      "I ate 10 apples. so I was sick for 3 days.\n"
     ]
    }
   ],
   "source": [
    "print(\"I ate {0} apples. so I was sick for {day} days.\".format(10, day=3))"
   ]
  },
  {
   "cell_type": "code",
   "execution_count": 67,
   "id": "a9627d1d-deb5-486b-804a-e7b61983e955",
   "metadata": {},
   "outputs": [
    {
     "name": "stdout",
     "output_type": "stream",
     "text": [
      "        hi\n"
     ]
    }
   ],
   "source": [
    "#우측 정렬\n",
    "print(\"{0:>10}\".format(\"hi\"))"
   ]
  },
  {
   "cell_type": "code",
   "execution_count": 64,
   "id": "b60bec58-ca42-4f72-8bec-97ee61912d71",
   "metadata": {},
   "outputs": [
    {
     "name": "stdout",
     "output_type": "stream",
     "text": [
      "    hi    \n"
     ]
    }
   ],
   "source": [
    "#가운데 정렬\n",
    "print(\"{0:^10}\".format(\"hi\"))"
   ]
  },
  {
   "cell_type": "code",
   "execution_count": 66,
   "id": "c83eec81-9715-4b4d-aea4-a36a0aa41a0a",
   "metadata": {},
   "outputs": [
    {
     "name": "stdout",
     "output_type": "stream",
     "text": [
      "hi        \n"
     ]
    }
   ],
   "source": [
    "#좌측 정렬\n",
    "print(\"{0:<10}\".format(\"hi\"))"
   ]
  },
  {
   "cell_type": "code",
   "execution_count": 68,
   "id": "90b0b486-dd95-4355-8def-9255d2f70678",
   "metadata": {},
   "outputs": [
    {
     "name": "stdout",
     "output_type": "stream",
     "text": [
      "====hi====\n"
     ]
    }
   ],
   "source": [
    "#가운데 정렬 + 글자 채우기\n",
    "print(\"{0:=^10}\".format(\"hi\"))"
   ]
  },
  {
   "cell_type": "code",
   "execution_count": 69,
   "id": "8882f20c-d90a-4225-b7ca-c36f9a433add",
   "metadata": {},
   "outputs": [
    {
     "name": "stdout",
     "output_type": "stream",
     "text": [
      "ㅋㅋㅋㅋhiㅋㅋㅋㅋ\n"
     ]
    }
   ],
   "source": [
    "#가운데 정렬 + 글자 채우기\n",
    "print(\"{0:ㅋ^10}\".format(\"hi\"))"
   ]
  },
  {
   "cell_type": "code",
   "execution_count": 72,
   "id": "e555c9cd-171a-4707-8168-a71a50cddba7",
   "metadata": {},
   "outputs": [
    {
     "name": "stdout",
     "output_type": "stream",
     "text": [
      "3.1416\n"
     ]
    }
   ],
   "source": [
    "# 소수점 표현하기\n",
    "pi= 3.141592\n",
    "print(\"{0:0.4f}\".format(pi))"
   ]
  },
  {
   "cell_type": "code",
   "execution_count": 74,
   "id": "f341a593-8c74-4d55-8c42-b4106a94b789",
   "metadata": {},
   "outputs": [
    {
     "name": "stdout",
     "output_type": "stream",
     "text": [
      "중괄호 는 {과} 입니다.\n"
     ]
    }
   ],
   "source": [
    "print(\"{0} 는 {{과}} 입니다.\".format(\"중괄호\"))"
   ]
  },
  {
   "cell_type": "code",
   "execution_count": 97,
   "id": "18c1e6c5-c7fb-4c85-a090-a543ae09fcc6",
   "metadata": {},
   "outputs": [
    {
     "name": "stdout",
     "output_type": "stream",
     "text": [
      "01111011\n"
     ]
    }
   ],
   "source": [
    "#2진수 처리\n",
    "print(\"{0:0>8b}\".format(123))"
   ]
  },
  {
   "cell_type": "markdown",
   "id": "46204353-6188-4d19-b5a6-76dafcf347af",
   "metadata": {},
   "source": [
    "### f문자열 포매팅"
   ]
  },
  {
   "cell_type": "code",
   "execution_count": 102,
   "id": "a9fcc5bb-cdd2-4aaa-b693-d7f9da7f999d",
   "metadata": {},
   "outputs": [
    {
     "name": "stdout",
     "output_type": "stream",
     "text": [
      "나의 이름은 배트맨입니다. 나이는 30 입니다\n",
      "내년이면 31살이 됩니다.\n"
     ]
    }
   ],
   "source": [
    "# \" \".format() -> f\" \"\n",
    "name = \"배트맨\"\n",
    "age = 30\n",
    "print(f\"나의 이름은 {name}입니다. 나이는 {age} 입니다\")\n",
    "print(f\"내년이면 {age + 1}살이 됩니다.\")"
   ]
  },
  {
   "cell_type": "code",
   "execution_count": 107,
   "id": "9b365467-6deb-4ad1-aaf3-776454665754",
   "metadata": {},
   "outputs": [
    {
     "name": "stdout",
     "output_type": "stream",
     "text": [
      "나의 이름은 홍길동 입니다. 나이는 30입니다. 성별은 male입니다.\n"
     ]
    }
   ],
   "source": [
    "d = {'name':'홍길동', 'age':30, 'gen':'male'}\n",
    "print(f'나의 이름은 {d[\"name\"]} 입니다. 나이는 {d[\"age\"]}입니다. 성별은 {d[\"gen\"]}입니다.')"
   ]
  },
  {
   "cell_type": "code",
   "execution_count": 110,
   "id": "fee2934c-9423-4118-a27d-98a803b31cf3",
   "metadata": {},
   "outputs": [
    {
     "name": "stdout",
     "output_type": "stream",
     "text": [
      "hi        \n",
      "    hi    \n",
      "        hi\n"
     ]
    }
   ],
   "source": [
    "# 왼쪽 정렬\n",
    "print(f'{\"hi\":<10}')\n",
    "# 가운데 정렬\n",
    "print(f'{\"hi\":^10}')\n",
    "# 오른쪽 정렬\n",
    "print(f'{\"hi\":>10}')"
   ]
  },
  {
   "cell_type": "code",
   "execution_count": 114,
   "id": "4a0257ef-1851-4d99-8c56-6bd16d72a0ae",
   "metadata": {},
   "outputs": [
    {
     "name": "stdout",
     "output_type": "stream",
     "text": [
      "====hi====\n",
      "hi!!!!!!!!\n"
     ]
    }
   ],
   "source": [
    "print(f'{\"hi\":=^10}')\n",
    "print(f'{\"hi\":!<10}')"
   ]
  },
  {
   "cell_type": "code",
   "execution_count": 116,
   "id": "ffb82bc0-1cf4-4abf-9417-fa6444f4ab2c",
   "metadata": {},
   "outputs": [
    {
     "name": "stdout",
     "output_type": "stream",
     "text": [
      "3.4213\n",
      "    3.4213\n"
     ]
    }
   ],
   "source": [
    "y = 3.42134234\n",
    "print(f'{y:0.4f}')\n",
    "print(f'{y:10.4f}')"
   ]
  },
  {
   "cell_type": "code",
   "execution_count": 117,
   "id": "bcd0ff26-1f4a-4492-a0e1-8afccd4af8b8",
   "metadata": {},
   "outputs": [
    {
     "name": "stdout",
     "output_type": "stream",
     "text": [
      "{and}\n"
     ]
    }
   ],
   "source": [
    "print(f'{{and}}')"
   ]
  },
  {
   "cell_type": "markdown",
   "id": "b7d8015d-04ee-4fd8-bbf6-2f313dc80eb0",
   "metadata": {},
   "source": [
    "### 문자열 관련 함수들"
   ]
  },
  {
   "cell_type": "code",
   "execution_count": 121,
   "id": "5c382189-f7fb-432d-818d-569698750ad6",
   "metadata": {},
   "outputs": [
    {
     "data": {
      "text/plain": [
       "2"
      ]
     },
     "execution_count": 121,
     "metadata": {},
     "output_type": "execute_result"
    }
   ],
   "source": [
    "# 문자 개수\n",
    "\"hobby\".count('b')"
   ]
  },
  {
   "cell_type": "code",
   "execution_count": 123,
   "id": "b42bede0-6d48-417a-b08f-459aef69b190",
   "metadata": {},
   "outputs": [
    {
     "name": "stdout",
     "output_type": "stream",
     "text": [
      "한국서 돈벌고 '나 몰라라' 코스트코… 연회비 인상률은 미국의 3배\n",
      "1\n"
     ]
    }
   ],
   "source": [
    "import requests\n",
    "url ='https://v.daum.net/v/20250203151815463'\n",
    "res = requests.get(url).text\n",
    "result = res[374:411]\n",
    "out = result[:-2] + '3' + result [-1]\n",
    "print(out)\n",
    "print(out.count('한국'))"
   ]
  },
  {
   "cell_type": "code",
   "execution_count": null,
   "id": "a2e0ab0d-58c3-4700-955a-dcbfb01719a1",
   "metadata": {},
   "outputs": [],
   "source": []
  },
  {
   "cell_type": "code",
   "execution_count": 132,
   "id": "e41b021b-1243-48bc-82b8-8efa8c3ca7ba",
   "metadata": {},
   "outputs": [
    {
     "name": "stdout",
     "output_type": "stream",
     "text": [
      "374\n"
     ]
    }
   ],
   "source": [
    "# 위치 알려주기1 find\n",
    "import requests\n",
    "url ='https://v.daum.net/v/20250203151815463'\n",
    "res = requests.get(url).text\n",
    "\n",
    "print(res.find('한'))"
   ]
  },
  {
   "cell_type": "code",
   "execution_count": 149,
   "id": "e29077c7-4546-4e19-9721-87e9a2a0858d",
   "metadata": {},
   "outputs": [
    {
     "name": "stdout",
     "output_type": "stream",
     "text": [
      "41529\n",
      "41529\n",
      "좋아하는 노래 제목 toxic till the end\n"
     ]
    }
   ],
   "source": [
    "import requests\n",
    "url = 'https://music.apple.com/kr/playlist/%EC%98%A4%EB%8A%98%EC%9D%98-top-100-%EB%8C%80%ED%95%9C%EB%AF%BC%EA%B5%AD/pl.d3d10c32fbc540b38e266367dc8cb00c' \n",
    "res = requests.get(url).text\n",
    "#print(res.text)\n",
    "print(res.find(\"toxic till the end\")) \n",
    "print(res.index(\"toxic till the end\")) #없으면 오류 발생\n",
    "print(\"좋아하는 노래 제목\",res[41529:41547])"
   ]
  },
  {
   "cell_type": "code",
   "execution_count": 152,
   "id": "fb261581-8c4c-430f-bfa5-c981806bdbbe",
   "metadata": {},
   "outputs": [],
   "source": [
    "#dir(str) "
   ]
  },
  {
   "cell_type": "code",
   "execution_count": 185,
   "id": "5b2127ed-d51e-42d0-96ec-003b376fb593",
   "metadata": {},
   "outputs": [
    {
     "name": "stdout",
     "output_type": "stream",
     "text": [
      "a,b,c,d,e,f,g\n"
     ]
    }
   ],
   "source": [
    "# 문자열 삽입 join *중요\n",
    "# 리스트, 튜플을 문자열로\n",
    "print(\",\".join('abcdefg'))"
   ]
  },
  {
   "cell_type": "code",
   "execution_count": 154,
   "id": "a01fa36f-fd4b-4fc8-b5d0-17f6fc2b6c8d",
   "metadata": {},
   "outputs": [
    {
     "name": "stdout",
     "output_type": "stream",
     "text": [
      "a,b,c,d\n"
     ]
    }
   ],
   "source": [
    "print(\",\".join(['a','b','c','d']))"
   ]
  },
  {
   "cell_type": "code",
   "execution_count": 157,
   "id": "034f8b41-18bc-48f5-af8a-0eecb34d42f9",
   "metadata": {},
   "outputs": [
    {
     "name": "stdout",
     "output_type": "stream",
     "text": [
      "HI\n"
     ]
    }
   ],
   "source": [
    "#소문자를 대문자로 바꾸기 upper\n",
    "a = \"hi\"\n",
    "print(a.upper())"
   ]
  },
  {
   "cell_type": "code",
   "execution_count": 158,
   "id": "7e31f5e9-0241-48d6-b039-50c53eb2eddb",
   "metadata": {},
   "outputs": [
    {
     "name": "stdout",
     "output_type": "stream",
     "text": [
      "hi\n"
     ]
    }
   ],
   "source": [
    "#대문자를 소문자로 바꾸기 lowwer\n",
    "a = \"HI\"\n",
    "print(a.lower())"
   ]
  },
  {
   "cell_type": "code",
   "execution_count": 161,
   "id": "71ca8737-edc0-4d97-9c65-17c07907d0e7",
   "metadata": {},
   "outputs": [
    {
     "name": "stdout",
     "output_type": "stream",
     "text": [
      "LIFE IS EGG\n",
      "Life is Egg\n",
      "life is egg\n"
     ]
    }
   ],
   "source": [
    "# 연습\n",
    "v = \"Life is Egg\"\n",
    "big = v.upper() #원본은 바뀌지 않고 변수 big에 바뀐 문장이 담긴다\n",
    "small = v.lower()\n",
    "print(big)\n",
    "print(v)\n",
    "print(small)\n"
   ]
  },
  {
   "cell_type": "code",
   "execution_count": 173,
   "id": "a9a7e785-0adc-46c3-960e-55f42e80392d",
   "metadata": {},
   "outputs": [
    {
     "name": "stdout",
     "output_type": "stream",
     "text": [
      "     !    hi  1        \n",
      "!    hi  1        \n",
      "         hi\n",
      "!    hi  1\n"
     ]
    }
   ],
   "source": [
    "a = \"         hi        \"\n",
    "aa = a.lstrip()\n",
    "bb = a.rstrip()\n",
    "cc = a.strip()\n",
    "print(a)\n",
    "print(aa)\n",
    "print(b)\n",
    "print(cc)"
   ]
  },
  {
   "cell_type": "code",
   "execution_count": 177,
   "id": "ca3ccc8e-0ad3-44a2-9fad-20a5cc155f7e",
   "metadata": {},
   "outputs": [
    {
     "name": "stdout",
     "output_type": "stream",
     "text": [
      "         hi         \n",
      "hi         \n",
      "         hi\n",
      "hi\n"
     ]
    }
   ],
   "source": [
    "f = f\"{\"hi\":^20}\"\n",
    "f1 = f.lstrip()\n",
    "f2 = f.rstrip()\n",
    "f3 = f.strip()\n",
    "print(f)\n",
    "print(f1)\n",
    "print(f2)\n",
    "print(f3)\n"
   ]
  },
  {
   "cell_type": "code",
   "execution_count": 178,
   "id": "247aeb0d-241c-4e68-9db3-b7f6f570198e",
   "metadata": {},
   "outputs": [
    {
     "name": "stdout",
     "output_type": "stream",
     "text": [
      "Life is Egg\n",
      "Life is beautiful\n"
     ]
    }
   ],
   "source": [
    "# 문자열 바꾸기 replace **중요\n",
    "a = \"Life is Egg\"   #\"Life is Egg\".replace도 가능\n",
    "c = a.replace(\"Egg\",\"beautiful\")\n",
    "print(a)\n",
    "print(c)"
   ]
  },
  {
   "cell_type": "code",
   "execution_count": 183,
   "id": "dee7e60e-a0d0-4973-99dd-b11ca0bf0e11",
   "metadata": {},
   "outputs": [
    {
     "name": "stdout",
     "output_type": "stream",
     "text": [
      "['Life', 'is', 'Egg']\n"
     ]
    }
   ],
   "source": [
    "# 문자열 나누기 split *중요\n",
    "# 문자열을 배열로\n",
    "a = 'Life-is-Egg'\n",
    "aa = a.split('-')\n",
    "print(aa)"
   ]
  },
  {
   "cell_type": "code",
   "execution_count": 194,
   "id": "f3e9c2bc-1934-4bf7-86b7-13b75da85b85",
   "metadata": {},
   "outputs": [
    {
     "name": "stdout",
     "output_type": "stream",
     "text": [
      "['abcdefghi']\n",
      "a=b=c=d=e=f=g=h=i\n",
      "['a', 'b', 'c', 'd', 'e', 'f', 'g', 'h', 'i']\n",
      "abcdefghi\n"
     ]
    }
   ],
   "source": [
    "# 연습\n",
    "ex = \"abcdefghi\"\n",
    "ex2 = ex.split()\n",
    "print(ex2)\n",
    "ex_join = \"=\".join(ex)\n",
    "print(ex_join)\n",
    "ex_split = ex_join.split(\"=\")\n",
    "print(ex_split)\n",
    "ex_replace = ex_join.replace(\"=\",\"\")\n",
    "print(ex_replace)"
   ]
  }
 ],
 "metadata": {
  "kernelspec": {
   "display_name": "Python 3 (ipykernel)",
   "language": "python",
   "name": "python3"
  },
  "language_info": {
   "codemirror_mode": {
    "name": "ipython",
    "version": 3
   },
   "file_extension": ".py",
   "mimetype": "text/x-python",
   "name": "python",
   "nbconvert_exporter": "python",
   "pygments_lexer": "ipython3",
   "version": "3.13.1"
  }
 },
 "nbformat": 4,
 "nbformat_minor": 5
}
