{
 "cells": [
  {
   "cell_type": "markdown",
   "id": "7bf21fef-e66a-4980-aceb-17111ef3d7e2",
   "metadata": {},
   "source": [
    "# 내장함수"
   ]
  },
  {
   "cell_type": "code",
   "execution_count": 3,
   "id": "80a24598-8798-4109-9f2c-5fed59ed0e99",
   "metadata": {},
   "outputs": [
    {
     "name": "stdout",
     "output_type": "stream",
     "text": [
      "3\n",
      "1.2\n"
     ]
    }
   ],
   "source": [
    "# abs *\n",
    "print(abs(-3))\n",
    "print(abs(-1.2))"
   ]
  },
  {
   "cell_type": "code",
   "execution_count": 9,
   "id": "c6e22d81-6ad1-4a7a-9734-d8c874ce57fe",
   "metadata": {},
   "outputs": [
    {
     "name": "stdout",
     "output_type": "stream",
     "text": [
      "True\n",
      "False\n",
      "True\n"
     ]
    }
   ],
   "source": [
    "# all *\n",
    "print(all([1,2,3]))\n",
    "\n",
    "print(all([11,22,0,44,55]))\n",
    "\n",
    "print(all([])) # 특이사항"
   ]
  },
  {
   "cell_type": "code",
   "execution_count": 17,
   "id": "a04bc7cf-f5d3-4b55-825c-662de05acc57",
   "metadata": {},
   "outputs": [
    {
     "name": "stdout",
     "output_type": "stream",
     "text": [
      "True\n",
      "False\n",
      "False\n"
     ]
    }
   ],
   "source": [
    "# any *\n",
    "print(any([1,2,3,0]))\n",
    "\n",
    "print(any([0,\"\",[],False]))\n",
    "\n",
    "print(any([]))"
   ]
  },
  {
   "cell_type": "code",
   "execution_count": 27,
   "id": "5321e5b9-b69e-4c2e-84e5-8861344b4497",
   "metadata": {},
   "outputs": [
    {
     "name": "stdout",
     "output_type": "stream",
     "text": [
      "A\n",
      "가\n",
      "65\n"
     ]
    }
   ],
   "source": [
    "print(chr(65))\n",
    "print(chr(44032))\n",
    "# 유니코드 -utf-8\n",
    "print(ord('A'))"
   ]
  },
  {
   "cell_type": "code",
   "execution_count": 28,
   "id": "facfdbba-98be-4874-9ce3-7890c50a8952",
   "metadata": {},
   "outputs": [
    {
     "name": "stdout",
     "output_type": "stream",
     "text": [
      "A\n",
      "B\n",
      "C\n",
      "D\n",
      "E\n",
      "F\n",
      "G\n",
      "H\n",
      "I\n",
      "J\n",
      "K\n",
      "L\n",
      "M\n",
      "N\n",
      "O\n",
      "P\n",
      "Q\n",
      "R\n",
      "S\n",
      "T\n",
      "U\n",
      "V\n",
      "W\n",
      "X\n",
      "Y\n",
      "Z\n"
     ]
    }
   ],
   "source": [
    "#아스키코드표 A부터 Z까지 차례로 출력\n",
    "for i in range(65,91):\n",
    "    print(chr(i))"
   ]
  },
  {
   "cell_type": "code",
   "execution_count": 35,
   "id": "b4383722-91fa-4e51-bdb5-4302853c2956",
   "metadata": {},
   "outputs": [
    {
     "name": "stdout",
     "output_type": "stream",
     "text": [
      "z\n",
      "y\n",
      "x\n",
      "w\n",
      "v\n",
      "u\n",
      "t\n",
      "s\n",
      "r\n",
      "q\n",
      "p\n",
      "o\n",
      "n\n",
      "m\n",
      "l\n",
      "k\n",
      "j\n",
      "i\n",
      "h\n",
      "g\n",
      "f\n",
      "e\n",
      "d\n",
      "c\n",
      "b\n",
      "a\n"
     ]
    }
   ],
   "source": [
    "# 소문자 역순 출력\n",
    "for i in range(122,96,-1):\n",
    "    print(chr(i))"
   ]
  },
  {
   "cell_type": "code",
   "execution_count": 46,
   "id": "593100ac-0f2f-43f0-a7c3-29c196027a29",
   "metadata": {},
   "outputs": [
    {
     "name": "stdout",
     "output_type": "stream",
     "text": [
      "A1\n",
      "A2\n",
      "A3\n",
      "A4\n",
      "A5\n",
      "A6\n",
      "A7\n",
      "A8\n",
      "A9\n",
      "A10\n",
      "==========\n",
      "B1\n",
      "B2\n",
      "B3\n",
      "B4\n",
      "B5\n",
      "B6\n",
      "B7\n",
      "B8\n",
      "B9\n",
      "B10\n",
      "==========\n",
      "C1\n",
      "C2\n",
      "C3\n",
      "C4\n",
      "C5\n",
      "C6\n",
      "C7\n",
      "C8\n",
      "C9\n",
      "C10\n",
      "==========\n"
     ]
    }
   ],
   "source": [
    "# A1~A10, B1~B10, C1~C10 출력\n",
    "for i in range(65,68):\n",
    "    for j in range(1,11):\n",
    "        print(f'{chr(i)}{j}')\n",
    "    print(\"=\"*10)"
   ]
  },
  {
   "cell_type": "code",
   "execution_count": 2,
   "id": "04da2660-938c-41e5-82da-0439264d4083",
   "metadata": {},
   "outputs": [
    {
     "name": "stdin",
     "output_type": "stream",
     "text": [
      "당신의 기분은?: 기분이 좋아 짜증짜증\n"
     ]
    },
    {
     "name": "stdout",
     "output_type": "stream",
     "text": [
      "기분이 좋아보이네요\n"
     ]
    }
   ],
   "source": [
    "positive_words = [\"좋아\", \"행복\", \"멋져\", \"최고\", \"사랑해\"]\n",
    "negative_words = [\"싫어\", \"화나\", \"짜증\", \"별로\", \"나빠\"]\n",
    "text = input(\"당신의 기분은?:\")\n",
    "\n",
    "if any(word in text for word in positive_words):\n",
    "    print(\"기분이 좋아보이네요\")\n",
    "elif any(word in text for word in negative_words):\n",
    "    print(\"기분이 나빠보이네요\")\n",
    "else:\n",
    "    print(\"보통이시네요\")"
   ]
  },
  {
   "cell_type": "code",
   "execution_count": null,
   "id": "5d85558f-2478-4281-8464-87a6ec37a3fb",
   "metadata": {},
   "outputs": [],
   "source": [
    "#!pip install konlpy"
   ]
  },
  {
   "cell_type": "code",
   "execution_count": 9,
   "id": "8abd5826-a914-40b5-b892-c117669ca0ab",
   "metadata": {},
   "outputs": [
    {
     "name": "stdin",
     "output_type": "stream",
     "text": [
      "기분 입력:  좋아\n"
     ]
    },
    {
     "name": "stdout",
     "output_type": "stream",
     "text": [
      "['좋다']\n"
     ]
    }
   ],
   "source": [
    "from konlpy.tag import Okt\n",
    "\n",
    "#한글 형태소 분석기\n",
    "okt = Okt()\n",
    "\n",
    "positive_words = [\"좋다\", \"행복\", \"멋지다\", \"최고\", \"사랑\"]\n",
    "negative_words = [\"싫어\", \"화나\", \"짜증\", \"별로\", \"나빠\"]\n",
    "text = input(\"기분 입력: \")\n",
    "\n",
    "words = okt.morphs(text,stem=True)\n",
    "print(words)"
   ]
  },
  {
   "cell_type": "code",
   "execution_count": null,
   "id": "8ad40f4f-6448-4317-9b56-74157d48cf66",
   "metadata": {},
   "outputs": [],
   "source": []
  },
  {
   "cell_type": "code",
   "execution_count": null,
   "id": "00bb9a6a-0f4f-4230-a851-08521f6d4740",
   "metadata": {},
   "outputs": [],
   "source": [
    "#dir 객체가 가지고 있는 함수(메서드)를 보여줌 *\n",
    "dir([1,2,3])\n",
    "dir({'1','a'})"
   ]
  },
  {
   "cell_type": "code",
   "execution_count": 2,
   "id": "00986cdc-bf9a-4c77-aab7-a7c982918483",
   "metadata": {},
   "outputs": [
    {
     "name": "stdout",
     "output_type": "stream",
     "text": [
      "(4, 1)\n",
      "4 1\n"
     ]
    }
   ],
   "source": [
    "#divmod 몫과 나머지 출력\n",
    "print(divmod(13,3))\n",
    "print(13//3,13%3)"
   ]
  },
  {
   "cell_type": "code",
   "execution_count": 9,
   "id": "8ea8c004-79d0-426b-a730-fc5e45af8827",
   "metadata": {},
   "outputs": [
    {
     "name": "stdout",
     "output_type": "stream",
     "text": [
      "2 순위 apple\n",
      "3 순위 banana\n",
      "4 순위 kiwi\n",
      "5 순위 cherry\n",
      "6 순위 mango\n"
     ]
    }
   ],
   "source": [
    "# enumerate ** 열거하다\n",
    "fruit = ['apple','banana','kiwi','cherry','mango']\n",
    "for i,f in enumerate(fruit, start = 2):\n",
    "    print(i,'순위',f)"
   ]
  },
  {
   "cell_type": "code",
   "execution_count": 13,
   "id": "b8520323-ed32-4d86-b49f-4eb6d301dd65",
   "metadata": {},
   "outputs": [
    {
     "data": {
      "text/plain": [
       "3"
      ]
     },
     "execution_count": 13,
     "metadata": {},
     "output_type": "execute_result"
    }
   ],
   "source": [
    "eval('1+2')"
   ]
  },
  {
   "cell_type": "code",
   "execution_count": 11,
   "id": "2a5971b8-536a-4d8e-ab0b-52a5ace180bc",
   "metadata": {},
   "outputs": [
    {
     "data": {
      "text/plain": [
       "'A1'"
      ]
     },
     "execution_count": 11,
     "metadata": {},
     "output_type": "execute_result"
    }
   ],
   "source": [
    "eval(\"'A'+'1'\")"
   ]
  },
  {
   "cell_type": "code",
   "execution_count": 17,
   "id": "1fa73150-adf1-41aa-a1f5-57ae32c6c198",
   "metadata": {},
   "outputs": [
    {
     "name": "stdout",
     "output_type": "stream",
     "text": [
      "[1, 2, 6]\n"
     ]
    }
   ],
   "source": [
    "def positive(l):\n",
    "    result = []\n",
    "    for i in l:\n",
    "        if i > 0:\n",
    "            result.append(i)\n",
    "    return result\n",
    "print(positive([1,2,-3,0,-5,6]))"
   ]
  },
  {
   "cell_type": "code",
   "execution_count": 19,
   "id": "8358c340-fc6c-4a12-8e6e-6013513d6ddb",
   "metadata": {},
   "outputs": [
    {
     "name": "stdout",
     "output_type": "stream",
     "text": [
      "[1, 2, 6]\n"
     ]
    }
   ],
   "source": [
    "def pos(l):\n",
    "    return [i for i in l if i > 0]\n",
    "print(pos([1,-3,2,0,-5,6]))"
   ]
  },
  {
   "cell_type": "code",
   "execution_count": 24,
   "id": "0af770ad-9550-4518-bf37-afe16a0a1ee3",
   "metadata": {},
   "outputs": [
    {
     "name": "stdout",
     "output_type": "stream",
     "text": [
      "[1, 2, 6]\n"
     ]
    }
   ],
   "source": [
    "#filter **\n",
    "l = 1,-3,2,0,-5,6\n",
    "def positive(x):\n",
    "    return x > 0\n",
    "print(list(filter(positive,l)))"
   ]
  },
  {
   "cell_type": "code",
   "execution_count": 25,
   "id": "cd569da2-9480-4fb7-bbfd-f79d0ebda086",
   "metadata": {},
   "outputs": [
    {
     "name": "stdout",
     "output_type": "stream",
     "text": [
      "[1, 2, 6]\n"
     ]
    }
   ],
   "source": [
    "print(list(filter(lambda x : x > 0, l)))"
   ]
  },
  {
   "cell_type": "code",
   "execution_count": 27,
   "id": "277660a7-7808-47a0-b4a2-ac6dc6261a88",
   "metadata": {},
   "outputs": [
    {
     "name": "stdout",
     "output_type": "stream",
     "text": [
      "1\n",
      "2\n",
      "6\n"
     ]
    }
   ],
   "source": [
    "for n in filter(lambda x : x > 0, l):\n",
    "    print(n)"
   ]
  },
  {
   "cell_type": "code",
   "execution_count": 39,
   "id": "b18b6f6a-8b1a-41d5-8cc2-e1d06371a2d7",
   "metadata": {},
   "outputs": [
    {
     "name": "stdout",
     "output_type": "stream",
     "text": [
      "0xea\n",
      "0o11\n",
      "0b1001\n"
     ]
    }
   ],
   "source": [
    "# hex, oct, bin\n",
    "print(hex(234))\n",
    "print(oct(9))\n",
    "print(bin(9))"
   ]
  },
  {
   "cell_type": "code",
   "execution_count": 47,
   "id": "9085afc5-a89a-421b-8ef2-e53c0e06db0b",
   "metadata": {},
   "outputs": [
    {
     "name": "stdout",
     "output_type": "stream",
     "text": [
      "140704705610728\n",
      "140704705610728\n",
      "140704705610728\n",
      "True\n"
     ]
    }
   ],
   "source": [
    "# id 고유 주소값을 리턴\n",
    "a = 3\n",
    "print(id(3))\n",
    "print(id(a))\n",
    "b = a\n",
    "print(id(b))\n",
    "print(all([id(3)==id(a),id(a)==id(b),id(b)==id(3)]))"
   ]
  },
  {
   "cell_type": "code",
   "execution_count": 48,
   "id": "1f5544fd-6df1-44e9-b2e8-311e7025ba62",
   "metadata": {},
   "outputs": [],
   "source": [
    "input\n",
    "input은 스트링으로 값을 받는다. 그러므로 계산시 int나 float으로 변경할 것"
   ]
  },
  {
   "cell_type": "code",
   "execution_count": null,
   "id": "ba1a5c7b-ce1a-4539-aca0-312698181174",
   "metadata": {},
   "outputs": [],
   "source": [
    "# int *\n",
    "# 문자를 숫자로 변환, 정수로 변환, 소수점이 사라짐."
   ]
  },
  {
   "cell_type": "code",
   "execution_count": 60,
   "id": "5a0a7dca-179c-41c9-952c-91d87eaf6ffa",
   "metadata": {},
   "outputs": [
    {
     "name": "stdout",
     "output_type": "stream",
     "text": [
      "사람입니다.\n",
      "사람입니다.\n",
      "True\n",
      "True\n",
      "False\n"
     ]
    }
   ],
   "source": [
    "# isinstance(object, class) 인스턴스 확인용\n",
    "class Person: \n",
    "    def p(self):\n",
    "        return (\"사람입니다.\")\n",
    "class Animal:pass\n",
    "a = Person()\n",
    "b = Person()\n",
    "c = Animal()\n",
    "\n",
    "print(a.p())\n",
    "print(b.p())\n",
    "print(isinstance(a,Person))\n",
    "print(isinstance(b,Person))\n",
    "print(isinstance(c,Person))"
   ]
  },
  {
   "cell_type": "code",
   "execution_count": 64,
   "id": "f9b33bdf-1de5-46b8-9e63-9b8f8903d35c",
   "metadata": {},
   "outputs": [
    {
     "name": "stdout",
     "output_type": "stream",
     "text": [
      "6\n",
      "4\n",
      "2\n"
     ]
    }
   ],
   "source": [
    "# len **\n",
    "print(len(\"python\"))\n",
    "print(len([1,2,3,4]))\n",
    "print(len((1,'a')))"
   ]
  },
  {
   "cell_type": "code",
   "execution_count": 65,
   "id": "d108ac60-e291-4b92-80b0-3dfa43c823aa",
   "metadata": {},
   "outputs": [],
   "source": [
    "# list **"
   ]
  },
  {
   "cell_type": "code",
   "execution_count": 73,
   "id": "b5920f43-5af1-4f4c-9878-41104a163b0e",
   "metadata": {},
   "outputs": [
    {
     "name": "stdout",
     "output_type": "stream",
     "text": [
      "[2, 4, 6, 8]\n"
     ]
    }
   ],
   "source": [
    "# map *\n",
    "def two_items(nl):\n",
    "    result = []\n",
    "    for n in nl:\n",
    "        result.append(n*2)\n",
    "    return result\n",
    "\n",
    "result = two_items([1,2,3,4])\n",
    "print(result)"
   ]
  },
  {
   "cell_type": "code",
   "execution_count": 74,
   "id": "efcf662a-9874-4ccc-9ea6-0c365c677435",
   "metadata": {},
   "outputs": [],
   "source": [
    "# 위 코드 컴프리헨션이나 람다로 바꿔주기"
   ]
  },
  {
   "cell_type": "code",
   "execution_count": 75,
   "id": "78f9e08a-ab94-49c4-be10-2e2a42d373bd",
   "metadata": {},
   "outputs": [
    {
     "data": {
      "text/plain": [
       "[2, 4, 6, 8]"
      ]
     },
     "execution_count": 75,
     "metadata": {},
     "output_type": "execute_result"
    }
   ],
   "source": [
    "def two_times(x):\n",
    "    return x * 2\n",
    "list(map(two_times,[1,2,3,4]))\n",
    "    "
   ]
  },
  {
   "cell_type": "code",
   "execution_count": 76,
   "id": "04cd65db-7f9c-46a4-a9bc-7ce1dd4101ad",
   "metadata": {},
   "outputs": [
    {
     "data": {
      "text/plain": [
       "[2, 4, 6, 8]"
      ]
     },
     "execution_count": 76,
     "metadata": {},
     "output_type": "execute_result"
    }
   ],
   "source": [
    "list(map(lambda x : x* 2,[1,2,3,4]))"
   ]
  },
  {
   "cell_type": "code",
   "execution_count": 7,
   "id": "ef613359-3726-43a9-922a-420a7f3e95b9",
   "metadata": {},
   "outputs": [
    {
     "name": "stdout",
     "output_type": "stream",
     "text": [
      "[1, 3, 5]\n",
      "[2, 4, 6]\n",
      "[1, 2, 3, 4, 5, 6]\n",
      "[11, 12, 13, 14, 15, 16]\n",
      "[1, 4, 9, 16, 25, 36]\n",
      "[11, 24, 39, 56, 75, 96]\n"
     ]
    }
   ],
   "source": [
    "# 테스트\n",
    "li = [1,2,3,4,5,6]\n",
    "def odd(x):\n",
    "    return x % 2 != 0\n",
    "def even(x):\n",
    "    return x % 2 == 0\n",
    "def add(x):\n",
    "    return x + 10\n",
    "def mul(x):\n",
    "    return x * x\n",
    "def addmul(x):\n",
    "    return (x + 10) * x\n",
    "print(list(filter(odd,li)))\n",
    "print(list(filter(even,li)))\n",
    "print(list(filter(add,li)))\n",
    "print(list(map(add,li)))\n",
    "print(list(map(mul,li)))\n",
    "print(list(map(addmul,li)))"
   ]
  },
  {
   "cell_type": "code",
   "execution_count": 12,
   "id": "1957c95e-62f5-447b-8389-22280ad97988",
   "metadata": {},
   "outputs": [
    {
     "data": {
      "text/plain": [
       "'y'"
      ]
     },
     "execution_count": 12,
     "metadata": {},
     "output_type": "execute_result"
    }
   ],
   "source": [
    "# max *\n",
    "max([1,2,3,4,567,8,6,56,10])\n",
    "max('python') # 문자일 경우 유니코드 값으로 판단"
   ]
  },
  {
   "cell_type": "code",
   "execution_count": 11,
   "id": "964d751d-fc97-4b37-a971-cd69a80fc723",
   "metadata": {},
   "outputs": [
    {
     "data": {
      "text/plain": [
       "'h'"
      ]
     },
     "execution_count": 11,
     "metadata": {},
     "output_type": "execute_result"
    }
   ],
   "source": [
    "# min *\n",
    "min([1,2,3,4,56,7,11,8,9,12])\n",
    "min('python') # 문자일 경우 유니코드 값으로 판단"
   ]
  },
  {
   "cell_type": "code",
   "execution_count": null,
   "id": "620a5ff8-bcc9-444e-96fe-b3804a625a26",
   "metadata": {},
   "outputs": [],
   "source": [
    "# open *\n",
    "f = open('README.md','r',encoding=\"utf-8\")\n",
    "f.read()"
   ]
  },
  {
   "cell_type": "code",
   "execution_count": 20,
   "id": "38ca14b8-5a7b-4920-9041-8f8d531ac39d",
   "metadata": {},
   "outputs": [
    {
     "name": "stdout",
     "output_type": "stream",
     "text": [
      "32\n"
     ]
    }
   ],
   "source": [
    "# pow * x를 y제곱한 결과값을 리턴\n",
    "print(pow(2,5))"
   ]
  },
  {
   "cell_type": "code",
   "execution_count": 23,
   "id": "4464d3b8-1b6a-473b-9645-ee1210c087d7",
   "metadata": {},
   "outputs": [
    {
     "name": "stdout",
     "output_type": "stream",
     "text": [
      "[0, 1, 2, 3, 4]\n",
      "[5, 6, 7, 8, 9]\n",
      "[5, 7, 9]\n",
      "[15, 14, 13, 12, 11]\n"
     ]
    }
   ],
   "source": [
    "# range **\n",
    "# 인수가 하나\n",
    "print(list(range(5)))\n",
    "# 인수가 2개\n",
    "print(list(range(5,10)))\n",
    "# 인수가 3개\n",
    "print(list(range(5,10,2)))\n",
    "# 역수 (스탭조절)\n",
    "print(list(range(15,10,-1)))"
   ]
  },
  {
   "cell_type": "code",
   "execution_count": 28,
   "id": "db8eff84-869d-4dee-a9ef-f2fd1bf12492",
   "metadata": {},
   "outputs": [
    {
     "name": "stdout",
     "output_type": "stream",
     "text": [
      "3\n",
      "4\n",
      "3\n",
      "3.5\n",
      "3.495\n"
     ]
    }
   ],
   "source": [
    "# round * 반올림\n",
    "print(round(3.45))\n",
    "print(round(3.556))\n",
    "print(round(3.495))\n",
    "print(round(3.495,2))\n",
    "print(round(3.495,3))"
   ]
  },
  {
   "cell_type": "code",
   "execution_count": 35,
   "id": "aa8b8b9b-5da1-449f-9846-926fc874dafb",
   "metadata": {},
   "outputs": [
    {
     "name": "stdout",
     "output_type": "stream",
     "text": [
      "[3, 2, 1, 4, 6, 7]\n",
      "[1, 2, 3, 4, 6, 7]\n",
      "[7, 6, 4, 3, 2, 1]\n"
     ]
    }
   ],
   "source": [
    "# sorted(iterable) * 정렬된 리스트로 리턴\n",
    "a = ([3,2,1,4,6,7])\n",
    "a1 = sorted(a) \n",
    "a2 = sorted(a, reverse=True)\n",
    "print(a)\n",
    "print(a1)\n",
    "print(a2)"
   ]
  },
  {
   "cell_type": "code",
   "execution_count": 38,
   "id": "d0555ee1-f0c8-4144-af1c-34fca953e5fe",
   "metadata": {},
   "outputs": [
    {
     "name": "stdout",
     "output_type": "stream",
     "text": [
      "23 <class 'int'>\n",
      "23 <class 'str'>\n"
     ]
    }
   ],
   "source": [
    "# str * 문자열로 변환\n",
    "num = 23\n",
    "st = str(num)\n",
    "print(num, type(num))\n",
    "print(st, type(st))"
   ]
  },
  {
   "cell_type": "code",
   "execution_count": 40,
   "id": "e116a095-4d48-4600-86a2-d362501c36ac",
   "metadata": {},
   "outputs": [
    {
     "name": "stdout",
     "output_type": "stream",
     "text": [
      "10\n"
     ]
    }
   ],
   "source": [
    "# sum * 이터러블데이터의 합을 리턴\n",
    "print(sum([1,2,3,4]))"
   ]
  },
  {
   "cell_type": "code",
   "execution_count": 47,
   "id": "54346a4e-ed26-4287-93ba-867d758f4728",
   "metadata": {},
   "outputs": [
    {
     "name": "stdout",
     "output_type": "stream",
     "text": [
      "('a', 'b', 'c')\n",
      "(1, 2, 3, 4, 5, 6)\n",
      "(1, 2, 3, 4, 5, 6)\n"
     ]
    }
   ],
   "source": [
    "# tuple * \n",
    "print(tuple(\"abc\"))\n",
    "print(tuple([1,2,3,4,5,6]))\n",
    "print(tuple((1,2,3,4,5,6)))"
   ]
  },
  {
   "cell_type": "code",
   "execution_count": null,
   "id": "7a1421e9-27b4-414b-a1a0-e8bfc648fd70",
   "metadata": {},
   "outputs": [],
   "source": [
    "# type ** 자료형 확인\n",
    "print(type(\"abc\"))\n",
    "print(type(1234))\n",
    "print(type(open((\"README.md\",\"r\")))) # 파일 자료형"
   ]
  },
  {
   "cell_type": "code",
   "execution_count": 59,
   "id": "335e803f-2a52-45f7-92df-ca279717e2b6",
   "metadata": {},
   "outputs": [
    {
     "name": "stdout",
     "output_type": "stream",
     "text": [
      "11 : apple => dog\n",
      "22 : banana => cat\n",
      "33 : kiwi => elephant\n",
      "44 : cherry => lion\n",
      "55 : mango => rabbit\n"
     ]
    }
   ],
   "source": [
    "# zip ** 묶어서 리턴\n",
    "fruit = ['apple','banana','kiwi','cherry','mango']\n",
    "animal = ['dog','cat','elephant','lion','rabbit']\n",
    "num = [11,22,33,44,55]\n",
    "for f, a,n in zip(fruit, animal,num):\n",
    "    print(n,\":\",f,\"=>\",a)"
   ]
  },
  {
   "cell_type": "markdown",
   "id": "54312933-f5ec-415f-8acc-cd5e09ddd626",
   "metadata": {},
   "source": [
    "# 표준 라이브러리"
   ]
  },
  {
   "cell_type": "markdown",
   "id": "4f175286-66a5-4124-83d2-c1d4dfad6347",
   "metadata": {},
   "source": [
    "## datetime.date "
   ]
  },
  {
   "cell_type": "code",
   "execution_count": 101,
   "id": "90b98082-3616-4a48-afc0-beff00c51758",
   "metadata": {},
   "outputs": [
    {
     "name": "stdout",
     "output_type": "stream",
     "text": [
      "전체수업기간: 172 일\n",
      "남은 수업기간: 157 일\n",
      "지난 수업기간: 15 일\n"
     ]
    }
   ],
   "source": [
    "import datetime\n",
    "day1 = datetime.date(2025,2,3)\n",
    "day2 = datetime.date(2025,7,25)\n",
    "diff = day2 - day1\n",
    "print(\"전체수업기간:\",diff.days,\"일\")\n",
    "diff2 = day2 - datetime.datetime.now().date()\n",
    "print(\"남은 수업기간:\", diff2.days,\"일\")\n",
    "print(\"지난 수업기간:\", diff.days-diff2.days,\"일\")\n",
    "#diff.days - 15"
   ]
  },
  {
   "cell_type": "code",
   "execution_count": null,
   "id": "67fd95ca-be88-4241-bda3-b63061db430e",
   "metadata": {},
   "outputs": [],
   "source": [
    "dir(datetime)"
   ]
  },
  {
   "cell_type": "code",
   "execution_count": 81,
   "id": "8b4e0572-9cfb-45dc-a122-dfb52fb94a32",
   "metadata": {},
   "outputs": [
    {
     "data": {
      "text/plain": [
       "datetime.date(2025, 2, 18)"
      ]
     },
     "execution_count": 81,
     "metadata": {},
     "output_type": "execute_result"
    }
   ],
   "source": [
    "datetime.datetime.now().date() # date()를 넣으면 date 타입으로 변환"
   ]
  },
  {
   "cell_type": "code",
   "execution_count": 116,
   "id": "257a96bc-666d-4678-8e64-a8f72ce58760",
   "metadata": {},
   "outputs": [
    {
     "name": "stdout",
     "output_type": "stream",
     "text": [
      "그날은 월요일 입니다.\n"
     ]
    }
   ],
   "source": [
    "days = ['월','화','수','목','금','토','일']\n",
    "day = datetime.date(2020,2,3)\n",
    "print(\"그날은 \" + days[day.weekday()] + \"요일 입니다.\")"
   ]
  },
  {
   "cell_type": "code",
   "execution_count": 76,
   "id": "42cf779e-6557-48ed-8a52-08323cd2aeb1",
   "metadata": {},
   "outputs": [
    {
     "data": {
      "text/plain": [
       "7"
      ]
     },
     "execution_count": 76,
     "metadata": {},
     "output_type": "execute_result"
    }
   ],
   "source": [
    "# 요일 확인\n",
    "# day.isoweekday() 1부터 시작\n"
   ]
  },
  {
   "cell_type": "code",
   "execution_count": 123,
   "id": "eb66c34f-10a3-4e07-b5c2-abf69e57a0d3",
   "metadata": {},
   "outputs": [],
   "source": [
    "# 생일 입력받고 며칠 지났는지 계산하기, 무슨 요일인지\n",
    "import datetime\n",
    "def Birthday():\n",
    "    days = ['월','화','수','목','금','토','일']\n",
    "    birth = input(\"생일을 입력해주세요: (예:2024,11,7)\")\n",
    "    \n",
    "    birth1 = birth.split(\",\")\n",
    "    \n",
    "    year = int(birth1[0])\n",
    "    month = int(birth1[1])\n",
    "    day = int(birth1[2])\n",
    "    \n",
    "    birth2 = datetime.date(year,month,day)\n",
    "    \n",
    "    diff = birth2 - datetime.datetime.now().date()\n",
    "    \n",
    "    return f\"생일은 {abs(diff.days)}일 지났으며, 이날은 {days[birth2.weekday()]}요일 입니다.\""
   ]
  },
  {
   "cell_type": "markdown",
   "id": "be260661-7692-4330-8da8-6e5cba0c15f4",
   "metadata": {},
   "source": [
    "## time"
   ]
  },
  {
   "cell_type": "code",
   "execution_count": 161,
   "id": "780b9cb2-c3e3-4457-a1bf-a37137558475",
   "metadata": {},
   "outputs": [
    {
     "data": {
      "text/plain": [
       "1739855541.152408"
      ]
     },
     "execution_count": 161,
     "metadata": {},
     "output_type": "execute_result"
    }
   ],
   "source": [
    "import time\n",
    "time.time()"
   ]
  },
  {
   "cell_type": "code",
   "execution_count": 162,
   "id": "79f18804-1ec2-4926-a618-7b0122ff180f",
   "metadata": {},
   "outputs": [
    {
     "name": "stdout",
     "output_type": "stream",
     "text": [
      "time.struct_time(tm_year=2025, tm_mon=2, tm_mday=18, tm_hour=14, tm_min=14, tm_sec=38, tm_wday=1, tm_yday=49, tm_isdst=0)\n"
     ]
    }
   ],
   "source": [
    "# time.localtime\n",
    "tt = time.localtime(time.time())\n",
    "print(tt)"
   ]
  },
  {
   "cell_type": "code",
   "execution_count": 163,
   "id": "f3b61710-8c38-4027-afaf-69bb4d7522bb",
   "metadata": {},
   "outputs": [
    {
     "data": {
      "text/plain": [
       "'Tue Feb 18 14:15:47 2025'"
      ]
     },
     "execution_count": 163,
     "metadata": {},
     "output_type": "execute_result"
    }
   ],
   "source": [
    "# time.asctime\n",
    "time.asctime(time.localtime(time.time()))"
   ]
  },
  {
   "cell_type": "code",
   "execution_count": 164,
   "id": "24aa0cf6-e05f-486f-94b4-1d7efac12b44",
   "metadata": {},
   "outputs": [
    {
     "data": {
      "text/plain": [
       "'Tue Feb 18 14:16:02 2025'"
      ]
     },
     "execution_count": 164,
     "metadata": {},
     "output_type": "execute_result"
    }
   ],
   "source": [
    "# time.ctime()\n",
    "time.ctime()"
   ]
  },
  {
   "cell_type": "code",
   "execution_count": 168,
   "id": "1bc29eaa-c26c-4569-be85-1ed3bd30a695",
   "metadata": {},
   "outputs": [
    {
     "data": {
      "text/plain": [
       "'Tue Feb 18 14:18:44 2025'"
      ]
     },
     "execution_count": 168,
     "metadata": {},
     "output_type": "execute_result"
    }
   ],
   "source": [
    "# time.strftime\n",
    "time.strftime('%x', time.localtime(time.time()))\n",
    "time.strftime('%x', time.localtime(time.time()))\n",
    "time.strftime('%c', time.localtime(time.time()))"
   ]
  },
  {
   "cell_type": "code",
   "execution_count": 173,
   "id": "aebe2985-dd1a-4171-9f7c-1148d96aeedf",
   "metadata": {},
   "outputs": [
    {
     "name": "stdout",
     "output_type": "stream",
     "text": [
      "10"
     ]
    }
   ],
   "source": [
    "# time.sleep\n",
    "# 정지 ii\n",
    "for i in range(1,11):\n",
    "    print(i, end='\\r')\n",
    "    time.sleep(0.5)"
   ]
  },
  {
   "cell_type": "markdown",
   "id": "0273cc2e-1f6c-4bc0-9c7e-176688887951",
   "metadata": {},
   "source": [
    "## math.gcd, math.lcm "
   ]
  },
  {
   "cell_type": "code",
   "execution_count": 174,
   "id": "e841167c-9366-4ad1-941f-e18b4b26eec0",
   "metadata": {},
   "outputs": [],
   "source": [
    "import math"
   ]
  },
  {
   "cell_type": "code",
   "execution_count": 177,
   "id": "b5caeb29-5348-4563-b2ed-ea61e86c7b9c",
   "metadata": {},
   "outputs": [
    {
     "name": "stdout",
     "output_type": "stream",
     "text": [
      "3.141592653589793\n",
      "20\n",
      "75\n"
     ]
    }
   ],
   "source": [
    "print(math.pi) # pi 값\n",
    "print(math.gcd(60,100,80)) # 최대공약수 값\n",
    "print(math.lcm(15,25)) # 최소공배수 값"
   ]
  },
  {
   "cell_type": "markdown",
   "id": "e1bf1fd2-f382-4bc1-ad9a-30ea17c057d4",
   "metadata": {},
   "source": [
    "## random"
   ]
  },
  {
   "cell_type": "code",
   "execution_count": 179,
   "id": "ea90b109-1bd6-4549-9d88-458a849b30b1",
   "metadata": {},
   "outputs": [
    {
     "name": "stdout",
     "output_type": "stream",
     "text": [
      "0.7568312220070985\n",
      "1\n"
     ]
    }
   ],
   "source": [
    "# r.random()\n",
    "import random as r\n",
    "print(r.random())# 0.0에서 1.0 사이의 난수\n",
    "# r.randint()\n",
    "print(r.randint(1,10)) # a에서 b까지 난수 리턴"
   ]
  },
  {
   "cell_type": "code",
   "execution_count": 182,
   "id": "aa34c848-bc71-439e-8747-77730d84c8f5",
   "metadata": {},
   "outputs": [
    {
     "name": "stdout",
     "output_type": "stream",
     "text": [
      "55 44 55 33 66 33 "
     ]
    }
   ],
   "source": [
    "r.choice()\n",
    "data = [11,22,33,44,55,66]\n",
    "for n in range(6):\n",
    "    print(r.choice(data),end = ' ')"
   ]
  },
  {
   "cell_type": "code",
   "execution_count": 190,
   "id": "bc3958a9-7bc7-4428-b797-17a775b02d4e",
   "metadata": {},
   "outputs": [
    {
     "name": "stdout",
     "output_type": "stream",
     "text": [
      "[5, 19, 8, 4, 20, 14, 10, 1, 9, 15, 16, 18, 3, 12, 11, 6, 17, 7, 2, 13] 20\n",
      "{1, 2, 3, 4, 5, 6, 7, 8, 9, 10, 11, 12, 13, 14, 15, 16, 17, 18, 19, 20} 20\n"
     ]
    }
   ],
   "source": [
    "# r.sample\n",
    "li = list(range(1,21))\n",
    "arr = []\n",
    "for n in r.sample(li,len(li)):\n",
    "    arr.append(n)\n",
    "print(arr,len(arr))\n",
    "sarr = set(arr)\n",
    "print(sarr,len(sarr))"
   ]
  },
  {
   "cell_type": "code",
   "execution_count": null,
   "id": "ba18d2a2-ff07-47e1-a5ee-c86bbc23e8d9",
   "metadata": {},
   "outputs": [],
   "source": []
  }
 ],
 "metadata": {
  "kernelspec": {
   "display_name": "Python 3 (ipykernel)",
   "language": "python",
   "name": "python3"
  },
  "language_info": {
   "codemirror_mode": {
    "name": "ipython",
    "version": 3
   },
   "file_extension": ".py",
   "mimetype": "text/x-python",
   "name": "python",
   "nbconvert_exporter": "python",
   "pygments_lexer": "ipython3",
   "version": "3.13.1"
  }
 },
 "nbformat": 4,
 "nbformat_minor": 5
}
