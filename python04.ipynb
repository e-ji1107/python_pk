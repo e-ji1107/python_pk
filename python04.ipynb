{
 "cells": [
  {
   "cell_type": "markdown",
   "id": "b7695d46-611c-4fd5-af94-a7942b8616d9",
   "metadata": {},
   "source": [
    "# 함수"
   ]
  },
  {
   "cell_type": "code",
   "execution_count": 1,
   "id": "6ddf272e-00c6-444a-83f2-49938f6edef7",
   "metadata": {},
   "outputs": [],
   "source": [
    "def 덧셈(a,b):\n",
    "    return a + b"
   ]
  },
  {
   "cell_type": "code",
   "execution_count": 7,
   "id": "906aa804-50ac-44b4-9aef-69417c0c55d7",
   "metadata": {},
   "outputs": [
    {
     "name": "stdout",
     "output_type": "stream",
     "text": [
      "6\n"
     ]
    }
   ],
   "source": [
    "c = 덧셈(2,4)\n",
    "print(c)"
   ]
  },
  {
   "cell_type": "code",
   "execution_count": 25,
   "id": "d15070fc-cf31-427d-9aa9-1ca6ab46d95e",
   "metadata": {},
   "outputs": [
    {
     "name": "stdout",
     "output_type": "stream",
     "text": [
      "====2단====\n",
      "2x1 = 2\n",
      "2x2 = 4\n",
      "2x3 = 6\n",
      "2x4 = 8\n",
      "2x5 = 10\n",
      "2x6 = 12\n",
      "2x7 = 14\n",
      "2x8 = 16\n",
      "2x9 = 18\n",
      "\n"
     ]
    }
   ],
   "source": [
    "def gugu(end = 9):\n",
    "    data = ''\n",
    "    for j in range(2,end+1):\n",
    "        print(f\"{str(j)+'단':=^10}\")\n",
    "        for i in range(1,10):\n",
    "            data += (f'{j}x{i} = {j*i}') + '\\n'\n",
    "    return data\n",
    "\n",
    "print(gugu(2))"
   ]
  },
  {
   "cell_type": "code",
   "execution_count": null,
   "id": "e593e981-89e2-419c-871e-a443f95ef948",
   "metadata": {},
   "outputs": [],
   "source": [
    "#print는 보여만주고 값이 없다\n"
   ]
  },
  {
   "cell_type": "markdown",
   "id": "f8048e20-5cc0-46a6-a31b-f135c3146326",
   "metadata": {},
   "source": [
    "##  입력값과 리턴값에 따른 함수의 형태"
   ]
  },
  {
   "cell_type": "markdown",
   "id": "c5c910cf-dfa4-43ab-9d8f-7f316bafa216",
   "metadata": {},
   "source": [
    "### 일반적인 함수"
   ]
  },
  {
   "cell_type": "code",
   "execution_count": 26,
   "id": "9b90b70c-7d6e-4f76-9296-dc878b7bcae8",
   "metadata": {},
   "outputs": [],
   "source": [
    "def add(a,b):\n",
    "    result = a + b\n",
    "    return result"
   ]
  },
  {
   "cell_type": "code",
   "execution_count": 28,
   "id": "5bea8dbe-4507-467d-a559-510c9f05f08d",
   "metadata": {},
   "outputs": [
    {
     "name": "stdout",
     "output_type": "stream",
     "text": [
      "87\n"
     ]
    }
   ],
   "source": [
    "a = add(77,10)\n",
    "print(a)"
   ]
  },
  {
   "cell_type": "code",
   "execution_count": 29,
   "id": "a0c2b056-b4d5-4f53-b034-827e3e0d2e9e",
   "metadata": {},
   "outputs": [],
   "source": [
    "# 입력값이 없는 함수\n",
    "def say():\n",
    "    return '안녕'"
   ]
  },
  {
   "cell_type": "code",
   "execution_count": 30,
   "id": "ff7269a7-90ac-40b6-b329-da10d5d88a7c",
   "metadata": {},
   "outputs": [
    {
     "name": "stdout",
     "output_type": "stream",
     "text": [
      "안녕\n"
     ]
    }
   ],
   "source": [
    "a = say()\n",
    "print(a)"
   ]
  },
  {
   "cell_type": "code",
   "execution_count": 31,
   "id": "92e753a9-06a3-46f1-818c-511bd710f1da",
   "metadata": {},
   "outputs": [],
   "source": [
    "# 리턴 값이 없는 함수"
   ]
  },
  {
   "cell_type": "code",
   "execution_count": 35,
   "id": "66b07a4e-63f7-40ca-9abf-d3fb200a4812",
   "metadata": {},
   "outputs": [],
   "source": [
    "def add(a,b):\n",
    "    print(\"%d, %d의 합은 %d 입니다.\" %(a,b,a+b))"
   ]
  },
  {
   "cell_type": "code",
   "execution_count": 36,
   "id": "f3a977a6-a3b8-4e6e-92c0-62d912a8fec5",
   "metadata": {},
   "outputs": [
    {
     "name": "stdout",
     "output_type": "stream",
     "text": [
      "11, 33의 합은 44 입니다.\n"
     ]
    }
   ],
   "source": [
    "add(11,33)"
   ]
  },
  {
   "cell_type": "code",
   "execution_count": 38,
   "id": "c1c0939b-cd85-44b0-936b-d702970665b4",
   "metadata": {},
   "outputs": [],
   "source": [
    "# 입력값과 리턴값이 없는 함수\n",
    "def say():\n",
    "    print(\"안녕\")\n",
    "    print(\"전 입력값과 리턴값이 없어요.\")\n",
    "    print(\"빠이~\")"
   ]
  },
  {
   "cell_type": "code",
   "execution_count": 39,
   "id": "974c7bf0-4bd0-45f2-84c7-dd3b59518cd9",
   "metadata": {},
   "outputs": [
    {
     "name": "stdout",
     "output_type": "stream",
     "text": [
      "안녕\n",
      "전 입력값과 리턴값이 없어요.\n",
      "빠이~\n"
     ]
    }
   ],
   "source": [
    "say()"
   ]
  },
  {
   "cell_type": "code",
   "execution_count": 45,
   "id": "5f91a98b-609a-4a7f-bd3f-36a665f83295",
   "metadata": {},
   "outputs": [],
   "source": [
    "# 테스트\n",
    "import time as t\n",
    "def disp():\n",
    "    print(\"안녕\\r\", end='')\n",
    "    t.sleep(2)\n",
    "    print(\"전 입력값과 리턴값이 없어요.\\r\",end='')\n",
    "    t.sleep(2)\n",
    "    print(\"빠이~                      \\r\", end='')\n",
    "    t.sleep(2)"
   ]
  },
  {
   "cell_type": "code",
   "execution_count": 46,
   "id": "d5526088-8d9b-4ae3-b57d-cde7220706d2",
   "metadata": {},
   "outputs": [
    {
     "name": "stdout",
     "output_type": "stream",
     "text": [
      "빠이~                      "
     ]
    }
   ],
   "source": [
    "disp()"
   ]
  },
  {
   "cell_type": "code",
   "execution_count": 54,
   "id": "bfea6236-cc24-49bd-b9d9-b8fdb9860149",
   "metadata": {},
   "outputs": [
    {
     "name": "stdout",
     "output_type": "stream",
     "text": [
      "44\n"
     ]
    }
   ],
   "source": [
    "# max()\n",
    "def bs(li=[33,11,22,44]):\n",
    "    sw = 0\n",
    "    for x in range(len(li)):\n",
    "        if sw < li[x]:\n",
    "            sw = li[x]\n",
    "    return sw\n",
    "print(bs())"
   ]
  },
  {
   "cell_type": "code",
   "execution_count": 55,
   "id": "622d0151-31b8-43a1-8cec-a7258e44f640",
   "metadata": {},
   "outputs": [
    {
     "name": "stdout",
     "output_type": "stream",
     "text": [
      "45\n"
     ]
    }
   ],
   "source": [
    "print(bs([1,21,3,41,5,1,24,5,6,3,45,35]))"
   ]
  },
  {
   "cell_type": "code",
   "execution_count": 57,
   "id": "479a1b6a-8d98-4463-9533-f74e578df5b1",
   "metadata": {},
   "outputs": [],
   "source": [
    "# 매개변수를 지정하여 호출하기\n",
    "def sub(a,b):\n",
    "    return a-b"
   ]
  },
  {
   "cell_type": "code",
   "execution_count": 59,
   "id": "dec9635c-77d7-42bb-a392-118f22038475",
   "metadata": {},
   "outputs": [
    {
     "name": "stdout",
     "output_type": "stream",
     "text": [
      "4\n"
     ]
    }
   ],
   "source": [
    "#result = sub(a=7,b=3) 이름을 지정하는 것은 순서가 상관없다\n",
    "result = sub(b=3,a=7)\n",
    "print(result)"
   ]
  },
  {
   "cell_type": "code",
   "execution_count": null,
   "id": "90ddcaa9-ba07-4036-860e-1e86320c3251",
   "metadata": {},
   "outputs": [],
   "source": [
    "#!pip install matplotlib"
   ]
  },
  {
   "cell_type": "code",
   "execution_count": 111,
   "id": "c6b3b2ba-9e35-42e2-bb2a-da1fb15cd9a3",
   "metadata": {},
   "outputs": [],
   "source": [
    "# random 주사위\n",
    "import random as r #as 별명 붙이기\n",
    "import matplotlib.pyplot as plt\n",
    "results = {}\n",
    "def dice(target = 250000):\n",
    "    box = []\n",
    "    num = 0\n",
    "    while num < target:\n",
    "        num = num + 1\n",
    "        ran = r.randint(1,6) # 지정한 값까지 출력됨\n",
    "        box.append(ran)\n",
    "    if target == len(box):\n",
    "        print(f'{target}회 정상 진행되었습니다')\n",
    "    else:\n",
    "        print(f\"검증 결과 횟수 이상이 있습니다. {target}회 목표로 동작하였으나, {len(box)}으로 측정되었습니다\")\n",
    "        \n",
    "    for n in range(1,7):\n",
    "        results[n] = box.count(n)\n",
    "        print(f'{n}번이 {box.count(n)}번 ({(box.count(n)/len(box))*100:.2f})%')\n",
    "    #print(results)\n",
    "    color = [\"skyblue\",\"orange\",\"skyblue\",\"green\",\"skyblue\",\"magenta\"]\n",
    "    plt.bar(results.keys(), results.values(),color=color)\n",
    "    plt.show()"
   ]
  },
  {
   "cell_type": "code",
   "execution_count": 112,
   "id": "38ed22b4-abd3-4afd-b357-22fda6a14b8c",
   "metadata": {},
   "outputs": [
    {
     "name": "stdout",
     "output_type": "stream",
     "text": [
      "250000회 정상 진행되었습니다\n",
      "1번이 41697번 (16.68)%\n",
      "2번이 41725번 (16.69)%\n",
      "3번이 41603번 (16.64)%\n",
      "4번이 41466번 (16.59)%\n",
      "5번이 41747번 (16.70)%\n",
      "6번이 41762번 (16.70)%\n"
     ]
    },
    {
     "data": {
      "image/png": "[encoded data removed]",
      "text/plain": [
       "<Figure size 640x480 with 1 Axes>"
      ]
     },
     "metadata": {},
     "output_type": "display_data"
    }
   ],
   "source": [
    "dice()"
   ]
  },
  {
   "cell_type": "code",
   "execution_count": 123,
   "id": "18059ecb-dbd0-4e3c-9717-68df2981a86f",
   "metadata": {},
   "outputs": [],
   "source": [
    "# 여러 개의 입력값을 받는 함수 만들기\n",
    "def add_many(args): #*을 입력하면 괄호가 빠져도 됨\n",
    "    result = 0\n",
    "    for i in args:\n",
    "        result = result + i\n",
    "    return result"
   ]
  },
  {
   "cell_type": "code",
   "execution_count": 126,
   "id": "c51e778b-969b-4c95-b115-f4b4172e5f23",
   "metadata": {},
   "outputs": [
    {
     "name": "stdout",
     "output_type": "stream",
     "text": [
      "19\n"
     ]
    }
   ],
   "source": [
    "res = add_many((1,2,3,4,5))\n",
    "print(add_many((1,4,5,3,1,5)))"
   ]
  },
  {
   "cell_type": "code",
   "execution_count": 138,
   "id": "db2b651b-ceaa-43e5-9e3d-4321f26a70d5",
   "metadata": {},
   "outputs": [],
   "source": [
    "#로컬 변수들은 그 지역에서만 사용되고 밖으로 나올 수 없다\n",
    "def add_mul(choice, *args):\n",
    "    if choice == \"add\":\n",
    "        result = 0\n",
    "        for i in args:\n",
    "            result = result + i\n",
    "    elif choice == \"sub\":\n",
    "        result = 1\n",
    "        for i in args:\n",
    "            result = result - i\n",
    "    elif choice == \"mul\":\n",
    "        result = 1\n",
    "        for i in args:\n",
    "            result = result * i\n",
    "    elif choice == \"div\":\n",
    "        result = 1\n",
    "        for i in args:\n",
    "            result = result / i\n",
    "    else:\n",
    "        result = choice\n",
    "        print(\"정확하게 입력하세요.\")\n",
    "    return result"
   ]
  },
  {
   "cell_type": "code",
   "execution_count": 140,
   "id": "b4b5cb89-c501-4984-bd9b-3edbe1fc0b69",
   "metadata": {},
   "outputs": [
    {
     "name": "stdout",
     "output_type": "stream",
     "text": [
      "15\n"
     ]
    }
   ],
   "source": [
    "result = add_mul('add',1,2,3,4,5)\n",
    "print(result)"
   ]
  },
  {
   "cell_type": "code",
   "execution_count": 144,
   "id": "dcc4b174-5a97-4b68-8aeb-fb4bdeb4712b",
   "metadata": {},
   "outputs": [
    {
     "name": "stdout",
     "output_type": "stream",
     "text": [
      "{'name': '홍길동', 'age': 21, 'address': '대한민국'}\n"
     ]
    }
   ],
   "source": [
    "# 키워드 매개변수 kwargs\n",
    "# 함수의 리턴값은 무조건 하나이다.\n",
    "def print_kwargs(**kwargs):\n",
    "    print(kwargs)\n",
    "print_kwargs(name='홍길동', age=21,address=\"대한민국\")"
   ]
  },
  {
   "cell_type": "code",
   "execution_count": 147,
   "id": "a8add702-7792-419e-9b3a-dbfe0093d181",
   "metadata": {},
   "outputs": [
    {
     "name": "stdout",
     "output_type": "stream",
     "text": [
      "{'name': '홍길동', 'age': 21, 'address': '대한민국'}\n"
     ]
    }
   ],
   "source": [
    "# 키워드 매개변수 kwargs\n",
    "# 함수의 리턴값은 무조건 하나이다.\n",
    "def print_kwargs(kwargs):\n",
    "    print(kwargs)\n",
    "print_kwargs({'name':'홍길동', 'age':21,'address':'대한민국'})"
   ]
  },
  {
   "cell_type": "code",
   "execution_count": 148,
   "id": "9a11b844-95c4-41fd-a3fe-e384e6e39413",
   "metadata": {},
   "outputs": [],
   "source": [
    "#test\n",
    "def test():\n",
    "    print('저야 영광이죠~!!')\n",
    "    if 13>4 : return\n",
    "    print(\"집에 가고 싶어!!~!\")\n",
    "    return"
   ]
  },
  {
   "cell_type": "code",
   "execution_count": 154,
   "id": "4f37c786-36fb-41e7-a16f-2a41f626ba41",
   "metadata": {},
   "outputs": [
    {
     "name": "stdout",
     "output_type": "stream",
     "text": [
      "저야 영광이죠~!!\n"
     ]
    }
   ],
   "source": [
    "test()"
   ]
  },
  {
   "cell_type": "code",
   "execution_count": 156,
   "id": "d3d52858-bd72-45c9-b8c5-a65bbd7b7d10",
   "metadata": {},
   "outputs": [
    {
     "name": "stdout",
     "output_type": "stream",
     "text": [
      "35 286\n"
     ]
    }
   ],
   "source": [
    "# test2\n",
    "def test2(a,b):\n",
    "    return (a+b, a*b) # 2개의 값을 리턴받으려 할 때는 안보이는 괄호가 쳐져있으며, 튜플이다\n",
    "add_result, mul_result = test2(13,22)\n",
    "print(add_result,mul_result)"
   ]
  },
  {
   "cell_type": "code",
   "execution_count": 165,
   "id": "a3db7eaa-8f44-463f-ab43-fc712505086c",
   "metadata": {},
   "outputs": [],
   "source": [
    "def say_nick(nick):\n",
    "    if nick == \"바보\":\n",
    "        return\n",
    "    print(\"나의 별명은 %s입니다\" %nick)"
   ]
  },
  {
   "cell_type": "code",
   "execution_count": 164,
   "id": "bfd06d94-d980-4c3e-8609-c5bfa4fc0630",
   "metadata": {},
   "outputs": [],
   "source": [
    "say_nick('바보')"
   ]
  }
 ],
 "metadata": {
  "kernelspec": {
   "display_name": "Python 3 (ipykernel)",
   "language": "python",
   "name": "python3"
  },
  "language_info": {
   "codemirror_mode": {
    "name": "ipython",
    "version": 3
   },
   "file_extension": ".py",
   "mimetype": "text/x-python",
   "name": "python",
   "nbconvert_exporter": "python",
   "pygments_lexer": "ipython3",
   "version": "3.13.1"
  }
 },
 "nbformat": 4,
 "nbformat_minor": 5
}
