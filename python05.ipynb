{
 "cells": [
  {
   "cell_type": "markdown",
   "id": "f2d9e770-965e-46f1-9a75-6f4437937d90",
   "metadata": {},
   "source": [
    "# 클래스"
   ]
  },
  {
   "cell_type": "markdown",
   "id": "a0f76526-b14f-4c48-84a1-5a313bd65d18",
   "metadata": {},
   "source": [
    "## 클래스 기본"
   ]
  },
  {
   "cell_type": "code",
   "execution_count": 2,
   "id": "a0f587f6-fa73-4eb4-b636-093273654279",
   "metadata": {},
   "outputs": [
    {
     "name": "stdout",
     "output_type": "stream",
     "text": [
      "[1, 2, 3, 4] <class 'list'>\n",
      "(11, 22, 33, 44) <class 'tuple'>\n"
     ]
    }
   ],
   "source": [
    "what = [1,2,3,4]\n",
    "who = 11,22,33,44\n",
    "print(what, type(what))\n",
    "print(who, type(who))"
   ]
  },
  {
   "cell_type": "code",
   "execution_count": 3,
   "id": "28a5f653-06d4-4049-8759-aea19d4d5cec",
   "metadata": {},
   "outputs": [
    {
     "name": "stdout",
     "output_type": "stream",
     "text": [
      "3\n",
      "7\n"
     ]
    }
   ],
   "source": [
    "result = 0\n",
    "\n",
    "def add(num):\n",
    "    global result\n",
    "    result += num \n",
    "    return result\n",
    "\n",
    "print(add(3))\n",
    "print(add(4))"
   ]
  },
  {
   "cell_type": "code",
   "execution_count": 5,
   "id": "e3aecbfe-6572-4f04-a68f-ca0a78f7f84f",
   "metadata": {},
   "outputs": [
    {
     "name": "stdout",
     "output_type": "stream",
     "text": [
      "3\n",
      "7\n",
      "3\n",
      "10\n"
     ]
    }
   ],
   "source": [
    "result1 = 0\n",
    "result2 = 0\n",
    "def add1(num):\n",
    "    global result1\n",
    "    result1 += num \n",
    "    return result1\n",
    "def add2(num):\n",
    "    global result2\n",
    "    result2 += num \n",
    "    return result2\n",
    "    \n",
    "print(add1(3))\n",
    "print(add1(4))\n",
    "print(add2(3))\n",
    "print(add2(7))"
   ]
  },
  {
   "cell_type": "code",
   "execution_count": 11,
   "id": "a35e3bfd-8d6a-4f1c-ba31-1a08888b6db6",
   "metadata": {},
   "outputs": [
    {
     "name": "stdout",
     "output_type": "stream",
     "text": [
      "3\n",
      "7\n",
      "12\n",
      "6\n",
      "3\n"
     ]
    }
   ],
   "source": [
    "class Calculator:\n",
    "    def __init__(self): # 내부에서만 사용하는 것\n",
    "        self.result = 0\n",
    "    def add(self, num): # 메서드\n",
    "        self.result += num\n",
    "        return self.result\n",
    "    def sub(self, num):\n",
    "        self.result -= num\n",
    "        return self.result\n",
    "# 클래스: 객체의 설계또나 청사진과 같은 개념. 속성과 메서드를 정의하여 객체의 구조와 동작을 설명\n",
    "# 인스턴스: 클래스에 정의된 속성과 메서드를 바탕으로 생성된 실제 객체를 인스턴스라고 함. 클래스의 구체적인 구현물\n",
    "cal1 = Calculator() #[1,2,3,4] 인스턴스화-> cal1을 만든 것 ->실체화 시켰다.\n",
    "cal2 = Calculator() #['a','b']\n",
    "print(cal1.add(3))\n",
    "print(cal1.add(4))\n",
    "print(cal1.add(5))\n",
    "print(cal1.sub(6))\n",
    "print(cal1.sub(3))"
   ]
  },
  {
   "cell_type": "markdown",
   "id": "ee4e17cf-825f-416f-a59d-2f9b1fe1431f",
   "metadata": {},
   "source": [
    "## 생성자"
   ]
  },
  {
   "cell_type": "code",
   "execution_count": 48,
   "id": "ff9b7a4a-9ce0-41c2-96a1-a91a2e51cd2c",
   "metadata": {},
   "outputs": [
    {
     "name": "stdout",
     "output_type": "stream",
     "text": [
      "배가 고파서 떡볶이를 6000원어치 먹었다.\n",
      "배가 고파서 오뎅을 12000원어치 먹었다.\n",
      "배가 고파서 떡볶이를 6000원어치 먹었다.\n",
      "배가 고파서 오뎅을 12000원어치 먹었다.\n",
      "배가 고파서 떡볶이를 9000원어치 먹었다.\n",
      "배가 고파서 오뎅을 18000원어치 먹었다.\n",
      "배가 고파서 떡볶이를 6600원어치 먹었다.\n",
      "배가 고파서 오뎅을 13200원어치 먹었다.\n",
      "배가 고파서 떡볶이를 15000원어치 먹었다.\n",
      "배가 고파서 오뎅을 30000원어치 먹었다.\n",
      "배가 고파서 순대를 60000원어치 먹었다.\n",
      "배가 고파서 떡볶이를 7500원어치 먹었다.\n",
      "배가 고파서 오뎅을 15000원어치 먹었다.\n",
      "배가 고파서 순대를 30000원어치 먹었다.\n"
     ]
    }
   ],
   "source": [
    "# 예제1\n",
    "class Dduk:\n",
    "    def __init__(self,won,ea): #__언더바 2개는 외부에서 접근을 할 수 없다\n",
    "        self.won = won\n",
    "        self.ea = ea\n",
    "    def dduk(self):\n",
    "        result = self.won * self.ea\n",
    "        print(f\"배가 고파서 떡볶이를 {result}원어치 먹었다.\")\n",
    "    def odeng (self):\n",
    "        result = self.won * 2 * self.ea\n",
    "        print(f\"배가 고파서 오뎅을 {result}원어치 먹었다.\")\n",
    "    def sundae (self):\n",
    "        result = self.won * 4 * self.ea\n",
    "        print(f\"배가 고파서 순대를 {result}원어치 먹었다.\")\n",
    "        \n",
    "\n",
    "성훈 = Dduk(2000,3)\n",
    "희성 = Dduk(3000,2)\n",
    "기윤 = Dduk(1500,6)\n",
    "\n",
    "성훈.dduk()\n",
    "성훈.odeng()\n",
    "\n",
    "희성.dduk()\n",
    "희성.odeng()\n",
    "\n",
    "기윤.dduk()\n",
    "기윤.odeng()\n",
    "\n",
    "성훈.__init__(3300,2)\n",
    "\n",
    "성훈.dduk()\n",
    "성훈.odeng()\n",
    "\n",
    "은지 = Dduk(3000,5)\n",
    "\n",
    "은지.dduk()\n",
    "은지.odeng()\n",
    "은지.sundae()\n",
    "\n",
    "은지.__init__(2500,3)\n",
    "\n",
    "은지.dduk()\n",
    "은지.odeng()\n",
    "은지.sundae()"
   ]
  },
  {
   "cell_type": "markdown",
   "id": "fc7ef966-b451-404c-8e5a-9615938d7fd2",
   "metadata": {},
   "source": [
    "## 예제들"
   ]
  },
  {
   "cell_type": "code",
   "execution_count": 44,
   "id": "349eadbd-c94d-4938-a2aa-03096ca66f9b",
   "metadata": {},
   "outputs": [
    {
     "name": "stdout",
     "output_type": "stream",
     "text": [
      "방가방가 저는 고전 인사입니다\n",
      "==============================\n",
      "\n",
      "이것은 예로부터 전해오는 고전 인사입니다. #함수 설명을 할 수 있음\n",
      "\n",
      "==============================\n",
      "Help on function test in module __main__:\n",
      "\n",
      "test()\n",
      "    이것은 예로부터 전해오는 고전 인사입니다. #함수 설명을 할 수 있음\n",
      "\n"
     ]
    }
   ],
   "source": [
    "# 테스트\n",
    "def test():\n",
    "    \"\"\"\n",
    "    이것은 예로부터 전해오는 고전 인사입니다. #함수 설명을 할 수 있음\n",
    "    \"\"\"\n",
    "    print(\"방가방가 저는 고전 인사입니다\")\n",
    "test()\n",
    "print(\"=\"*30)\n",
    "print(test.__doc__)\n",
    "print(\"=\"*30)\n",
    "help(test)"
   ]
  },
  {
   "cell_type": "code",
   "execution_count": null,
   "id": "56ceb337-f060-48ba-8281-da37f70a77d8",
   "metadata": {},
   "outputs": [],
   "source": [
    "# 테스트2\n",
    "# class의 self없이 함수 만들기\n",
    "def set_car(name, color):\n",
    "    return {\"name\":name, \"color\":color}\n",
    "#print(set_car(\"HD\",\"Blue\"))\n",
    "def get_car_info(car):\n",
    "    return f\"Car:{car['name']}, Color:{car['color']}\"\n",
    "\n",
    "# 자동차를 생성\n",
    "car = set_car(\"HD\",\"Blue\")\n",
    "print(car)\n",
    "# 자동차 정보를 생성\n",
    "print(get_car_info(car))\n",
    "\n",
    "print(get_car_info(set_car(\"kia\",\"White\")))"
   ]
  },
  {
   "cell_type": "code",
   "execution_count": null,
   "id": "741c8f14-ecf4-469c-947a-f5c536452153",
   "metadata": {},
   "outputs": [],
   "source": [
    "# 테스트3\n",
    "class Car:\n",
    "    def set_car(name, color):\n",
    "        return {\"name\":name, \"color\":color}\n",
    "    def get_car_info(car):\n",
    "        return f\"Car:{car['name']}, Color:{car['color']}\"\n",
    "\n",
    "car1 = Car.set_car(\"HD\", \"Yello\")\n",
    "car2 = Car.set_car(\"Kia\", \"White\")\n",
    "print(Car.get_car_info(car1))\n",
    "print(Car.get_car_info(car2))"
   ]
  },
  {
   "cell_type": "code",
   "execution_count": null,
   "id": "74823d55-857e-468a-81b8-1367b7f50391",
   "metadata": {},
   "outputs": [],
   "source": [
    "# 테스트4\n",
    "class Car:\n",
    "    def __init__(self,name,color): # 생성자\n",
    "        self.name = name\n",
    "        self.color = color\n",
    "    def get_car_info(self):\n",
    "        return f\"Car:{self.name}, Color:{self.color}\"\n",
    "\n",
    "car1 = Car(\"HD\",\"Black\")\n",
    "car2 = Car(\"Kia\",\"Gray\")\n",
    "\n",
    "print(car1.get_car_info())\n",
    "print(car2.get_car_info())"
   ]
  },
  {
   "cell_type": "code",
   "execution_count": null,
   "id": "0547dfac-5102-44f0-8ffd-c762329b7069",
   "metadata": {},
   "outputs": [],
   "source": [
    "# 테스트5\n",
    "class Car:\n",
    "    def __init__(self,name,color): # 생성자\n",
    "        self.name = name\n",
    "        self.color = color\n",
    "        self.speed = 0 # 초기값 0\n",
    "    def get_car_info(self):\n",
    "        return f\"Car:{self.name}, Color:{self.color}\"\n",
    "    def acc(self,amount): # self가 없으면 전달자가 없기 때문에 오류가 발생한다.\n",
    "        self.speed += amount # 속도 증가\n",
    "        return f\"{self.name} 속도 올려요. 현재 속도는 {self.speed}km/h\"\n",
    "        \n",
    "\n",
    "car1 = Car(\"HD\",\"Black\")\n",
    "car2 = Car(\"Kia\",\"Gray\")\n",
    "\n",
    "print(car1.get_car_info())\n",
    "print(car2.get_car_info())\n",
    "print(car1.acc(30))\n",
    "print(car2.acc(50))\n",
    "print(car1.acc(10))"
   ]
  },
  {
   "cell_type": "code",
   "execution_count": null,
   "id": "4bd1e9f6-ca8b-4118-8d56-c274cad27824",
   "metadata": {},
   "outputs": [],
   "source": [
    "# 테스트 연습\n",
    "import time as t\n",
    "for n in range(60):\n",
    "    print(car1.acc(1))\n",
    "    t.sleep(1)\n",
    "print(\"60km/h 속도 유지중...\")"
   ]
  },
  {
   "cell_type": "code",
   "execution_count": null,
   "id": "c262bcb6-a1a9-49f3-b85b-6981e9fa8ee5",
   "metadata": {},
   "outputs": [],
   "source": [
    "# 테스트 6 상속\n",
    "class Mycar(Car):\n",
    "    def turbo(self):\n",
    "        self.speed += 50\n",
    "        return(f\"내차가 나른다! 터보 {self.speed}km/h\")\n",
    "    def acc(self):\n",
    "        self.speed += 30 #속도가 증가\n",
    "        return f\"{self.name}\"\n",
    "\n",
    "my = Mycar(\"mycar\", \"skyblue\")\n",
    "car0 = Car(\"Kia\",\"Gray\")\n",
    "print(car0.acc(10))\n",
    "print(my.acc())\n",
    "\n",
    "print(my.turbo())\n",
    "print(my.turbo())"
   ]
  },
  {
   "cell_type": "code",
   "execution_count": null,
   "id": "43ca8ef1-59d6-497a-a8d4-753a0b043241",
   "metadata": {},
   "outputs": [],
   "source": [
    "# 테스트 7\n",
    "class pet():\n",
    "    def __init__(self, name,species):\n",
    "        \"\"\"펫을 생성\"\"\"\n",
    "        self.name = name\n",
    "        self.species = species\n",
    "        self.hunger = 50 # 초기 배고픔 수치(0~100)\n",
    "    def feed(self):\n",
    "        \"\"\"밥을 주면 배고픔 감소\"\"\"\n",
    "        if self.hunger > 10:\n",
    "            self.hunger -= 10\n",
    "            return f\"{self.name}에게 밥을 주었습니다! 배고픔: {self.hunger}\"\n",
    "    def play(self):\n",
    "        \"\"\"놀아주면 배고픔 증가\"\"\"\n",
    "        if self.hunger < 80:\n",
    "            self.hunger += 20\n",
    "        return f\"{self.name}와 아주 잘 놀아줬어요!! 배고픔:{self.hunger}\"\n",
    "        \n",
    "\n",
    "# 펫생성\n",
    "dog1 = pet(\"뽀삐\",\"말티즈\")\n",
    "dog2 = pet(\"아지\",\"요크\")\n",
    "cat = pet(\"컁이\",\"나만없어고양이\")\n",
    "print(dog1.feed())\n",
    "print(dog1.play())\n",
    "print(cat.play())"
   ]
  },
  {
   "cell_type": "code",
   "execution_count": null,
   "id": "e7ccfba6-9cb2-438a-9259-c6a421e624af",
   "metadata": {
    "scrolled": true
   },
   "outputs": [],
   "source": [
    "# 테스트 8\n",
    "class Bacteria:\n",
    "    def __init__(self,initial_population, growth_rate):\n",
    "        \"\"\"세균초기화\"\"\"\n",
    "        self.population = initial_population\n",
    "        self.growth_rate = growth_rate\n",
    "        self.time = 0\n",
    "    def grow(self, hours):\n",
    "        \"\"\"일정 시간이 지나면 세균이 증식함\"\"\"\n",
    "        self.time += hours\n",
    "        self.population *= self.growth_rate**hours\n",
    "        return f\"{self.time} 시간 후 세균 수: {int(self.population)} 마리\"\n",
    "    def check(self):\n",
    "        \"\"\"현재 세균 수 확인\"\"\"\n",
    "        return f\"현재 세균 수: {int(self.population)} 마리\"\n",
    "\n",
    "bacteria = Bacteria(100,2)\n",
    "\n",
    "print(bacteria.grow(1))\n",
    "print(bacteria.grow(2))\n",
    "print(bacteria.grow(3))"
   ]
  },
  {
   "cell_type": "code",
   "execution_count": 82,
   "id": "a15f5a65-5e70-411e-909f-c38b1298e52f",
   "metadata": {},
   "outputs": [
    {
     "name": "stdout",
     "output_type": "stream",
     "text": [
      "철수님의 잔고는 50000원 입니다.\n",
      "영희님의 잔고는 200000원 입니다.\n",
      "철수님의 잔고는 9000000원 입니다.\n"
     ]
    }
   ],
   "source": [
    "# 테스트 9 은행 예금 - 캡슐화 x, 클래스 변수\n",
    "class BankAccount:\n",
    "    interest_rate = 0.02 #클래스 변수, 이자율, 함수 1개가 아닌 모든 함수에 적용이 되는 것.\n",
    "    def __init__(self,owner,balance):\n",
    "        self.owner = owner #계좌주\n",
    "        self.balance = balance or 0 #잔액\n",
    "    def bprint(self):\n",
    "        return f'{self.owner}님의 잔고는 {self.balance}원 입니다.'\n",
    "\n",
    "acc1 = BankAccount(\"철수\",50000)\n",
    "acc2 = BankAccount(\"영희\",200000)\n",
    "print(acc1.bprint())\n",
    "print(acc2.bprint())\n",
    "#공격후\n",
    "acc1.balance = 9000000\n",
    "print(acc1.bprint())"
   ]
  },
  {
   "cell_type": "code",
   "execution_count": 108,
   "id": "43a86d3e-5e98-49e5-a7c8-0b742176ac9c",
   "metadata": {},
   "outputs": [
    {
     "name": "stdout",
     "output_type": "stream",
     "text": [
      "철수님의 잔고는 50000원 입니다.\n",
      "영희님의 잔고는 200000원 입니다.\n",
      "0.02%의 이자가 반영된 금액은 51000원 입니다.\n",
      "0.02%의 이자가 반영된 금액은 204000원 입니다.\n",
      "0.03%의 이자가 반영된 금액은 51500원 입니다.\n",
      "0.03%의 이자가 반영된 금액은 206000원 입니다.\n"
     ]
    }
   ],
   "source": [
    "# 테스트 9 은행 예금 - 캡슐화 o, 클래스 변수\n",
    "class BankAccount:\n",
    "    \n",
    "    interest_rate = 0.02 #클래스 변수, 이자율, 함수 1개가 아닌 모든 함수에 적용이 되는 것.\n",
    "    \n",
    "    def __init__(self,owner,balance):\n",
    "        self.owner = owner #계좌주\n",
    "        self.__balance = balance or 0 #잔액\n",
    "    def bprint(self):\n",
    "        return f'{self.owner}님의 잔고는 {self.__balance}원 입니다.'\n",
    "    def deposit(self, amount):\n",
    "        self.__balance += amount\n",
    "        return f\"{self.owner}님의 계좌에 {amount}원이 입금 되었습니다. 현재 잔액: {self.__balance}원\"\n",
    "    def withdraw(self, amount):\n",
    "        if self.__balance >= amount:\n",
    "            self.__balance -= amount\n",
    "            return f\"{self.owner}님의 계좌에 {amount}원이 출금 되었습니다. 현재 잔액: {self.__balance}원\"\n",
    "        return \"잔액이 부족합니다.\"\n",
    "    def interest(self):\n",
    "        total = self.__balance * (1 + self.interest_rate)\n",
    "        return f\"{self.interest_rate}%의 이자가 반영된 금액은 {total:.0f}원 입니다.\"\n",
    "        \n",
    "        \n",
    "\n",
    "acc3 = BankAccount(\"철수\",50000)\n",
    "acc4 = BankAccount(\"영희\",200000)\n",
    "print(acc3.bprint())\n",
    "print(acc4.bprint())\n",
    "print(acc3.interest())\n",
    "print(acc4.interest())\n",
    "BankAccount.interest_rate = 0.03\n",
    "print(acc3.interest())\n",
    "print(acc4.interest())\n",
    "\n",
    "\n",
    "#공격후\n",
    "#print(acc3.bprint())\n",
    "#acc3.deposit(30000)\n",
    "#acc3.withdraw(5500)\n",
    "#"
   ]
  },
  {
   "cell_type": "code",
   "execution_count": 112,
   "id": "039fb24d-1b7d-49fb-9345-003768b657b1",
   "metadata": {},
   "outputs": [
    {
     "name": "stdout",
     "output_type": "stream",
     "text": [
      "잔액이 2000원으로 증가했습니다.\n",
      "콜라을(를) 구매했습니다! 남은 잔액: 500원\n",
      "잔액이 부족합니다! (사이다 가격: 1400원, 현재 잔액: 500원\n",
      "잔액 500원이 반환되었습니다.\n"
     ]
    }
   ],
   "source": [
    "class VendingMachine:\n",
    "    def __init__(self):\n",
    "        \"\"\"자동판매기 초기화\"\"\"\n",
    "        self.balance = 0 # 사용자의 잔액\n",
    "        self.items = { #상품 목록 (이름:가격)\n",
    "            \"콜라\" : 1500,\n",
    "            \"사이다\" : 1400,\n",
    "            \"물\" : 1000\n",
    "        }\n",
    "    def insert_money(self, amount):\n",
    "        \"\"\"잔액 충전\"\"\"\n",
    "        self.balance += amount\n",
    "        return f\"잔액이 {self.balance}원으로 증가했습니다.\"\n",
    "    def buy_item(self,item_name):\n",
    "        \"\"\"상품 구매\"\"\"\n",
    "        if item_name not in self.items:\n",
    "            return f\"{item_name}은(는) 판매하지 않는 상품입니다.\"\n",
    "        price = self.items[item_name]\n",
    "        if self.balance < price:\n",
    "            return f\"잔액이 부족합니다! ({item_name} 가격: {price}원, 현재 잔액: {self.balance}원\"\n",
    "        self.balance -= price\n",
    "        return f\"{item_name}을(를) 구매했습니다! 남은 잔액: {self.balance}원\"\n",
    "    def refund(self):\n",
    "        \"\"\"잔액 반환\"\"\"\n",
    "        amount = self.balance\n",
    "        self.balance = 0\n",
    "        return f\"잔액 {amount}원이 반환되었습니다.\"\n",
    "# 자동 판매기 객체 생성\n",
    "vm = VendingMachine()\n",
    "# 잔액 충전\n",
    "print(vm.insert_money(2000)) # 잔액 2000원 증가\n",
    "# 상품 구매\n",
    "print(vm.buy_item(\"콜라\"))\n",
    "print(vm.buy_item(\"사이다\"))\n",
    "# 잔액 반환\n",
    "print(vm.refund())"
   ]
  },
  {
   "cell_type": "code",
   "execution_count": 1,
   "id": "82d550d7-b6ca-4a4e-aafc-0cd5f8a356b7",
   "metadata": {},
   "outputs": [],
   "source": [
    "import turtle\n",
    "window = turtle.Screen()\n",
    "window.bgcolor(\"black\")\n",
    "# 거북이 생성\n",
    "my_turtle = turtle.Turtle()\n",
    "my_turtle.shape(\"turtle\")\n",
    "my_turtle.color(\"yellow\")\n",
    "\n",
    "my_turtle = turtle.forward(300) # 앞으로 100 픽셀 이동\n",
    "my_turtle = turtle.right(90) # 오른쪽으로 90도 회전"
   ]
  },
  {
   "cell_type": "code",
   "execution_count": 2,
   "id": "b9b7bcb8-31b3-47d9-b1f6-94207fd23fcc",
   "metadata": {},
   "outputs": [],
   "source": [
    "window.mainloop()"
   ]
  },
  {
   "cell_type": "code",
   "execution_count": 4,
   "id": "1246b238-7c5d-4e82-ad28-aa17c47e28dc",
   "metadata": {},
   "outputs": [
    {
     "name": "stdout",
     "output_type": "stream",
     "text": [
      "1 2\n"
     ]
    }
   ],
   "source": [
    "# 테스트\n",
    "a, _, c = 1,77,2 # 중요한게 아니라 생략해도 된다\n",
    "print(a,c)"
   ]
  },
  {
   "cell_type": "code",
   "execution_count": 7,
   "id": "2a7502bd-a464-4670-9287-cf04bc724f64",
   "metadata": {},
   "outputs": [
    {
     "name": "stdout",
     "output_type": "stream",
     "text": [
      "인사 다섯번\n",
      "인사 다섯번\n",
      "인사 다섯번\n",
      "인사 다섯번\n",
      "인사 다섯번\n"
     ]
    }
   ],
   "source": [
    "for _ in range(5):\n",
    "    print(\"인사 다섯번\")"
   ]
  },
  {
   "cell_type": "code",
   "execution_count": null,
   "id": "d449fce2-72f7-4879-a0af-89f88922e6b7",
   "metadata": {},
   "outputs": [],
   "source": []
  }
 ],
 "metadata": {
  "kernelspec": {
   "display_name": "Python 3 (ipykernel)",
   "language": "python",
   "name": "python3"
  },
  "language_info": {
   "codemirror_mode": {
    "name": "ipython",
    "version": 3
   },
   "file_extension": ".py",
   "mimetype": "text/x-python",
   "name": "python",
   "nbconvert_exporter": "python",
   "pygments_lexer": "ipython3",
   "version": "3.13.1"
  }
 },
 "nbformat": 4,
 "nbformat_minor": 5
}
