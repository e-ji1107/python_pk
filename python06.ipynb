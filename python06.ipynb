{
 "cells": [
  {
   "cell_type": "markdown",
   "id": "3cdc8233-d764-4a93-81a8-3522ab2e860c",
   "metadata": {},
   "source": [
    "# 모듈"
   ]
  },
  {
   "cell_type": "markdown",
   "id": "9c3a20de-20c6-4377-8ec5-eca7e748142a",
   "metadata": {},
   "source": [
    "## 모듈 만들기"
   ]
  },
  {
   "cell_type": "code",
   "execution_count": 6,
   "id": "0e6d4b3c-1164-4e95-b1f7-cb218396af42",
   "metadata": {},
   "outputs": [],
   "source": [
    "# 모듈 만들기 - mod1.py\n",
    "#def add(a,b):\n",
    "#    return a + b\n",
    "#def sub(a,b):\n",
    "#    return a - b"
   ]
  },
  {
   "cell_type": "code",
   "execution_count": 2,
   "id": "2fc8c2a8-0c51-470a-ad8e-0eb7061b3a09",
   "metadata": {},
   "outputs": [
    {
     "name": "stdout",
     "output_type": "stream",
     "text": [
      "-11\n"
     ]
    }
   ],
   "source": [
    "import mod1\n",
    "print(mod1.sub(11,22))"
   ]
  },
  {
   "cell_type": "code",
   "execution_count": 34,
   "id": "6212c628-2a8c-4ed9-9b36-ea6f24a592e2",
   "metadata": {},
   "outputs": [],
   "source": [
    "with open(\"mod2.py\",\"w\") as f:\n",
    "    data = \"\"\"def mul(a,b):\n",
    "        return a*b\n",
    "def div(a,b):\n",
    "        return a/b\"\"\"\n",
    "    f.write(data)"
   ]
  },
  {
   "cell_type": "code",
   "execution_count": 35,
   "id": "f4562966-2f86-4e06-84ed-369be1b4cc60",
   "metadata": {},
   "outputs": [
    {
     "name": "stdout",
     "output_type": "stream",
     "text": [
      "12\n",
      "0.75\n"
     ]
    }
   ],
   "source": [
    "import mod2\n",
    "print(mod2.mul(3,4))\n",
    "print(mod2.div(3,4))"
   ]
  },
  {
   "cell_type": "code",
   "execution_count": 36,
   "id": "e3708dd5-c127-4f69-af9d-84503fccf4f0",
   "metadata": {},
   "outputs": [
    {
     "name": "stdout",
     "output_type": "stream",
     "text": [
      "33\n",
      "-11\n",
      "12\n",
      "0.75\n"
     ]
    }
   ],
   "source": [
    "import mod1, mod2\n",
    "print(mod1.add(11,22))\n",
    "print(mod1.sub(11,22))\n",
    "print(mod2.mul(3,4))\n",
    "print(mod2.div(3,4))"
   ]
  },
  {
   "cell_type": "code",
   "execution_count": 1,
   "id": "e662182a-8f96-401c-97cd-3761f9316ed1",
   "metadata": {},
   "outputs": [
    {
     "name": "stdout",
     "output_type": "stream",
     "text": [
      "33\n",
      "-11\n",
      "12\n",
      "0.75\n"
     ]
    }
   ],
   "source": [
    "#import mod1 as m1\n",
    "#import mod2 as m2\n",
    "import mod1 as m1, mod2 as m2\n",
    "print(m1.add(11,22))\n",
    "print(m1.sub(11,22))\n",
    "print(m2.mul(3,4))\n",
    "print(m2.div(3,4))"
   ]
  },
  {
   "cell_type": "code",
   "execution_count": 2,
   "id": "e68d18f2-ffd7-4397-aec2-55eb7e6cb978",
   "metadata": {},
   "outputs": [
    {
     "name": "stdout",
     "output_type": "stream",
     "text": [
      "77\n"
     ]
    }
   ],
   "source": [
    "from mod1 import add, sub\n",
    "print(add(33,44))"
   ]
  },
  {
   "cell_type": "code",
   "execution_count": 3,
   "id": "0a74745e-80e3-45fd-a94c-c2a2751048d3",
   "metadata": {},
   "outputs": [
    {
     "name": "stdout",
     "output_type": "stream",
     "text": [
      "12\n"
     ]
    }
   ],
   "source": [
    "from mod2 import * #다른 모듈에 무엇이 들어있을지 모르기 때문에 충돌을 주의해야 한다.\n",
    "print(mul(3,4))"
   ]
  },
  {
   "cell_type": "markdown",
   "id": "acd66e6c-9b5c-46d3-b4b2-fc294e877da1",
   "metadata": {},
   "source": [
    "## __main__의 의미"
   ]
  },
  {
   "cell_type": "code",
   "execution_count": 17,
   "id": "44bf9d71-2ef8-46aa-9161-593c9e3f0e41",
   "metadata": {},
   "outputs": [],
   "source": [
    "with open(\"mod1.py\",\"a\") as f:\n",
    "    text = \"\"\"\\nprint(add(1,4))\\nprint(sub(4,2))\n",
    "    \"\"\"\n",
    "    f.write(text)"
   ]
  },
  {
   "cell_type": "code",
   "execution_count": 18,
   "id": "118eac10-1fdb-4a54-a991-ab20e431011d",
   "metadata": {},
   "outputs": [
    {
     "name": "stdout",
     "output_type": "stream",
     "text": [
      "Microsoft Windows [Version 10.0.26100.2894]\n",
      "(c) Microsoft Corporation. All rights reserved.\n",
      "\n",
      "EJ\\code>python mod1.py\n",
      "5\n",
      "2\n",
      "5\n",
      "2\n",
      "__main__\n",
      "5\n",
      "2\n",
      "\n",
      "D:\\YEJ\\code>"
     ]
    }
   ],
   "source": [
    "# %%bash: 우분투\n",
    "%%cmd\n",
    "python mod1.py"
   ]
  },
  {
   "cell_type": "code",
   "execution_count": 1,
   "id": "3e705cc7-9958-4d41-9dc5-739bacdca5a6",
   "metadata": {},
   "outputs": [
    {
     "name": "stdout",
     "output_type": "stream",
     "text": [
      "5\n",
      "2\n",
      "mod1\n",
      "전 모듈로 임포트 되었어요.\n"
     ]
    },
    {
     "data": {
      "text/plain": [
       "['__builtins__',\n",
       " '__cached__',\n",
       " '__doc__',\n",
       " '__file__',\n",
       " '__loader__',\n",
       " '__name__',\n",
       " '__package__',\n",
       " '__spec__',\n",
       " 'add',\n",
       " 'sub']"
      ]
     },
     "execution_count": 1,
     "metadata": {},
     "output_type": "execute_result"
    }
   ],
   "source": [
    "import mod1\n",
    "dir(mod1)\n",
    "#print(dir(mod1))"
   ]
  },
  {
   "cell_type": "code",
   "execution_count": 2,
   "id": "52c869b2-1106-4f48-bd5d-20f56ede1916",
   "metadata": {},
   "outputs": [
    {
     "name": "stdout",
     "output_type": "stream",
     "text": [
      "19\n",
      "삼성전자: 56,000원\n",
      "17\n",
      "기아: 94,600원\n",
      "18\n",
      "현대차: 207,500원\n"
     ]
    },
    {
     "data": {
      "text/plain": [
       "['__builtins__',\n",
       " '__cached__',\n",
       " '__doc__',\n",
       " '__file__',\n",
       " '__loader__',\n",
       " '__name__',\n",
       " '__package__',\n",
       " '__spec__',\n",
       " 'f1',\n",
       " 'f2',\n",
       " 'html',\n",
       " 'req',\n",
       " 'url',\n",
       " 'web']"
      ]
     },
     "execution_count": 2,
     "metadata": {},
     "output_type": "execute_result"
    }
   ],
   "source": [
    "import sam\n",
    "dir(sam)"
   ]
  },
  {
   "cell_type": "code",
   "execution_count": null,
   "id": "90ae0361-97bd-401a-9bed-36dd3ba37363",
   "metadata": {},
   "outputs": [],
   "source": [
    "import sam\n",
    "sam.sam('기아')\n",
    "#오류"
   ]
  },
  {
   "cell_type": "markdown",
   "id": "fcfd5b84-ac8e-4458-974f-44efe1d4659d",
   "metadata": {},
   "source": [
    "## 클래스나 변수등을 포함한 모듈"
   ]
  },
  {
   "cell_type": "code",
   "execution_count": 2,
   "id": "a85ca7e2-8a06-4748-ae05-6a80b091f70b",
   "metadata": {},
   "outputs": [],
   "source": [
    "with open(\"mod3.py\",\"w\") as f:\n",
    "    text = \"\"\"PI = 3.141592\\n\\nclass Math:\\n\\tdef solv(self,r):\\n\\t\\treturn PI * (r**2)\\ndef add(a,b):\\n\\t\\treturn a + b\"\"\"\n",
    "    f.write(text)\n"
   ]
  },
  {
   "cell_type": "code",
   "execution_count": null,
   "id": "fe47dd01-5853-4fa3-b3dd-cbe4d79a379e",
   "metadata": {},
   "outputs": [],
   "source": [
    "%%cmd\n",
    "set \n"
   ]
  },
  {
   "cell_type": "code",
   "execution_count": 3,
   "id": "91208118-ebc0-41c5-a1e9-f9725a0d333b",
   "metadata": {},
   "outputs": [
    {
     "name": "stdout",
     "output_type": "stream",
     "text": [
      "3.141592\n",
      "314.1592\n",
      "7.5415920000000005\n"
     ]
    }
   ],
   "source": [
    "import mod3\n",
    "# 변수\n",
    "print(mod3.PI)\n",
    "\n",
    "# 클래스\n",
    "a = mod3.Math()\n",
    "print(a.solv(10))\n",
    "\n",
    "# 함수\n",
    "print(mod3.add(mod3.PI,4.4))"
   ]
  },
  {
   "cell_type": "markdown",
   "id": "7ffc03f3-b6b2-419b-b259-6719ee99aa7d",
   "metadata": {},
   "source": [
    "## 다른 디렉터리에 있는 모듈 불러오는 방법"
   ]
  },
  {
   "cell_type": "code",
   "execution_count": 2,
   "id": "64edb519-09f0-49be-85b8-3033a4b28488",
   "metadata": {},
   "outputs": [
    {
     "data": {
      "text/plain": [
       "['C:\\\\Users\\\\Admin\\\\AppData\\\\Local\\\\Programs\\\\Python\\\\Python313\\\\python313.zip',\n",
       " 'C:\\\\Users\\\\Admin\\\\AppData\\\\Local\\\\Programs\\\\Python\\\\Python313\\\\DLLs',\n",
       " 'C:\\\\Users\\\\Admin\\\\AppData\\\\Local\\\\Programs\\\\Python\\\\Python313\\\\Lib',\n",
       " 'C:\\\\Users\\\\Admin\\\\AppData\\\\Local\\\\Programs\\\\Python\\\\Python313',\n",
       " '',\n",
       " 'C:\\\\Users\\\\Admin\\\\AppData\\\\Local\\\\Programs\\\\Python\\\\Python313\\\\Lib\\\\site-packages',\n",
       " 'C:\\\\Users\\\\Admin\\\\AppData\\\\Local\\\\Programs\\\\Python\\\\Python313\\\\Lib\\\\site-packages\\\\win32',\n",
       " 'C:\\\\Users\\\\Admin\\\\AppData\\\\Local\\\\Programs\\\\Python\\\\Python313\\\\Lib\\\\site-packages\\\\win32\\\\lib',\n",
       " 'C:\\\\Users\\\\Admin\\\\AppData\\\\Local\\\\Programs\\\\Python\\\\Python313\\\\Lib\\\\site-packages\\\\Pythonwin']"
      ]
     },
     "execution_count": 2,
     "metadata": {},
     "output_type": "execute_result"
    }
   ],
   "source": [
    "import sys\n",
    "sys.path"
   ]
  },
  {
   "cell_type": "code",
   "execution_count": 3,
   "id": "a1b55c8c-6fc2-41c9-af27-09a053a98a93",
   "metadata": {},
   "outputs": [
    {
     "data": {
      "text/plain": [
       "['C:\\\\Users\\\\Admin\\\\AppData\\\\Local\\\\Programs\\\\Python\\\\Python313\\\\python313.zip',\n",
       " 'C:\\\\Users\\\\Admin\\\\AppData\\\\Local\\\\Programs\\\\Python\\\\Python313\\\\DLLs',\n",
       " 'C:\\\\Users\\\\Admin\\\\AppData\\\\Local\\\\Programs\\\\Python\\\\Python313\\\\Lib',\n",
       " 'C:\\\\Users\\\\Admin\\\\AppData\\\\Local\\\\Programs\\\\Python\\\\Python313',\n",
       " '',\n",
       " 'C:\\\\Users\\\\Admin\\\\AppData\\\\Local\\\\Programs\\\\Python\\\\Python313\\\\Lib\\\\site-packages',\n",
       " 'C:\\\\Users\\\\Admin\\\\AppData\\\\Local\\\\Programs\\\\Python\\\\Python313\\\\Lib\\\\site-packages\\\\win32',\n",
       " 'C:\\\\Users\\\\Admin\\\\AppData\\\\Local\\\\Programs\\\\Python\\\\Python313\\\\Lib\\\\site-packages\\\\win32\\\\lib',\n",
       " 'C:\\\\Users\\\\Admin\\\\AppData\\\\Local\\\\Programs\\\\Python\\\\Python313\\\\Lib\\\\site-packages\\\\Pythonwin',\n",
       " 'D:\\\\yej\\\\code\\\\mymod']"
      ]
     },
     "execution_count": 3,
     "metadata": {},
     "output_type": "execute_result"
    }
   ],
   "source": [
    "sys.path.append('D:\\\\yej\\\\code\\\\mymod') # 초기화하면 사라짐\n",
    "sys.path"
   ]
  },
  {
   "cell_type": "code",
   "execution_count": 7,
   "id": "96bd9d4a-3b6e-4e3b-8e6f-f7d2bb2fe12c",
   "metadata": {},
   "outputs": [
    {
     "name": "stdout",
     "output_type": "stream",
     "text": [
      "Requirement already satisfied: python-dotenv in c:\\users\\admin\\appdata\\local\\programs\\python\\python313\\lib\\site-packages (1.0.1)\n"
     ]
    }
   ],
   "source": [
    "#!python.exe -m pip install --upgrade pip\n",
    "!pip install python-dotenv\n"
   ]
  },
  {
   "cell_type": "code",
   "execution_count": 15,
   "id": "0e0ae0fd-f2ee-42b7-bd46-69160a007860",
   "metadata": {},
   "outputs": [
    {
     "name": "stdout",
     "output_type": "stream",
     "text": [
      "myphone01044449999\n",
      "http://www.google.com\n",
      "이게 될까 모르겠어요!\n"
     ]
    }
   ],
   "source": [
    "from dotenv import load_dotenv\n",
    "import os\n",
    "\n",
    "# .env 파일 로드\n",
    "load_dotenv()\n",
    "\n",
    "SKEY = os.getenv(\"SECRET_KEY\")\n",
    "print(SKEY)\n",
    "DBUG = os.getenv(\"DEBUG\")\n",
    "print(DBUG)\n",
    "TEST = os.getenv(\"TEST\")\n",
    "print(TEST)"
   ]
  },
  {
   "cell_type": "code",
   "execution_count": 34,
   "id": "20aa7799-83b1-48e6-80c0-3d99a5aef700",
   "metadata": {},
   "outputs": [
    {
     "name": "stdout",
     "output_type": "stream",
     "text": [
      "{\n",
      "\t\"lastBuildDate\":\"Thu, 13 Feb 2025 15:53:17 +0900\",\n",
      "\t\"total\":11394711,\n",
      "\t\"start\":1,\n",
      "\t\"display\":5,\n",
      "\t\"items\":[\n",
      "\t\t{\n",
      "\t\t\t\"title\":\"[단독] 절대평가 <b>삼성<\\/b> 신인사제도…하위 10% 할당 존재\",\n",
      "\t\t\t\"originallink\":\"https:\\/\\/biz.sbs.co.kr\\/article_hub\\/20000217777?division=NAVER\",\n",
      "\t\t\t\"link\":\"https:\\/\\/n.news.naver.com\\/mnews\\/article\\/374\\/0000425290?sid=101\",\n",
      "\t\t\t\"description\":\"<b>삼성<\\/b>은 직원들의 인사 고과를 3년 전 상대평가에서 절대평가 방식으로 전환했습니다. 그런데 여전히 내부에서는 하위고과 할당량이 정해져 있는 것으로 확인됐습니다. 김한나 기자가 보도합니다. [기자] <b>삼성<\\/b>디스플레이... \",\n",
      "\t\t\t\"pubDate\":\"Thu, 13 Feb 2025 15:33:00 +0900\"\n",
      "\t\t},\n",
      "\t\t{\n",
      "\t\t\t\"title\":\"반도체 위기감에 <b>삼성<\\/b>전자 찾은 김동연 &quot;총력 지원 약속&quot;\",\n",
      "\t\t\t\"originallink\":\"https:\\/\\/www.newsis.com\\/view\\/NISX20250212_0003063112\",\n",
      "\t\t\t\"link\":\"https:\\/\\/n.news.naver.com\\/mnews\\/article\\/003\\/0013063390?sid=102\",\n",
      "\t\t\t\"description\":\"김동연 경기도지사가 12일 미국 트럼프 행정부의 반도체 관세 부과 예고에 따른 국내 반도체산업계 위기감을 해소하기 위해 <b>삼성<\\/b>전자 <b>삼성<\\/b>전자 평택캠퍼스를 찾아 총력 지원을 약속했다. 김동연 지사는 평택시 고덕동... \",\n",
      "\t\t\t\"pubDate\":\"Wed, 12 Feb 2025 17:23:00 +0900\"\n",
      "\t\t},\n",
      "\t\t{\n",
      "\t\t\t\"title\":\"잠실·<b>삼성<\\/b>·대치·청담 토지거래허가구역 해제…재건축 제외\",\n",
      "\t\t\t\"originallink\":\"https:\\/\\/www.yna.co.kr\\/view\\/AKR20250212113400004?input=1195m\",\n",
      "\t\t\t\"link\":\"https:\\/\\/n.news.naver.com\\/mnews\\/article\\/001\\/0015208381?sid=101\",\n",
      "\t\t\t\"description\":\"국제교류복합지구 인근 아파트 305곳 중 291곳 즉시 해제 서울시는 송파구 잠실동, 강남구 <b>삼성<\\/b>·대치·청담동 등 국제교류복합지구 인근 아파트에 대한 토지거래허가구역 지정을 해제한다. 서울시는 12일 제2차... \",\n",
      "\t\t\t\"pubDate\":\"Wed, 12 Feb 2025 15:00:00 +0900\"\n",
      "\t\t},\n",
      "\t\t{\n",
      "\t\t\t\"title\":\"<b>삼성<\\/b>전자 찾은 김동연 &quot;지원에 최선 다할 것&quot;\",\n",
      "\t\t\t\"originallink\":\"http:\\/\\/www.edaily.co.kr\\/news\\/newspath.asp?newsid=01741686642070192\",\n",
      "\t\t\t\"link\":\"https:\\/\\/n.news.naver.com\\/mnews\\/article\\/018\\/0005942522?sid=100\",\n",
      "\t\t\t\"description\":\"트럼프 행정부가 반도체에도 관세 부과를 예고하면서 국내 반도체산업계의 위기감이 높아지고 있는 가운데 김동연 경기도지사가 <b>삼성<\\/b>전자 평택캠퍼스를 찾아 총력 지원을 약속했다. 지난 12일 오후 <b>삼성<\\/b>전자 평택... \",\n",
      "\t\t\t\"pubDate\":\"Thu, 13 Feb 2025 07:33:00 +0900\"\n",
      "\t\t},\n",
      "\t\t{\n",
      "\t\t\t\"title\":\"<b>삼성<\\/b>家 재산 33조원 '아시아 부호 10위'…작년보다 2계단 상승\",\n",
      "\t\t\t\"originallink\":\"https:\\/\\/www.news1.kr\\/world\\/usa-canada\\/5688763\",\n",
      "\t\t\t\"link\":\"https:\\/\\/n.news.naver.com\\/mnews\\/article\\/421\\/0008074192?sid=104\",\n",
      "\t\t\t\"description\":\"이재용 <b>삼성<\\/b>전자 회장을 비롯한 총수 일가의 재산이 227억 달러(약 32조 9700억 원)로 아시아 부호 10위라는... <b>삼성<\\/b>가는 227억 달러로 10위를 차지해 지난해보다 두 단계 올랐다. 아시아 부호 상위 20위 중에 한국... \",\n",
      "\t\t\t\"pubDate\":\"Thu, 13 Feb 2025 12:07:00 +0900\"\n",
      "\t\t}\n",
      "\t]\n",
      "}\n"
     ]
    }
   ],
   "source": [
    "import os\n",
    "import sys\n",
    "import urllib.request\n",
    "from dotenv import load_dotenv\n",
    "load_dotenv()\n",
    "\n",
    "client_id = os.environ.get(\"MY_ID\")\n",
    "client_secret = os.environ.get(\"MY_SECRET\")\n",
    "\n",
    "args = sys.argv\n",
    "\n",
    "encText = urllib.parse.quote(\"삼성\")\n",
    "url = \"https://openapi.naver.com/v1/search/news?query=\" + encText +'&display=5&start=1&sort=sim'# JSON 결과\n",
    "# url = \"https://openapi.naver.com/v1/search/blog.xml?query=\"\" + encText # XML 결과\n",
    "request = urllib.request.Request(url)\n",
    "request.add_header(\"X-Naver-Client-Id\",client_id)\n",
    "request.add_header(\"X-Naver-Client-Secret\",client_secret)\n",
    "response = urllib.request.urlopen(request)\n",
    "rescode = response.getcode()\n",
    "if(rescode==200):\n",
    "    response_body = response.read()\n",
    "    print(response_body.decode('utf-8'))\n",
    "else:\n",
    "    print(\"Error Code:\" + rescode)"
   ]
  },
  {
   "cell_type": "code",
   "execution_count": 37,
   "id": "c4b5ad68-147d-4de9-baea-0ce599eb068a",
   "metadata": {},
   "outputs": [
    {
     "name": "stdout",
     "output_type": "stream",
     "text": [
      "[속보]국민의힘 윤리위, 尹 징계 않기로\n",
      "국민의힘 윤리위, 尹 징계 않기로 ※CBS노컷뉴스는 여러분의 제보로 함께 세상을 바꿉니다. 각종 비리와 부당대우, 사건사고와 미담 등 모든 얘깃거리를 알려주세요.이메일 : 카카오톡 : @노컷뉴스사이트 : https... \n",
      "https://www.nocutnews.co.kr/news/6292989?utm_source=naver&utm_medium=article&utm_campaign=20250213035336\n",
      "[속보]박지원, 홍장원 인사청탁 부정 “청탁자는 주영대사 역임 前 간부...\n",
      "박지원 더불어민주당 의원이 13일 “홍장원 전 국가정보원 1차장은 정보위 회의에서 첫 대면했다”라면서 홍 전 차장이 자신에게 인사 청탁을 했다는 의혹을 전면 부인했다. 박 의원은 이날 자신의 페이스북에 글을 올려... \n",
      "https://www.munhwa.com/news/view.html?no=2025021301039910289018\n",
      "[속보] KT, 올해 2500억 규모 자사주 소각\n",
      "KT는 올해 약 2500억원 규모의 자사주를 소각한다고 13일 밝혔다. 소각할 주식은 보통주 553만7099주다. KT는 지난해 11월 발표한 기업가치 제고 계획(밸류업 프로그램)을 발표하며 연결 자기자본이익률(ROE) 목표를 9... \n",
      "https://www.newsis.com/view/NISX20250213_0003064022\n",
      "[속보] 국힘 윤리위, 尹 제명·탈당 권유 등 징계 않기로 결정\n",
      "국민의힘 중앙윤리위원회가 한동훈 전 대표의 요구로 시작된 윤석열 대통령 징계 절차 종결을 선언하고 제명·탈당 권유 등 징계 조치를 하지 않기로 결론을 내렸다. 13일 여의도 당사에서 윤리위 회의를 마친 여상원 당... \n",
      "https://www.busan.com/view/busan/view.php?code=2025021315294691312\n",
      "[속보] '이재명 습격' 60대 남성 징역 15년 확정\n",
      "지난해 1월 이재명 더불어민주당 대표를 흉기로 살해하려고 시도한 60대 남성에게 징역 15년이 확정됐다. 13일 대법원 2부(오경미 대법관)는 살인미수와 공직선거법 위반 혐의로 기소된 김모(68)씨에게 징역 15년을... \n",
      "https://www.hankyung.com/article/2025021327947\n",
      "{\n",
      "\t\"lastBuildDate\":\"Thu, 13 Feb 2025 16:21:53 +0900\",\n",
      "\t\"total\":2094102,\n",
      "\t\"start\":1,\n",
      "\t\"display\":5,\n",
      "\t\"items\":[\n",
      "\t\t{\n",
      "\t\t\t\"title\":\"[<b>속보<\\/b>]국민의힘 윤리위, 尹 징계 않기로\",\n",
      "\t\t\t\"originallink\":\"https:\\/\\/www.nocutnews.co.kr\\/news\\/6292989?utm_source=naver&utm_medium=article&utm_campaign=20250213035336\",\n",
      "\t\t\t\"link\":\"https:\\/\\/n.news.naver.com\\/mnews\\/article\\/079\\/0003991802?sid=100\",\n",
      "\t\t\t\"description\":\"국민의힘 윤리위, 尹 징계 않기로 ※CBS노컷뉴스는 여러분의 제보로 함께 세상을 바꿉니다. 각종 비리와 부당대우, 사건사고와 미담 등 모든 얘깃거리를 알려주세요.이메일 : 카카오톡 : @노컷뉴스사이트 : https... \",\n",
      "\t\t\t\"pubDate\":\"Thu, 13 Feb 2025 15:54:00 +0900\"\n",
      "\t\t},\n",
      "\t\t{\n",
      "\t\t\t\"title\":\"[<b>속보<\\/b>]박지원, 홍장원 인사청탁 부정 “청탁자는 주영대사 역임 前 간부...\",\n",
      "\t\t\t\"originallink\":\"https:\\/\\/www.munhwa.com\\/news\\/view.html?no=2025021301039910289018\",\n",
      "\t\t\t\"link\":\"https:\\/\\/n.news.naver.com\\/mnews\\/article\\/021\\/0002689986?sid=100\",\n",
      "\t\t\t\"description\":\"박지원 더불어민주당 의원이 13일 “홍장원 전 국가정보원 1차장은 정보위 회의에서 첫 대면했다”라면서 홍 전 차장이 자신에게 인사 청탁을 했다는 의혹을 전면 부인했다. 박 의원은 이날 자신의 페이스북에 글을 올려... \",\n",
      "\t\t\t\"pubDate\":\"Thu, 13 Feb 2025 15:55:00 +0900\"\n",
      "\t\t},\n",
      "\t\t{\n",
      "\t\t\t\"title\":\"[<b>속보<\\/b>] KT, 올해 2500억 규모 자사주 소각\",\n",
      "\t\t\t\"originallink\":\"https:\\/\\/www.newsis.com\\/view\\/NISX20250213_0003064022\",\n",
      "\t\t\t\"link\":\"https:\\/\\/n.news.naver.com\\/mnews\\/article\\/003\\/0013065187?sid=105\",\n",
      "\t\t\t\"description\":\"KT는 올해 약 2500억원 규모의 자사주를 소각한다고 13일 밝혔다. 소각할 주식은 보통주 553만7099주다. KT는 지난해 11월 발표한 기업가치 제고 계획(밸류업 프로그램)을 발표하며 연결 자기자본이익률(ROE) 목표를 9... \",\n",
      "\t\t\t\"pubDate\":\"Thu, 13 Feb 2025 13:50:00 +0900\"\n",
      "\t\t},\n",
      "\t\t{\n",
      "\t\t\t\"title\":\"[<b>속보<\\/b>] 국힘 윤리위, 尹 제명·탈당 권유 등 징계 않기로 결정\",\n",
      "\t\t\t\"originallink\":\"https:\\/\\/www.busan.com\\/view\\/busan\\/view.php?code=2025021315294691312\",\n",
      "\t\t\t\"link\":\"https:\\/\\/n.news.naver.com\\/mnews\\/article\\/082\\/0001311655?sid=100\",\n",
      "\t\t\t\"description\":\"국민의힘 중앙윤리위원회가 한동훈 전 대표의 요구로 시작된 윤석열 대통령 징계 절차 종결을 선언하고 제명·탈당 권유 등 징계 조치를 하지 않기로 결론을 내렸다. 13일 여의도 당사에서 윤리위 회의를 마친 여상원 당... \",\n",
      "\t\t\t\"pubDate\":\"Thu, 13 Feb 2025 15:40:00 +0900\"\n",
      "\t\t},\n",
      "\t\t{\n",
      "\t\t\t\"title\":\"[<b>속보<\\/b>] '이재명 습격' 60대 남성 징역 15년 확정\",\n",
      "\t\t\t\"originallink\":\"https:\\/\\/www.hankyung.com\\/article\\/2025021327947\",\n",
      "\t\t\t\"link\":\"https:\\/\\/n.news.naver.com\\/mnews\\/article\\/015\\/0005093692?sid=102\",\n",
      "\t\t\t\"description\":\"지난해 1월 이재명 더불어민주당 대표를 흉기로 살해하려고 시도한 60대 남성에게 징역 15년이 확정됐다. 13일 대법원 2부(오경미 대법관)는 살인미수와 공직선거법 위반 혐의로 기소된 김모(68)씨에게 징역 15년을... \",\n",
      "\t\t\t\"pubDate\":\"Thu, 13 Feb 2025 10:26:00 +0900\"\n",
      "\t\t}\n",
      "\t]\n",
      "}\n"
     ]
    }
   ],
   "source": [
    "import os\n",
    "import sys\n",
    "import urllib.request\n",
    "import json\n",
    "from dotenv import load_dotenv\n",
    "load_dotenv()\n",
    "\n",
    "client_id = os.environ.get(\"MY_ID\")\n",
    "client_secret = os.environ.get(\"MY_SECRET\")\n",
    "\n",
    "args = sys.argv\n",
    "\n",
    "encText = urllib.parse.quote(\"속보\")\n",
    "url = \"https://openapi.naver.com/v1/search/news?query=\" + encText +'&display=5&start=1&sort=sim'# JSON 결과\n",
    "# url = \"https://openapi.naver.com/v1/search/blog.xml?query=\"\" + encText # XML 결과\n",
    "request = urllib.request.Request(url)\n",
    "request.add_header(\"X-Naver-Client-Id\",client_id)\n",
    "request.add_header(\"X-Naver-Client-Secret\",client_secret)\n",
    "response = urllib.request.urlopen(request)\n",
    "rescode = response.getcode()\n",
    "if(rescode==200):\n",
    "    response_body = response.read()\n",
    "    result = response_body.decode('utf-8')\n",
    "    data = json.loads(result)\n",
    "    ldata = data['items']\n",
    "    for n in ldata:\n",
    "        print(n['title'].replace('<b>','').replace('</b>',''))\n",
    "        print(n['description'])\n",
    "        print(n['originallink'])\n",
    "    print(response_body.decode('utf-8'))\n",
    "else:\n",
    "    print(\"Error Code:\" + rescode)"
   ]
  },
  {
   "cell_type": "code",
   "execution_count": 1,
   "id": "f8efbec3-d385-43f1-8593-b04af167a68a",
   "metadata": {},
   "outputs": [
    {
     "name": "stdout",
     "output_type": "stream",
     "text": [
      "Collecting qrcode\n",
      "  Downloading qrcode-8.0-py3-none-any.whl.metadata (17 kB)\n",
      "Requirement already satisfied: colorama in c:\\users\\admin\\appdata\\local\\programs\\python\\python313\\lib\\site-packages (from qrcode) (0.4.6)\n",
      "Downloading qrcode-8.0-py3-none-any.whl (45 kB)\n",
      "Installing collected packages: qrcode\n",
      "Successfully installed qrcode-8.0\n"
     ]
    }
   ],
   "source": [
    "!pip install qrcode"
   ]
  },
  {
   "cell_type": "code",
   "execution_count": 7,
   "id": "f08645aa-6d6d-49b6-bf55-1b770450e4b9",
   "metadata": {},
   "outputs": [],
   "source": [
    "import qrcode\n",
    "def qrcode_maker(text,filename='qr.png'):\n",
    "    qr = qrcode.make(text)\n",
    "    qr.save(filename)\n",
    "\n",
    "qrcode_maker('안녕하세요. 누구입니다!!')\n",
    "qrcode_maker('www.naver.com','naver.png')"
   ]
  },
  {
   "cell_type": "code",
   "execution_count": 22,
   "id": "97163b56-b0e3-483f-8ec0-38741c7955d2",
   "metadata": {},
   "outputs": [
    {
     "data": {
      "text/html": [
       "<img src=\"qr.png\" width=100>"
      ],
      "text/plain": [
       "<IPython.core.display.HTML object>"
      ]
     },
     "metadata": {},
     "output_type": "display_data"
    }
   ],
   "source": [
    "from IPython.display import display , HTML\n",
    "from PIL import Image\n",
    "\n",
    "image_path = \"qr.png\"\n",
    "img = Image.open(image_path)\n",
    "htmlcode = '<img src=\"qr.png\" width=100>'\n",
    "display(HTML(htmlcode))\n",
    "\n",
    "#display(img)"
   ]
  },
  {
   "cell_type": "code",
   "execution_count": 11,
   "id": "88a11e9e-7a4f-4643-ba1f-bb40d3d4c135",
   "metadata": {},
   "outputs": [
    {
     "name": "stdout",
     "output_type": "stream",
     "text": [
      "Requirement already satisfied: IPython in c:\\users\\admin\\appdata\\local\\programs\\python\\python313\\lib\\site-packages (8.32.0)\n",
      "Requirement already satisfied: colorama in c:\\users\\admin\\appdata\\local\\programs\\python\\python313\\lib\\site-packages (from IPython) (0.4.6)\n",
      "Requirement already satisfied: decorator in c:\\users\\admin\\appdata\\local\\programs\\python\\python313\\lib\\site-packages (from IPython) (5.1.1)\n",
      "Requirement already satisfied: jedi>=0.16 in c:\\users\\admin\\appdata\\local\\programs\\python\\python313\\lib\\site-packages (from IPython) (0.19.2)\n",
      "Requirement already satisfied: matplotlib-inline in c:\\users\\admin\\appdata\\local\\programs\\python\\python313\\lib\\site-packages (from IPython) (0.1.7)\n",
      "Requirement already satisfied: prompt_toolkit<3.1.0,>=3.0.41 in c:\\users\\admin\\appdata\\local\\programs\\python\\python313\\lib\\site-packages (from IPython) (3.0.50)\n",
      "Requirement already satisfied: pygments>=2.4.0 in c:\\users\\admin\\appdata\\local\\programs\\python\\python313\\lib\\site-packages (from IPython) (2.19.1)\n",
      "Requirement already satisfied: stack_data in c:\\users\\admin\\appdata\\local\\programs\\python\\python313\\lib\\site-packages (from IPython) (0.6.3)\n",
      "Requirement already satisfied: traitlets>=5.13.0 in c:\\users\\admin\\appdata\\local\\programs\\python\\python313\\lib\\site-packages (from IPython) (5.14.3)\n",
      "Requirement already satisfied: parso<0.9.0,>=0.8.4 in c:\\users\\admin\\appdata\\local\\programs\\python\\python313\\lib\\site-packages (from jedi>=0.16->IPython) (0.8.4)\n",
      "Requirement already satisfied: wcwidth in c:\\users\\admin\\appdata\\local\\programs\\python\\python313\\lib\\site-packages (from prompt_toolkit<3.1.0,>=3.0.41->IPython) (0.2.13)\n",
      "Requirement already satisfied: executing>=1.2.0 in c:\\users\\admin\\appdata\\local\\programs\\python\\python313\\lib\\site-packages (from stack_data->IPython) (2.2.0)\n",
      "Requirement already satisfied: asttokens>=2.1.0 in c:\\users\\admin\\appdata\\local\\programs\\python\\python313\\lib\\site-packages (from stack_data->IPython) (3.0.0)\n",
      "Requirement already satisfied: pure-eval in c:\\users\\admin\\appdata\\local\\programs\\python\\python313\\lib\\site-packages (from stack_data->IPython) (0.2.3)\n"
     ]
    }
   ],
   "source": []
  },
  {
   "cell_type": "code",
   "execution_count": 1,
   "id": "b24877db-3365-4e89-9ccf-6f2448600070",
   "metadata": {},
   "outputs": [
    {
     "name": "stdin",
     "output_type": "stream",
     "text": [
      " s\n"
     ]
    },
    {
     "name": "stdout",
     "output_type": "stream",
     "text": [
      "평범한 날이네요\n"
     ]
    }
   ],
   "source": [
    "positive_words = [\"좋아\",\"행복\",\"멋져\",\"최고\",\"사랑해\"]\n",
    "negative_words = [\"싫어\",\"화나\",\"짜증\",\"별로\",\"나빠\"]\n",
    "\n",
    "feel = input()\n",
    "\n",
    "is_feeling = False\n",
    "\n",
    "for i in positive_words:\n",
    "    if i in feel:\n",
    "        print(\"기분이 좋아보이네요\")\n",
    "        is_feeling = True\n",
    "        break\n",
    "for i in negative_words:\n",
    "    if i in feel:\n",
    "        print(\"기분이 나빠보이네요\")\n",
    "        is_feeling = True\n",
    "        break\n",
    "\n",
    "if is_feeling == False:\n",
    "    print(\"평범한 날이네요\")\n"
   ]
  },
  {
   "cell_type": "code",
   "execution_count": null,
   "id": "f565a192-1f1f-4eeb-a83a-2392fcdf4560",
   "metadata": {},
   "outputs": [],
   "source": [
    "오늘 날씨가 너무 좋아서 기분이 너무 좋다"
   ]
  },
  {
   "cell_type": "code",
   "execution_count": 66,
   "id": "c0f4f55d-375d-40a7-a9ee-c24176ccc894",
   "metadata": {},
   "outputs": [
    {
     "data": {
      "text/plain": [
       "True"
      ]
     },
     "execution_count": 66,
     "metadata": {},
     "output_type": "execute_result"
    }
   ],
   "source": [
    "\"좋아\" in \"오늘 날씨가 너무 좋아서 기분이 너무 좋다\"\n"
   ]
  },
  {
   "cell_type": "code",
   "execution_count": 8,
   "id": "06cd1557-004c-4ce3-ae3e-cce6662daa64",
   "metadata": {},
   "outputs": [
    {
     "name": "stdin",
     "output_type": "stream",
     "text": [
      " apples are\n"
     ]
    },
    {
     "name": "stdout",
     "output_type": "stream",
     "text": [
      "Apples Are.\n"
     ]
    }
   ],
   "source": [
    "#p5 영어로 소문자 입력 받으면 매 첫글자만 대문자로 변경되게 하라. 문장의 마지막은 마침표를 찍어라\n",
    "# apples are delicious -> Apples Are Delicious.\n",
    "\n",
    "sentence = input().split()\n",
    "result = []\n",
    "\n",
    "for i in sentence:\n",
    "    for i in range(len(sentence)):\n",
    "        sentence[i] = sentence[i][0].upper() + sentence[i][1:] #sentence[i][0] -> 단어의 첫글자. ex) hello -> h\n",
    "    result = ' '.join(sentence) + '.'\n",
    "print(result)\n",
    "\n",
    "    "
   ]
  },
  {
   "cell_type": "code",
   "execution_count": null,
   "id": "80fcdccd-8a64-427c-8f22-4de5fac08652",
   "metadata": {},
   "outputs": [],
   "source": []
  }
 ],
 "metadata": {
  "kernelspec": {
   "display_name": "Python 3 (ipykernel)",
   "language": "python",
   "name": "python3"
  },
  "language_info": {
   "codemirror_mode": {
    "name": "ipython",
    "version": 3
   },
   "file_extension": ".py",
   "mimetype": "text/x-python",
   "name": "python",
   "nbconvert_exporter": "python",
   "pygments_lexer": "ipython3",
   "version": "3.13.1"
  }
 },
 "nbformat": 4,
 "nbformat_minor": 5
}
