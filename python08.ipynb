{
 "cells": [
  {
   "cell_type": "markdown",
   "id": "d23182e0-127a-433d-bd75-7a3c64427e81",
   "metadata": {},
   "source": [
    "# 외부 라이브러리"
   ]
  },
  {
   "cell_type": "markdown",
   "id": "267048d8-dcc2-4fd2-b49c-e9719d3a5714",
   "metadata": {},
   "source": [
    "## pip *"
   ]
  },
  {
   "cell_type": "markdown",
   "id": "a7e97e20-aa89-4f99-989a-c538db619ac1",
   "metadata": {},
   "source": [
    "- venv1 생성 후 백업: pip freeze > requirements.txt\n",
    "- venv2 생성 후 복구: pip"
   ]
  },
  {
   "cell_type": "markdown",
   "id": "d98a9282-1da7-4fc7-8a55-5b5f560797a1",
   "metadata": {},
   "source": [
    "## Faker"
   ]
  },
  {
   "cell_type": "code",
   "execution_count": 43,
   "id": "134819f1-e41b-49c3-a223-f2c1345be469",
   "metadata": {},
   "outputs": [],
   "source": [
    "#!pip install Faker"
   ]
  },
  {
   "cell_type": "code",
   "execution_count": 46,
   "id": "c25f5a01-faee-487b-854d-ab89622736fa",
   "metadata": {},
   "outputs": [
    {
     "data": {
      "text/plain": [
       "[{'name': '김민준',\n",
       "  'id': 'jeongung52',\n",
       "  'phone': '062-319-0936',\n",
       "  'email': 'imijeong@example.org'},\n",
       " {'name': '이경자',\n",
       "  'id': 'bgim',\n",
       "  'phone': '041-149-9059',\n",
       "  'email': 'jiu98@example.org'},\n",
       " {'name': '이은서',\n",
       "  'id': 'gyeongsug65',\n",
       "  'phone': '051-346-9616',\n",
       "  'email': 'sanghyeonsim@example.net'},\n",
       " {'name': '이정웅',\n",
       "  'id': 'iseongmin',\n",
       "  'phone': '032-663-3132',\n",
       "  'email': 'jeongsui@example.net'},\n",
       " {'name': '이서현',\n",
       "  'id': 'qsim',\n",
       "  'phone': '044-573-8981',\n",
       "  'email': 'eyun@example.com'},\n",
       " {'name': '주유진',\n",
       "  'id': 'jiu44',\n",
       "  'phone': '043-174-9440',\n",
       "  'email': 'jiyeongbag@example.org'},\n",
       " {'name': '이아름',\n",
       "  'id': 'ggim',\n",
       "  'phone': '062-412-5895',\n",
       "  'email': 'gyeonghyicoe@example.com'},\n",
       " {'name': '이춘자',\n",
       "  'id': 'hwangmyeongja',\n",
       "  'phone': '010-3360-0429',\n",
       "  'email': 'gimeunji@example.com'},\n",
       " {'name': '안정남',\n",
       "  'id': 'areum40',\n",
       "  'phone': '032-460-7099',\n",
       "  'email': 'bagcunja@example.org'},\n",
       " {'name': '나지우',\n",
       "  'id': 'abag',\n",
       "  'phone': '018-214-8520',\n",
       "  'email': 'jyu@example.net'}]"
      ]
     },
     "execution_count": 46,
     "metadata": {},
     "output_type": "execute_result"
    }
   ],
   "source": [
    "from faker import Faker\n",
    "fake = Faker(\"ko-KR\")\n",
    "#fake.name() # 이름 자동 생성\n",
    "[{'name':fake.name(),'id':fake.user_name(),'phone':fake.phone_number(),'email':fake.email()} for n in range(10)]"
   ]
  },
  {
   "cell_type": "markdown",
   "id": "9e919f94-a081-429e-a399-851cd01b02fc",
   "metadata": {},
   "source": [
    "<table>\n",
    "<thead>\n",
    "<tr>\n",
    "<th>항목</th>\n",
    "<th>설명</th>\n",
    "</tr>\n",
    "</thead>\n",
    "<tbody>\n",
    "<tr>\n",
    "<td>fake.name()</td>\n",
    "<td>이름</td>\n",
    "</tr>\n",
    "<tr>\n",
    "<td>fake.address()</td>\n",
    "<td>주소</td>\n",
    "</tr>\n",
    "<tr>\n",
    "<td>fake.postcode()</td>\n",
    "<td>우편 번호</td>\n",
    "</tr>\n",
    "<tr>\n",
    "<td>fake.country()</td>\n",
    "<td>국가명</td>\n",
    "</tr>\n",
    "<tr>\n",
    "<td>fake.company()</td>\n",
    "<td>회사명</td>\n",
    "</tr>\n",
    "<tr>\n",
    "<td>fake.job()</td>\n",
    "<td>직업명</td>\n",
    "</tr>\n",
    "<tr>\n",
    "<td>fake.phone_number()</td>\n",
    "<td>휴대전화 번호</td>\n",
    "</tr>\n",
    "<tr>\n",
    "<td>fake.email()</td>\n",
    "<td>이메일 주소</td>\n",
    "</tr>\n",
    "<tr>\n",
    "<td>fake.user_name()</td>\n",
    "<td>사용자명</td>\n",
    "</tr>\n",
    "<tr>\n",
    "<td>fake.pyint(min_value=0, max_value=100)</td>\n",
    "<td>0부터 100 사이의 임의의 숫자</td>\n",
    "</tr>\n",
    "<tr>\n",
    "<td>fake.ipv4_private()</td>\n",
    "<td>IP 주소</td>\n",
    "</tr>\n",
    "<tr>\n",
    "<td>fake.text()</td>\n",
    "<td>임의의 문장 (한글 임의의 문장은 <code>fake.catch_phrase()</code> 사용)</td>\n",
    "</tr>\n",
    "<tr>\n",
    "<td>fake.color_name()</td>\n",
    "<td>색상명</td>\n",
    "</tr>\n",
    "</tbody>\n",
    "</table>"
   ]
  },
  {
   "cell_type": "code",
   "execution_count": 83,
   "id": "95e9213a-4160-4c5b-895a-eef7fa72614d",
   "metadata": {},
   "outputs": [
    {
     "name": "stdout",
     "output_type": "stream",
     "text": [
      "1위: REBEL HEART/IVE (아이브)\n",
      "2위: HOME SWEET HOME (feat. 태양, 대성)/G-DRAGON\n",
      "3위: 나는 반딧불/황가람\n",
      "4위: Whiplash/aespa\n",
      "5위: APT./로제 (ROSÉ)\n",
      "6위: 오늘만 I LOVE YOU/Bruno Mars\n",
      "7위: Drowning/BOYNEXTDOOR\n",
      "8위: ATTITUDE/WOODZ\n",
      "9위: toxic till the end/IVE (아이브)\n",
      "10위: Dash/로제 (ROSÉ)\n",
      "11위: POWER/PLAVE\n",
      "12위: HAPPY/G-DRAGON\n",
      "13위: 내게 사랑이 뭐냐고 물어본다면/DAY6 (데이식스)\n",
      "14위: RIZZ/로이킴\n",
      "15위: DRIP/PLAVE\n",
      "16위: Chroma Drift/BABYMONSTER\n",
      "17위: Island/PLAVE\n",
      "18위: 소나기/PLAVE\n",
      "19위: 12:32 (A to T)/이클립스 (ECLIPSE)\n",
      "20위: 너와의 모든 지금/PLAVE\n"
     ]
    }
   ],
   "source": [
    "import requests as req\n",
    "from bs4 import BeautifulSoup as bs  #크롤링 도구\n",
    "url = \"https://www.melon.com/chart/index.htm\"\n",
    "headers = {'User-Agent': 'Mozilla/5.0 (Windows NT 10.0; Win64; x64) AppleWebKit/537.36 (KHTML, like Gecko) Chrome/133.0.0.0 Safari/537.36'}\n",
    "web = req.get(url, headers = headers)\n",
    "soup = bs(web.content,'html.parser')\n",
    "\n",
    "title = soup.select('.rank01')[:20]\n",
    "name = soup.select('.checkEllipsis a')\n",
    "str = ''\n",
    "for i, (t,n) in enumerate(zip(title,name),1):\n",
    "    str += f\"{i}위: {t.text.strip()}/{n.text}\\n\"\n",
    "print(str, end='')"
   ]
  },
  {
   "cell_type": "code",
   "execution_count": 85,
   "id": "4e87aab4-98c5-453b-82e2-baa22f634ea7",
   "metadata": {},
   "outputs": [
    {
     "name": "stdout",
     "output_type": "stream",
     "text": [
      "1위: REBEL HEART/IVE (아이브)\n",
      "2위: HOME SWEET HOME (feat. 태양, 대성)/G-DRAGON\n",
      "3위: 나는 반딧불/황가람\n",
      "4위: Whiplash/aespa\n",
      "5위: APT./로제 (ROSÉ)\n",
      "6위: 오늘만 I LOVE YOU/Bruno Mars\n",
      "7위: Drowning/BOYNEXTDOOR\n",
      "8위: ATTITUDE/WOODZ\n",
      "9위: toxic till the end/IVE (아이브)\n",
      "10위: Dash/로제 (ROSÉ)\n",
      "11위: POWER/PLAVE\n",
      "12위: HAPPY/G-DRAGON\n",
      "13위: 내게 사랑이 뭐냐고 물어본다면/DAY6 (데이식스)\n",
      "14위: RIZZ/로이킴\n",
      "15위: DRIP/PLAVE\n",
      "16위: Chroma Drift/BABYMONSTER\n",
      "17위: Island/PLAVE\n",
      "18위: 소나기/PLAVE\n",
      "19위: 12:32 (A to T)/이클립스 (ECLIPSE)\n",
      "20위: 너와의 모든 지금/PLAVE\n"
     ]
    }
   ],
   "source": [
    "import melon\n",
    "\n",
    "melon.mel()"
   ]
  },
  {
   "cell_type": "code",
   "execution_count": 3,
   "id": "b725d8a9-8247-4ff3-b218-6129ffc3ca30",
   "metadata": {},
   "outputs": [
    {
     "name": "stdout",
     "output_type": "stream",
     "text": [
      "===============\n",
      "월 2025.02.17\n",
      "---------------\n",
      "정식-5,500원\n",
      "강황밥\n",
      "김치콩나물국\n",
      "돈육바싹불고기\n",
      "모듬잡채\n",
      "멸치새우견과볶음\n",
      "상추겉절이\n",
      "포기김치\n",
      "===============\n",
      "화 2025.02.18\n",
      "---------------\n",
      "정식-5,500원\n",
      "백미밥\n",
      "물만두국\n",
      "순살닭매콤조림\n",
      "쫄면야채무침\n",
      "파래무무침\n",
      "참나물겉절이\n",
      "포기김치\n",
      "===============\n",
      "수 2025.02.19\n",
      "---------------\n",
      "정식-5,500원\n",
      "백미밥\n",
      "모듬어묵국\n",
      "함박스테이크/치즈/소스\n",
      "스파게티/소스\n",
      "치커리유자청샐러드\n",
      "콩나물무침\n",
      "포기김치\n",
      "===============\n",
      "목 2025.02.20\n",
      "---------------\n",
      "정식-5,500원\n",
      "잡곡밥\n",
      "홍합미역국\n",
      "순살치킨/맛초킹소스\n",
      "꼬시레기두부무침\n",
      "잡채어묵조림\n",
      "상추겉절이\n",
      "포기김치\n",
      "===============\n",
      "금 2025.02.21\n",
      "---------------\n",
      "정식-5,500원\n",
      "백미밥\n",
      "국수\n",
      "깐풍기/소스\n",
      "알감자버터구이\n",
      "도토리묵김치무침\n",
      "열무겉절이\n",
      "포기김치\n"
     ]
    }
   ],
   "source": [
    "import requests as req\n",
    "from bs4 import BeautifulSoup as bs  #크롤링 도구\n",
    "url = \"https://www.pusan.ac.kr/kor/CMS/MenuMgr/menuListOnBuilding.do?mCode=MN202\"\n",
    "headers = {'User-Agent': 'Mozilla/5.0 (Windows NT 10.0; Win64; x64) AppleWebKit/537.36 (KHTML, like Gecko) Chrome/133.0.0.0 Safari/537.36'}\n",
    "web = req.get(url, headers = headers)\n",
    "soup = bs(web.content, 'html5lib')\n",
    "menucard = soup.select('.menu-tb1')\n",
    "won = soup.select(\".menu-tit01\")\n",
    "menu = soup.select(\"h3.menu-tit01+p\")\n",
    "day = soup.select('.day')\n",
    "date = soup.select('.date')\n",
    "for d,dd,w,m in zip(day,date,won,menu):\n",
    "    print('='*15)\n",
    "    print(d.text,dd.text)\n",
    "    print('-'*15)\n",
    "    print(w.text + '\\n' + m.text,end=\"\")"
   ]
  },
  {
   "cell_type": "code",
   "execution_count": 2,
   "id": "4ab345ff-35a4-4d93-87c9-dad31c2863b5",
   "metadata": {},
   "outputs": [],
   "source": [
    "#!pip install html5lib"
   ]
  },
  {
   "cell_type": "code",
   "execution_count": 25,
   "id": "1c9b9ece-e228-4e9c-b401-6a028ece746f",
   "metadata": {},
   "outputs": [
    {
     "name": "stdout",
     "output_type": "stream",
     "text": [
      "1위: REBEL HEART / IVE (아이브)\n",
      "2위: 나는 반딧불 / 황가람\n",
      "3위: HOME SWEET HOME (Feat. 태양 & 대성) / G-DRAGON\n",
      "4위: Whiplash / aespa\n",
      "5위: APT. / 로제 (ROSÉ) & Bruno Mars\n",
      "6위: Drowning / WOODZ\n",
      "7위: ATTITUDE / IVE (아이브)\n",
      "8위: 모르시나요 (Prod. by 로코베리) / 조째즈\n",
      "9위: HAPPY / DAY6 (데이식스)\n",
      "10위: 내게 사랑이 뭐냐고 물어본다면 / 로이킴\n",
      "11위: toxic till the end / 로제 (ROSÉ)\n",
      "12위: POWER / G-DRAGON\n",
      "13위: 내 이름 맑음 / QWER\n",
      "14위: Welcome to the Show / DAY6 (데이식스)\n",
      "15위: 한 페이지가 될 수 있게 / DAY6 (데이식스)\n",
      "16위: 소나기 / 이클립스 (ECLIPSE)\n",
      "17위: Supernova / aespa\n",
      "18위: 너와의 모든 지금 / 재쓰비 (JAESSBEE)\n",
      "19위: 오늘만 I LOVE YOU / BOYNEXTDOOR\n",
      "20위: 고민중독 / QWER\n",
      "21위: 예뻤어 / DAY6 (데이식스)\n",
      "22위: 슬픈 초대장 / 순순희 (지환)\n",
      "23위: 천상연 / 이창섭\n",
      "24위: UP (KARINA Solo) / aespa\n",
      "25위: DRIP / BABYMONSTER\n",
      "26위: 사랑은 늘 도망가 / 임영웅\n",
      "27위: Die With A Smile / Lady Gaga & Bruno Mars\n",
      "28위: 에피소드 / 이무진\n",
      "29위: 나는 아픈 건 딱 질색이니까 / (여자)아이들\n",
      "30위: How Sweet / NewJeans\n",
      "31위: 비의 랩소디 / 임재현\n",
      "32위: Mantra / 제니 (JENNIE)\n",
      "33위: Love wins all / 아이유 (IU)\n",
      "34위: 어떻게 이별까지 사랑하겠어, 널 사랑하는 거지 / AKMU (악뮤)\n",
      "35위: 첫 만남은 계획대로 되지 않아 / TWS (투어스)\n",
      "36위: 봄여름가을겨울 (Still Life) / BIGBANG (빅뱅)\n",
      "37위: 미치게 그리워서 / 황가람\n",
      "38위: 청춘만화 / 이무진\n",
      "39위: Small girl (Feat. 도경수 (D.O.)) / 이영지\n",
      "40위: I AM / IVE (아이브)\n",
      "41위: 헤어지자 말해요 / 박재정\n",
      "42위: Magnetic / 아일릿 (ILLIT)\n",
      "43위: 이제 나만 믿어요 / 임영웅\n",
      "44위: 심 (心) / DK (디셈버)\n",
      "45위: Storm / 김보경 (NEON)\n",
      "46위: 해야 (HEYA) / IVE (아이브)\n",
      "47위: 다정히 내 이름을 부르면 / 경서예지 & 전건호\n",
      "48위: 클락션 (Klaxon) / (여자)아이들\n",
      "49위: 너의 모든 순간 / 성시경\n",
      "50위: 우리들의 블루스 / 임영웅\n"
     ]
    }
   ],
   "source": [
    "import requests as req\n",
    "from bs4 import BeautifulSoup as bs  #크롤링 도구\n",
    "url = \"https://www.genie.co.kr/chart/top200\"\n",
    "headers = {'User-Agent': 'Mozilla/5.0 (Windows NT 10.0; Win64; x64) AppleWebKit/537.36 (KHTML, like Gecko) Chrome/133.0.0.0 Safari/537.36'}\n",
    "web = req.get(url, headers = headers)\n",
    "soup = bs(web.content,'html.parser')\n",
    "title = soup.select('.info .title') #a class\n",
    "artist = soup.select('.info .artist') #a class .은 클래스, 띄워서 .은 하위의 클래스들을 지칭한다.\n",
    "for i,(t,a) in enumerate(zip(title, artist),1):\n",
    "    print(f\"{i}위: {t.text.strip()} / {a.text.strip()}\")"
   ]
  },
  {
   "cell_type": "code",
   "execution_count": 33,
   "id": "b7225480-283a-41e9-8951-d29a43723ecd",
   "metadata": {},
   "outputs": [
    {
     "name": "stdout",
     "output_type": "stream",
     "text": [
      "Collecting asyncio\n",
      "  Downloading asyncio-3.4.3-py3-none-any.whl.metadata (1.7 kB)\n",
      "Downloading asyncio-3.4.3-py3-none-any.whl (101 kB)\n",
      "Installing collected packages: asyncio\n",
      "Successfully installed asyncio-3.4.3\n"
     ]
    }
   ],
   "source": [
    "!pip install asyncio"
   ]
  },
  {
   "cell_type": "code",
   "execution_count": null,
   "id": "b3bb71f7-c5c1-4097-b217-4e589a15314e",
   "metadata": {},
   "outputs": [],
   "source": [
    "import asyncio\n",
    "import nest_asyncio # 주피터랩용\n",
    "from dotenv import load_dotenv\n",
    "import os\n",
    "\n",
    "# .env 파일 로드\n",
    "load_dotenv()\n",
    "\n",
    "from telegram import Update\n",
    "from telegram .ext import Application, CommandHandler, MessageHandler, filters, CallbackContext\n",
    "nest_asyncio.apply() #주피터랩용\n",
    "\n",
    "TELEGRAM_TOKEN = os.getenv(\"TELEGRAM_TOKEN\")\n",
    "\n",
    "async def start( update, context):\n",
    "    await context.bot.send_message(chat_id=update.effective_chat.id, text=\"봇이 가동되었습니다!\")\n",
    "\n",
    "async def handle_message(update , context ):\n",
    "    user_message = update.message.text.lower()  # Text -> text\n",
    "\n",
    "    if \"선생님\" in user_message:\n",
    "        response = \"수업열심히 해봅시다!\"\n",
    "    elif \"날씨\" in user_message:\n",
    "        response = \"오늘은 추워요~~\"\n",
    "    elif \"안녕\" in user_message:\n",
    "        response = \"안녕하세요 바봇이에요 ( ੭ ･ᴗ･ )੭\"\n",
    "    elif \"바보\" in user_message:\n",
    "        response = \"네 바봇입니다 （○゜ε＾○）\"\n",
    "    elif \"신나\" in user_message:\n",
    "        response = \"♬ ⋒( ˙◡˙)⋑ ♫ ⋐( • ω • )⋑ ♫ ⋐( ˊᵕˋ )⋒\"\n",
    "    elif \"공격\" in user_message:\n",
    "        response = \"ก็็็็็็็็็็็็็ʕ•͡ᴥ•ʔ ก้้้้้้้้้้้ ₒ₍₊˒₃˓₎ₒ▁▂▃▅▆▓▒░✩⃛\"   \n",
    "    elif \"운동\" in user_message:\n",
    "        response = \"💪🏿₍ ᐢ. ̫ .ᐢ ₎💪🏿\"\n",
    "    elif \"고양이\" in user_message:\n",
    "        response = \"/ᐠ｡ꞈ｡ᐟ❁ \\∫\"\n",
    "    elif \"강아지\" in user_message:\n",
    "        response = \"૮₍◔ᴥ◔₎ა\"\n",
    "    elif \"메롱\" in user_message:\n",
    "        response = \"ヾ(´•👅•｀)ノ\"\n",
    "    elif \"바보\" in user_message:\n",
    "        response = \"나 바보 아니다 ୧༼◔益◔୧ ༽\"\n",
    "    \n",
    "    #응답 메세지 전송\n",
    "    await context.bot.send_message(chat_id=update.effective_chat.id, text=response)\n",
    "\n",
    "async def main():\n",
    "    application = Application.builder().token(TELEGRAM_TOKEN).build()\n",
    "    await application.initialize() # 초기화 필수\n",
    "\n",
    "    # 핸들러 추가\n",
    "    application.add_handler(CommandHandler(\"start\", start))\n",
    "    application.add_handler(MessageHandler(filters.TEXT & ~filters.COMMAND, handle_message))\n",
    "    \n",
    "    await application.start()\n",
    "    print(\"봇이 실행중 입니다.\")\n",
    "\n",
    "    await application.updater.start_polling()\n",
    "\n",
    "if __name__ == \"__main__\":\n",
    "    asyncio.run(main())"
   ]
  },
  {
   "cell_type": "code",
   "execution_count": 36,
   "id": "d44e1f10-7651-48b1-902e-04d08a6596ec",
   "metadata": {},
   "outputs": [
    {
     "name": "stdout",
     "output_type": "stream",
     "text": [
      "□  (종합) 대기 매우 건조, 기온 낮아 춥겠음, 강풍 및 풍랑 유의\n",
      "○  (오늘, 21일) 구름많다가 오후에 맑아짐\n",
      "○  (내일, 22일) 대체로 맑음\n",
      "○  (모레, 23일) 대체로 맑겠으나, 경남서부내륙 가끔 구름많음\n",
      "○  (글피, 24일) 대체로 맑음\n"
     ]
    }
   ],
   "source": [
    "import requests as req\n",
    "from bs4 import BeautifulSoup as bs #정적웹용\n",
    "url = \"https://www.weather.go.kr/w/weather/forecast/short-term.do?stnId=159\"\n",
    "web = req.get(url)\n",
    "soup = bs(web.content,'html.parser')\n",
    "summary = soup.select('p.summary') # 배열로 가져옴\n",
    "for s in summary:\n",
    "    print(s.text.replace(\"○\",'\\n○'))"
   ]
  },
  {
   "cell_type": "code",
   "execution_count": 53,
   "id": "a0e74e91-fde4-49dc-be93-22421e9b8725",
   "metadata": {},
   "outputs": [
    {
     "name": "stdout",
     "output_type": "stream",
     "text": [
      "예보요소:/최고기온\n",
      "평년(오늘):-5.1 ~ 2.1/9.0 ~ 11.7\n",
      "어제(20일):-9.7 ~ -2.0/4.4 ~ 8.8\n",
      "오늘(21일):-/3 ~ 7\n",
      "내일(22일):-7 ~ -3/4 ~ 7\n",
      "모레(23일):-8 ~ -3/1 ~ 5\n",
      "글피(24일):-9 ~ -4/5 ~ 8\n"
     ]
    }
   ],
   "source": [
    "table = soup.select('.table-col')[0]\n",
    "data = table.select('tr')\n",
    "header = data[0].select('th')\n",
    "line1 = ['최저기온'] + data[1].select('td')\n",
    "line2 = ['최고기온'] + data[2].select('td')\n",
    "raw_data = []\n",
    "\n",
    "for h,l1,l2 in zip(header, line1, line2):\n",
    "    try:\n",
    "        out = h.text + ':' + l1.text+'/'+l2.text\n",
    "    except:\n",
    "        out = h.text + ':' + '/' + l2\n",
    "    finally:\n",
    "        print(out)\n",
    "        raw_data.append(out)"
   ]
  },
  {
   "cell_type": "code",
   "execution_count": 63,
   "id": "84de9f5e-0e5b-4ffc-becb-c9edda6944dd",
   "metadata": {},
   "outputs": [],
   "source": [
    "import pandas as pd\n",
    "# 데이터 파싱\n",
    "parsed_data = []\n",
    "for entry in raw_data[1:]:\n",
    "    date, temps = entry.split(\":\")\n",
    "    low_temp, high_temp = temps.split(\"/\")\n",
    "    parsed_data.append([date.strip(), low_temp.strip(), high_temp.strip()])\n",
    "df = pd.DataFrame(parsed_data, columns = [\"날짜\",\"최저 기온\",\"최고기온\"])\n",
    "df.to_csv('weather.csv', index=False, encoding='utf-8')\n",
    "df.to_csv('weather_x.csv', index=False, encoding='utf-8-sig')"
   ]
  },
  {
   "cell_type": "code",
   "execution_count": 35,
   "id": "51eb67e2-e8dd-4f4d-a783-491cbf315ea6",
   "metadata": {},
   "outputs": [],
   "source": [
    "#!pip install pandas"
   ]
  },
  {
   "attachments": {
    "626094f8-92b9-4e9d-a97e-b0a1a8865be1.png": {
     "image/png": "[encoded data removed]"
    }
   },
   "cell_type": "markdown",
   "id": "8629f21d-aa82-440a-899c-6fc6c4c470e1",
   "metadata": {},
   "source": [
    "![image.png](attachment:626094f8-92b9-4e9d-a97e-b0a1a8865be1.png)"
   ]
  },
  {
   "cell_type": "code",
   "execution_count": null,
   "id": "4b1b33c6-2f2d-4369-a118-c452e7a33744",
   "metadata": {},
   "outputs": [],
   "source": [
    "import requests as req\n",
    "from bs4 import BeautifulSoup as bs #정적웹용\n",
    "url = \"https://www.weather.go.kr/w/weather/forecast/short-term.do?stnId=159\"\n",
    "web = req.get(url)\n",
    "soup = bs(web.content,'html.parser')\n",
    "summary = soup.select('p.summary') # 배열로 가져옴\n",
    "for s in summary:\n",
    "    print(s.text.replace(\"○\",'\\n○'))\n",
    "\n",
    "\n",
    "table = soup.select('.table-col')[0]\n",
    "data = table.select('tr')\n",
    "header = data[0].select('th')\n",
    "line1 = ['최저기온'] + data[1].select('td')\n",
    "line2 = ['최고기온'] + data[2].select('td')\n",
    "raw_data = []\n",
    "\n",
    "for h,l1,l2 in zip(header, line1, line2):\n",
    "    try:\n",
    "        out = h.text + ':' + l1.text+'/'+l2.text\n",
    "    except:\n",
    "        out = h.text + ':' + '/' + l2\n",
    "    finally:\n",
    "        print(out)\n",
    "        raw_data.append(out)\n",
    "\n",
    "\n",
    "import pandas as pd\n",
    "# 데이터 파싱\n",
    "parsed_data = []\n",
    "for entry in raw_data[1:]:\n",
    "    date, temps = entry.split(\":\")\n",
    "    low_temp, high_temp = temps.split(\"/\")\n",
    "    parsed_data.append([date.strip(), low_temp.strip(), high_temp.strip()])\n",
    "df = pd.DataFrame(parsed_data, columns = [\"날짜\",\"최저 기온\",\"최고기온\"])\n",
    "df.to_csv('weather.csv', index=False, encoding='utf-8')\n",
    "df.to_csv('weather_x.csv', index=False, encoding='utf-8-sig')"
   ]
  },
  {
   "cell_type": "code",
   "execution_count": null,
   "id": "06309975-16a9-4580-8059-df12ed81659b",
   "metadata": {},
   "outputs": [],
   "source": []
  },
  {
   "cell_type": "code",
   "execution_count": null,
   "id": "33db27cc-1ea9-4758-ad2d-c28080340bcd",
   "metadata": {},
   "outputs": [],
   "source": []
  }
 ],
 "metadata": {
  "kernelspec": {
   "display_name": "Python 3 (ipykernel)",
   "language": "python",
   "name": "python3"
  },
  "language_info": {
   "codemirror_mode": {
    "name": "ipython",
    "version": 3
   },
   "file_extension": ".py",
   "mimetype": "text/x-python",
   "name": "python",
   "nbconvert_exporter": "python",
   "pygments_lexer": "ipython3",
   "version": "3.13.1"
  }
 },
 "nbformat": 4,
 "nbformat_minor": 5
}
