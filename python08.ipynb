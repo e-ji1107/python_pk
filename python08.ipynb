{
 "cells": [
  {
   "cell_type": "markdown",
   "id": "d23182e0-127a-433d-bd75-7a3c64427e81",
   "metadata": {},
   "source": [
    "# 외부 라이브러리"
   ]
  },
  {
   "cell_type": "markdown",
   "id": "267048d8-dcc2-4fd2-b49c-e9719d3a5714",
   "metadata": {},
   "source": [
    "## pip *"
   ]
  },
  {
   "cell_type": "markdown",
   "id": "a7e97e20-aa89-4f99-989a-c538db619ac1",
   "metadata": {},
   "source": [
    "- venv1 생성 후 백업: pip freeze > requirements.txt\n",
    "- venv2 생성 후 복구: pip"
   ]
  },
  {
   "cell_type": "markdown",
   "id": "d98a9282-1da7-4fc7-8a55-5b5f560797a1",
   "metadata": {},
   "source": [
    "## Faker"
   ]
  },
  {
   "cell_type": "code",
   "execution_count": 43,
   "id": "134819f1-e41b-49c3-a223-f2c1345be469",
   "metadata": {},
   "outputs": [],
   "source": [
    "#!pip install Faker"
   ]
  },
  {
   "cell_type": "code",
   "execution_count": 46,
   "id": "c25f5a01-faee-487b-854d-ab89622736fa",
   "metadata": {},
   "outputs": [
    {
     "data": {
      "text/plain": [
       "[{'name': '김민준',\n",
       "  'id': 'jeongung52',\n",
       "  'phone': '062-319-0936',\n",
       "  'email': 'imijeong@example.org'},\n",
       " {'name': '이경자',\n",
       "  'id': 'bgim',\n",
       "  'phone': '041-149-9059',\n",
       "  'email': 'jiu98@example.org'},\n",
       " {'name': '이은서',\n",
       "  'id': 'gyeongsug65',\n",
       "  'phone': '051-346-9616',\n",
       "  'email': 'sanghyeonsim@example.net'},\n",
       " {'name': '이정웅',\n",
       "  'id': 'iseongmin',\n",
       "  'phone': '032-663-3132',\n",
       "  'email': 'jeongsui@example.net'},\n",
       " {'name': '이서현',\n",
       "  'id': 'qsim',\n",
       "  'phone': '044-573-8981',\n",
       "  'email': 'eyun@example.com'},\n",
       " {'name': '주유진',\n",
       "  'id': 'jiu44',\n",
       "  'phone': '043-174-9440',\n",
       "  'email': 'jiyeongbag@example.org'},\n",
       " {'name': '이아름',\n",
       "  'id': 'ggim',\n",
       "  'phone': '062-412-5895',\n",
       "  'email': 'gyeonghyicoe@example.com'},\n",
       " {'name': '이춘자',\n",
       "  'id': 'hwangmyeongja',\n",
       "  'phone': '010-3360-0429',\n",
       "  'email': 'gimeunji@example.com'},\n",
       " {'name': '안정남',\n",
       "  'id': 'areum40',\n",
       "  'phone': '032-460-7099',\n",
       "  'email': 'bagcunja@example.org'},\n",
       " {'name': '나지우',\n",
       "  'id': 'abag',\n",
       "  'phone': '018-214-8520',\n",
       "  'email': 'jyu@example.net'}]"
      ]
     },
     "execution_count": 46,
     "metadata": {},
     "output_type": "execute_result"
    }
   ],
   "source": [
    "from faker import Faker\n",
    "fake = Faker(\"ko-KR\")\n",
    "#fake.name() # 이름 자동 생성\n",
    "[{'name':fake.name(),'id':fake.user_name(),'phone':fake.phone_number(),'email':fake.email()} for n in range(10)]"
   ]
  },
  {
   "cell_type": "markdown",
   "id": "9e919f94-a081-429e-a399-851cd01b02fc",
   "metadata": {},
   "source": [
    "<table>\n",
    "<thead>\n",
    "<tr>\n",
    "<th>항목</th>\n",
    "<th>설명</th>\n",
    "</tr>\n",
    "</thead>\n",
    "<tbody>\n",
    "<tr>\n",
    "<td>fake.name()</td>\n",
    "<td>이름</td>\n",
    "</tr>\n",
    "<tr>\n",
    "<td>fake.address()</td>\n",
    "<td>주소</td>\n",
    "</tr>\n",
    "<tr>\n",
    "<td>fake.postcode()</td>\n",
    "<td>우편 번호</td>\n",
    "</tr>\n",
    "<tr>\n",
    "<td>fake.country()</td>\n",
    "<td>국가명</td>\n",
    "</tr>\n",
    "<tr>\n",
    "<td>fake.company()</td>\n",
    "<td>회사명</td>\n",
    "</tr>\n",
    "<tr>\n",
    "<td>fake.job()</td>\n",
    "<td>직업명</td>\n",
    "</tr>\n",
    "<tr>\n",
    "<td>fake.phone_number()</td>\n",
    "<td>휴대전화 번호</td>\n",
    "</tr>\n",
    "<tr>\n",
    "<td>fake.email()</td>\n",
    "<td>이메일 주소</td>\n",
    "</tr>\n",
    "<tr>\n",
    "<td>fake.user_name()</td>\n",
    "<td>사용자명</td>\n",
    "</tr>\n",
    "<tr>\n",
    "<td>fake.pyint(min_value=0, max_value=100)</td>\n",
    "<td>0부터 100 사이의 임의의 숫자</td>\n",
    "</tr>\n",
    "<tr>\n",
    "<td>fake.ipv4_private()</td>\n",
    "<td>IP 주소</td>\n",
    "</tr>\n",
    "<tr>\n",
    "<td>fake.text()</td>\n",
    "<td>임의의 문장 (한글 임의의 문장은 <code>fake.catch_phrase()</code> 사용)</td>\n",
    "</tr>\n",
    "<tr>\n",
    "<td>fake.color_name()</td>\n",
    "<td>색상명</td>\n",
    "</tr>\n",
    "</tbody>\n",
    "</table>"
   ]
  },
  {
   "cell_type": "code",
   "execution_count": 83,
   "id": "95e9213a-4160-4c5b-895a-eef7fa72614d",
   "metadata": {},
   "outputs": [
    {
     "name": "stdout",
     "output_type": "stream",
     "text": [
      "1위: REBEL HEART/IVE (아이브)\n",
      "2위: HOME SWEET HOME (feat. 태양, 대성)/G-DRAGON\n",
      "3위: 나는 반딧불/황가람\n",
      "4위: Whiplash/aespa\n",
      "5위: APT./로제 (ROSÉ)\n",
      "6위: 오늘만 I LOVE YOU/Bruno Mars\n",
      "7위: Drowning/BOYNEXTDOOR\n",
      "8위: ATTITUDE/WOODZ\n",
      "9위: toxic till the end/IVE (아이브)\n",
      "10위: Dash/로제 (ROSÉ)\n",
      "11위: POWER/PLAVE\n",
      "12위: HAPPY/G-DRAGON\n",
      "13위: 내게 사랑이 뭐냐고 물어본다면/DAY6 (데이식스)\n",
      "14위: RIZZ/로이킴\n",
      "15위: DRIP/PLAVE\n",
      "16위: Chroma Drift/BABYMONSTER\n",
      "17위: Island/PLAVE\n",
      "18위: 소나기/PLAVE\n",
      "19위: 12:32 (A to T)/이클립스 (ECLIPSE)\n",
      "20위: 너와의 모든 지금/PLAVE\n"
     ]
    }
   ],
   "source": [
    "import requests as req\n",
    "from bs4 import BeautifulSoup as bs  #크롤링 도구\n",
    "url = \"https://www.melon.com/chart/index.htm\"\n",
    "headers = {'User-Agent': 'Mozilla/5.0 (Windows NT 10.0; Win64; x64) AppleWebKit/537.36 (KHTML, like Gecko) Chrome/133.0.0.0 Safari/537.36'}\n",
    "web = req.get(url, headers = headers)\n",
    "soup = bs(web.content,'html.parser')\n",
    "\n",
    "title = soup.select('.rank01')[:20]\n",
    "name = soup.select('.checkEllipsis a')\n",
    "str = ''\n",
    "for i, (t,n) in enumerate(zip(title,name),1):\n",
    "    str += f\"{i}위: {t.text.strip()}/{n.text}\\n\"\n",
    "print(str, end='')"
   ]
  },
  {
   "cell_type": "code",
   "execution_count": 85,
   "id": "4e87aab4-98c5-453b-82e2-baa22f634ea7",
   "metadata": {},
   "outputs": [
    {
     "name": "stdout",
     "output_type": "stream",
     "text": [
      "1위: REBEL HEART/IVE (아이브)\n",
      "2위: HOME SWEET HOME (feat. 태양, 대성)/G-DRAGON\n",
      "3위: 나는 반딧불/황가람\n",
      "4위: Whiplash/aespa\n",
      "5위: APT./로제 (ROSÉ)\n",
      "6위: 오늘만 I LOVE YOU/Bruno Mars\n",
      "7위: Drowning/BOYNEXTDOOR\n",
      "8위: ATTITUDE/WOODZ\n",
      "9위: toxic till the end/IVE (아이브)\n",
      "10위: Dash/로제 (ROSÉ)\n",
      "11위: POWER/PLAVE\n",
      "12위: HAPPY/G-DRAGON\n",
      "13위: 내게 사랑이 뭐냐고 물어본다면/DAY6 (데이식스)\n",
      "14위: RIZZ/로이킴\n",
      "15위: DRIP/PLAVE\n",
      "16위: Chroma Drift/BABYMONSTER\n",
      "17위: Island/PLAVE\n",
      "18위: 소나기/PLAVE\n",
      "19위: 12:32 (A to T)/이클립스 (ECLIPSE)\n",
      "20위: 너와의 모든 지금/PLAVE\n"
     ]
    }
   ],
   "source": [
    "import melon\n",
    "\n",
    "melon.mel()"
   ]
  },
  {
   "cell_type": "code",
   "execution_count": 3,
   "id": "b725d8a9-8247-4ff3-b218-6129ffc3ca30",
   "metadata": {},
   "outputs": [
    {
     "name": "stdout",
     "output_type": "stream",
     "text": [
      "===============\n",
      "월 2025.02.17\n",
      "---------------\n",
      "정식-5,500원\n",
      "강황밥\n",
      "김치콩나물국\n",
      "돈육바싹불고기\n",
      "모듬잡채\n",
      "멸치새우견과볶음\n",
      "상추겉절이\n",
      "포기김치\n",
      "===============\n",
      "화 2025.02.18\n",
      "---------------\n",
      "정식-5,500원\n",
      "백미밥\n",
      "물만두국\n",
      "순살닭매콤조림\n",
      "쫄면야채무침\n",
      "파래무무침\n",
      "참나물겉절이\n",
      "포기김치\n",
      "===============\n",
      "수 2025.02.19\n",
      "---------------\n",
      "정식-5,500원\n",
      "백미밥\n",
      "모듬어묵국\n",
      "함박스테이크/치즈/소스\n",
      "스파게티/소스\n",
      "치커리유자청샐러드\n",
      "콩나물무침\n",
      "포기김치\n",
      "===============\n",
      "목 2025.02.20\n",
      "---------------\n",
      "정식-5,500원\n",
      "잡곡밥\n",
      "홍합미역국\n",
      "순살치킨/맛초킹소스\n",
      "꼬시레기두부무침\n",
      "잡채어묵조림\n",
      "상추겉절이\n",
      "포기김치\n",
      "===============\n",
      "금 2025.02.21\n",
      "---------------\n",
      "정식-5,500원\n",
      "백미밥\n",
      "국수\n",
      "깐풍기/소스\n",
      "알감자버터구이\n",
      "도토리묵김치무침\n",
      "열무겉절이\n",
      "포기김치\n"
     ]
    }
   ],
   "source": [
    "import requests as req\n",
    "from bs4 import BeautifulSoup as bs  #크롤링 도구\n",
    "url = \"https://www.pusan.ac.kr/kor/CMS/MenuMgr/menuListOnBuilding.do?mCode=MN202\"\n",
    "headers = {'User-Agent': 'Mozilla/5.0 (Windows NT 10.0; Win64; x64) AppleWebKit/537.36 (KHTML, like Gecko) Chrome/133.0.0.0 Safari/537.36'}\n",
    "web = req.get(url, headers = headers)\n",
    "soup = bs(web.content, 'html5lib')\n",
    "menucard = soup.select('.menu-tb1')\n",
    "won = soup.select(\".menu-tit01\")\n",
    "menu = soup.select(\"h3.menu-tit01+p\")\n",
    "day = soup.select('.day')\n",
    "date = soup.select('.date')\n",
    "for d,dd,w,m in zip(day,date,won,menu):\n",
    "    print('='*15)\n",
    "    print(d.text,dd.text)\n",
    "    print('-'*15)\n",
    "    print(w.text + '\\n' + m.text,end=\"\")"
   ]
  },
  {
   "cell_type": "code",
   "execution_count": 2,
   "id": "4ab345ff-35a4-4d93-87c9-dad31c2863b5",
   "metadata": {},
   "outputs": [],
   "source": [
    "#!pip install html5lib"
   ]
  }
 ],
 "metadata": {
  "kernelspec": {
   "display_name": "Python 3 (ipykernel)",
   "language": "python",
   "name": "python3"
  },
  "language_info": {
   "codemirror_mode": {
    "name": "ipython",
    "version": 3
   },
   "file_extension": ".py",
   "mimetype": "text/x-python",
   "name": "python",
   "nbconvert_exporter": "python",
   "pygments_lexer": "ipython3",
   "version": "3.13.1"
  }
 },
 "nbformat": 4,
 "nbformat_minor": 5
}
